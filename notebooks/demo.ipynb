{
 "cells": [
  {
   "metadata": {},
   "cell_type": "markdown",
   "source": [
    "# Vivarium Interface Demo\n",
    "\n",
    "This notebook demonstrates the usage of the Vivarium Python API for building, verifying, and saving composite process-bigraph simulations. It includes examples of initializing a simulation, running it, retrieving results, and generating visual diagrams."
   ],
   "id": "72bf55bd0ba0253d"
  },
  {
   "cell_type": "code",
   "id": "initial_id",
   "metadata": {
    "collapsed": true,
    "ExecuteTime": {
     "end_time": "2025-04-22T22:59:16.126336Z",
     "start_time": "2025-04-22T22:59:16.124152Z"
    }
   },
   "source": [
    "import random\n",
    "from vivarium import Vivarium\n",
    "from vivarium.tests import DEMO_PROCESSES  # toy processes"
   ],
   "outputs": [],
   "execution_count": 44
  },
  {
   "metadata": {
    "ExecuteTime": {
     "end_time": "2025-04-22T22:59:16.161600Z",
     "start_time": "2025-04-22T22:59:16.152201Z"
    }
   },
   "cell_type": "code",
   "source": [
    "# initialize a Vivarium object\n",
    "v = Vivarium(processes=DEMO_PROCESSES,\n",
    "             # require=['units', 'sbml', 'sedml=0.1.0']\n",
    "             )"
   ],
   "id": "eba991c23c80ca27",
   "outputs": [],
   "execution_count": 45
  },
  {
   "metadata": {
    "ExecuteTime": {
     "end_time": "2025-04-22T22:59:16.166561Z",
     "start_time": "2025-04-22T22:59:16.164064Z"
    }
   },
   "cell_type": "code",
   "source": [
    "# view the available types\n",
    "v.get_types()"
   ],
   "id": "abb345f9eb4e5b72",
   "outputs": [
    {
     "data": {
      "text/plain": [
       "['number',\n",
       " '',\n",
       " 'length*mass/current^2*time^2',\n",
       " 'substance/length^3',\n",
       " 'current',\n",
       " 'time/length',\n",
       " 'substance/time',\n",
       " 'length^2*mass/current*time^2',\n",
       " 'time^2/length',\n",
       " 'boolean',\n",
       " 'substance',\n",
       " 'length*time/mass',\n",
       " '/printing_unit',\n",
       " 'current*length*time',\n",
       " 'length*temperature',\n",
       " 'printing_unit',\n",
       " 'mass/length',\n",
       " 'length^3',\n",
       " 'path',\n",
       " 'length^0_5*mass^0_5/time',\n",
       " 'length^2*mass/time',\n",
       " 'luminosity/length^2',\n",
       " 'quote',\n",
       " 'length^2',\n",
       " 'tuple',\n",
       " 'wires',\n",
       " 'mass^0_5/length^1_5',\n",
       " 'mass/temperature^4*time^3',\n",
       " 'current*time',\n",
       " 'length/mass',\n",
       " '/temperature*time',\n",
       " 'length^2/time',\n",
       " 'step',\n",
       " 'temperature',\n",
       " 'length^2*mass/temperature*time^2',\n",
       " 'luminosity',\n",
       " 'length',\n",
       " 'length^2*mass/current*time^3',\n",
       " 'length^1_5*mass^0_5/time^2',\n",
       " 'length^2*mass/current^2*time^3',\n",
       " '/time',\n",
       " '/length',\n",
       " 'length*mass/time^2',\n",
       " 'map',\n",
       " 'length/time',\n",
       " 'mass',\n",
       " 'integer',\n",
       " 'maybe',\n",
       " 'mass/current*time^2',\n",
       " 'emitter_mode',\n",
       " 'mass/length^3',\n",
       " 'float',\n",
       " 'protocol',\n",
       " 'current^2*time^3/length^2*mass',\n",
       " 'length^2*mass/substance*temperature*time^2',\n",
       " 'length^0_5*mass^0_5',\n",
       " 'length^2*mass/time^2',\n",
       " 'schema',\n",
       " 'current*time^2/length^2*mass',\n",
       " 'length^3/time',\n",
       " 'current*length^2*time',\n",
       " 'union',\n",
       " 'list',\n",
       " 'any',\n",
       " 'composite',\n",
       " 'time',\n",
       " 'array',\n",
       " 'mass/time^3',\n",
       " 'mass/length*time',\n",
       " 'mass^0_5/length^0_5*time',\n",
       " 'length^4*mass/current*time^3',\n",
       " 'current*time/substance',\n",
       " 'length^3/mass*time^2',\n",
       " 'length^1_5*mass^0_5/time',\n",
       " 'mass/time^2',\n",
       " 'current*time/mass',\n",
       " 'tree',\n",
       " 'current^2*time^4/length^3*mass',\n",
       " 'interval',\n",
       " 'length^2*mass/time^3',\n",
       " 'mass/length*time^2',\n",
       " 'edge',\n",
       " 'length*mass/current*time^3',\n",
       " 'current^2*time^4/length^2*mass',\n",
       " 'printing_unit/length',\n",
       " 'current*length^2',\n",
       " 'length^2/time^2',\n",
       " 'length/time^2',\n",
       " '/substance',\n",
       " 'string',\n",
       " 'process',\n",
       " 'length^4*mass/time^3',\n",
       " 'length^2*mass/current^2*time^2',\n",
       " 'enum',\n",
       " 'length^3*mass/current^2*time^4']"
      ]
     },
     "execution_count": 46,
     "metadata": {},
     "output_type": "execute_result"
    }
   ],
   "execution_count": 46
  },
  {
   "metadata": {
    "ExecuteTime": {
     "end_time": "2025-04-22T22:59:16.175135Z",
     "start_time": "2025-04-22T22:59:16.172092Z"
    }
   },
   "cell_type": "code",
   "source": [
    "# view the type schema for 'string'\n",
    "v.get_type('length')"
   ],
   "id": "4a39e446dab3f6c4",
   "outputs": [
    {
     "data": {
      "text/plain": [
       "     Attribute                                           Value\n",
       "0      default                                 1 dimensionless\n",
       "1  description  type to represent values with scientific units"
      ],
      "text/html": [
       "<div>\n",
       "<style scoped>\n",
       "    .dataframe tbody tr th:only-of-type {\n",
       "        vertical-align: middle;\n",
       "    }\n",
       "\n",
       "    .dataframe tbody tr th {\n",
       "        vertical-align: top;\n",
       "    }\n",
       "\n",
       "    .dataframe thead th {\n",
       "        text-align: right;\n",
       "    }\n",
       "</style>\n",
       "<table border=\"1\" class=\"dataframe\">\n",
       "  <thead>\n",
       "    <tr style=\"text-align: right;\">\n",
       "      <th></th>\n",
       "      <th>Attribute</th>\n",
       "      <th>Value</th>\n",
       "    </tr>\n",
       "  </thead>\n",
       "  <tbody>\n",
       "    <tr>\n",
       "      <th>0</th>\n",
       "      <td>default</td>\n",
       "      <td>1 dimensionless</td>\n",
       "    </tr>\n",
       "    <tr>\n",
       "      <th>1</th>\n",
       "      <td>description</td>\n",
       "      <td>type to represent values with scientific units</td>\n",
       "    </tr>\n",
       "  </tbody>\n",
       "</table>\n",
       "</div>"
      ]
     },
     "execution_count": 47,
     "metadata": {},
     "output_type": "execute_result"
    }
   ],
   "execution_count": 47
  },
  {
   "metadata": {
    "ExecuteTime": {
     "end_time": "2025-04-22T22:59:16.198062Z",
     "start_time": "2025-04-22T22:59:16.195935Z"
    }
   },
   "cell_type": "code",
   "source": [
    "# view the available processes\n",
    "v.get_processes()"
   ],
   "id": "fcc6519caadd5ec6",
   "outputs": [
    {
     "data": {
      "text/plain": [
       "['ram-emitter',\n",
       " 'increase float',\n",
       " 'json-emitter',\n",
       " 'increase mass',\n",
       " 'console-emitter',\n",
       " 'composite']"
      ]
     },
     "execution_count": 48,
     "metadata": {},
     "output_type": "execute_result"
    }
   ],
   "execution_count": 48
  },
  {
   "metadata": {
    "ExecuteTime": {
     "end_time": "2025-04-22T22:59:16.219181Z",
     "start_time": "2025-04-22T22:59:16.217528Z"
    }
   },
   "cell_type": "code",
   "source": [
    "# inspect the config schema for the 'increase' process\n",
    "v.process_schema('increase float')"
   ],
   "id": "26d8ce7a13ba13a9",
   "outputs": [
    {
     "name": "stderr",
     "output_type": "stream",
     "text": [
      "/var/folders/vy/vr0_ytms6m95qrnk7xnh0bth0000gp/T/ipykernel_30535/2849076076.py:2: DeprecationWarning: process_schema() is deprecated and will be removed in a future release. Use process_config() instead.\n",
      "  v.process_schema('increase float')\n"
     ]
    }
   ],
   "execution_count": 49
  },
  {
   "metadata": {
    "ExecuteTime": {
     "end_time": "2025-04-22T22:59:16.232282Z",
     "start_time": "2025-04-22T22:59:16.230820Z"
    }
   },
   "cell_type": "code",
   "source": [
    "# # TODO -- this could look better. Maybe get the dataclass so it can be passed back into the process?\n",
    "# schema = v.process_schema('increase float')\n",
    "# d = v.core.dataclass(schema)\n",
    "# d.rate = 0.1\n",
    "# # d can be passed into the process"
   ],
   "id": "63084e12b9fc7282",
   "outputs": [],
   "execution_count": 50
  },
  {
   "metadata": {
    "ExecuteTime": {
     "end_time": "2025-04-22T22:59:16.250198Z",
     "start_time": "2025-04-22T22:59:16.245107Z"
    }
   },
   "cell_type": "code",
   "source": [
    "# inspect the process interface (inputs/outputs) for the 'increase' process\n",
    "# TODO -- fix this output. interface might need a config\n",
    "v.process_interface('increase mass')"
   ],
   "id": "b7e650510d6e13c6",
   "outputs": [
    {
     "data": {
      "text/plain": [
       "              default                                     description Type\n",
       "Inputs mass  1.0 gram  type to represent values with scientific units  NaN"
      ],
      "text/html": [
       "<div>\n",
       "<style scoped>\n",
       "    .dataframe tbody tr th:only-of-type {\n",
       "        vertical-align: middle;\n",
       "    }\n",
       "\n",
       "    .dataframe tbody tr th {\n",
       "        vertical-align: top;\n",
       "    }\n",
       "\n",
       "    .dataframe thead th {\n",
       "        text-align: right;\n",
       "    }\n",
       "</style>\n",
       "<table border=\"1\" class=\"dataframe\">\n",
       "  <thead>\n",
       "    <tr style=\"text-align: right;\">\n",
       "      <th></th>\n",
       "      <th></th>\n",
       "      <th>default</th>\n",
       "      <th>description</th>\n",
       "      <th>Type</th>\n",
       "    </tr>\n",
       "  </thead>\n",
       "  <tbody>\n",
       "    <tr>\n",
       "      <th>Inputs</th>\n",
       "      <th>mass</th>\n",
       "      <td>1.0 gram</td>\n",
       "      <td>type to represent values with scientific units</td>\n",
       "      <td>NaN</td>\n",
       "    </tr>\n",
       "  </tbody>\n",
       "</table>\n",
       "</div>"
      ]
     },
     "execution_count": 51,
     "metadata": {},
     "output_type": "execute_result"
    }
   ],
   "execution_count": 51
  },
  {
   "metadata": {
    "ExecuteTime": {
     "end_time": "2025-04-22T22:59:16.272761Z",
     "start_time": "2025-04-22T22:59:16.269927Z"
    }
   },
   "cell_type": "code",
   "source": [
    "# add an increase process called 'increase process'\n",
    "v.add_process(name='increase',\n",
    "              process_id='increase float',  # this is the process id\n",
    "              config={'rate': 0.1},         # set according to the config schema. TODO Could this accept a dataclass?\n",
    "              )\n",
    "\n",
    "# print the current state\n",
    "v"
   ],
   "id": "8d522a7fe7f2e577",
   "outputs": [
    {
     "data": {
      "text/plain": [
       "Vivarium( \n",
       "{ 'global_time': 0.0,\n",
       "  'increase': { 'address': 'local:increase float',\n",
       "                'config': {'rate': 0.1},\n",
       "                'inputs': {},\n",
       "                'instance': <vivarium.tests.IncreaseFloat object at 0x116740fd0>,\n",
       "                'interval': 1.0,\n",
       "                'outputs': {},\n",
       "                'shared': None}})"
      ]
     },
     "execution_count": 52,
     "metadata": {},
     "output_type": "execute_result"
    }
   ],
   "execution_count": 52
  },
  {
   "metadata": {
    "ExecuteTime": {
     "end_time": "2025-04-22T22:59:16.316380Z",
     "start_time": "2025-04-22T22:59:16.293363Z"
    }
   },
   "cell_type": "code",
   "source": [
    "# display as a diagram\n",
    "v.diagram(dpi='70', remove_nodes=['global_time'])"
   ],
   "id": "4f9c682c33eb3609",
   "outputs": [
    {
     "data": {
      "image/svg+xml": "<?xml version=\"1.0\" encoding=\"UTF-8\" standalone=\"no\"?>\n<!DOCTYPE svg PUBLIC \"-//W3C//DTD SVG 1.1//EN\"\n \"http://www.w3.org/Graphics/SVG/1.1/DTD/svg11.dtd\">\n<!-- Generated by graphviz version 9.0.0 (0)\n -->\n<!-- Title: bigraph Pages: 1 -->\n<svg width=\"90pt\" height=\"114pt\"\n viewBox=\"0.00 0.00 92.57 117.15\" xmlns=\"http://www.w3.org/2000/svg\" xmlns:xlink=\"http://www.w3.org/1999/xlink\">\n<g id=\"graph0\" class=\"graph\" transform=\"scale(0.972222 0.972222) rotate(0) translate(4 113.15)\">\n<title>bigraph</title>\n<polygon fill=\"white\" stroke=\"none\" points=\"-4,4 -4,-113.15 88.57,-113.15 88.57,4 -4,4\"/>\n<!-- (&#39;increase&#39;,) -->\n<g id=\"node1\" class=\"node\">\n<title>(&#39;increase&#39;,)</title>\n<polygon fill=\"none\" stroke=\"black\" stroke-width=\"2\" points=\"66.58,-36 12.58,-36 12.58,0 66.58,0 66.58,-36\"/>\n<text text-anchor=\"start\" x=\"19.92\" y=\"-14.4\" font-family=\"Times,serif\" font-size=\"12.00\">increase</text>\n</g>\n<!-- (&#39;increase&#39;, &#39;a&#39;, &#39;m&#39;, &#39;o&#39;, &#39;u&#39;, &#39;n&#39;, &#39;t&#39;)_input -->\n<!-- (&#39;increase&#39;, &#39;a&#39;, &#39;m&#39;, &#39;o&#39;, &#39;u&#39;, &#39;n&#39;, &#39;t&#39;)_input&#45;&gt;(&#39;increase&#39;,) -->\n<g id=\"edge1\" class=\"edge\">\n<title>(&#39;increase&#39;, &#39;a&#39;, &#39;m&#39;, &#39;o&#39;, &#39;u&#39;, &#39;n&#39;, &#39;t&#39;)_input&#45;&gt;(&#39;increase&#39;,)</title>\n<path fill=\"none\" stroke=\"black\" stroke-dasharray=\"5,2\" d=\"M11.98,-81.45C11.46,-73.33 11.63,-62.82 14.58,-54 15.44,-51.43 16.56,-48.89 17.84,-46.41\"/>\n<polygon fill=\"black\" stroke=\"black\" points=\"20.74,-48.38 23.04,-38.03 14.8,-44.68 20.74,-48.38\"/>\n<text text-anchor=\"start\" x=\"15.58\" y=\"-56\" font-family=\"Times,serif\" font-size=\"10.00\">amount</text>\n</g>\n<!-- (&#39;increase&#39;, &#39;a&#39;, &#39;m&#39;, &#39;o&#39;, &#39;u&#39;, &#39;n&#39;, &#39;t&#39;)_output -->\n<!-- (&#39;increase&#39;, &#39;a&#39;, &#39;m&#39;, &#39;o&#39;, &#39;u&#39;, &#39;n&#39;, &#39;t&#39;)_output&#45;&gt;(&#39;increase&#39;,) -->\n<g id=\"edge2\" class=\"edge\">\n<title>(&#39;increase&#39;, &#39;a&#39;, &#39;m&#39;, &#39;o&#39;, &#39;u&#39;, &#39;n&#39;, &#39;t&#39;)_output&#45;&gt;(&#39;increase&#39;,)</title>\n<path fill=\"none\" stroke=\"black\" stroke-dasharray=\"5,2\" d=\"M58.21,-71.16C54.28,-60.15 49.66,-47.22 46,-36.99\"/>\n<polygon fill=\"black\" stroke=\"black\" points=\"54.83,-72.09 61.49,-80.33 61.42,-69.74 54.83,-72.09\"/>\n<text text-anchor=\"start\" x=\"54.58\" y=\"-56\" font-family=\"Times,serif\" font-size=\"10.00\">amount</text>\n</g>\n</g>\n</svg>\n",
      "text/plain": [
       "<graphviz.graphs.Digraph at 0x116772490>"
      ]
     },
     "execution_count": 53,
     "metadata": {},
     "output_type": "execute_result"
    }
   ],
   "execution_count": 53
  },
  {
   "metadata": {
    "ExecuteTime": {
     "end_time": "2025-04-22T22:59:16.329117Z",
     "start_time": "2025-04-22T22:59:16.325791Z"
    }
   },
   "cell_type": "code",
   "source": [
    "# connect the 'increase' process to the state through its inputs and outputs\n",
    "v.connect_process(\n",
    "    name='increase',\n",
    "    inputs={'amount': ['top', 'A']},\n",
    "    outputs={'amount': ['top', 'A']}\n",
    ")\n",
    "\n",
    "# display the current state\n",
    "v"
   ],
   "id": "ff8fa545a4e64ca5",
   "outputs": [
    {
     "data": {
      "text/plain": [
       "Vivarium( \n",
       "{ 'global_time': 0.0,\n",
       "  'increase': { 'address': 'local:increase float',\n",
       "                'config': {'rate': 0.1},\n",
       "                'inputs': {'amount': ['top', 'A']},\n",
       "                'instance': <vivarium.tests.IncreaseFloat object at 0x116740fd0>,\n",
       "                'interval': 1.0,\n",
       "                'outputs': {'amount': ['top', 'A']},\n",
       "                'shared': None},\n",
       "  'top': {'A': 1.0}})"
      ]
     },
     "execution_count": 54,
     "metadata": {},
     "output_type": "execute_result"
    }
   ],
   "execution_count": 54
  },
  {
   "metadata": {
    "ExecuteTime": {
     "end_time": "2025-04-22T22:59:16.356234Z",
     "start_time": "2025-04-22T22:59:16.334828Z"
    }
   },
   "cell_type": "code",
   "source": [
    "# display the current state as a diagram\n",
    "v.diagram(dpi='70', remove_nodes=['global_time', 'emitter'])"
   ],
   "id": "b1c9f91524fe9ad0",
   "outputs": [
    {
     "data": {
      "image/svg+xml": "<?xml version=\"1.0\" encoding=\"UTF-8\" standalone=\"no\"?>\n<!DOCTYPE svg PUBLIC \"-//W3C//DTD SVG 1.1//EN\"\n \"http://www.w3.org/Graphics/SVG/1.1/DTD/svg11.dtd\">\n<!-- Generated by graphviz version 9.0.0 (0)\n -->\n<!-- Title: bigraph Pages: 1 -->\n<svg width=\"63pt\" height=\"193pt\"\n viewBox=\"0.00 0.00 65.00 199.00\" xmlns=\"http://www.w3.org/2000/svg\" xmlns:xlink=\"http://www.w3.org/1999/xlink\">\n<g id=\"graph0\" class=\"graph\" transform=\"scale(0.972222 0.972222) rotate(0) translate(4 195)\">\n<title>bigraph</title>\n<polygon fill=\"white\" stroke=\"none\" points=\"-4,4 -4,-195 61,-195 61,4 -4,4\"/>\n<!-- (&#39;top&#39;,) -->\n<g id=\"node1\" class=\"node\">\n<title>(&#39;top&#39;,)</title>\n<ellipse fill=\"none\" stroke=\"black\" stroke-width=\"2\" cx=\"27\" cy=\"-173\" rx=\"18\" ry=\"18\"/>\n<text text-anchor=\"start\" x=\"19.33\" y=\"-169.4\" font-family=\"Times,serif\" font-size=\"12.00\">top</text>\n</g>\n<!-- (&#39;top&#39;, &#39;A&#39;) -->\n<g id=\"node2\" class=\"node\">\n<title>(&#39;top&#39;, &#39;A&#39;)</title>\n<ellipse fill=\"none\" stroke=\"black\" stroke-width=\"2\" cx=\"27\" cy=\"-100\" rx=\"18\" ry=\"18\"/>\n<text text-anchor=\"start\" x=\"22.67\" y=\"-96.4\" font-family=\"Times,serif\" font-size=\"12.00\">A</text>\n</g>\n<!-- (&#39;top&#39;,)&#45;&gt;(&#39;top&#39;, &#39;A&#39;) -->\n<g id=\"edge1\" class=\"edge\">\n<title>(&#39;top&#39;,)&#45;&gt;(&#39;top&#39;, &#39;A&#39;)</title>\n<path fill=\"none\" stroke=\"black\" stroke-width=\"2\" d=\"M27,-154.08C27,-143.24 27,-129.46 27,-118.66\"/>\n</g>\n<!-- (&#39;increase&#39;,) -->\n<g id=\"node3\" class=\"node\">\n<title>(&#39;increase&#39;,)</title>\n<polygon fill=\"none\" stroke=\"black\" stroke-width=\"2\" points=\"54,-36 0,-36 0,0 54,0 54,-36\"/>\n<text text-anchor=\"start\" x=\"7.35\" y=\"-14.4\" font-family=\"Times,serif\" font-size=\"12.00\">increase</text>\n</g>\n<!-- (&#39;top&#39;, &#39;A&#39;)&#45;&gt;(&#39;increase&#39;,) -->\n<g id=\"edge2\" class=\"edge\">\n<title>(&#39;top&#39;, &#39;A&#39;)&#45;&gt;(&#39;increase&#39;,)</title>\n<path fill=\"none\" stroke=\"black\" stroke-dasharray=\"5,2\" d=\"M27,-69.93C27,-62.87 27,-55.32 27,-48.25\"/>\n<polygon fill=\"black\" stroke=\"black\" points=\"23.5,-69.73 27,-79.73 30.5,-69.73 23.5,-69.73\"/>\n<polygon fill=\"black\" stroke=\"black\" points=\"30.5,-48.5 27,-38.5 23.5,-48.5 30.5,-48.5\"/>\n<text text-anchor=\"start\" x=\"27\" y=\"-56\" font-family=\"Times,serif\" font-size=\"10.00\">amount</text>\n</g>\n</g>\n</svg>\n",
      "text/plain": [
       "<graphviz.graphs.Digraph at 0x1167285e0>"
      ]
     },
     "execution_count": 55,
     "metadata": {},
     "output_type": "execute_result"
    }
   ],
   "execution_count": 55
  },
  {
   "metadata": {
    "ExecuteTime": {
     "end_time": "2025-04-22T22:59:16.367086Z",
     "start_time": "2025-04-22T22:59:16.364990Z"
    }
   },
   "cell_type": "code",
   "source": [
    "# get the value of 'top.A'\n",
    "v.get_value(path=['top', 'A'])"
   ],
   "id": "2c9366a68b8bd8dc",
   "outputs": [
    {
     "data": {
      "text/plain": [
       "1.0"
      ]
     },
     "execution_count": 56,
     "metadata": {},
     "output_type": "execute_result"
    }
   ],
   "execution_count": 56
  },
  {
   "metadata": {
    "ExecuteTime": {
     "end_time": "2025-04-22T22:59:16.374986Z",
     "start_time": "2025-04-22T22:59:16.372890Z"
    }
   },
   "cell_type": "code",
   "source": [
    "# set value of 'top.A' to 100\n",
    "v.set_value(path=['top', 'A'], value=100.0)\n",
    "v.get_value(path=['top', 'A'])"
   ],
   "id": "d92c494f85777e5e",
   "outputs": [
    {
     "data": {
      "text/plain": [
       "100.0"
      ]
     },
     "execution_count": 57,
     "metadata": {},
     "output_type": "execute_result"
    }
   ],
   "execution_count": 57
  },
  {
   "metadata": {
    "ExecuteTime": {
     "end_time": "2025-04-22T22:59:16.405089Z",
     "start_time": "2025-04-22T22:59:16.384314Z"
    }
   },
   "cell_type": "code",
   "source": [
    "# add an emitter to save the history\n",
    "# TODO -- improve emitter configurability\n",
    "v.add_emitter()\n",
    "\n",
    "# display the current state\n",
    "v.diagram(dpi='70')"
   ],
   "id": "4f8ddc0146c1c570",
   "outputs": [
    {
     "data": {
      "image/svg+xml": "<?xml version=\"1.0\" encoding=\"UTF-8\" standalone=\"no\"?>\n<!DOCTYPE svg PUBLIC \"-//W3C//DTD SVG 1.1//EN\"\n \"http://www.w3.org/Graphics/SVG/1.1/DTD/svg11.dtd\">\n<!-- Generated by graphviz version 9.0.0 (0)\n -->\n<!-- Title: bigraph Pages: 1 -->\n<svg width=\"170pt\" height=\"241pt\"\n viewBox=\"0.00 0.00 175.13 248.28\" xmlns=\"http://www.w3.org/2000/svg\" xmlns:xlink=\"http://www.w3.org/1999/xlink\">\n<g id=\"graph0\" class=\"graph\" transform=\"scale(0.972222 0.972222) rotate(0) translate(4 244.28)\">\n<title>bigraph</title>\n<polygon fill=\"white\" stroke=\"none\" points=\"-4,4 -4,-244.28 171.13,-244.28 171.13,4 -4,4\"/>\n<!-- (&#39;global_time&#39;,) -->\n<g id=\"node1\" class=\"node\">\n<title>(&#39;global_time&#39;,)</title>\n<ellipse fill=\"none\" stroke=\"black\" stroke-width=\"2\" cx=\"38.14\" cy=\"-202.14\" rx=\"38.14\" ry=\"38.14\"/>\n<text text-anchor=\"start\" x=\"9.48\" y=\"-198.54\" font-family=\"Times,serif\" font-size=\"12.00\">global_time</text>\n</g>\n<!-- (&#39;emitter&#39;,) -->\n<g id=\"node5\" class=\"node\">\n<title>(&#39;emitter&#39;,)</title>\n<polygon fill=\"none\" stroke=\"black\" stroke-width=\"2\" points=\"83.14,-118 29.14,-118 29.14,-82 83.14,-82 83.14,-118\"/>\n<text text-anchor=\"start\" x=\"39.15\" y=\"-96.4\" font-family=\"Times,serif\" font-size=\"12.00\">emitter</text>\n</g>\n<!-- (&#39;global_time&#39;,)&#45;&gt;(&#39;emitter&#39;,) -->\n<g id=\"edge2\" class=\"edge\">\n<title>(&#39;global_time&#39;,)&#45;&gt;(&#39;emitter&#39;,)</title>\n<path fill=\"none\" stroke=\"black\" stroke-dasharray=\"5,2\" d=\"M36.13,-163.25C36.4,-154.23 37.31,-144.69 39.37,-136 39.88,-133.84 40.54,-131.65 41.3,-129.48\"/>\n<polygon fill=\"black\" stroke=\"black\" points=\"44.48,-130.95 45.13,-120.38 38.03,-128.24 44.48,-130.95\"/>\n<text text-anchor=\"start\" x=\"40.14\" y=\"-138\" font-family=\"Times,serif\" font-size=\"10.00\">global_time</text>\n</g>\n<!-- (&#39;top&#39;,) -->\n<g id=\"node2\" class=\"node\">\n<title>(&#39;top&#39;,)</title>\n<ellipse fill=\"none\" stroke=\"black\" stroke-width=\"2\" cx=\"124.14\" cy=\"-202.14\" rx=\"18\" ry=\"18\"/>\n<text text-anchor=\"start\" x=\"116.47\" y=\"-198.54\" font-family=\"Times,serif\" font-size=\"12.00\">top</text>\n</g>\n<!-- (&#39;top&#39;, &#39;A&#39;) -->\n<g id=\"node3\" class=\"node\">\n<title>(&#39;top&#39;, &#39;A&#39;)</title>\n<ellipse fill=\"none\" stroke=\"black\" stroke-width=\"2\" cx=\"137.14\" cy=\"-100\" rx=\"18\" ry=\"18\"/>\n<text text-anchor=\"start\" x=\"132.8\" y=\"-96.4\" font-family=\"Times,serif\" font-size=\"12.00\">A</text>\n</g>\n<!-- (&#39;top&#39;,)&#45;&gt;(&#39;top&#39;, &#39;A&#39;) -->\n<g id=\"edge1\" class=\"edge\">\n<title>(&#39;top&#39;,)&#45;&gt;(&#39;top&#39;, &#39;A&#39;)</title>\n<path fill=\"none\" stroke=\"black\" stroke-width=\"2\" d=\"M126.4,-183.7C128.77,-165.43 132.48,-136.9 134.86,-118.58\"/>\n</g>\n<!-- (&#39;top&#39;,)&#45;&gt;(&#39;emitter&#39;,) -->\n<g id=\"edge3\" class=\"edge\">\n<title>(&#39;top&#39;,)&#45;&gt;(&#39;emitter&#39;,)</title>\n<path fill=\"none\" stroke=\"black\" stroke-dasharray=\"5,2\" d=\"M116.2,-185.05C109.24,-171.51 98.48,-151.87 87.14,-136 85.13,-133.19 82.92,-130.34 80.65,-127.55\"/>\n<polygon fill=\"black\" stroke=\"black\" points=\"83.44,-125.42 74.28,-120.08 78.11,-129.96 83.44,-125.42\"/>\n<text text-anchor=\"start\" x=\"93.14\" y=\"-138\" font-family=\"Times,serif\" font-size=\"10.00\">top</text>\n</g>\n<!-- (&#39;increase&#39;,) -->\n<g id=\"node4\" class=\"node\">\n<title>(&#39;increase&#39;,)</title>\n<polygon fill=\"none\" stroke=\"black\" stroke-width=\"2\" points=\"164.14,-36 110.14,-36 110.14,0 164.14,0 164.14,-36\"/>\n<text text-anchor=\"start\" x=\"117.49\" y=\"-14.4\" font-family=\"Times,serif\" font-size=\"12.00\">increase</text>\n</g>\n<!-- (&#39;top&#39;, &#39;A&#39;)&#45;&gt;(&#39;increase&#39;,) -->\n<g id=\"edge4\" class=\"edge\">\n<title>(&#39;top&#39;, &#39;A&#39;)&#45;&gt;(&#39;increase&#39;,)</title>\n<path fill=\"none\" stroke=\"black\" stroke-dasharray=\"5,2\" d=\"M137.14,-69.93C137.14,-62.87 137.14,-55.32 137.14,-48.25\"/>\n<polygon fill=\"black\" stroke=\"black\" points=\"133.64,-69.73 137.14,-79.73 140.64,-69.73 133.64,-69.73\"/>\n<polygon fill=\"black\" stroke=\"black\" points=\"140.64,-48.5 137.14,-38.5 133.64,-48.5 140.64,-48.5\"/>\n<text text-anchor=\"start\" x=\"137.14\" y=\"-56\" font-family=\"Times,serif\" font-size=\"10.00\">amount</text>\n</g>\n</g>\n</svg>\n",
      "text/plain": [
       "<graphviz.graphs.Digraph at 0x116772b20>"
      ]
     },
     "execution_count": 58,
     "metadata": {},
     "output_type": "execute_result"
    }
   ],
   "execution_count": 58
  },
  {
   "metadata": {
    "ExecuteTime": {
     "end_time": "2025-04-22T22:59:16.436386Z",
     "start_time": "2025-04-22T22:59:16.412299Z"
    }
   },
   "cell_type": "code",
   "source": [
    "# add more objects\n",
    "v.add_object(name='B', path=['top'], value=1.0)\n",
    "\n",
    "# add another increase process\n",
    "v.add_process(name='increase2',\n",
    "              process_id='increase float',\n",
    "              config={'rate': -0.1},\n",
    "              inputs={'amount': ['top', 'B']},\n",
    "              outputs={'amount': ['top', 'B']}\n",
    "              )\n",
    "\n",
    "# display the current state\n",
    "v.diagram(dpi='70', size='30,15')"
   ],
   "id": "d97ac26706fef31d",
   "outputs": [
    {
     "data": {
      "image/svg+xml": "<?xml version=\"1.0\" encoding=\"UTF-8\" standalone=\"no\"?>\n<!DOCTYPE svg PUBLIC \"-//W3C//DTD SVG 1.1//EN\"\n \"http://www.w3.org/Graphics/SVG/1.1/DTD/svg11.dtd\">\n<!-- Generated by graphviz version 9.0.0 (0)\n -->\n<!-- Title: bigraph Pages: 1 -->\n<svg width=\"222pt\" height=\"241pt\"\n viewBox=\"0.00 0.00 228.13 248.28\" xmlns=\"http://www.w3.org/2000/svg\" xmlns:xlink=\"http://www.w3.org/1999/xlink\">\n<g id=\"graph0\" class=\"graph\" transform=\"scale(0.972222 0.972222) rotate(0) translate(4 244.28)\">\n<title>bigraph</title>\n<polygon fill=\"white\" stroke=\"none\" points=\"-4,4 -4,-244.28 224.13,-244.28 224.13,4 -4,4\"/>\n<!-- (&#39;global_time&#39;,) -->\n<g id=\"node1\" class=\"node\">\n<title>(&#39;global_time&#39;,)</title>\n<ellipse fill=\"none\" stroke=\"black\" stroke-width=\"2\" cx=\"38.14\" cy=\"-202.14\" rx=\"38.14\" ry=\"38.14\"/>\n<text text-anchor=\"start\" x=\"9.48\" y=\"-198.54\" font-family=\"Times,serif\" font-size=\"12.00\">global_time</text>\n</g>\n<!-- (&#39;emitter&#39;,) -->\n<g id=\"node6\" class=\"node\">\n<title>(&#39;emitter&#39;,)</title>\n<polygon fill=\"none\" stroke=\"black\" stroke-width=\"2\" points=\"83.14,-118 29.14,-118 29.14,-82 83.14,-82 83.14,-118\"/>\n<text text-anchor=\"start\" x=\"39.15\" y=\"-96.4\" font-family=\"Times,serif\" font-size=\"12.00\">emitter</text>\n</g>\n<!-- (&#39;global_time&#39;,)&#45;&gt;(&#39;emitter&#39;,) -->\n<g id=\"edge3\" class=\"edge\">\n<title>(&#39;global_time&#39;,)&#45;&gt;(&#39;emitter&#39;,)</title>\n<path fill=\"none\" stroke=\"black\" stroke-dasharray=\"5,2\" d=\"M36.13,-163.25C36.4,-154.23 37.31,-144.69 39.37,-136 39.88,-133.84 40.54,-131.65 41.3,-129.48\"/>\n<polygon fill=\"black\" stroke=\"black\" points=\"44.48,-130.95 45.13,-120.38 38.03,-128.24 44.48,-130.95\"/>\n<text text-anchor=\"start\" x=\"40.14\" y=\"-138\" font-family=\"Times,serif\" font-size=\"10.00\">global_time</text>\n</g>\n<!-- (&#39;top&#39;,) -->\n<g id=\"node2\" class=\"node\">\n<title>(&#39;top&#39;,)</title>\n<ellipse fill=\"none\" stroke=\"black\" stroke-width=\"2\" cx=\"137.14\" cy=\"-202.14\" rx=\"18\" ry=\"18\"/>\n<text text-anchor=\"start\" x=\"129.47\" y=\"-198.54\" font-family=\"Times,serif\" font-size=\"12.00\">top</text>\n</g>\n<!-- (&#39;top&#39;, &#39;A&#39;) -->\n<g id=\"node3\" class=\"node\">\n<title>(&#39;top&#39;, &#39;A&#39;)</title>\n<ellipse fill=\"none\" stroke=\"black\" stroke-width=\"2\" cx=\"128.14\" cy=\"-100\" rx=\"18\" ry=\"18\"/>\n<text text-anchor=\"start\" x=\"123.8\" y=\"-96.4\" font-family=\"Times,serif\" font-size=\"12.00\">A</text>\n</g>\n<!-- (&#39;top&#39;,)&#45;&gt;(&#39;top&#39;, &#39;A&#39;) -->\n<g id=\"edge1\" class=\"edge\">\n<title>(&#39;top&#39;,)&#45;&gt;(&#39;top&#39;, &#39;A&#39;)</title>\n<path fill=\"none\" stroke=\"black\" stroke-width=\"2\" d=\"M135.53,-183.24C133.89,-165.01 131.37,-136.92 129.73,-118.75\"/>\n</g>\n<!-- (&#39;top&#39;, &#39;B&#39;) -->\n<g id=\"node4\" class=\"node\">\n<title>(&#39;top&#39;, &#39;B&#39;)</title>\n<ellipse fill=\"none\" stroke=\"black\" stroke-width=\"2\" cx=\"187.14\" cy=\"-100\" rx=\"18\" ry=\"18\"/>\n<text text-anchor=\"start\" x=\"183.14\" y=\"-96.4\" font-family=\"Times,serif\" font-size=\"12.00\">B</text>\n</g>\n<!-- (&#39;top&#39;,)&#45;&gt;(&#39;top&#39;, &#39;B&#39;) -->\n<g id=\"edge2\" class=\"edge\">\n<title>(&#39;top&#39;,)&#45;&gt;(&#39;top&#39;, &#39;B&#39;)</title>\n<path fill=\"none\" stroke=\"black\" stroke-width=\"2\" d=\"M145.17,-185.05C154.5,-166.36 169.8,-135.72 179.12,-117.05\"/>\n</g>\n<!-- (&#39;top&#39;,)&#45;&gt;(&#39;emitter&#39;,) -->\n<g id=\"edge4\" class=\"edge\">\n<title>(&#39;top&#39;,)&#45;&gt;(&#39;emitter&#39;,)</title>\n<path fill=\"none\" stroke=\"black\" stroke-dasharray=\"5,2\" d=\"M126.5,-186.68C116.56,-173.33 101.2,-153.05 87.14,-136 84.81,-133.18 82.35,-130.27 79.86,-127.39\"/>\n<polygon fill=\"black\" stroke=\"black\" points=\"82.69,-125.31 73.47,-120.09 77.43,-129.92 82.69,-125.31\"/>\n<text text-anchor=\"start\" x=\"95.14\" y=\"-138\" font-family=\"Times,serif\" font-size=\"10.00\">top</text>\n</g>\n<!-- (&#39;increase&#39;,) -->\n<g id=\"node5\" class=\"node\">\n<title>(&#39;increase&#39;,)</title>\n<polygon fill=\"none\" stroke=\"black\" stroke-width=\"2\" points=\"146.14,-36 92.14,-36 92.14,0 146.14,0 146.14,-36\"/>\n<text text-anchor=\"start\" x=\"99.49\" y=\"-14.4\" font-family=\"Times,serif\" font-size=\"12.00\">increase</text>\n</g>\n<!-- (&#39;top&#39;, &#39;A&#39;)&#45;&gt;(&#39;increase&#39;,) -->\n<g id=\"edge5\" class=\"edge\">\n<title>(&#39;top&#39;, &#39;A&#39;)&#45;&gt;(&#39;increase&#39;,)</title>\n<path fill=\"none\" stroke=\"black\" stroke-dasharray=\"5,2\" d=\"M124.87,-69.93C124.07,-62.87 123.22,-55.32 122.43,-48.25\"/>\n<polygon fill=\"black\" stroke=\"black\" points=\"121.38,-70.2 125.97,-79.74 128.33,-69.41 121.38,-70.2\"/>\n<polygon fill=\"black\" stroke=\"black\" points=\"125.93,-48.03 121.33,-38.49 118.97,-48.81 125.93,-48.03\"/>\n<text text-anchor=\"start\" x=\"125.14\" y=\"-56\" font-family=\"Times,serif\" font-size=\"10.00\">amount</text>\n</g>\n<!-- (&#39;increase2&#39;,) -->\n<g id=\"node7\" class=\"node\">\n<title>(&#39;increase2&#39;,)</title>\n<polygon fill=\"none\" stroke=\"black\" stroke-width=\"2\" points=\"218.14,-36 164.14,-36 164.14,0 218.14,0 218.14,-36\"/>\n<text text-anchor=\"start\" x=\"168.49\" y=\"-14.4\" font-family=\"Times,serif\" font-size=\"12.00\">increase2</text>\n</g>\n<!-- (&#39;top&#39;, &#39;B&#39;)&#45;&gt;(&#39;increase2&#39;,) -->\n<g id=\"edge6\" class=\"edge\">\n<title>(&#39;top&#39;, &#39;B&#39;)&#45;&gt;(&#39;increase2&#39;,)</title>\n<path fill=\"none\" stroke=\"black\" stroke-dasharray=\"5,2\" d=\"M188.59,-69.93C188.94,-62.87 189.32,-55.32 189.68,-48.25\"/>\n<polygon fill=\"black\" stroke=\"black\" points=\"185.11,-69.57 188.1,-79.73 192.1,-69.92 185.11,-69.57\"/>\n<polygon fill=\"black\" stroke=\"black\" points=\"193.16,-48.66 190.16,-38.49 186.17,-48.31 193.16,-48.66\"/>\n<text text-anchor=\"start\" x=\"190.14\" y=\"-56\" font-family=\"Times,serif\" font-size=\"10.00\">amount</text>\n</g>\n</g>\n</svg>\n",
      "text/plain": [
       "<graphviz.graphs.Digraph at 0x116772a60>"
      ]
     },
     "execution_count": 59,
     "metadata": {},
     "output_type": "execute_result"
    }
   ],
   "execution_count": 59
  },
  {
   "metadata": {
    "ExecuteTime": {
     "end_time": "2025-04-22T22:59:16.446921Z",
     "start_time": "2025-04-22T22:59:16.443545Z"
    }
   },
   "cell_type": "code",
   "source": [
    "# run the simulation for 10 time units\n",
    "v.run(interval=10)"
   ],
   "id": "3ac748abc7b485f9",
   "outputs": [],
   "execution_count": 60
  },
  {
   "metadata": {
    "ExecuteTime": {
     "end_time": "2025-04-22T22:59:16.456439Z",
     "start_time": "2025-04-22T22:59:16.452367Z"
    }
   },
   "cell_type": "code",
   "source": [
    "# get the timeseries results\n",
    "timeseries = v.get_timeseries(decimal_places=6, as_dataframe=True)\n",
    "timeseries"
   ],
   "id": "7a12396ee5964488",
   "outputs": [
    {
     "data": {
      "text/plain": [
       "    /global_time      /top/A    /top/B\n",
       "0            0.0  100.000000  1.000000\n",
       "1            1.0  110.000000  0.900000\n",
       "2            2.0  121.000000  0.810000\n",
       "3            3.0  133.100000  0.729000\n",
       "4            4.0  146.410000  0.656100\n",
       "5            5.0  161.051000  0.590490\n",
       "6            6.0  177.156100  0.531441\n",
       "7            7.0  194.871710  0.478297\n",
       "8            8.0  214.358881  0.430467\n",
       "9            9.0  235.794769  0.387420\n",
       "10          10.0  259.374246  0.348678"
      ],
      "text/html": [
       "<div>\n",
       "<style scoped>\n",
       "    .dataframe tbody tr th:only-of-type {\n",
       "        vertical-align: middle;\n",
       "    }\n",
       "\n",
       "    .dataframe tbody tr th {\n",
       "        vertical-align: top;\n",
       "    }\n",
       "\n",
       "    .dataframe thead th {\n",
       "        text-align: right;\n",
       "    }\n",
       "</style>\n",
       "<table border=\"1\" class=\"dataframe\">\n",
       "  <thead>\n",
       "    <tr style=\"text-align: right;\">\n",
       "      <th></th>\n",
       "      <th>/global_time</th>\n",
       "      <th>/top/A</th>\n",
       "      <th>/top/B</th>\n",
       "    </tr>\n",
       "  </thead>\n",
       "  <tbody>\n",
       "    <tr>\n",
       "      <th>0</th>\n",
       "      <td>0.0</td>\n",
       "      <td>100.000000</td>\n",
       "      <td>1.000000</td>\n",
       "    </tr>\n",
       "    <tr>\n",
       "      <th>1</th>\n",
       "      <td>1.0</td>\n",
       "      <td>110.000000</td>\n",
       "      <td>0.900000</td>\n",
       "    </tr>\n",
       "    <tr>\n",
       "      <th>2</th>\n",
       "      <td>2.0</td>\n",
       "      <td>121.000000</td>\n",
       "      <td>0.810000</td>\n",
       "    </tr>\n",
       "    <tr>\n",
       "      <th>3</th>\n",
       "      <td>3.0</td>\n",
       "      <td>133.100000</td>\n",
       "      <td>0.729000</td>\n",
       "    </tr>\n",
       "    <tr>\n",
       "      <th>4</th>\n",
       "      <td>4.0</td>\n",
       "      <td>146.410000</td>\n",
       "      <td>0.656100</td>\n",
       "    </tr>\n",
       "    <tr>\n",
       "      <th>5</th>\n",
       "      <td>5.0</td>\n",
       "      <td>161.051000</td>\n",
       "      <td>0.590490</td>\n",
       "    </tr>\n",
       "    <tr>\n",
       "      <th>6</th>\n",
       "      <td>6.0</td>\n",
       "      <td>177.156100</td>\n",
       "      <td>0.531441</td>\n",
       "    </tr>\n",
       "    <tr>\n",
       "      <th>7</th>\n",
       "      <td>7.0</td>\n",
       "      <td>194.871710</td>\n",
       "      <td>0.478297</td>\n",
       "    </tr>\n",
       "    <tr>\n",
       "      <th>8</th>\n",
       "      <td>8.0</td>\n",
       "      <td>214.358881</td>\n",
       "      <td>0.430467</td>\n",
       "    </tr>\n",
       "    <tr>\n",
       "      <th>9</th>\n",
       "      <td>9.0</td>\n",
       "      <td>235.794769</td>\n",
       "      <td>0.387420</td>\n",
       "    </tr>\n",
       "    <tr>\n",
       "      <th>10</th>\n",
       "      <td>10.0</td>\n",
       "      <td>259.374246</td>\n",
       "      <td>0.348678</td>\n",
       "    </tr>\n",
       "  </tbody>\n",
       "</table>\n",
       "</div>"
      ]
     },
     "execution_count": 61,
     "metadata": {},
     "output_type": "execute_result"
    }
   ],
   "execution_count": 61
  },
  {
   "metadata": {
    "ExecuteTime": {
     "end_time": "2025-04-22T22:59:16.549447Z",
     "start_time": "2025-04-22T22:59:16.478343Z"
    }
   },
   "cell_type": "code",
   "source": [
    "v.plot_timeseries(\n",
    "    query=None,\n",
    "    subplot_size=(6, 3),\n",
    "    ncols=2,\n",
    "    # combined_vars=None\n",
    ")"
   ],
   "id": "fd241a0b6dc599aa",
   "outputs": [
    {
     "data": {
      "text/plain": [
       "<Figure size 1200x300 with 2 Axes>"
      ],
      "image/png": "[encoded data removed]"
     },
     "execution_count": 62,
     "metadata": {},
     "output_type": "execute_result"
    }
   ],
   "execution_count": 62
  },
  {
   "metadata": {},
   "cell_type": "markdown",
   "source": "# Save and Load",
   "id": "6e1d4b91609b4231"
  },
  {
   "metadata": {
    "ExecuteTime": {
     "end_time": "2025-04-22T22:59:16.568775Z",
     "start_time": "2025-04-22T22:59:16.565879Z"
    }
   },
   "cell_type": "code",
   "source": [
    "# save the current state to a file\n",
    "v.save(filename='demo1')"
   ],
   "id": "c5742be4329f7ce4",
   "outputs": [
    {
     "name": "stdout",
     "output_type": "stream",
     "text": [
      "Saved file: out/demo1.json\n"
     ]
    }
   ],
   "execution_count": 63
  },
  {
   "metadata": {
    "ExecuteTime": {
     "end_time": "2025-04-22T22:59:16.639866Z",
     "start_time": "2025-04-22T22:59:16.573272Z"
    }
   },
   "cell_type": "code",
   "source": [
    "# make a new Vivarium object (v2) from the saved file\n",
    "v2 = Vivarium(document='out/demo1.json', processes=DEMO_PROCESSES)\n",
    "\n",
    "n_new_nodes = 6\n",
    "\n",
    "# add another object and process\n",
    "for i in range(n_new_nodes):\n",
    "    v2.add_object(name=f'C{i}', path=['top'], value=1)\n",
    "    v2.add_process(name=f'increase{i}',\n",
    "                   process_id='increase float',\n",
    "                   config={'rate': random.uniform(-1, 1)},\n",
    "                   inputs={'amount': ['top', f'C{i}']},\n",
    "                   outputs={'amount': ['top', f'C{i}']}\n",
    "                   )\n",
    "\n",
    "# display the current state as a diagram\n",
    "v2.diagram(dpi='70',\n",
    "           show_values=True,\n",
    "           show_types=True,\n",
    "           )"
   ],
   "id": "d3efc6bf5d5f8ce3",
   "outputs": [
    {
     "data": {
      "image/svg+xml": "<?xml version=\"1.0\" encoding=\"UTF-8\" standalone=\"no\"?>\n<!DOCTYPE svg PUBLIC \"-//W3C//DTD SVG 1.1//EN\"\n \"http://www.w3.org/Graphics/SVG/1.1/DTD/svg11.dtd\">\n<!-- Generated by graphviz version 9.0.0 (0)\n -->\n<!-- Title: bigraph Pages: 1 -->\n<svg width=\"823pt\" height=\"351pt\"\n viewBox=\"0.00 0.00 846.92 361.45\" xmlns=\"http://www.w3.org/2000/svg\" xmlns:xlink=\"http://www.w3.org/1999/xlink\">\n<g id=\"graph0\" class=\"graph\" transform=\"scale(0.972222 0.972222) rotate(0) translate(4 357.45)\">\n<title>bigraph</title>\n<polygon fill=\"white\" stroke=\"none\" points=\"-4,4 -4,-357.45 842.92,-357.45 842.92,4 -4,4\"/>\n<!-- (&#39;global_time&#39;,) -->\n<g id=\"node1\" class=\"node\">\n<title>(&#39;global_time&#39;,)</title>\n<ellipse fill=\"none\" stroke=\"black\" stroke-width=\"2\" cx=\"64.54\" cy=\"-288.91\" rx=\"64.54\" ry=\"64.54\"/>\n<text text-anchor=\"start\" x=\"13.54\" y=\"-285.31\" font-family=\"Times,serif\" font-size=\"12.00\">global_time:10[float]</text>\n</g>\n<!-- (&#39;emitter&#39;,) -->\n<g id=\"node12\" class=\"node\">\n<title>(&#39;emitter&#39;,)</title>\n<polygon fill=\"none\" stroke=\"black\" stroke-width=\"2\" points=\"91.54,-148.19 37.54,-148.19 37.54,-112.19 91.54,-112.19 91.54,-148.19\"/>\n<text text-anchor=\"start\" x=\"47.54\" y=\"-126.59\" font-family=\"Times,serif\" font-size=\"12.00\">emitter</text>\n</g>\n<!-- (&#39;global_time&#39;,)&#45;&gt;(&#39;emitter&#39;,) -->\n<g id=\"edge9\" class=\"edge\">\n<title>(&#39;global_time&#39;,)&#45;&gt;(&#39;emitter&#39;,)</title>\n<path fill=\"none\" stroke=\"black\" stroke-dasharray=\"5,2\" d=\"M64.54,-223.72C64.54,-201.74 64.54,-178.22 64.54,-160.39\"/>\n<polygon fill=\"black\" stroke=\"black\" points=\"68.04,-160.57 64.54,-150.57 61.04,-160.57 68.04,-160.57\"/>\n<text text-anchor=\"start\" x=\"64.54\" y=\"-198.38\" font-family=\"Times,serif\" font-size=\"10.00\">global_time</text>\n</g>\n<!-- (&#39;top&#39;,) -->\n<g id=\"node2\" class=\"node\">\n<title>(&#39;top&#39;,)</title>\n<ellipse fill=\"none\" stroke=\"black\" stroke-width=\"2\" cx=\"447.54\" cy=\"-288.91\" rx=\"22.06\" ry=\"22.06\"/>\n<text text-anchor=\"start\" x=\"439.87\" y=\"-291.31\" font-family=\"Times,serif\" font-size=\"12.00\">top</text>\n<text text-anchor=\"start\" x=\"439.04\" y=\"-279.31\" font-family=\"Times,serif\" font-size=\"12.00\">[...]</text>\n</g>\n<!-- (&#39;top&#39;, &#39;A&#39;) -->\n<g id=\"node3\" class=\"node\">\n<title>(&#39;top&#39;, &#39;A&#39;)</title>\n<ellipse fill=\"none\" stroke=\"black\" stroke-width=\"2\" cx=\"157.54\" cy=\"-130.19\" rx=\"48.19\" ry=\"48.19\"/>\n<text text-anchor=\"start\" x=\"120.37\" y=\"-126.59\" font-family=\"Times,serif\" font-size=\"12.00\">A:259.37[float]</text>\n</g>\n<!-- (&#39;top&#39;,)&#45;&gt;(&#39;top&#39;, &#39;A&#39;) -->\n<g id=\"edge1\" class=\"edge\">\n<title>(&#39;top&#39;,)&#45;&gt;(&#39;top&#39;, &#39;A&#39;)</title>\n<path fill=\"none\" stroke=\"black\" stroke-width=\"2\" d=\"M426.36,-280.05C384.3,-263.99 287.94,-224.96 214.54,-178.38 207.49,-173.9 200.34,-168.66 193.6,-163.32\"/>\n</g>\n<!-- (&#39;top&#39;, &#39;B&#39;) -->\n<g id=\"node4\" class=\"node\">\n<title>(&#39;top&#39;, &#39;B&#39;)</title>\n<ellipse fill=\"none\" stroke=\"black\" stroke-width=\"2\" cx=\"264.54\" cy=\"-130.19\" rx=\"40.7\" ry=\"40.7\"/>\n<text text-anchor=\"start\" x=\"233.7\" y=\"-126.59\" font-family=\"Times,serif\" font-size=\"12.00\">B:0.35[float]</text>\n</g>\n<!-- (&#39;top&#39;,)&#45;&gt;(&#39;top&#39;, &#39;B&#39;) -->\n<g id=\"edge2\" class=\"edge\">\n<title>(&#39;top&#39;,)&#45;&gt;(&#39;top&#39;, &#39;B&#39;)</title>\n<path fill=\"none\" stroke=\"black\" stroke-width=\"2\" d=\"M430.01,-274.1C404.27,-253.68 354.92,-213.99 314.54,-178.38 307.73,-172.38 300.56,-165.78 293.84,-159.47\"/>\n</g>\n<!-- (&#39;top&#39;, &#39;C0&#39;) -->\n<g id=\"node5\" class=\"node\">\n<title>(&#39;top&#39;, &#39;C0&#39;)</title>\n<ellipse fill=\"none\" stroke=\"black\" stroke-width=\"2\" cx=\"358.54\" cy=\"-130.19\" rx=\"35.38\" ry=\"35.38\"/>\n<text text-anchor=\"start\" x=\"332.2\" y=\"-126.59\" font-family=\"Times,serif\" font-size=\"12.00\">C0:1[float]</text>\n</g>\n<!-- (&#39;top&#39;,)&#45;&gt;(&#39;top&#39;, &#39;C0&#39;) -->\n<g id=\"edge3\" class=\"edge\">\n<title>(&#39;top&#39;,)&#45;&gt;(&#39;top&#39;, &#39;C0&#39;)</title>\n<path fill=\"none\" stroke=\"black\" stroke-width=\"2\" d=\"M436.62,-268.7C421.49,-242.05 393.97,-193.59 375.97,-161.9\"/>\n</g>\n<!-- (&#39;top&#39;, &#39;C1&#39;) -->\n<g id=\"node6\" class=\"node\">\n<title>(&#39;top&#39;, &#39;C1&#39;)</title>\n<ellipse fill=\"none\" stroke=\"black\" stroke-width=\"2\" cx=\"447.54\" cy=\"-130.19\" rx=\"35.38\" ry=\"35.38\"/>\n<text text-anchor=\"start\" x=\"421.2\" y=\"-126.59\" font-family=\"Times,serif\" font-size=\"12.00\">C1:1[float]</text>\n</g>\n<!-- (&#39;top&#39;,)&#45;&gt;(&#39;top&#39;, &#39;C1&#39;) -->\n<g id=\"edge4\" class=\"edge\">\n<title>(&#39;top&#39;,)&#45;&gt;(&#39;top&#39;, &#39;C1&#39;)</title>\n<path fill=\"none\" stroke=\"black\" stroke-width=\"2\" d=\"M447.54,-266.12C447.54,-240.3 447.54,-196.93 447.54,-166.34\"/>\n</g>\n<!-- (&#39;top&#39;, &#39;C2&#39;) -->\n<g id=\"node7\" class=\"node\">\n<title>(&#39;top&#39;, &#39;C2&#39;)</title>\n<ellipse fill=\"none\" stroke=\"black\" stroke-width=\"2\" cx=\"536.54\" cy=\"-130.19\" rx=\"35.38\" ry=\"35.38\"/>\n<text text-anchor=\"start\" x=\"510.2\" y=\"-126.59\" font-family=\"Times,serif\" font-size=\"12.00\">C2:1[float]</text>\n</g>\n<!-- (&#39;top&#39;,)&#45;&gt;(&#39;top&#39;, &#39;C2&#39;) -->\n<g id=\"edge5\" class=\"edge\">\n<title>(&#39;top&#39;,)&#45;&gt;(&#39;top&#39;, &#39;C2&#39;)</title>\n<path fill=\"none\" stroke=\"black\" stroke-width=\"2\" d=\"M458.45,-268.7C473.58,-242.05 501.1,-193.59 519.1,-161.9\"/>\n</g>\n<!-- (&#39;top&#39;, &#39;C3&#39;) -->\n<g id=\"node8\" class=\"node\">\n<title>(&#39;top&#39;, &#39;C3&#39;)</title>\n<ellipse fill=\"none\" stroke=\"black\" stroke-width=\"2\" cx=\"625.54\" cy=\"-130.19\" rx=\"35.38\" ry=\"35.38\"/>\n<text text-anchor=\"start\" x=\"599.2\" y=\"-126.59\" font-family=\"Times,serif\" font-size=\"12.00\">C3:1[float]</text>\n</g>\n<!-- (&#39;top&#39;,)&#45;&gt;(&#39;top&#39;, &#39;C3&#39;) -->\n<g id=\"edge6\" class=\"edge\">\n<title>(&#39;top&#39;,)&#45;&gt;(&#39;top&#39;, &#39;C3&#39;)</title>\n<path fill=\"none\" stroke=\"black\" stroke-width=\"2\" d=\"M465.32,-274.38C491.37,-254.3 541.1,-215.04 580.54,-178.38 587.67,-171.75 595.08,-164.25 601.79,-157.21\"/>\n</g>\n<!-- (&#39;top&#39;, &#39;C4&#39;) -->\n<g id=\"node9\" class=\"node\">\n<title>(&#39;top&#39;, &#39;C4&#39;)</title>\n<ellipse fill=\"none\" stroke=\"black\" stroke-width=\"2\" cx=\"714.54\" cy=\"-130.19\" rx=\"35.38\" ry=\"35.38\"/>\n<text text-anchor=\"start\" x=\"688.2\" y=\"-126.59\" font-family=\"Times,serif\" font-size=\"12.00\">C4:1[float]</text>\n</g>\n<!-- (&#39;top&#39;,)&#45;&gt;(&#39;top&#39;, &#39;C4&#39;) -->\n<g id=\"edge7\" class=\"edge\">\n<title>(&#39;top&#39;,)&#45;&gt;(&#39;top&#39;, &#39;C4&#39;)</title>\n<path fill=\"none\" stroke=\"black\" stroke-width=\"2\" d=\"M468.79,-280.32C509.98,-265 602.52,-227.62 669.54,-178.38 677.38,-172.61 685.03,-165.4 691.74,-158.35\"/>\n</g>\n<!-- (&#39;top&#39;, &#39;C5&#39;) -->\n<g id=\"node10\" class=\"node\">\n<title>(&#39;top&#39;, &#39;C5&#39;)</title>\n<ellipse fill=\"none\" stroke=\"black\" stroke-width=\"2\" cx=\"803.54\" cy=\"-130.19\" rx=\"35.38\" ry=\"35.38\"/>\n<text text-anchor=\"start\" x=\"777.2\" y=\"-126.59\" font-family=\"Times,serif\" font-size=\"12.00\">C5:1[float]</text>\n</g>\n<!-- (&#39;top&#39;,)&#45;&gt;(&#39;top&#39;, &#39;C5&#39;) -->\n<g id=\"edge8\" class=\"edge\">\n<title>(&#39;top&#39;,)&#45;&gt;(&#39;top&#39;, &#39;C5&#39;)</title>\n<path fill=\"none\" stroke=\"black\" stroke-width=\"2\" d=\"M469.85,-283.81C523.25,-273.22 661.19,-241.31 758.54,-178.38 766.9,-172.97 774.83,-165.7 781.64,-158.5\"/>\n</g>\n<!-- (&#39;top&#39;,)&#45;&gt;(&#39;emitter&#39;,) -->\n<g id=\"edge10\" class=\"edge\">\n<title>(&#39;top&#39;,)&#45;&gt;(&#39;emitter&#39;,)</title>\n<path fill=\"none\" stroke=\"black\" stroke-dasharray=\"5,2\" d=\"M424.76,-285.52C366.05,-278.4 206.76,-253.01 100.54,-178.38 92.95,-173.05 86.25,-165.63 80.74,-158.26\"/>\n<polygon fill=\"black\" stroke=\"black\" points=\"83.85,-156.6 75.3,-150.34 78.08,-160.57 83.85,-156.6\"/>\n<text text-anchor=\"start\" x=\"142.54\" y=\"-198.38\" font-family=\"Times,serif\" font-size=\"10.00\">top</text>\n</g>\n<!-- (&#39;increase&#39;,) -->\n<g id=\"node11\" class=\"node\">\n<title>(&#39;increase&#39;,)</title>\n<polygon fill=\"none\" stroke=\"black\" stroke-width=\"2\" points=\"184.54,-36 130.54,-36 130.54,0 184.54,0 184.54,-36\"/>\n<text text-anchor=\"start\" x=\"137.88\" y=\"-14.4\" font-family=\"Times,serif\" font-size=\"12.00\">increase</text>\n</g>\n<!-- (&#39;top&#39;, &#39;A&#39;)&#45;&gt;(&#39;increase&#39;,) -->\n<g id=\"edge11\" class=\"edge\">\n<title>(&#39;top&#39;, &#39;A&#39;)&#45;&gt;(&#39;increase&#39;,)</title>\n<path fill=\"none\" stroke=\"black\" stroke-dasharray=\"5,2\" d=\"M157.54,-70.03C157.54,-62.44 157.54,-54.96 157.54,-48.16\"/>\n<polygon fill=\"black\" stroke=\"black\" points=\"154.04,-69.67 157.54,-79.67 161.04,-69.67 154.04,-69.67\"/>\n<polygon fill=\"black\" stroke=\"black\" points=\"161.04,-48.29 157.54,-38.29 154.04,-48.29 161.04,-48.29\"/>\n<text text-anchor=\"start\" x=\"157.54\" y=\"-56\" font-family=\"Times,serif\" font-size=\"10.00\">amount</text>\n</g>\n<!-- (&#39;increase0&#39;,) -->\n<g id=\"node14\" class=\"node\">\n<title>(&#39;increase0&#39;,)</title>\n<polygon fill=\"none\" stroke=\"black\" stroke-width=\"2\" points=\"385.54,-36 331.54,-36 331.54,0 385.54,0 385.54,-36\"/>\n<text text-anchor=\"start\" x=\"335.88\" y=\"-14.4\" font-family=\"Times,serif\" font-size=\"12.00\">increase0</text>\n</g>\n<!-- (&#39;top&#39;, &#39;C0&#39;)&#45;&gt;(&#39;increase0&#39;,) -->\n<g id=\"edge13\" class=\"edge\">\n<title>(&#39;top&#39;, &#39;C0&#39;)&#45;&gt;(&#39;increase0&#39;,)</title>\n<path fill=\"none\" stroke=\"black\" stroke-dasharray=\"5,2\" d=\"M358.54,-82.54C358.54,-70.95 358.54,-58.85 358.54,-48.36\"/>\n<polygon fill=\"black\" stroke=\"black\" points=\"355.04,-82.51 358.54,-92.51 362.04,-82.51 355.04,-82.51\"/>\n<polygon fill=\"black\" stroke=\"black\" points=\"362.04,-48.42 358.54,-38.42 355.04,-48.42 362.04,-48.42\"/>\n<text text-anchor=\"start\" x=\"358.54\" y=\"-56\" font-family=\"Times,serif\" font-size=\"10.00\">amount</text>\n</g>\n<!-- (&#39;increase1&#39;,) -->\n<g id=\"node15\" class=\"node\">\n<title>(&#39;increase1&#39;,)</title>\n<polygon fill=\"none\" stroke=\"black\" stroke-width=\"2\" points=\"474.54,-36 420.54,-36 420.54,0 474.54,0 474.54,-36\"/>\n<text text-anchor=\"start\" x=\"424.88\" y=\"-14.4\" font-family=\"Times,serif\" font-size=\"12.00\">increase1</text>\n</g>\n<!-- (&#39;top&#39;, &#39;C1&#39;)&#45;&gt;(&#39;increase1&#39;,) -->\n<g id=\"edge14\" class=\"edge\">\n<title>(&#39;top&#39;, &#39;C1&#39;)&#45;&gt;(&#39;increase1&#39;,)</title>\n<path fill=\"none\" stroke=\"black\" stroke-dasharray=\"5,2\" d=\"M447.54,-82.54C447.54,-70.95 447.54,-58.85 447.54,-48.36\"/>\n<polygon fill=\"black\" stroke=\"black\" points=\"444.04,-82.51 447.54,-92.51 451.04,-82.51 444.04,-82.51\"/>\n<polygon fill=\"black\" stroke=\"black\" points=\"451.04,-48.42 447.54,-38.42 444.04,-48.42 451.04,-48.42\"/>\n<text text-anchor=\"start\" x=\"447.54\" y=\"-56\" font-family=\"Times,serif\" font-size=\"10.00\">amount</text>\n</g>\n<!-- (&#39;increase2&#39;,) -->\n<g id=\"node13\" class=\"node\">\n<title>(&#39;increase2&#39;,)</title>\n<polygon fill=\"none\" stroke=\"black\" stroke-width=\"2\" points=\"563.54,-36 509.54,-36 509.54,0 563.54,0 563.54,-36\"/>\n<text text-anchor=\"start\" x=\"513.88\" y=\"-14.4\" font-family=\"Times,serif\" font-size=\"12.00\">increase2</text>\n</g>\n<!-- (&#39;top&#39;, &#39;C2&#39;)&#45;&gt;(&#39;increase2&#39;,) -->\n<g id=\"edge12\" class=\"edge\">\n<title>(&#39;top&#39;, &#39;C2&#39;)&#45;&gt;(&#39;increase2&#39;,)</title>\n<path fill=\"none\" stroke=\"black\" stroke-dasharray=\"5,2\" d=\"M536.54,-82.54C536.54,-70.95 536.54,-58.85 536.54,-48.36\"/>\n<polygon fill=\"black\" stroke=\"black\" points=\"533.04,-82.51 536.54,-92.51 540.04,-82.51 533.04,-82.51\"/>\n<polygon fill=\"black\" stroke=\"black\" points=\"540.04,-48.42 536.54,-38.42 533.04,-48.42 540.04,-48.42\"/>\n<text text-anchor=\"start\" x=\"536.54\" y=\"-56\" font-family=\"Times,serif\" font-size=\"10.00\">amount</text>\n</g>\n<!-- (&#39;increase3&#39;,) -->\n<g id=\"node16\" class=\"node\">\n<title>(&#39;increase3&#39;,)</title>\n<polygon fill=\"none\" stroke=\"black\" stroke-width=\"2\" points=\"652.54,-36 598.54,-36 598.54,0 652.54,0 652.54,-36\"/>\n<text text-anchor=\"start\" x=\"602.88\" y=\"-14.4\" font-family=\"Times,serif\" font-size=\"12.00\">increase3</text>\n</g>\n<!-- (&#39;top&#39;, &#39;C3&#39;)&#45;&gt;(&#39;increase3&#39;,) -->\n<g id=\"edge15\" class=\"edge\">\n<title>(&#39;top&#39;, &#39;C3&#39;)&#45;&gt;(&#39;increase3&#39;,)</title>\n<path fill=\"none\" stroke=\"black\" stroke-dasharray=\"5,2\" d=\"M625.54,-82.54C625.54,-70.95 625.54,-58.85 625.54,-48.36\"/>\n<polygon fill=\"black\" stroke=\"black\" points=\"622.04,-82.51 625.54,-92.51 629.04,-82.51 622.04,-82.51\"/>\n<polygon fill=\"black\" stroke=\"black\" points=\"629.04,-48.42 625.54,-38.42 622.04,-48.42 629.04,-48.42\"/>\n<text text-anchor=\"start\" x=\"625.54\" y=\"-56\" font-family=\"Times,serif\" font-size=\"10.00\">amount</text>\n</g>\n<!-- (&#39;increase4&#39;,) -->\n<g id=\"node17\" class=\"node\">\n<title>(&#39;increase4&#39;,)</title>\n<polygon fill=\"none\" stroke=\"black\" stroke-width=\"2\" points=\"741.54,-36 687.54,-36 687.54,0 741.54,0 741.54,-36\"/>\n<text text-anchor=\"start\" x=\"691.88\" y=\"-14.4\" font-family=\"Times,serif\" font-size=\"12.00\">increase4</text>\n</g>\n<!-- (&#39;top&#39;, &#39;C4&#39;)&#45;&gt;(&#39;increase4&#39;,) -->\n<g id=\"edge16\" class=\"edge\">\n<title>(&#39;top&#39;, &#39;C4&#39;)&#45;&gt;(&#39;increase4&#39;,)</title>\n<path fill=\"none\" stroke=\"black\" stroke-dasharray=\"5,2\" d=\"M714.54,-82.54C714.54,-70.95 714.54,-58.85 714.54,-48.36\"/>\n<polygon fill=\"black\" stroke=\"black\" points=\"711.04,-82.51 714.54,-92.51 718.04,-82.51 711.04,-82.51\"/>\n<polygon fill=\"black\" stroke=\"black\" points=\"718.04,-48.42 714.54,-38.42 711.04,-48.42 718.04,-48.42\"/>\n<text text-anchor=\"start\" x=\"714.54\" y=\"-56\" font-family=\"Times,serif\" font-size=\"10.00\">amount</text>\n</g>\n<!-- (&#39;increase5&#39;,) -->\n<g id=\"node18\" class=\"node\">\n<title>(&#39;increase5&#39;,)</title>\n<polygon fill=\"none\" stroke=\"black\" stroke-width=\"2\" points=\"830.54,-36 776.54,-36 776.54,0 830.54,0 830.54,-36\"/>\n<text text-anchor=\"start\" x=\"780.88\" y=\"-14.4\" font-family=\"Times,serif\" font-size=\"12.00\">increase5</text>\n</g>\n<!-- (&#39;top&#39;, &#39;C5&#39;)&#45;&gt;(&#39;increase5&#39;,) -->\n<g id=\"edge17\" class=\"edge\">\n<title>(&#39;top&#39;, &#39;C5&#39;)&#45;&gt;(&#39;increase5&#39;,)</title>\n<path fill=\"none\" stroke=\"black\" stroke-dasharray=\"5,2\" d=\"M803.54,-82.54C803.54,-70.95 803.54,-58.85 803.54,-48.36\"/>\n<polygon fill=\"black\" stroke=\"black\" points=\"800.04,-82.51 803.54,-92.51 807.04,-82.51 800.04,-82.51\"/>\n<polygon fill=\"black\" stroke=\"black\" points=\"807.04,-48.42 803.54,-38.42 800.04,-48.42 807.04,-48.42\"/>\n<text text-anchor=\"start\" x=\"803.54\" y=\"-56\" font-family=\"Times,serif\" font-size=\"10.00\">amount</text>\n</g>\n</g>\n</svg>\n",
      "text/plain": [
       "<graphviz.graphs.Digraph at 0x11626d040>"
      ]
     },
     "execution_count": 64,
     "metadata": {},
     "output_type": "execute_result"
    }
   ],
   "execution_count": 64
  },
  {
   "metadata": {
    "ExecuteTime": {
     "end_time": "2025-04-22T22:59:16.828351Z",
     "start_time": "2025-04-22T22:59:16.647038Z"
    }
   },
   "cell_type": "code",
   "source": [
    "v2.run(interval=10)\n",
    "v2.plot_timeseries(subplot_size=(10, 3),\n",
    "                   ncols=2,\n",
    "                   combined_vars=[[f'/top/C{i}' for i in range(4)],\n",
    "                                  [f'/top/C{i}' for i in range(4, n_new_nodes)]])"
   ],
   "id": "acdc525441605ac6",
   "outputs": [
    {
     "data": {
      "text/plain": [
       "<Figure size 2000x600 with 4 Axes>"
      ],
      "image/png": "[encoded data removed]"
     },
     "execution_count": 65,
     "metadata": {},
     "output_type": "execute_result"
    }
   ],
   "execution_count": 65
  },
  {
   "metadata": {
    "ExecuteTime": {
     "end_time": "2025-04-22T22:59:16.864076Z",
     "start_time": "2025-04-22T22:59:16.834712Z"
    }
   },
   "cell_type": "code",
   "source": [
    "v2.diagram(dpi='70',\n",
    "           show_values=True,\n",
    "           # show_types=True,\n",
    "           significant_digits=4,\n",
    "           )"
   ],
   "id": "28dfbfcc0ffb8b98",
   "outputs": [
    {
     "data": {
      "image/svg+xml": "<?xml version=\"1.0\" encoding=\"UTF-8\" standalone=\"no\"?>\n<!DOCTYPE svg PUBLIC \"-//W3C//DTD SVG 1.1//EN\"\n \"http://www.w3.org/Graphics/SVG/1.1/DTD/svg11.dtd\">\n<!-- Generated by graphviz version 9.0.0 (0)\n -->\n<!-- Title: bigraph Pages: 1 -->\n<svg width=\"764pt\" height=\"304pt\"\n viewBox=\"0.00 0.00 785.76 312.61\" xmlns=\"http://www.w3.org/2000/svg\" xmlns:xlink=\"http://www.w3.org/1999/xlink\">\n<g id=\"graph0\" class=\"graph\" transform=\"scale(0.972222 0.972222) rotate(0) translate(4 308.61)\">\n<title>bigraph</title>\n<polygon fill=\"white\" stroke=\"none\" points=\"-4,4 -4,-308.61 781.76,-308.61 781.76,4 -4,4\"/>\n<!-- (&#39;global_time&#39;,) -->\n<g id=\"node1\" class=\"node\">\n<title>(&#39;global_time&#39;,)</title>\n<ellipse fill=\"none\" stroke=\"black\" stroke-width=\"2\" cx=\"47.2\" cy=\"-257.41\" rx=\"47.2\" ry=\"47.2\"/>\n<text text-anchor=\"start\" x=\"10.87\" y=\"-253.81\" font-family=\"Times,serif\" font-size=\"12.00\">global_time:20</text>\n</g>\n<!-- (&#39;emitter&#39;,) -->\n<g id=\"node12\" class=\"node\">\n<title>(&#39;emitter&#39;,)</title>\n<polygon fill=\"none\" stroke=\"black\" stroke-width=\"2\" points=\"74.2,-141.1 20.2,-141.1 20.2,-105.1 74.2,-105.1 74.2,-141.1\"/>\n<text text-anchor=\"start\" x=\"30.21\" y=\"-119.5\" font-family=\"Times,serif\" font-size=\"12.00\">emitter</text>\n</g>\n<!-- (&#39;global_time&#39;,)&#45;&gt;(&#39;emitter&#39;,) -->\n<g id=\"edge9\" class=\"edge\">\n<title>(&#39;global_time&#39;,)&#45;&gt;(&#39;emitter&#39;,)</title>\n<path fill=\"none\" stroke=\"black\" stroke-dasharray=\"5,2\" d=\"M47.2,-209.39C47.2,-190.62 47.2,-169.61 47.2,-153.13\"/>\n<polygon fill=\"black\" stroke=\"black\" points=\"50.7,-153.55 47.2,-143.55 43.7,-153.55 50.7,-153.55\"/>\n<text text-anchor=\"start\" x=\"47.2\" y=\"-184.21\" font-family=\"Times,serif\" font-size=\"10.00\">global_time</text>\n</g>\n<!-- (&#39;top&#39;,) -->\n<g id=\"node2\" class=\"node\">\n<title>(&#39;top&#39;,)</title>\n<ellipse fill=\"none\" stroke=\"black\" stroke-width=\"2\" cx=\"374.2\" cy=\"-257.41\" rx=\"18\" ry=\"18\"/>\n<text text-anchor=\"start\" x=\"366.53\" y=\"-253.81\" font-family=\"Times,serif\" font-size=\"12.00\">top</text>\n</g>\n<!-- (&#39;top&#39;, &#39;A&#39;) -->\n<g id=\"node3\" class=\"node\">\n<title>(&#39;top&#39;, &#39;A&#39;)</title>\n<ellipse fill=\"none\" stroke=\"black\" stroke-width=\"2\" cx=\"123.2\" cy=\"-123.1\" rx=\"30.85\" ry=\"30.85\"/>\n<text text-anchor=\"start\" x=\"100.7\" y=\"-119.5\" font-family=\"Times,serif\" font-size=\"12.00\">A:672.75</text>\n</g>\n<!-- (&#39;top&#39;,)&#45;&gt;(&#39;top&#39;, &#39;A&#39;) -->\n<g id=\"edge1\" class=\"edge\">\n<title>(&#39;top&#39;,)&#45;&gt;(&#39;top&#39;, &#39;A&#39;)</title>\n<path fill=\"none\" stroke=\"black\" stroke-width=\"2\" d=\"M356.4,-251.14C318.58,-239.44 228.4,-208.74 163.2,-164.21 156.22,-159.43 149.41,-153.34 143.45,-147.36\"/>\n</g>\n<!-- (&#39;top&#39;, &#39;B&#39;) -->\n<g id=\"node4\" class=\"node\">\n<title>(&#39;top&#39;, &#39;B&#39;)</title>\n<ellipse fill=\"none\" stroke=\"black\" stroke-width=\"2\" cx=\"202.2\" cy=\"-123.1\" rx=\"30.46\" ry=\"30.46\"/>\n<text text-anchor=\"start\" x=\"180.03\" y=\"-119.5\" font-family=\"Times,serif\" font-size=\"12.00\">B:0.3487</text>\n</g>\n<!-- (&#39;top&#39;,)&#45;&gt;(&#39;top&#39;, &#39;B&#39;) -->\n<g id=\"edge2\" class=\"edge\">\n<title>(&#39;top&#39;,)&#45;&gt;(&#39;top&#39;, &#39;B&#39;)</title>\n<path fill=\"none\" stroke=\"black\" stroke-width=\"2\" d=\"M358.75,-247.07C333.22,-231.35 281.08,-197.98 241.2,-164.21 234.83,-158.81 228.34,-152.51 222.52,-146.53\"/>\n</g>\n<!-- (&#39;top&#39;, &#39;C0&#39;) -->\n<g id=\"node5\" class=\"node\">\n<title>(&#39;top&#39;, &#39;C0&#39;)</title>\n<ellipse fill=\"none\" stroke=\"black\" stroke-width=\"2\" cx=\"284.2\" cy=\"-123.1\" rx=\"34.01\" ry=\"34.01\"/>\n<text text-anchor=\"start\" x=\"259.03\" y=\"-119.5\" font-family=\"Times,serif\" font-size=\"12.00\">C0:0.8196</text>\n</g>\n<!-- (&#39;top&#39;,)&#45;&gt;(&#39;top&#39;, &#39;C0&#39;) -->\n<g id=\"edge3\" class=\"edge\">\n<title>(&#39;top&#39;,)&#45;&gt;(&#39;top&#39;, &#39;C0&#39;)</title>\n<path fill=\"none\" stroke=\"black\" stroke-width=\"2\" d=\"M364.05,-241.49C349.34,-219.86 321.83,-179.41 303.26,-152.12\"/>\n</g>\n<!-- (&#39;top&#39;, &#39;C1&#39;) -->\n<g id=\"node6\" class=\"node\">\n<title>(&#39;top&#39;, &#39;C1&#39;)</title>\n<ellipse fill=\"none\" stroke=\"black\" stroke-width=\"2\" cx=\"374.2\" cy=\"-123.1\" rx=\"37.56\" ry=\"37.56\"/>\n<text text-anchor=\"start\" x=\"346.03\" y=\"-119.5\" font-family=\"Times,serif\" font-size=\"12.00\">C1:92.7048</text>\n</g>\n<!-- (&#39;top&#39;,)&#45;&gt;(&#39;top&#39;, &#39;C1&#39;) -->\n<g id=\"edge4\" class=\"edge\">\n<title>(&#39;top&#39;,)&#45;&gt;(&#39;top&#39;, &#39;C1&#39;)</title>\n<path fill=\"none\" stroke=\"black\" stroke-width=\"2\" d=\"M374.2,-238.56C374.2,-218.88 374.2,-186.66 374.2,-161.41\"/>\n</g>\n<!-- (&#39;top&#39;, &#39;C2&#39;) -->\n<g id=\"node7\" class=\"node\">\n<title>(&#39;top&#39;, &#39;C2&#39;)</title>\n<ellipse fill=\"none\" stroke=\"black\" stroke-width=\"2\" cx=\"464.2\" cy=\"-123.1\" rx=\"34.01\" ry=\"34.01\"/>\n<text text-anchor=\"start\" x=\"439.03\" y=\"-119.5\" font-family=\"Times,serif\" font-size=\"12.00\">C2:0.3487</text>\n</g>\n<!-- (&#39;top&#39;,)&#45;&gt;(&#39;top&#39;, &#39;C2&#39;) -->\n<g id=\"edge5\" class=\"edge\">\n<title>(&#39;top&#39;,)&#45;&gt;(&#39;top&#39;, &#39;C2&#39;)</title>\n<path fill=\"none\" stroke=\"black\" stroke-width=\"2\" d=\"M384.35,-241.49C399.06,-219.86 426.58,-179.41 445.14,-152.12\"/>\n</g>\n<!-- (&#39;top&#39;, &#39;C3&#39;) -->\n<g id=\"node8\" class=\"node\">\n<title>(&#39;top&#39;, &#39;C3&#39;)</title>\n<ellipse fill=\"none\" stroke=\"black\" stroke-width=\"2\" cx=\"550.2\" cy=\"-123.1\" rx=\"34.01\" ry=\"34.01\"/>\n<text text-anchor=\"start\" x=\"525.03\" y=\"-119.5\" font-family=\"Times,serif\" font-size=\"12.00\">C3:0.0001</text>\n</g>\n<!-- (&#39;top&#39;,)&#45;&gt;(&#39;top&#39;, &#39;C3&#39;) -->\n<g id=\"edge6\" class=\"edge\">\n<title>(&#39;top&#39;,)&#45;&gt;(&#39;top&#39;, &#39;C3&#39;)</title>\n<path fill=\"none\" stroke=\"black\" stroke-width=\"2\" d=\"M389.47,-246.85C414.74,-230.81 466.51,-197 507.2,-164.21 513.4,-159.21 519.81,-153.53 525.74,-148.06\"/>\n</g>\n<!-- (&#39;top&#39;, &#39;C4&#39;) -->\n<g id=\"node9\" class=\"node\">\n<title>(&#39;top&#39;, &#39;C4&#39;)</title>\n<ellipse fill=\"none\" stroke=\"black\" stroke-width=\"2\" cx=\"643.2\" cy=\"-123.1\" rx=\"41.1\" ry=\"41.1\"/>\n<text text-anchor=\"start\" x=\"612.03\" y=\"-119.5\" font-family=\"Times,serif\" font-size=\"12.00\">C4:919.6148</text>\n</g>\n<!-- (&#39;top&#39;,)&#45;&gt;(&#39;top&#39;, &#39;C4&#39;) -->\n<g id=\"edge7\" class=\"edge\">\n<title>(&#39;top&#39;,)&#45;&gt;(&#39;top&#39;, &#39;C4&#39;)</title>\n<path fill=\"none\" stroke=\"black\" stroke-width=\"2\" d=\"M391.74,-250.88C429.93,-238.47 522.85,-206.11 593.2,-164.21 599.61,-160.39 606.08,-155.82 612.16,-151.16\"/>\n</g>\n<!-- (&#39;top&#39;, &#39;C5&#39;) -->\n<g id=\"node10\" class=\"node\">\n<title>(&#39;top&#39;, &#39;C5&#39;)</title>\n<ellipse fill=\"none\" stroke=\"black\" stroke-width=\"2\" cx=\"740.2\" cy=\"-123.1\" rx=\"37.56\" ry=\"37.56\"/>\n<text text-anchor=\"start\" x=\"712.03\" y=\"-119.5\" font-family=\"Times,serif\" font-size=\"12.00\">C5:49.6561</text>\n</g>\n<!-- (&#39;top&#39;,)&#45;&gt;(&#39;top&#39;, &#39;C5&#39;) -->\n<g id=\"edge8\" class=\"edge\">\n<title>(&#39;top&#39;,)&#45;&gt;(&#39;top&#39;, &#39;C5&#39;)</title>\n<path fill=\"none\" stroke=\"black\" stroke-width=\"2\" d=\"M392.51,-253.89C443.02,-246.39 587.62,-221.05 693.2,-164.21 700.19,-160.44 707.07,-155.5 713.31,-150.38\"/>\n</g>\n<!-- (&#39;top&#39;,)&#45;&gt;(&#39;emitter&#39;,) -->\n<g id=\"edge10\" class=\"edge\">\n<title>(&#39;top&#39;,)&#45;&gt;(&#39;emitter&#39;,)</title>\n<path fill=\"none\" stroke=\"black\" stroke-dasharray=\"5,2\" d=\"M355.73,-254C307.46,-247.03 174.93,-223.4 83.2,-164.21 77.46,-160.5 72.06,-155.65 67.29,-150.6\"/>\n<polygon fill=\"black\" stroke=\"black\" points=\"70.07,-148.47 60.87,-143.23 64.8,-153.07 70.07,-148.47\"/>\n<text text-anchor=\"start\" x=\"134.2\" y=\"-184.21\" font-family=\"Times,serif\" font-size=\"10.00\">top</text>\n</g>\n<!-- (&#39;increase&#39;,) -->\n<g id=\"node11\" class=\"node\">\n<title>(&#39;increase&#39;,)</title>\n<polygon fill=\"none\" stroke=\"black\" stroke-width=\"2\" points=\"150.2,-36 96.2,-36 96.2,0 150.2,0 150.2,-36\"/>\n<text text-anchor=\"start\" x=\"103.55\" y=\"-14.4\" font-family=\"Times,serif\" font-size=\"12.00\">increase</text>\n</g>\n<!-- (&#39;top&#39;, &#39;A&#39;)&#45;&gt;(&#39;increase&#39;,) -->\n<g id=\"edge11\" class=\"edge\">\n<title>(&#39;top&#39;, &#39;A&#39;)&#45;&gt;(&#39;increase&#39;,)</title>\n<path fill=\"none\" stroke=\"black\" stroke-dasharray=\"5,2\" d=\"M123.2,-80.19C123.2,-69.43 123.2,-58.09 123.2,-48.14\"/>\n<polygon fill=\"black\" stroke=\"black\" points=\"119.7,-79.93 123.2,-89.93 126.7,-79.93 119.7,-79.93\"/>\n<polygon fill=\"black\" stroke=\"black\" points=\"126.7,-48.33 123.2,-38.33 119.7,-48.33 126.7,-48.33\"/>\n<text text-anchor=\"start\" x=\"123.2\" y=\"-56\" font-family=\"Times,serif\" font-size=\"10.00\">amount</text>\n</g>\n<!-- (&#39;increase0&#39;,) -->\n<g id=\"node14\" class=\"node\">\n<title>(&#39;increase0&#39;,)</title>\n<polygon fill=\"none\" stroke=\"black\" stroke-width=\"2\" points=\"311.2,-36 257.2,-36 257.2,0 311.2,0 311.2,-36\"/>\n<text text-anchor=\"start\" x=\"261.55\" y=\"-14.4\" font-family=\"Times,serif\" font-size=\"12.00\">increase0</text>\n</g>\n<!-- (&#39;top&#39;, &#39;C0&#39;)&#45;&gt;(&#39;increase0&#39;,) -->\n<g id=\"edge13\" class=\"edge\">\n<title>(&#39;top&#39;, &#39;C0&#39;)&#45;&gt;(&#39;increase0&#39;,)</title>\n<path fill=\"none\" stroke=\"black\" stroke-dasharray=\"5,2\" d=\"M284.2,-77.18C284.2,-67.4 284.2,-57.31 284.2,-48.33\"/>\n<polygon fill=\"black\" stroke=\"black\" points=\"280.7,-76.83 284.2,-86.83 287.7,-76.83 280.7,-76.83\"/>\n<polygon fill=\"black\" stroke=\"black\" points=\"287.7,-48.42 284.2,-38.42 280.7,-48.42 287.7,-48.42\"/>\n<text text-anchor=\"start\" x=\"284.2\" y=\"-56\" font-family=\"Times,serif\" font-size=\"10.00\">amount</text>\n</g>\n<!-- (&#39;increase1&#39;,) -->\n<g id=\"node15\" class=\"node\">\n<title>(&#39;increase1&#39;,)</title>\n<polygon fill=\"none\" stroke=\"black\" stroke-width=\"2\" points=\"401.2,-36 347.2,-36 347.2,0 401.2,0 401.2,-36\"/>\n<text text-anchor=\"start\" x=\"351.55\" y=\"-14.4\" font-family=\"Times,serif\" font-size=\"12.00\">increase1</text>\n</g>\n<!-- (&#39;top&#39;, &#39;C1&#39;)&#45;&gt;(&#39;increase1&#39;,) -->\n<g id=\"edge14\" class=\"edge\">\n<title>(&#39;top&#39;, &#39;C1&#39;)&#45;&gt;(&#39;increase1&#39;,)</title>\n<path fill=\"none\" stroke=\"black\" stroke-dasharray=\"5,2\" d=\"M374.2,-73.33C374.2,-64.81 374.2,-56.19 374.2,-48.4\"/>\n<polygon fill=\"black\" stroke=\"black\" points=\"370.7,-73.07 374.2,-83.08 377.7,-73.08 370.7,-73.07\"/>\n<polygon fill=\"black\" stroke=\"black\" points=\"377.7,-48.5 374.2,-38.5 370.7,-48.5 377.7,-48.5\"/>\n<text text-anchor=\"start\" x=\"374.2\" y=\"-56\" font-family=\"Times,serif\" font-size=\"10.00\">amount</text>\n</g>\n<!-- (&#39;increase2&#39;,) -->\n<g id=\"node13\" class=\"node\">\n<title>(&#39;increase2&#39;,)</title>\n<polygon fill=\"none\" stroke=\"black\" stroke-width=\"2\" points=\"491.2,-36 437.2,-36 437.2,0 491.2,0 491.2,-36\"/>\n<text text-anchor=\"start\" x=\"441.55\" y=\"-14.4\" font-family=\"Times,serif\" font-size=\"12.00\">increase2</text>\n</g>\n<!-- (&#39;top&#39;, &#39;C2&#39;)&#45;&gt;(&#39;increase2&#39;,) -->\n<g id=\"edge12\" class=\"edge\">\n<title>(&#39;top&#39;, &#39;C2&#39;)&#45;&gt;(&#39;increase2&#39;,)</title>\n<path fill=\"none\" stroke=\"black\" stroke-dasharray=\"5,2\" d=\"M464.2,-77.18C464.2,-67.4 464.2,-57.31 464.2,-48.33\"/>\n<polygon fill=\"black\" stroke=\"black\" points=\"460.7,-76.83 464.2,-86.83 467.7,-76.83 460.7,-76.83\"/>\n<polygon fill=\"black\" stroke=\"black\" points=\"467.7,-48.42 464.2,-38.42 460.7,-48.42 467.7,-48.42\"/>\n<text text-anchor=\"start\" x=\"464.2\" y=\"-56\" font-family=\"Times,serif\" font-size=\"10.00\">amount</text>\n</g>\n<!-- (&#39;increase3&#39;,) -->\n<g id=\"node16\" class=\"node\">\n<title>(&#39;increase3&#39;,)</title>\n<polygon fill=\"none\" stroke=\"black\" stroke-width=\"2\" points=\"577.2,-36 523.2,-36 523.2,0 577.2,0 577.2,-36\"/>\n<text text-anchor=\"start\" x=\"527.55\" y=\"-14.4\" font-family=\"Times,serif\" font-size=\"12.00\">increase3</text>\n</g>\n<!-- (&#39;top&#39;, &#39;C3&#39;)&#45;&gt;(&#39;increase3&#39;,) -->\n<g id=\"edge15\" class=\"edge\">\n<title>(&#39;top&#39;, &#39;C3&#39;)&#45;&gt;(&#39;increase3&#39;,)</title>\n<path fill=\"none\" stroke=\"black\" stroke-dasharray=\"5,2\" d=\"M550.2,-77.18C550.2,-67.4 550.2,-57.31 550.2,-48.33\"/>\n<polygon fill=\"black\" stroke=\"black\" points=\"546.7,-76.83 550.2,-86.83 553.7,-76.83 546.7,-76.83\"/>\n<polygon fill=\"black\" stroke=\"black\" points=\"553.7,-48.42 550.2,-38.42 546.7,-48.42 553.7,-48.42\"/>\n<text text-anchor=\"start\" x=\"550.2\" y=\"-56\" font-family=\"Times,serif\" font-size=\"10.00\">amount</text>\n</g>\n<!-- (&#39;increase4&#39;,) -->\n<g id=\"node17\" class=\"node\">\n<title>(&#39;increase4&#39;,)</title>\n<polygon fill=\"none\" stroke=\"black\" stroke-width=\"2\" points=\"670.2,-36 616.2,-36 616.2,0 670.2,0 670.2,-36\"/>\n<text text-anchor=\"start\" x=\"620.55\" y=\"-14.4\" font-family=\"Times,serif\" font-size=\"12.00\">increase4</text>\n</g>\n<!-- (&#39;top&#39;, &#39;C4&#39;)&#45;&gt;(&#39;increase4&#39;,) -->\n<g id=\"edge16\" class=\"edge\">\n<title>(&#39;top&#39;, &#39;C4&#39;)&#45;&gt;(&#39;increase4&#39;,)</title>\n<path fill=\"none\" stroke=\"black\" stroke-dasharray=\"5,2\" d=\"M643.2,-69.73C643.2,-62.31 643.2,-54.9 643.2,-48.14\"/>\n<polygon fill=\"black\" stroke=\"black\" points=\"639.7,-69.54 643.2,-79.54 646.7,-69.54 639.7,-69.54\"/>\n<polygon fill=\"black\" stroke=\"black\" points=\"646.7,-48.3 643.2,-38.3 639.7,-48.3 646.7,-48.3\"/>\n<text text-anchor=\"start\" x=\"643.2\" y=\"-56\" font-family=\"Times,serif\" font-size=\"10.00\">amount</text>\n</g>\n<!-- (&#39;increase5&#39;,) -->\n<g id=\"node18\" class=\"node\">\n<title>(&#39;increase5&#39;,)</title>\n<polygon fill=\"none\" stroke=\"black\" stroke-width=\"2\" points=\"767.2,-36 713.2,-36 713.2,0 767.2,0 767.2,-36\"/>\n<text text-anchor=\"start\" x=\"717.55\" y=\"-14.4\" font-family=\"Times,serif\" font-size=\"12.00\">increase5</text>\n</g>\n<!-- (&#39;top&#39;, &#39;C5&#39;)&#45;&gt;(&#39;increase5&#39;,) -->\n<g id=\"edge17\" class=\"edge\">\n<title>(&#39;top&#39;, &#39;C5&#39;)&#45;&gt;(&#39;increase5&#39;,)</title>\n<path fill=\"none\" stroke=\"black\" stroke-dasharray=\"5,2\" d=\"M740.2,-73.33C740.2,-64.81 740.2,-56.19 740.2,-48.4\"/>\n<polygon fill=\"black\" stroke=\"black\" points=\"736.7,-73.07 740.2,-83.08 743.7,-73.08 736.7,-73.07\"/>\n<polygon fill=\"black\" stroke=\"black\" points=\"743.7,-48.5 740.2,-38.5 736.7,-48.5 743.7,-48.5\"/>\n<text text-anchor=\"start\" x=\"740.2\" y=\"-56\" font-family=\"Times,serif\" font-size=\"10.00\">amount</text>\n</g>\n</g>\n</svg>\n",
      "text/plain": [
       "<graphviz.graphs.Digraph at 0x1169ede80>"
      ]
     },
     "execution_count": 66,
     "metadata": {},
     "output_type": "execute_result"
    }
   ],
   "execution_count": 66
  },
  {
   "metadata": {
    "ExecuteTime": {
     "end_time": "2025-04-22T22:59:16.896821Z",
     "start_time": "2025-04-22T22:59:16.871694Z"
    }
   },
   "cell_type": "code",
   "source": [
    "v2.diagram(dpi='70',\n",
    "           show_values=True,\n",
    "           # show_types=True,\n",
    "           significant_digits=4,\n",
    "           rankdir='LR',\n",
    "           port_labels=False,\n",
    "           remove_nodes=['top.A', 'top.B', 'increase', 'emitter', 'global_time'],\n",
    "           node_border_colors={(f'increase{i}',): 'blue' for i in range(n_new_nodes)},\n",
    "           )"
   ],
   "id": "646f55475bef2b52",
   "outputs": [
    {
     "data": {
      "image/svg+xml": "<?xml version=\"1.0\" encoding=\"UTF-8\" standalone=\"no\"?>\n<!DOCTYPE svg PUBLIC \"-//W3C//DTD SVG 1.1//EN\"\n \"http://www.w3.org/Graphics/SVG/1.1/DTD/svg11.dtd\">\n<!-- Generated by graphviz version 9.0.0 (0)\n -->\n<!-- Title: bigraph Pages: 1 -->\n<svg width=\"245pt\" height=\"674pt\"\n viewBox=\"0.00 0.00 252.21 693.41\" xmlns=\"http://www.w3.org/2000/svg\" xmlns:xlink=\"http://www.w3.org/1999/xlink\">\n<g id=\"graph0\" class=\"graph\" transform=\"scale(0.972222 0.972222) rotate(0) translate(4 689.41)\">\n<title>bigraph</title>\n<polygon fill=\"white\" stroke=\"none\" points=\"-4,4 -4,-689.41 248.21,-689.41 248.21,4 -4,4\"/>\n<!-- (&#39;top&#39;,) -->\n<g id=\"node1\" class=\"node\">\n<title>(&#39;top&#39;,)</title>\n<ellipse fill=\"none\" stroke=\"black\" stroke-width=\"2\" cx=\"18\" cy=\"-358.56\" rx=\"18\" ry=\"18\"/>\n<text text-anchor=\"start\" x=\"10.33\" y=\"-354.96\" font-family=\"Times,serif\" font-size=\"12.00\">top</text>\n</g>\n<!-- (&#39;top&#39;, &#39;A&#39;) -->\n<g id=\"node2\" class=\"node\">\n<title>(&#39;top&#39;, &#39;A&#39;)</title>\n<ellipse fill=\"none\" stroke=\"black\" stroke-width=\"2\" cx=\"113.1\" cy=\"-654.56\" rx=\"30.85\" ry=\"30.85\"/>\n<text text-anchor=\"start\" x=\"90.6\" y=\"-650.96\" font-family=\"Times,serif\" font-size=\"12.00\">A:672.75</text>\n</g>\n<!-- (&#39;top&#39;,)&#45;&gt;(&#39;top&#39;, &#39;A&#39;) -->\n<g id=\"edge1\" class=\"edge\">\n<title>(&#39;top&#39;,)&#45;&gt;(&#39;top&#39;, &#39;A&#39;)</title>\n<path fill=\"none\" stroke=\"black\" stroke-width=\"2\" d=\"M19.27,-377.48C20.65,-421.7 28.52,-534.1 72,-614.56 76.11,-622.17 82.14,-629.27 88.27,-635.32\"/>\n</g>\n<!-- (&#39;top&#39;, &#39;B&#39;) -->\n<g id=\"node3\" class=\"node\">\n<title>(&#39;top&#39;, &#39;B&#39;)</title>\n<ellipse fill=\"none\" stroke=\"black\" stroke-width=\"2\" cx=\"113.1\" cy=\"-575.56\" rx=\"30.46\" ry=\"30.46\"/>\n<text text-anchor=\"start\" x=\"90.93\" y=\"-571.96\" font-family=\"Times,serif\" font-size=\"12.00\">B:0.3487</text>\n</g>\n<!-- (&#39;top&#39;,)&#45;&gt;(&#39;top&#39;, &#39;B&#39;) -->\n<g id=\"edge2\" class=\"edge\">\n<title>(&#39;top&#39;,)&#45;&gt;(&#39;top&#39;, &#39;B&#39;)</title>\n<path fill=\"none\" stroke=\"black\" stroke-width=\"2\" d=\"M21.39,-377.23C26.37,-411.1 40.19,-484.01 72,-536.56 76.33,-543.7 82.27,-550.45 88.26,-556.26\"/>\n</g>\n<!-- (&#39;top&#39;, &#39;C0&#39;) -->\n<g id=\"node4\" class=\"node\">\n<title>(&#39;top&#39;, &#39;C0&#39;)</title>\n<ellipse fill=\"none\" stroke=\"black\" stroke-width=\"2\" cx=\"113.1\" cy=\"-493.56\" rx=\"34.01\" ry=\"34.01\"/>\n<text text-anchor=\"start\" x=\"87.93\" y=\"-489.96\" font-family=\"Times,serif\" font-size=\"12.00\">C0:0.8196</text>\n</g>\n<!-- (&#39;top&#39;,)&#45;&gt;(&#39;top&#39;, &#39;C0&#39;) -->\n<g id=\"edge3\" class=\"edge\">\n<title>(&#39;top&#39;,)&#45;&gt;(&#39;top&#39;, &#39;C0&#39;)</title>\n<path fill=\"none\" stroke=\"black\" stroke-width=\"2\" d=\"M27.13,-375.21C36.72,-394.19 53.7,-425.8 72,-450.56 76.85,-457.12 82.59,-463.78 88.18,-469.84\"/>\n</g>\n<!-- (&#39;top&#39;, &#39;C1&#39;) -->\n<g id=\"node5\" class=\"node\">\n<title>(&#39;top&#39;, &#39;C1&#39;)</title>\n<ellipse fill=\"none\" stroke=\"black\" stroke-width=\"2\" cx=\"113.1\" cy=\"-403.56\" rx=\"37.56\" ry=\"37.56\"/>\n<text text-anchor=\"start\" x=\"84.93\" y=\"-399.96\" font-family=\"Times,serif\" font-size=\"12.00\">C1:92.7048</text>\n</g>\n<!-- (&#39;top&#39;,)&#45;&gt;(&#39;top&#39;, &#39;C1&#39;) -->\n<g id=\"edge4\" class=\"edge\">\n<title>(&#39;top&#39;,)&#45;&gt;(&#39;top&#39;, &#39;C1&#39;)</title>\n<path fill=\"none\" stroke=\"black\" stroke-width=\"2\" d=\"M35.22,-366.39C47.1,-372.14 63.64,-380.13 78.34,-387.24\"/>\n</g>\n<!-- (&#39;top&#39;, &#39;C2&#39;) -->\n<g id=\"node6\" class=\"node\">\n<title>(&#39;top&#39;, &#39;C2&#39;)</title>\n<ellipse fill=\"none\" stroke=\"black\" stroke-width=\"2\" cx=\"113.1\" cy=\"-313.56\" rx=\"34.01\" ry=\"34.01\"/>\n<text text-anchor=\"start\" x=\"87.93\" y=\"-309.96\" font-family=\"Times,serif\" font-size=\"12.00\">C2:0.3487</text>\n</g>\n<!-- (&#39;top&#39;,)&#45;&gt;(&#39;top&#39;, &#39;C2&#39;) -->\n<g id=\"edge5\" class=\"edge\">\n<title>(&#39;top&#39;,)&#45;&gt;(&#39;top&#39;, &#39;C2&#39;)</title>\n<path fill=\"none\" stroke=\"black\" stroke-width=\"2\" d=\"M35.22,-350.72C47.93,-344.57 65.99,-335.85 81.41,-328.39\"/>\n</g>\n<!-- (&#39;top&#39;, &#39;C3&#39;) -->\n<g id=\"node7\" class=\"node\">\n<title>(&#39;top&#39;, &#39;C3&#39;)</title>\n<ellipse fill=\"none\" stroke=\"black\" stroke-width=\"2\" cx=\"113.1\" cy=\"-227.56\" rx=\"34.01\" ry=\"34.01\"/>\n<text text-anchor=\"start\" x=\"87.93\" y=\"-223.96\" font-family=\"Times,serif\" font-size=\"12.00\">C3:0.0001</text>\n</g>\n<!-- (&#39;top&#39;,)&#45;&gt;(&#39;top&#39;, &#39;C3&#39;) -->\n<g id=\"edge6\" class=\"edge\">\n<title>(&#39;top&#39;,)&#45;&gt;(&#39;top&#39;, &#39;C3&#39;)</title>\n<path fill=\"none\" stroke=\"black\" stroke-width=\"2\" d=\"M27.43,-342.34C37.18,-324.18 54.17,-294.19 72,-270.56 76.8,-264.2 82.39,-257.73 87.86,-251.79\"/>\n</g>\n<!-- (&#39;top&#39;, &#39;C4&#39;) -->\n<g id=\"node8\" class=\"node\">\n<title>(&#39;top&#39;, &#39;C4&#39;)</title>\n<ellipse fill=\"none\" stroke=\"black\" stroke-width=\"2\" cx=\"113.1\" cy=\"-134.56\" rx=\"41.1\" ry=\"41.1\"/>\n<text text-anchor=\"start\" x=\"81.93\" y=\"-130.96\" font-family=\"Times,serif\" font-size=\"12.00\">C4:919.6148</text>\n</g>\n<!-- (&#39;top&#39;,)&#45;&gt;(&#39;top&#39;, &#39;C4&#39;) -->\n<g id=\"edge7\" class=\"edge\">\n<title>(&#39;top&#39;,)&#45;&gt;(&#39;top&#39;, &#39;C4&#39;)</title>\n<path fill=\"none\" stroke=\"black\" stroke-width=\"2\" d=\"M22.21,-340.14C28.44,-307.39 44.06,-237.47 72,-184.56 75.48,-177.96 79.89,-171.4 84.5,-165.29\"/>\n</g>\n<!-- (&#39;top&#39;, &#39;C5&#39;) -->\n<g id=\"node9\" class=\"node\">\n<title>(&#39;top&#39;, &#39;C5&#39;)</title>\n<ellipse fill=\"none\" stroke=\"black\" stroke-width=\"2\" cx=\"113.1\" cy=\"-37.56\" rx=\"37.56\" ry=\"37.56\"/>\n<text text-anchor=\"start\" x=\"84.93\" y=\"-33.96\" font-family=\"Times,serif\" font-size=\"12.00\">C5:49.6561</text>\n</g>\n<!-- (&#39;top&#39;,)&#45;&gt;(&#39;top&#39;, &#39;C5&#39;) -->\n<g id=\"edge8\" class=\"edge\">\n<title>(&#39;top&#39;,)&#45;&gt;(&#39;top&#39;, &#39;C5&#39;)</title>\n<path fill=\"none\" stroke=\"black\" stroke-width=\"2\" d=\"M19.38,-339.92C20.97,-294.13 29.23,-173.39 72,-84.56 75.44,-77.4 80.25,-70.46 85.34,-64.2\"/>\n</g>\n<!-- (&#39;increase0&#39;,) -->\n<g id=\"node11\" class=\"node\">\n<title>(&#39;increase0&#39;,)</title>\n<polygon fill=\"none\" stroke=\"blue\" stroke-width=\"2\" points=\"244.21,-511.56 190.21,-511.56 190.21,-475.56 244.21,-475.56 244.21,-511.56\"/>\n<text text-anchor=\"start\" x=\"194.55\" y=\"-489.96\" font-family=\"Times,serif\" font-size=\"12.00\">increase0</text>\n</g>\n<!-- (&#39;top&#39;, &#39;C0&#39;)&#45;&gt;(&#39;increase0&#39;,) -->\n<g id=\"edge10\" class=\"edge\">\n<title>(&#39;top&#39;, &#39;C0&#39;)&#45;&gt;(&#39;increase0&#39;,)</title>\n<path fill=\"none\" stroke=\"black\" stroke-dasharray=\"5,2\" d=\"M159.45,-493.56C165.7,-493.56 172.06,-493.56 178.16,-493.56\"/>\n<polygon fill=\"black\" stroke=\"black\" points=\"159.61,-490.06 149.61,-493.56 159.61,-497.06 159.61,-490.06\"/>\n<polygon fill=\"black\" stroke=\"black\" points=\"177.94,-497.06 187.94,-493.56 177.94,-490.06 177.94,-497.06\"/>\n</g>\n<!-- (&#39;increase1&#39;,) -->\n<g id=\"node12\" class=\"node\">\n<title>(&#39;increase1&#39;,)</title>\n<polygon fill=\"none\" stroke=\"blue\" stroke-width=\"2\" points=\"244.21,-421.56 190.21,-421.56 190.21,-385.56 244.21,-385.56 244.21,-421.56\"/>\n<text text-anchor=\"start\" x=\"194.55\" y=\"-399.96\" font-family=\"Times,serif\" font-size=\"12.00\">increase1</text>\n</g>\n<!-- (&#39;top&#39;, &#39;C1&#39;)&#45;&gt;(&#39;increase1&#39;,) -->\n<g id=\"edge11\" class=\"edge\">\n<title>(&#39;top&#39;, &#39;C1&#39;)&#45;&gt;(&#39;increase1&#39;,)</title>\n<path fill=\"none\" stroke=\"black\" stroke-dasharray=\"5,2\" d=\"M162.92,-403.56C168.03,-403.56 173.17,-403.56 178.14,-403.56\"/>\n<polygon fill=\"black\" stroke=\"black\" points=\"163.06,-400.06 153.06,-403.56 163.06,-407.06 163.06,-400.06\"/>\n<polygon fill=\"black\" stroke=\"black\" points=\"177.8,-407.06 187.8,-403.56 177.8,-400.06 177.8,-407.06\"/>\n</g>\n<!-- (&#39;increase2&#39;,) -->\n<g id=\"node10\" class=\"node\">\n<title>(&#39;increase2&#39;,)</title>\n<polygon fill=\"none\" stroke=\"blue\" stroke-width=\"2\" points=\"244.21,-331.56 190.21,-331.56 190.21,-295.56 244.21,-295.56 244.21,-331.56\"/>\n<text text-anchor=\"start\" x=\"194.55\" y=\"-309.96\" font-family=\"Times,serif\" font-size=\"12.00\">increase2</text>\n</g>\n<!-- (&#39;top&#39;, &#39;C2&#39;)&#45;&gt;(&#39;increase2&#39;,) -->\n<g id=\"edge9\" class=\"edge\">\n<title>(&#39;top&#39;, &#39;C2&#39;)&#45;&gt;(&#39;increase2&#39;,)</title>\n<path fill=\"none\" stroke=\"black\" stroke-dasharray=\"5,2\" d=\"M159.45,-313.56C165.7,-313.56 172.06,-313.56 178.16,-313.56\"/>\n<polygon fill=\"black\" stroke=\"black\" points=\"159.61,-310.06 149.61,-313.56 159.61,-317.06 159.61,-310.06\"/>\n<polygon fill=\"black\" stroke=\"black\" points=\"177.94,-317.06 187.94,-313.56 177.94,-310.06 177.94,-317.06\"/>\n</g>\n<!-- (&#39;increase3&#39;,) -->\n<g id=\"node13\" class=\"node\">\n<title>(&#39;increase3&#39;,)</title>\n<polygon fill=\"none\" stroke=\"blue\" stroke-width=\"2\" points=\"244.21,-245.56 190.21,-245.56 190.21,-209.56 244.21,-209.56 244.21,-245.56\"/>\n<text text-anchor=\"start\" x=\"194.55\" y=\"-223.96\" font-family=\"Times,serif\" font-size=\"12.00\">increase3</text>\n</g>\n<!-- (&#39;top&#39;, &#39;C3&#39;)&#45;&gt;(&#39;increase3&#39;,) -->\n<g id=\"edge12\" class=\"edge\">\n<title>(&#39;top&#39;, &#39;C3&#39;)&#45;&gt;(&#39;increase3&#39;,)</title>\n<path fill=\"none\" stroke=\"black\" stroke-dasharray=\"5,2\" d=\"M159.45,-227.56C165.7,-227.56 172.06,-227.56 178.16,-227.56\"/>\n<polygon fill=\"black\" stroke=\"black\" points=\"159.61,-224.06 149.61,-227.56 159.61,-231.06 159.61,-224.06\"/>\n<polygon fill=\"black\" stroke=\"black\" points=\"177.94,-231.06 187.94,-227.56 177.94,-224.06 177.94,-231.06\"/>\n</g>\n<!-- (&#39;increase4&#39;,) -->\n<g id=\"node14\" class=\"node\">\n<title>(&#39;increase4&#39;,)</title>\n<polygon fill=\"none\" stroke=\"blue\" stroke-width=\"2\" points=\"244.21,-152.56 190.21,-152.56 190.21,-116.56 244.21,-116.56 244.21,-152.56\"/>\n<text text-anchor=\"start\" x=\"194.55\" y=\"-130.96\" font-family=\"Times,serif\" font-size=\"12.00\">increase4</text>\n</g>\n<!-- (&#39;top&#39;, &#39;C4&#39;)&#45;&gt;(&#39;increase4&#39;,) -->\n<g id=\"edge13\" class=\"edge\">\n<title>(&#39;top&#39;, &#39;C4&#39;)&#45;&gt;(&#39;increase4&#39;,)</title>\n<path fill=\"none\" stroke=\"black\" stroke-dasharray=\"5,2\" d=\"M166.55,-134.56C170.37,-134.56 174.18,-134.56 177.89,-134.56\"/>\n<polygon fill=\"black\" stroke=\"black\" points=\"166.56,-131.06 156.56,-134.56 166.56,-138.06 166.56,-131.06\"/>\n<polygon fill=\"black\" stroke=\"black\" points=\"177.82,-138.06 187.82,-134.56 177.82,-131.06 177.82,-138.06\"/>\n</g>\n<!-- (&#39;increase5&#39;,) -->\n<g id=\"node15\" class=\"node\">\n<title>(&#39;increase5&#39;,)</title>\n<polygon fill=\"none\" stroke=\"blue\" stroke-width=\"2\" points=\"244.21,-55.56 190.21,-55.56 190.21,-19.56 244.21,-19.56 244.21,-55.56\"/>\n<text text-anchor=\"start\" x=\"194.55\" y=\"-33.96\" font-family=\"Times,serif\" font-size=\"12.00\">increase5</text>\n</g>\n<!-- (&#39;top&#39;, &#39;C5&#39;)&#45;&gt;(&#39;increase5&#39;,) -->\n<g id=\"edge14\" class=\"edge\">\n<title>(&#39;top&#39;, &#39;C5&#39;)&#45;&gt;(&#39;increase5&#39;,)</title>\n<path fill=\"none\" stroke=\"black\" stroke-dasharray=\"5,2\" d=\"M162.92,-37.56C168.03,-37.56 173.17,-37.56 178.14,-37.56\"/>\n<polygon fill=\"black\" stroke=\"black\" points=\"163.06,-34.06 153.06,-37.56 163.06,-41.06 163.06,-34.06\"/>\n<polygon fill=\"black\" stroke=\"black\" points=\"177.8,-41.06 187.8,-37.56 177.8,-34.06 177.8,-41.06\"/>\n</g>\n</g>\n</svg>\n",
      "text/plain": [
       "<graphviz.graphs.Digraph at 0x116a0c640>"
      ]
     },
     "execution_count": 67,
     "metadata": {},
     "output_type": "execute_result"
    }
   ],
   "execution_count": 67
  },
  {
   "metadata": {
    "ExecuteTime": {
     "end_time": "2025-04-22T22:59:16.905159Z",
     "start_time": "2025-04-22T22:59:16.903889Z"
    }
   },
   "cell_type": "code",
   "source": "",
   "id": "a7b46454e748dfe7",
   "outputs": [],
   "execution_count": null
  }
 ],
 "metadata": {
  "kernelspec": {
   "display_name": "Python 3",
   "language": "python",
   "name": "python3"
  },
  "language_info": {
   "codemirror_mode": {
    "name": "ipython",
    "version": 2
   },
   "file_extension": ".py",
   "mimetype": "text/x-python",
   "name": "python",
   "nbconvert_exporter": "python",
   "pygments_lexer": "ipython2",
   "version": "2.7.6"
  }
 },
 "nbformat": 4,
 "nbformat_minor": 5
}
