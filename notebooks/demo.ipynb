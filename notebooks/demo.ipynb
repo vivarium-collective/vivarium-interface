{
 "cells": [
  {
   "metadata": {},
   "cell_type": "markdown",
   "source": [
    "# Vivarium Interface Demo\n",
    "\n",
    "This notebook demonstrates the usage of the Vivarium Python API for building, verifying, and saving composite process-bigraph simulations. It includes examples of initializing a simulation, running it, retrieving results, and generating visual diagrams."
   ],
   "id": "72bf55bd0ba0253d"
  },
  {
   "cell_type": "code",
   "id": "initial_id",
   "metadata": {
    "collapsed": true,
    "ExecuteTime": {
     "end_time": "2025-02-18T23:26:45.812534Z",
     "start_time": "2025-02-18T23:26:45.341082Z"
    }
   },
   "source": [
    "import random\n",
    "from vivarium import Vivarium\n",
    "from vivarium.tests import DEMO_PROCESSES  # toy processes"
   ],
   "outputs": [],
   "execution_count": 1
  },
  {
   "metadata": {
    "ExecuteTime": {
     "end_time": "2025-02-18T23:26:45.822142Z",
     "start_time": "2025-02-18T23:26:45.815276Z"
    }
   },
   "cell_type": "code",
   "source": [
    "# initialize a Vivarium object\n",
    "v = Vivarium(processes=DEMO_PROCESSES,\n",
    "             # require=['units', 'sbml', 'sedml=0.1.0']\n",
    "             )"
   ],
   "id": "eba991c23c80ca27",
   "outputs": [],
   "execution_count": 2
  },
  {
   "metadata": {
    "ExecuteTime": {
     "end_time": "2025-02-18T23:26:45.883342Z",
     "start_time": "2025-02-18T23:26:45.877627Z"
    }
   },
   "cell_type": "code",
   "source": [
    "# view the available types\n",
    "v.get_types()"
   ],
   "id": "abb345f9eb4e5b72",
   "outputs": [
    {
     "data": {
      "text/plain": [
       "                              Type\n",
       "0                                 \n",
       "1               length*temperature\n",
       "2                          integer\n",
       "3                           number\n",
       "4                          current\n",
       "..                             ...\n",
       "90        mass^0_5/length^0_5*time\n",
       "91      length*mass/current*time^3\n",
       "92                            step\n",
       "93             luminosity/length^2\n",
       "94  current^2*time^3/length^2*mass\n",
       "\n",
       "[95 rows x 1 columns]"
      ],
      "text/html": [
       "<div>\n",
       "<style scoped>\n",
       "    .dataframe tbody tr th:only-of-type {\n",
       "        vertical-align: middle;\n",
       "    }\n",
       "\n",
       "    .dataframe tbody tr th {\n",
       "        vertical-align: top;\n",
       "    }\n",
       "\n",
       "    .dataframe thead th {\n",
       "        text-align: right;\n",
       "    }\n",
       "</style>\n",
       "<table border=\"1\" class=\"dataframe\">\n",
       "  <thead>\n",
       "    <tr style=\"text-align: right;\">\n",
       "      <th></th>\n",
       "      <th>Type</th>\n",
       "    </tr>\n",
       "  </thead>\n",
       "  <tbody>\n",
       "    <tr>\n",
       "      <th>0</th>\n",
       "      <td></td>\n",
       "    </tr>\n",
       "    <tr>\n",
       "      <th>1</th>\n",
       "      <td>length*temperature</td>\n",
       "    </tr>\n",
       "    <tr>\n",
       "      <th>2</th>\n",
       "      <td>integer</td>\n",
       "    </tr>\n",
       "    <tr>\n",
       "      <th>3</th>\n",
       "      <td>number</td>\n",
       "    </tr>\n",
       "    <tr>\n",
       "      <th>4</th>\n",
       "      <td>current</td>\n",
       "    </tr>\n",
       "    <tr>\n",
       "      <th>...</th>\n",
       "      <td>...</td>\n",
       "    </tr>\n",
       "    <tr>\n",
       "      <th>90</th>\n",
       "      <td>mass^0_5/length^0_5*time</td>\n",
       "    </tr>\n",
       "    <tr>\n",
       "      <th>91</th>\n",
       "      <td>length*mass/current*time^3</td>\n",
       "    </tr>\n",
       "    <tr>\n",
       "      <th>92</th>\n",
       "      <td>step</td>\n",
       "    </tr>\n",
       "    <tr>\n",
       "      <th>93</th>\n",
       "      <td>luminosity/length^2</td>\n",
       "    </tr>\n",
       "    <tr>\n",
       "      <th>94</th>\n",
       "      <td>current^2*time^3/length^2*mass</td>\n",
       "    </tr>\n",
       "  </tbody>\n",
       "</table>\n",
       "<p>95 rows × 1 columns</p>\n",
       "</div>"
      ]
     },
     "execution_count": 3,
     "metadata": {},
     "output_type": "execute_result"
    }
   ],
   "execution_count": 3
  },
  {
   "metadata": {
    "ExecuteTime": {
     "end_time": "2025-02-18T23:26:45.908381Z",
     "start_time": "2025-02-18T23:26:45.904824Z"
    }
   },
   "cell_type": "code",
   "source": [
    "# view the type schema for 'string'\n",
    "v.get_type('length')"
   ],
   "id": "4a39e446dab3f6c4",
   "outputs": [
    {
     "data": {
      "text/plain": [
       "     Attribute                                           Value\n",
       "0      default                                 1 dimensionless\n",
       "1  description  type to represent values with scientific units"
      ],
      "text/html": [
       "<div>\n",
       "<style scoped>\n",
       "    .dataframe tbody tr th:only-of-type {\n",
       "        vertical-align: middle;\n",
       "    }\n",
       "\n",
       "    .dataframe tbody tr th {\n",
       "        vertical-align: top;\n",
       "    }\n",
       "\n",
       "    .dataframe thead th {\n",
       "        text-align: right;\n",
       "    }\n",
       "</style>\n",
       "<table border=\"1\" class=\"dataframe\">\n",
       "  <thead>\n",
       "    <tr style=\"text-align: right;\">\n",
       "      <th></th>\n",
       "      <th>Attribute</th>\n",
       "      <th>Value</th>\n",
       "    </tr>\n",
       "  </thead>\n",
       "  <tbody>\n",
       "    <tr>\n",
       "      <th>0</th>\n",
       "      <td>default</td>\n",
       "      <td>1 dimensionless</td>\n",
       "    </tr>\n",
       "    <tr>\n",
       "      <th>1</th>\n",
       "      <td>description</td>\n",
       "      <td>type to represent values with scientific units</td>\n",
       "    </tr>\n",
       "  </tbody>\n",
       "</table>\n",
       "</div>"
      ]
     },
     "execution_count": 4,
     "metadata": {},
     "output_type": "execute_result"
    }
   ],
   "execution_count": 4
  },
  {
   "metadata": {
    "ExecuteTime": {
     "end_time": "2025-02-18T23:26:45.960892Z",
     "start_time": "2025-02-18T23:26:45.958070Z"
    }
   },
   "cell_type": "code",
   "source": [
    "# view the available processes\n",
    "v.get_processes()"
   ],
   "id": "fcc6519caadd5ec6",
   "outputs": [
    {
     "data": {
      "text/plain": [
       "           Process\n",
       "0   increase float\n",
       "1      ram-emitter\n",
       "2        composite\n",
       "3    increase mass\n",
       "4  console-emitter"
      ],
      "text/html": [
       "<div>\n",
       "<style scoped>\n",
       "    .dataframe tbody tr th:only-of-type {\n",
       "        vertical-align: middle;\n",
       "    }\n",
       "\n",
       "    .dataframe tbody tr th {\n",
       "        vertical-align: top;\n",
       "    }\n",
       "\n",
       "    .dataframe thead th {\n",
       "        text-align: right;\n",
       "    }\n",
       "</style>\n",
       "<table border=\"1\" class=\"dataframe\">\n",
       "  <thead>\n",
       "    <tr style=\"text-align: right;\">\n",
       "      <th></th>\n",
       "      <th>Process</th>\n",
       "    </tr>\n",
       "  </thead>\n",
       "  <tbody>\n",
       "    <tr>\n",
       "      <th>0</th>\n",
       "      <td>increase float</td>\n",
       "    </tr>\n",
       "    <tr>\n",
       "      <th>1</th>\n",
       "      <td>ram-emitter</td>\n",
       "    </tr>\n",
       "    <tr>\n",
       "      <th>2</th>\n",
       "      <td>composite</td>\n",
       "    </tr>\n",
       "    <tr>\n",
       "      <th>3</th>\n",
       "      <td>increase mass</td>\n",
       "    </tr>\n",
       "    <tr>\n",
       "      <th>4</th>\n",
       "      <td>console-emitter</td>\n",
       "    </tr>\n",
       "  </tbody>\n",
       "</table>\n",
       "</div>"
      ]
     },
     "execution_count": 5,
     "metadata": {},
     "output_type": "execute_result"
    }
   ],
   "execution_count": 5
  },
  {
   "metadata": {
    "ExecuteTime": {
     "end_time": "2025-02-18T23:26:46.019404Z",
     "start_time": "2025-02-18T23:26:46.017300Z"
    }
   },
   "cell_type": "code",
   "source": [
    "# inspect the config schema for the 'increase' process\n",
    "v.process_schema('increase float')"
   ],
   "id": "26d8ce7a13ba13a9",
   "outputs": [
    {
     "data": {
      "text/plain": [
       "'(rate:float)'"
      ]
     },
     "execution_count": 6,
     "metadata": {},
     "output_type": "execute_result"
    }
   ],
   "execution_count": 6
  },
  {
   "metadata": {
    "ExecuteTime": {
     "end_time": "2025-02-18T23:26:46.053404Z",
     "start_time": "2025-02-18T23:26:46.051974Z"
    }
   },
   "cell_type": "code",
   "source": [
    "# # TODO -- this could look better. Maybe get the dataclass so it can be passed back into the process?\n",
    "# schema = v.process_schema('increase float')\n",
    "# d = v.core.dataclass(schema)\n",
    "# d.rate = 0.1\n",
    "# # d can be passed into the process"
   ],
   "id": "63084e12b9fc7282",
   "outputs": [],
   "execution_count": 7
  },
  {
   "metadata": {
    "ExecuteTime": {
     "end_time": "2025-02-18T23:26:46.084767Z",
     "start_time": "2025-02-18T23:26:46.078820Z"
    }
   },
   "cell_type": "code",
   "source": [
    "# inspect the process interface (inputs/outputs) for the 'increase' process\n",
    "# TODO -- fix this output. interface might need a config\n",
    "v.process_interface('increase mass')"
   ],
   "id": "b7e650510d6e13c6",
   "outputs": [
    {
     "data": {
      "text/plain": [
       "              default                                     description Type\n",
       "Inputs mass  1.0 gram  type to represent values with scientific units  NaN"
      ],
      "text/html": [
       "<div>\n",
       "<style scoped>\n",
       "    .dataframe tbody tr th:only-of-type {\n",
       "        vertical-align: middle;\n",
       "    }\n",
       "\n",
       "    .dataframe tbody tr th {\n",
       "        vertical-align: top;\n",
       "    }\n",
       "\n",
       "    .dataframe thead th {\n",
       "        text-align: right;\n",
       "    }\n",
       "</style>\n",
       "<table border=\"1\" class=\"dataframe\">\n",
       "  <thead>\n",
       "    <tr style=\"text-align: right;\">\n",
       "      <th></th>\n",
       "      <th></th>\n",
       "      <th>default</th>\n",
       "      <th>description</th>\n",
       "      <th>Type</th>\n",
       "    </tr>\n",
       "  </thead>\n",
       "  <tbody>\n",
       "    <tr>\n",
       "      <th>Inputs</th>\n",
       "      <th>mass</th>\n",
       "      <td>1.0 gram</td>\n",
       "      <td>type to represent values with scientific units</td>\n",
       "      <td>NaN</td>\n",
       "    </tr>\n",
       "  </tbody>\n",
       "</table>\n",
       "</div>"
      ]
     },
     "execution_count": 8,
     "metadata": {},
     "output_type": "execute_result"
    }
   ],
   "execution_count": 8
  },
  {
   "metadata": {
    "ExecuteTime": {
     "end_time": "2025-02-18T23:26:46.115363Z",
     "start_time": "2025-02-18T23:26:46.112333Z"
    }
   },
   "cell_type": "code",
   "source": [
    "# add an increase process called 'increase process'\n",
    "v.add_process(name='increase',\n",
    "              process_id='increase float',  # this is the process id\n",
    "              config={'rate': 0.1},         # set according to the config schema. TODO Could this accept a dataclass?\n",
    "              )\n",
    "\n",
    "# print the current state\n",
    "v"
   ],
   "id": "8d522a7fe7f2e577",
   "outputs": [
    {
     "data": {
      "text/plain": [
       "Vivarium( \n",
       "{ 'global_time': 0.0,\n",
       "  'increase': { 'address': 'local:increase float',\n",
       "                'config': {'rate': 0.1},\n",
       "                'inputs': {},\n",
       "                'instance': <vivarium.tests.IncreaseFloat object at 0x10dc00bb0>,\n",
       "                'interval': 1.0,\n",
       "                'outputs': {}}})"
      ]
     },
     "execution_count": 9,
     "metadata": {},
     "output_type": "execute_result"
    }
   ],
   "execution_count": 9
  },
  {
   "metadata": {
    "ExecuteTime": {
     "end_time": "2025-02-18T23:26:46.154919Z",
     "start_time": "2025-02-18T23:26:46.134500Z"
    }
   },
   "cell_type": "code",
   "source": [
    "# display as a diagram\n",
    "v.diagram(dpi='70', remove_nodes=['global_time'])"
   ],
   "id": "4f9c682c33eb3609",
   "outputs": [
    {
     "data": {
      "image/svg+xml": "<?xml version=\"1.0\" encoding=\"UTF-8\" standalone=\"no\"?>\n<!DOCTYPE svg PUBLIC \"-//W3C//DTD SVG 1.1//EN\"\n \"http://www.w3.org/Graphics/SVG/1.1/DTD/svg11.dtd\">\n<!-- Generated by graphviz version 9.0.0 (0)\n -->\n<!-- Title: bigraph Pages: 1 -->\n<svg width=\"90pt\" height=\"114pt\"\n viewBox=\"0.00 0.00 92.57 117.15\" xmlns=\"http://www.w3.org/2000/svg\" xmlns:xlink=\"http://www.w3.org/1999/xlink\">\n<g id=\"graph0\" class=\"graph\" transform=\"scale(0.972222 0.972222) rotate(0) translate(4 113.15)\">\n<title>bigraph</title>\n<polygon fill=\"white\" stroke=\"none\" points=\"-4,4 -4,-113.15 88.57,-113.15 88.57,4 -4,4\"/>\n<!-- (&#39;increase&#39;,) -->\n<g id=\"node1\" class=\"node\">\n<title>(&#39;increase&#39;,)</title>\n<polygon fill=\"none\" stroke=\"black\" stroke-width=\"2\" points=\"66.58,-36 12.58,-36 12.58,0 66.58,0 66.58,-36\"/>\n<text text-anchor=\"start\" x=\"19.92\" y=\"-14.4\" font-family=\"Times,serif\" font-size=\"12.00\">increase</text>\n</g>\n<!-- (&#39;increase&#39;, &#39;a&#39;, &#39;m&#39;, &#39;o&#39;, &#39;u&#39;, &#39;n&#39;, &#39;t&#39;)_input -->\n<!-- (&#39;increase&#39;, &#39;a&#39;, &#39;m&#39;, &#39;o&#39;, &#39;u&#39;, &#39;n&#39;, &#39;t&#39;)_input&#45;&gt;(&#39;increase&#39;,) -->\n<g id=\"edge1\" class=\"edge\">\n<title>(&#39;increase&#39;, &#39;a&#39;, &#39;m&#39;, &#39;o&#39;, &#39;u&#39;, &#39;n&#39;, &#39;t&#39;)_input&#45;&gt;(&#39;increase&#39;,)</title>\n<path fill=\"none\" stroke=\"black\" stroke-dasharray=\"5,2\" d=\"M11.98,-81.45C11.46,-73.33 11.63,-62.82 14.58,-54 15.44,-51.43 16.56,-48.89 17.84,-46.41\"/>\n<polygon fill=\"black\" stroke=\"black\" points=\"20.74,-48.38 23.04,-38.03 14.8,-44.68 20.74,-48.38\"/>\n<text text-anchor=\"start\" x=\"15.58\" y=\"-56\" font-family=\"Times,serif\" font-size=\"10.00\">amount</text>\n</g>\n<!-- (&#39;increase&#39;, &#39;a&#39;, &#39;m&#39;, &#39;o&#39;, &#39;u&#39;, &#39;n&#39;, &#39;t&#39;)_output -->\n<!-- (&#39;increase&#39;, &#39;a&#39;, &#39;m&#39;, &#39;o&#39;, &#39;u&#39;, &#39;n&#39;, &#39;t&#39;)_output&#45;&gt;(&#39;increase&#39;,) -->\n<g id=\"edge2\" class=\"edge\">\n<title>(&#39;increase&#39;, &#39;a&#39;, &#39;m&#39;, &#39;o&#39;, &#39;u&#39;, &#39;n&#39;, &#39;t&#39;)_output&#45;&gt;(&#39;increase&#39;,)</title>\n<path fill=\"none\" stroke=\"black\" stroke-dasharray=\"5,2\" d=\"M58.21,-71.16C54.28,-60.15 49.66,-47.22 46,-36.99\"/>\n<polygon fill=\"black\" stroke=\"black\" points=\"54.83,-72.09 61.49,-80.33 61.42,-69.74 54.83,-72.09\"/>\n<text text-anchor=\"start\" x=\"54.58\" y=\"-56\" font-family=\"Times,serif\" font-size=\"10.00\">amount</text>\n</g>\n</g>\n</svg>\n",
      "text/plain": [
       "<graphviz.graphs.Digraph at 0x10dbd2a90>"
      ]
     },
     "execution_count": 10,
     "metadata": {},
     "output_type": "execute_result"
    }
   ],
   "execution_count": 10
  },
  {
   "metadata": {
    "ExecuteTime": {
     "end_time": "2025-02-18T23:26:46.161812Z",
     "start_time": "2025-02-18T23:26:46.158468Z"
    }
   },
   "cell_type": "code",
   "source": [
    "# connect the 'increase' process to the state through its inputs and outputs\n",
    "v.connect_process(\n",
    "    process_name='increase',\n",
    "    inputs={'amount': ['top', 'A']},\n",
    "    outputs={'amount': ['top', 'A']}\n",
    ")\n",
    "\n",
    "# display the current state\n",
    "v"
   ],
   "id": "ff8fa545a4e64ca5",
   "outputs": [
    {
     "data": {
      "text/plain": [
       "Vivarium( \n",
       "{ 'global_time': 0.0,\n",
       "  'increase': { 'address': 'local:increase float',\n",
       "                'config': {'rate': 0.1},\n",
       "                'inputs': {'amount': ['top', 'A']},\n",
       "                'instance': <vivarium.tests.IncreaseFloat object at 0x10dc00bb0>,\n",
       "                'interval': 1.0,\n",
       "                'outputs': {'amount': ['top', 'A']}},\n",
       "  'top': {'A': 1.0}})"
      ]
     },
     "execution_count": 11,
     "metadata": {},
     "output_type": "execute_result"
    }
   ],
   "execution_count": 11
  },
  {
   "metadata": {
    "ExecuteTime": {
     "end_time": "2025-02-18T23:26:46.200256Z",
     "start_time": "2025-02-18T23:26:46.181487Z"
    }
   },
   "cell_type": "code",
   "source": [
    "# display the current state as a diagram\n",
    "v.diagram(dpi='70', remove_nodes=['global_time', 'emitter'])"
   ],
   "id": "b1c9f91524fe9ad0",
   "outputs": [
    {
     "data": {
      "image/svg+xml": "<?xml version=\"1.0\" encoding=\"UTF-8\" standalone=\"no\"?>\n<!DOCTYPE svg PUBLIC \"-//W3C//DTD SVG 1.1//EN\"\n \"http://www.w3.org/Graphics/SVG/1.1/DTD/svg11.dtd\">\n<!-- Generated by graphviz version 9.0.0 (0)\n -->\n<!-- Title: bigraph Pages: 1 -->\n<svg width=\"68pt\" height=\"193pt\"\n viewBox=\"0.00 0.00 70.00 199.00\" xmlns=\"http://www.w3.org/2000/svg\" xmlns:xlink=\"http://www.w3.org/1999/xlink\">\n<g id=\"graph0\" class=\"graph\" transform=\"scale(0.972222 0.972222) rotate(0) translate(4 195)\">\n<title>bigraph</title>\n<polygon fill=\"white\" stroke=\"none\" points=\"-4,4 -4,-195 66,-195 66,4 -4,4\"/>\n<!-- (&#39;top&#39;,) -->\n<g id=\"node1\" class=\"node\">\n<title>(&#39;top&#39;,)</title>\n<ellipse fill=\"none\" stroke=\"black\" stroke-width=\"2\" cx=\"27\" cy=\"-173\" rx=\"18\" ry=\"18\"/>\n<text text-anchor=\"start\" x=\"19.33\" y=\"-169.4\" font-family=\"Times,serif\" font-size=\"12.00\">top</text>\n</g>\n<!-- (&#39;top&#39;, &#39;A&#39;) -->\n<g id=\"node2\" class=\"node\">\n<title>(&#39;top&#39;, &#39;A&#39;)</title>\n<ellipse fill=\"none\" stroke=\"black\" stroke-width=\"2\" cx=\"27\" cy=\"-100\" rx=\"18\" ry=\"18\"/>\n<text text-anchor=\"start\" x=\"22.67\" y=\"-96.4\" font-family=\"Times,serif\" font-size=\"12.00\">A</text>\n</g>\n<!-- (&#39;top&#39;,)&#45;&gt;(&#39;top&#39;, &#39;A&#39;) -->\n<g id=\"edge1\" class=\"edge\">\n<title>(&#39;top&#39;,)&#45;&gt;(&#39;top&#39;, &#39;A&#39;)</title>\n<path fill=\"none\" stroke=\"black\" stroke-width=\"2\" d=\"M27,-154.08C27,-143.24 27,-129.46 27,-118.66\"/>\n</g>\n<!-- (&#39;increase&#39;,) -->\n<g id=\"node3\" class=\"node\">\n<title>(&#39;increase&#39;,)</title>\n<polygon fill=\"none\" stroke=\"black\" stroke-width=\"2\" points=\"54,-36 0,-36 0,0 54,0 54,-36\"/>\n<text text-anchor=\"start\" x=\"7.35\" y=\"-14.4\" font-family=\"Times,serif\" font-size=\"12.00\">increase</text>\n</g>\n<!-- (&#39;top&#39;, &#39;A&#39;)&#45;&gt;(&#39;increase&#39;,) -->\n<g id=\"edge2\" class=\"edge\">\n<title>(&#39;top&#39;, &#39;A&#39;)&#45;&gt;(&#39;increase&#39;,)</title>\n<path fill=\"none\" stroke=\"black\" stroke-dasharray=\"5,2\" d=\"M13.57,-86.62C5.8,-77.9 -1.76,-65.74 2,-54 2.83,-51.42 3.93,-48.87 5.2,-46.39\"/>\n<polygon fill=\"black\" stroke=\"black\" points=\"8.1,-48.35 10.37,-38 2.14,-44.68 8.1,-48.35\"/>\n<text text-anchor=\"start\" x=\"3\" y=\"-56\" font-family=\"Times,serif\" font-size=\"10.00\">amount</text>\n</g>\n<!-- (&#39;top&#39;, &#39;A&#39;)&#45;&gt;(&#39;increase&#39;,) -->\n<g id=\"edge3\" class=\"edge\">\n<title>(&#39;top&#39;, &#39;A&#39;)&#45;&gt;(&#39;increase&#39;,)</title>\n<path fill=\"none\" stroke=\"black\" stroke-dasharray=\"5,2\" d=\"M31.47,-69.93C31.68,-67.93 31.86,-65.94 32,-64 32.64,-55.06 31.71,-45.16 30.49,-36.93\"/>\n<polygon fill=\"black\" stroke=\"black\" points=\"28.01,-69.38 30.22,-79.75 34.96,-70.27 28.01,-69.38\"/>\n<text text-anchor=\"start\" x=\"32\" y=\"-56\" font-family=\"Times,serif\" font-size=\"10.00\">amount</text>\n</g>\n</g>\n</svg>\n",
      "text/plain": [
       "<graphviz.graphs.Digraph at 0x10dbd2a00>"
      ]
     },
     "execution_count": 12,
     "metadata": {},
     "output_type": "execute_result"
    }
   ],
   "execution_count": 12
  },
  {
   "metadata": {
    "ExecuteTime": {
     "end_time": "2025-02-18T23:26:46.208370Z",
     "start_time": "2025-02-18T23:26:46.205877Z"
    }
   },
   "cell_type": "code",
   "source": [
    "# get the value of 'top.A'\n",
    "v.get_value(path=['top', 'A'])"
   ],
   "id": "2c9366a68b8bd8dc",
   "outputs": [
    {
     "data": {
      "text/plain": [
       "1.0"
      ]
     },
     "execution_count": 13,
     "metadata": {},
     "output_type": "execute_result"
    }
   ],
   "execution_count": 13
  },
  {
   "metadata": {
    "ExecuteTime": {
     "end_time": "2025-02-18T23:26:46.218849Z",
     "start_time": "2025-02-18T23:26:46.216061Z"
    }
   },
   "cell_type": "code",
   "source": [
    "# set value of 'top.A' to 100\n",
    "v.set_value(path=['top', 'A'], value=100.0)\n",
    "v.get_value(path=['top', 'A'])"
   ],
   "id": "d92c494f85777e5e",
   "outputs": [
    {
     "data": {
      "text/plain": [
       "100.0"
      ]
     },
     "execution_count": 14,
     "metadata": {},
     "output_type": "execute_result"
    }
   ],
   "execution_count": 14
  },
  {
   "metadata": {
    "ExecuteTime": {
     "end_time": "2025-02-18T23:26:46.251917Z",
     "start_time": "2025-02-18T23:26:46.230754Z"
    }
   },
   "cell_type": "code",
   "source": [
    "# add an emitter to save the history\n",
    "# TODO -- improve emitter configurability\n",
    "v.add_emitter()\n",
    "\n",
    "# display the current state\n",
    "v.diagram(dpi='70')"
   ],
   "id": "4f8ddc0146c1c570",
   "outputs": [
    {
     "data": {
      "image/svg+xml": "<?xml version=\"1.0\" encoding=\"UTF-8\" standalone=\"no\"?>\n<!DOCTYPE svg PUBLIC \"-//W3C//DTD SVG 1.1//EN\"\n \"http://www.w3.org/Graphics/SVG/1.1/DTD/svg11.dtd\">\n<!-- Generated by graphviz version 9.0.0 (0)\n -->\n<!-- Title: bigraph Pages: 1 -->\n<svg width=\"175pt\" height=\"241pt\"\n viewBox=\"0.00 0.00 180.13 248.28\" xmlns=\"http://www.w3.org/2000/svg\" xmlns:xlink=\"http://www.w3.org/1999/xlink\">\n<g id=\"graph0\" class=\"graph\" transform=\"scale(0.972222 0.972222) rotate(0) translate(4 244.28)\">\n<title>bigraph</title>\n<polygon fill=\"white\" stroke=\"none\" points=\"-4,4 -4,-244.28 176.13,-244.28 176.13,4 -4,4\"/>\n<!-- (&#39;global_time&#39;,) -->\n<g id=\"node1\" class=\"node\">\n<title>(&#39;global_time&#39;,)</title>\n<ellipse fill=\"none\" stroke=\"black\" stroke-width=\"2\" cx=\"38.14\" cy=\"-202.14\" rx=\"38.14\" ry=\"38.14\"/>\n<text text-anchor=\"start\" x=\"9.48\" y=\"-198.54\" font-family=\"Times,serif\" font-size=\"12.00\">global_time</text>\n</g>\n<!-- (&#39;emitter&#39;,) -->\n<g id=\"node5\" class=\"node\">\n<title>(&#39;emitter&#39;,)</title>\n<polygon fill=\"none\" stroke=\"black\" stroke-width=\"2\" points=\"83.14,-118 29.14,-118 29.14,-82 83.14,-82 83.14,-118\"/>\n<text text-anchor=\"start\" x=\"39.15\" y=\"-96.4\" font-family=\"Times,serif\" font-size=\"12.00\">emitter</text>\n</g>\n<!-- (&#39;global_time&#39;,)&#45;&gt;(&#39;emitter&#39;,) -->\n<g id=\"edge4\" class=\"edge\">\n<title>(&#39;global_time&#39;,)&#45;&gt;(&#39;emitter&#39;,)</title>\n<path fill=\"none\" stroke=\"black\" stroke-dasharray=\"5,2\" d=\"M36.13,-163.25C36.4,-154.23 37.31,-144.69 39.37,-136 39.88,-133.84 40.54,-131.65 41.3,-129.48\"/>\n<polygon fill=\"black\" stroke=\"black\" points=\"44.48,-130.95 45.13,-120.38 38.03,-128.24 44.48,-130.95\"/>\n<text text-anchor=\"start\" x=\"40.14\" y=\"-138\" font-family=\"Times,serif\" font-size=\"10.00\">global_time</text>\n</g>\n<!-- (&#39;top&#39;,) -->\n<g id=\"node2\" class=\"node\">\n<title>(&#39;top&#39;,)</title>\n<ellipse fill=\"none\" stroke=\"black\" stroke-width=\"2\" cx=\"124.14\" cy=\"-202.14\" rx=\"18\" ry=\"18\"/>\n<text text-anchor=\"start\" x=\"116.47\" y=\"-198.54\" font-family=\"Times,serif\" font-size=\"12.00\">top</text>\n</g>\n<!-- (&#39;top&#39;, &#39;A&#39;) -->\n<g id=\"node3\" class=\"node\">\n<title>(&#39;top&#39;, &#39;A&#39;)</title>\n<ellipse fill=\"none\" stroke=\"black\" stroke-width=\"2\" cx=\"137.14\" cy=\"-100\" rx=\"18\" ry=\"18\"/>\n<text text-anchor=\"start\" x=\"132.8\" y=\"-96.4\" font-family=\"Times,serif\" font-size=\"12.00\">A</text>\n</g>\n<!-- (&#39;top&#39;,)&#45;&gt;(&#39;top&#39;, &#39;A&#39;) -->\n<g id=\"edge1\" class=\"edge\">\n<title>(&#39;top&#39;,)&#45;&gt;(&#39;top&#39;, &#39;A&#39;)</title>\n<path fill=\"none\" stroke=\"black\" stroke-width=\"2\" d=\"M126.4,-183.7C128.77,-165.43 132.48,-136.9 134.86,-118.58\"/>\n</g>\n<!-- (&#39;top&#39;,)&#45;&gt;(&#39;emitter&#39;,) -->\n<g id=\"edge3\" class=\"edge\">\n<title>(&#39;top&#39;,)&#45;&gt;(&#39;emitter&#39;,)</title>\n<path fill=\"none\" stroke=\"black\" stroke-dasharray=\"5,2\" d=\"M116.2,-185.05C109.24,-171.51 98.48,-151.87 87.14,-136 85.13,-133.19 82.92,-130.34 80.65,-127.55\"/>\n<polygon fill=\"black\" stroke=\"black\" points=\"83.44,-125.42 74.28,-120.08 78.11,-129.96 83.44,-125.42\"/>\n<text text-anchor=\"start\" x=\"93.14\" y=\"-138\" font-family=\"Times,serif\" font-size=\"10.00\">top</text>\n</g>\n<!-- (&#39;increase&#39;,) -->\n<g id=\"node4\" class=\"node\">\n<title>(&#39;increase&#39;,)</title>\n<polygon fill=\"none\" stroke=\"black\" stroke-width=\"2\" points=\"163.14,-36 109.14,-36 109.14,0 163.14,0 163.14,-36\"/>\n<text text-anchor=\"start\" x=\"116.49\" y=\"-14.4\" font-family=\"Times,serif\" font-size=\"12.00\">increase</text>\n</g>\n<!-- (&#39;top&#39;, &#39;A&#39;)&#45;&gt;(&#39;increase&#39;,) -->\n<g id=\"edge2\" class=\"edge\">\n<title>(&#39;top&#39;, &#39;A&#39;)&#45;&gt;(&#39;increase&#39;,)</title>\n<path fill=\"none\" stroke=\"black\" stroke-dasharray=\"5,2\" d=\"M124.52,-86.2C119.3,-80.03 113.85,-72.19 111.14,-64 109.18,-58.06 110.16,-52 112.62,-46.34\"/>\n<polygon fill=\"black\" stroke=\"black\" points=\"115.48,-48.37 117.56,-37.98 109.46,-44.81 115.48,-48.37\"/>\n<text text-anchor=\"start\" x=\"112.14\" y=\"-56\" font-family=\"Times,serif\" font-size=\"10.00\">amount</text>\n</g>\n<!-- (&#39;top&#39;, &#39;A&#39;)&#45;&gt;(&#39;increase&#39;,) -->\n<g id=\"edge5\" class=\"edge\">\n<title>(&#39;top&#39;, &#39;A&#39;)&#45;&gt;(&#39;increase&#39;,)</title>\n<path fill=\"none\" stroke=\"black\" stroke-dasharray=\"5,2\" d=\"M141.07,-70.22C141.41,-64.83 141.51,-59.25 141.14,-54 140.74,-48.37 139.98,-42.26 139.17,-36.75\"/>\n<polygon fill=\"black\" stroke=\"black\" points=\"137.6,-69.69 140.14,-79.98 144.57,-70.36 137.6,-69.69\"/>\n<text text-anchor=\"start\" x=\"142.14\" y=\"-56\" font-family=\"Times,serif\" font-size=\"10.00\">amount</text>\n</g>\n</g>\n</svg>\n",
      "text/plain": [
       "<graphviz.graphs.Digraph at 0x10dbef970>"
      ]
     },
     "execution_count": 15,
     "metadata": {},
     "output_type": "execute_result"
    }
   ],
   "execution_count": 15
  },
  {
   "metadata": {
    "ExecuteTime": {
     "end_time": "2025-02-18T23:26:46.285559Z",
     "start_time": "2025-02-18T23:26:46.257329Z"
    }
   },
   "cell_type": "code",
   "source": [
    "# add more objects\n",
    "v.add_object(name='B', path=['top'], value=1)\n",
    "\n",
    "# add another increase process\n",
    "v.add_process(name='increase2',\n",
    "              process_id='increase float',\n",
    "              config={'rate': -0.1},\n",
    "              inputs={'amount': ['top', 'B']},\n",
    "              outputs={'amount': ['top', 'B']}\n",
    "              )\n",
    "\n",
    "# display the current state\n",
    "v.diagram(dpi='70', size='30,15')"
   ],
   "id": "d97ac26706fef31d",
   "outputs": [
    {
     "data": {
      "image/svg+xml": "<?xml version=\"1.0\" encoding=\"UTF-8\" standalone=\"no\"?>\n<!DOCTYPE svg PUBLIC \"-//W3C//DTD SVG 1.1//EN\"\n \"http://www.w3.org/Graphics/SVG/1.1/DTD/svg11.dtd\">\n<!-- Generated by graphviz version 9.0.0 (0)\n -->\n<!-- Title: bigraph Pages: 1 -->\n<svg width=\"246pt\" height=\"241pt\"\n viewBox=\"0.00 0.00 253.13 248.28\" xmlns=\"http://www.w3.org/2000/svg\" xmlns:xlink=\"http://www.w3.org/1999/xlink\">\n<g id=\"graph0\" class=\"graph\" transform=\"scale(0.972222 0.972222) rotate(0) translate(4 244.28)\">\n<title>bigraph</title>\n<polygon fill=\"white\" stroke=\"none\" points=\"-4,4 -4,-244.28 249.13,-244.28 249.13,4 -4,4\"/>\n<!-- (&#39;global_time&#39;,) -->\n<g id=\"node1\" class=\"node\">\n<title>(&#39;global_time&#39;,)</title>\n<ellipse fill=\"none\" stroke=\"black\" stroke-width=\"2\" cx=\"38.14\" cy=\"-202.14\" rx=\"38.14\" ry=\"38.14\"/>\n<text text-anchor=\"start\" x=\"9.48\" y=\"-198.54\" font-family=\"Times,serif\" font-size=\"12.00\">global_time</text>\n</g>\n<!-- (&#39;emitter&#39;,) -->\n<g id=\"node6\" class=\"node\">\n<title>(&#39;emitter&#39;,)</title>\n<polygon fill=\"none\" stroke=\"black\" stroke-width=\"2\" points=\"83.14,-118 29.14,-118 29.14,-82 83.14,-82 83.14,-118\"/>\n<text text-anchor=\"start\" x=\"39.15\" y=\"-96.4\" font-family=\"Times,serif\" font-size=\"12.00\">emitter</text>\n</g>\n<!-- (&#39;global_time&#39;,)&#45;&gt;(&#39;emitter&#39;,) -->\n<g id=\"edge5\" class=\"edge\">\n<title>(&#39;global_time&#39;,)&#45;&gt;(&#39;emitter&#39;,)</title>\n<path fill=\"none\" stroke=\"black\" stroke-dasharray=\"5,2\" d=\"M36.13,-163.25C36.4,-154.23 37.31,-144.69 39.37,-136 39.88,-133.84 40.54,-131.65 41.3,-129.48\"/>\n<polygon fill=\"black\" stroke=\"black\" points=\"44.48,-130.95 45.13,-120.38 38.03,-128.24 44.48,-130.95\"/>\n<text text-anchor=\"start\" x=\"40.14\" y=\"-138\" font-family=\"Times,serif\" font-size=\"10.00\">global_time</text>\n</g>\n<!-- (&#39;top&#39;,) -->\n<g id=\"node2\" class=\"node\">\n<title>(&#39;top&#39;,)</title>\n<ellipse fill=\"none\" stroke=\"black\" stroke-width=\"2\" cx=\"137.14\" cy=\"-202.14\" rx=\"18\" ry=\"18\"/>\n<text text-anchor=\"start\" x=\"129.47\" y=\"-198.54\" font-family=\"Times,serif\" font-size=\"12.00\">top</text>\n</g>\n<!-- (&#39;top&#39;, &#39;A&#39;) -->\n<g id=\"node3\" class=\"node\">\n<title>(&#39;top&#39;, &#39;A&#39;)</title>\n<ellipse fill=\"none\" stroke=\"black\" stroke-width=\"2\" cx=\"129.14\" cy=\"-100\" rx=\"18\" ry=\"18\"/>\n<text text-anchor=\"start\" x=\"124.8\" y=\"-96.4\" font-family=\"Times,serif\" font-size=\"12.00\">A</text>\n</g>\n<!-- (&#39;top&#39;,)&#45;&gt;(&#39;top&#39;, &#39;A&#39;) -->\n<g id=\"edge1\" class=\"edge\">\n<title>(&#39;top&#39;,)&#45;&gt;(&#39;top&#39;, &#39;A&#39;)</title>\n<path fill=\"none\" stroke=\"black\" stroke-width=\"2\" d=\"M135.71,-183.24C134.25,-165.01 132.01,-136.92 130.56,-118.75\"/>\n</g>\n<!-- (&#39;top&#39;, &#39;B&#39;) -->\n<g id=\"node4\" class=\"node\">\n<title>(&#39;top&#39;, &#39;B&#39;)</title>\n<ellipse fill=\"none\" stroke=\"black\" stroke-width=\"2\" cx=\"183.14\" cy=\"-100\" rx=\"18\" ry=\"18\"/>\n<text text-anchor=\"start\" x=\"179.14\" y=\"-96.4\" font-family=\"Times,serif\" font-size=\"12.00\">B</text>\n</g>\n<!-- (&#39;top&#39;,)&#45;&gt;(&#39;top&#39;, &#39;B&#39;) -->\n<g id=\"edge2\" class=\"edge\">\n<title>(&#39;top&#39;,)&#45;&gt;(&#39;top&#39;, &#39;B&#39;)</title>\n<path fill=\"none\" stroke=\"black\" stroke-width=\"2\" d=\"M144.53,-185.05C153.06,-166.47 167.02,-136.08 175.61,-117.38\"/>\n</g>\n<!-- (&#39;top&#39;,)&#45;&gt;(&#39;emitter&#39;,) -->\n<g id=\"edge4\" class=\"edge\">\n<title>(&#39;top&#39;,)&#45;&gt;(&#39;emitter&#39;,)</title>\n<path fill=\"none\" stroke=\"black\" stroke-dasharray=\"5,2\" d=\"M126.5,-186.68C116.56,-173.33 101.2,-153.05 87.14,-136 84.81,-133.18 82.35,-130.27 79.86,-127.39\"/>\n<polygon fill=\"black\" stroke=\"black\" points=\"82.69,-125.31 73.47,-120.09 77.43,-129.92 82.69,-125.31\"/>\n<text text-anchor=\"start\" x=\"95.14\" y=\"-138\" font-family=\"Times,serif\" font-size=\"10.00\">top</text>\n</g>\n<!-- (&#39;increase&#39;,) -->\n<g id=\"node5\" class=\"node\">\n<title>(&#39;increase&#39;,)</title>\n<polygon fill=\"none\" stroke=\"black\" stroke-width=\"2\" points=\"139.14,-36 85.14,-36 85.14,0 139.14,0 139.14,-36\"/>\n<text text-anchor=\"start\" x=\"92.49\" y=\"-14.4\" font-family=\"Times,serif\" font-size=\"12.00\">increase</text>\n</g>\n<!-- (&#39;top&#39;, &#39;A&#39;)&#45;&gt;(&#39;increase&#39;,) -->\n<g id=\"edge3\" class=\"edge\">\n<title>(&#39;top&#39;, &#39;A&#39;)&#45;&gt;(&#39;increase&#39;,)</title>\n<path fill=\"none\" stroke=\"black\" stroke-dasharray=\"5,2\" d=\"M112.03,-92.39C100.16,-86.78 85.25,-77.49 78.14,-64 74.85,-57.75 76.12,-51.44 79.63,-45.61\"/>\n<polygon fill=\"black\" stroke=\"black\" points=\"82.15,-48.06 85.73,-38.09 76.71,-43.66 82.15,-48.06\"/>\n<text text-anchor=\"start\" x=\"79.14\" y=\"-56\" font-family=\"Times,serif\" font-size=\"10.00\">amount</text>\n</g>\n<!-- (&#39;top&#39;, &#39;A&#39;)&#45;&gt;(&#39;increase&#39;,) -->\n<g id=\"edge7\" class=\"edge\">\n<title>(&#39;top&#39;, &#39;A&#39;)&#45;&gt;(&#39;increase&#39;,)</title>\n<path fill=\"none\" stroke=\"black\" stroke-dasharray=\"5,2\" d=\"M123.1,-70.59C120.71,-59.36 118.04,-46.8 115.94,-36.88\"/>\n<polygon fill=\"black\" stroke=\"black\" points=\"119.63,-71.11 125.13,-80.16 126.48,-69.65 119.63,-71.11\"/>\n<text text-anchor=\"start\" x=\"122.14\" y=\"-56\" font-family=\"Times,serif\" font-size=\"10.00\">amount</text>\n</g>\n<!-- (&#39;increase2&#39;,) -->\n<g id=\"node7\" class=\"node\">\n<title>(&#39;increase2&#39;,)</title>\n<polygon fill=\"none\" stroke=\"black\" stroke-width=\"2\" points=\"228.14,-36 174.14,-36 174.14,0 228.14,0 228.14,-36\"/>\n<text text-anchor=\"start\" x=\"178.49\" y=\"-14.4\" font-family=\"Times,serif\" font-size=\"12.00\">increase2</text>\n</g>\n<!-- (&#39;top&#39;, &#39;B&#39;)&#45;&gt;(&#39;increase2&#39;,) -->\n<g id=\"edge6\" class=\"edge\">\n<title>(&#39;top&#39;, &#39;B&#39;)&#45;&gt;(&#39;increase2&#39;,)</title>\n<path fill=\"none\" stroke=\"black\" stroke-dasharray=\"5,2\" d=\"M181.8,-81.25C181.61,-72.88 182.01,-62.81 184.14,-54 184.67,-51.83 185.34,-49.64 186.11,-47.47\"/>\n<polygon fill=\"black\" stroke=\"black\" points=\"189.29,-48.93 190,-38.36 182.85,-46.19 189.29,-48.93\"/>\n<text text-anchor=\"start\" x=\"185.14\" y=\"-56\" font-family=\"Times,serif\" font-size=\"10.00\">amount</text>\n</g>\n<!-- (&#39;top&#39;, &#39;B&#39;)&#45;&gt;(&#39;increase2&#39;,) -->\n<g id=\"edge8\" class=\"edge\">\n<title>(&#39;top&#39;, &#39;B&#39;)&#45;&gt;(&#39;increase2&#39;,)</title>\n<path fill=\"none\" stroke=\"black\" stroke-dasharray=\"5,2\" d=\"M204.77,-79.43C208.6,-74.79 212.03,-69.55 214.14,-64 217.48,-55.18 215.13,-45.11 211.55,-36.74\"/>\n<polygon fill=\"black\" stroke=\"black\" points=\"202.47,-76.77 198.2,-86.47 207.58,-81.55 202.47,-76.77\"/>\n<text text-anchor=\"start\" x=\"215.14\" y=\"-56\" font-family=\"Times,serif\" font-size=\"10.00\">amount</text>\n</g>\n</g>\n</svg>\n",
      "text/plain": [
       "<graphviz.graphs.Digraph at 0x10dbd7af0>"
      ]
     },
     "execution_count": 16,
     "metadata": {},
     "output_type": "execute_result"
    }
   ],
   "execution_count": 16
  },
  {
   "metadata": {
    "ExecuteTime": {
     "end_time": "2025-02-18T23:26:46.294334Z",
     "start_time": "2025-02-18T23:26:46.290882Z"
    }
   },
   "cell_type": "code",
   "source": [
    "# run the simulation for 10 time units\n",
    "v.run(interval=10)"
   ],
   "id": "3ac748abc7b485f9",
   "outputs": [],
   "execution_count": 17
  },
  {
   "metadata": {
    "ExecuteTime": {
     "end_time": "2025-02-18T23:26:46.303305Z",
     "start_time": "2025-02-18T23:26:46.298694Z"
    }
   },
   "cell_type": "code",
   "source": [
    "# get the timeseries results\n",
    "timeseries = v.get_timeseries(significant_digits=6)\n",
    "timeseries"
   ],
   "id": "7a12396ee5964488",
   "outputs": [
    {
     "data": {
      "text/plain": [
       "    /global_time      /top/A    /top/B\n",
       "0            0.0  100.000000  1.000000\n",
       "1            1.0  110.000000  0.900000\n",
       "2            2.0  121.000000  0.810000\n",
       "3            3.0  133.100000  0.729000\n",
       "4            4.0  146.410000  0.656100\n",
       "5            5.0  161.051000  0.590490\n",
       "6            6.0  177.156100  0.531441\n",
       "7            7.0  194.871710  0.478297\n",
       "8            8.0  214.358881  0.430467\n",
       "9            9.0  235.794769  0.387420\n",
       "10          10.0  259.374246  0.348678"
      ],
      "text/html": [
       "<div>\n",
       "<style scoped>\n",
       "    .dataframe tbody tr th:only-of-type {\n",
       "        vertical-align: middle;\n",
       "    }\n",
       "\n",
       "    .dataframe tbody tr th {\n",
       "        vertical-align: top;\n",
       "    }\n",
       "\n",
       "    .dataframe thead th {\n",
       "        text-align: right;\n",
       "    }\n",
       "</style>\n",
       "<table border=\"1\" class=\"dataframe\">\n",
       "  <thead>\n",
       "    <tr style=\"text-align: right;\">\n",
       "      <th></th>\n",
       "      <th>/global_time</th>\n",
       "      <th>/top/A</th>\n",
       "      <th>/top/B</th>\n",
       "    </tr>\n",
       "  </thead>\n",
       "  <tbody>\n",
       "    <tr>\n",
       "      <th>0</th>\n",
       "      <td>0.0</td>\n",
       "      <td>100.000000</td>\n",
       "      <td>1.000000</td>\n",
       "    </tr>\n",
       "    <tr>\n",
       "      <th>1</th>\n",
       "      <td>1.0</td>\n",
       "      <td>110.000000</td>\n",
       "      <td>0.900000</td>\n",
       "    </tr>\n",
       "    <tr>\n",
       "      <th>2</th>\n",
       "      <td>2.0</td>\n",
       "      <td>121.000000</td>\n",
       "      <td>0.810000</td>\n",
       "    </tr>\n",
       "    <tr>\n",
       "      <th>3</th>\n",
       "      <td>3.0</td>\n",
       "      <td>133.100000</td>\n",
       "      <td>0.729000</td>\n",
       "    </tr>\n",
       "    <tr>\n",
       "      <th>4</th>\n",
       "      <td>4.0</td>\n",
       "      <td>146.410000</td>\n",
       "      <td>0.656100</td>\n",
       "    </tr>\n",
       "    <tr>\n",
       "      <th>5</th>\n",
       "      <td>5.0</td>\n",
       "      <td>161.051000</td>\n",
       "      <td>0.590490</td>\n",
       "    </tr>\n",
       "    <tr>\n",
       "      <th>6</th>\n",
       "      <td>6.0</td>\n",
       "      <td>177.156100</td>\n",
       "      <td>0.531441</td>\n",
       "    </tr>\n",
       "    <tr>\n",
       "      <th>7</th>\n",
       "      <td>7.0</td>\n",
       "      <td>194.871710</td>\n",
       "      <td>0.478297</td>\n",
       "    </tr>\n",
       "    <tr>\n",
       "      <th>8</th>\n",
       "      <td>8.0</td>\n",
       "      <td>214.358881</td>\n",
       "      <td>0.430467</td>\n",
       "    </tr>\n",
       "    <tr>\n",
       "      <th>9</th>\n",
       "      <td>9.0</td>\n",
       "      <td>235.794769</td>\n",
       "      <td>0.387420</td>\n",
       "    </tr>\n",
       "    <tr>\n",
       "      <th>10</th>\n",
       "      <td>10.0</td>\n",
       "      <td>259.374246</td>\n",
       "      <td>0.348678</td>\n",
       "    </tr>\n",
       "  </tbody>\n",
       "</table>\n",
       "</div>"
      ]
     },
     "execution_count": 18,
     "metadata": {},
     "output_type": "execute_result"
    }
   ],
   "execution_count": 18
  },
  {
   "metadata": {
    "ExecuteTime": {
     "end_time": "2025-02-18T23:26:47.010855Z",
     "start_time": "2025-02-18T23:26:46.326374Z"
    }
   },
   "cell_type": "code",
   "source": [
    "v.plot_timeseries(\n",
    "    query=None,\n",
    "    subplot_size=(6, 3),\n",
    "    ncols=2,\n",
    "    # combined_vars=None\n",
    ")"
   ],
   "id": "fd241a0b6dc599aa",
   "outputs": [
    {
     "ename": "KeyError",
     "evalue": "'global_time'",
     "output_type": "error",
     "traceback": [
      "\u001B[0;31m---------------------------------------------------------------------------\u001B[0m",
      "\u001B[0;31mKeyError\u001B[0m                                  Traceback (most recent call last)",
      "File \u001B[0;32m~/code/vivarium-interface/venv/lib/python3.9/site-packages/pandas/core/indexes/base.py:3805\u001B[0m, in \u001B[0;36mIndex.get_loc\u001B[0;34m(self, key)\u001B[0m\n\u001B[1;32m   3804\u001B[0m \u001B[38;5;28;01mtry\u001B[39;00m:\n\u001B[0;32m-> 3805\u001B[0m     \u001B[38;5;28;01mreturn\u001B[39;00m \u001B[38;5;28;43mself\u001B[39;49m\u001B[38;5;241;43m.\u001B[39;49m\u001B[43m_engine\u001B[49m\u001B[38;5;241;43m.\u001B[39;49m\u001B[43mget_loc\u001B[49m\u001B[43m(\u001B[49m\u001B[43mcasted_key\u001B[49m\u001B[43m)\u001B[49m\n\u001B[1;32m   3806\u001B[0m \u001B[38;5;28;01mexcept\u001B[39;00m \u001B[38;5;167;01mKeyError\u001B[39;00m \u001B[38;5;28;01mas\u001B[39;00m err:\n",
      "File \u001B[0;32mindex.pyx:167\u001B[0m, in \u001B[0;36mpandas._libs.index.IndexEngine.get_loc\u001B[0;34m()\u001B[0m\n",
      "File \u001B[0;32mindex.pyx:196\u001B[0m, in \u001B[0;36mpandas._libs.index.IndexEngine.get_loc\u001B[0;34m()\u001B[0m\n",
      "File \u001B[0;32mpandas/_libs/hashtable_class_helper.pxi:7081\u001B[0m, in \u001B[0;36mpandas._libs.hashtable.PyObjectHashTable.get_item\u001B[0;34m()\u001B[0m\n",
      "File \u001B[0;32mpandas/_libs/hashtable_class_helper.pxi:7089\u001B[0m, in \u001B[0;36mpandas._libs.hashtable.PyObjectHashTable.get_item\u001B[0;34m()\u001B[0m\n",
      "\u001B[0;31mKeyError\u001B[0m: 'global_time'",
      "\nThe above exception was the direct cause of the following exception:\n",
      "\u001B[0;31mKeyError\u001B[0m                                  Traceback (most recent call last)",
      "Cell \u001B[0;32mIn[19], line 1\u001B[0m\n\u001B[0;32m----> 1\u001B[0m \u001B[43mv\u001B[49m\u001B[38;5;241;43m.\u001B[39;49m\u001B[43mplot_timeseries\u001B[49m\u001B[43m(\u001B[49m\n\u001B[1;32m      2\u001B[0m \u001B[43m    \u001B[49m\u001B[43mquery\u001B[49m\u001B[38;5;241;43m=\u001B[39;49m\u001B[38;5;28;43;01mNone\u001B[39;49;00m\u001B[43m,\u001B[49m\n\u001B[1;32m      3\u001B[0m \u001B[43m    \u001B[49m\u001B[43msubplot_size\u001B[49m\u001B[38;5;241;43m=\u001B[39;49m\u001B[43m(\u001B[49m\u001B[38;5;241;43m6\u001B[39;49m\u001B[43m,\u001B[49m\u001B[43m \u001B[49m\u001B[38;5;241;43m3\u001B[39;49m\u001B[43m)\u001B[49m\u001B[43m,\u001B[49m\n\u001B[1;32m      4\u001B[0m \u001B[43m    \u001B[49m\u001B[43mncols\u001B[49m\u001B[38;5;241;43m=\u001B[39;49m\u001B[38;5;241;43m2\u001B[39;49m\u001B[43m,\u001B[49m\n\u001B[1;32m      5\u001B[0m \u001B[43m    \u001B[49m\u001B[38;5;66;43;03m# combined_vars=None\u001B[39;49;00m\n\u001B[1;32m      6\u001B[0m \u001B[43m)\u001B[49m\n",
      "File \u001B[0;32m~/code/vivarium-interface/vivarium/vivarium.py:536\u001B[0m, in \u001B[0;36mVivarium.plot_timeseries\u001B[0;34m(self, query, significant_digits, subplot_size, ncols, combined_vars)\u001B[0m\n\u001B[1;32m    525\u001B[0m \u001B[38;5;250m\u001B[39m\u001B[38;5;124;03m\"\"\"\u001B[39;00m\n\u001B[1;32m    526\u001B[0m \u001B[38;5;124;03mPlots the timeseries data for all variables using matplotlib, each variable in its own subplot.\u001B[39;00m\n\u001B[1;32m    527\u001B[0m \n\u001B[0;32m   (...)\u001B[0m\n\u001B[1;32m    533\u001B[0m \u001B[38;5;124;03m    combined_vars (list of lists, optional): Lists of variables to combine into the same subplot. Default is None.\u001B[39;00m\n\u001B[1;32m    534\u001B[0m \u001B[38;5;124;03m\"\"\"\u001B[39;00m\n\u001B[1;32m    535\u001B[0m timeseries \u001B[38;5;241m=\u001B[39m \u001B[38;5;28mself\u001B[39m\u001B[38;5;241m.\u001B[39mget_timeseries(query\u001B[38;5;241m=\u001B[39mquery, significant_digits\u001B[38;5;241m=\u001B[39msignificant_digits)\n\u001B[0;32m--> 536\u001B[0m time \u001B[38;5;241m=\u001B[39m \u001B[43mtimeseries\u001B[49m\u001B[38;5;241;43m.\u001B[39;49m\u001B[43mpop\u001B[49m\u001B[43m(\u001B[49m\u001B[38;5;124;43m'\u001B[39;49m\u001B[38;5;124;43mglobal_time\u001B[39;49m\u001B[38;5;124;43m'\u001B[39;49m\u001B[43m)\u001B[49m\n\u001B[1;32m    538\u001B[0m \u001B[38;5;28;01mif\u001B[39;00m combined_vars \u001B[38;5;129;01mis\u001B[39;00m \u001B[38;5;28;01mNone\u001B[39;00m:\n\u001B[1;32m    539\u001B[0m     combined_vars \u001B[38;5;241m=\u001B[39m []\n",
      "File \u001B[0;32m~/code/vivarium-interface/venv/lib/python3.9/site-packages/pandas/core/frame.py:5819\u001B[0m, in \u001B[0;36mDataFrame.pop\u001B[0;34m(self, item)\u001B[0m\n\u001B[1;32m   5778\u001B[0m \u001B[38;5;28;01mdef\u001B[39;00m\u001B[38;5;250m \u001B[39m\u001B[38;5;21mpop\u001B[39m(\u001B[38;5;28mself\u001B[39m, item: Hashable) \u001B[38;5;241m-\u001B[39m\u001B[38;5;241m>\u001B[39m Series:\n\u001B[1;32m   5779\u001B[0m \u001B[38;5;250m    \u001B[39m\u001B[38;5;124;03m\"\"\"\u001B[39;00m\n\u001B[1;32m   5780\u001B[0m \u001B[38;5;124;03m    Return item and drop from frame. Raise KeyError if not found.\u001B[39;00m\n\u001B[1;32m   5781\u001B[0m \n\u001B[0;32m   (...)\u001B[0m\n\u001B[1;32m   5817\u001B[0m \u001B[38;5;124;03m    3  monkey        NaN\u001B[39;00m\n\u001B[1;32m   5818\u001B[0m \u001B[38;5;124;03m    \"\"\"\u001B[39;00m\n\u001B[0;32m-> 5819\u001B[0m     \u001B[38;5;28;01mreturn\u001B[39;00m \u001B[38;5;28;43msuper\u001B[39;49m\u001B[43m(\u001B[49m\u001B[43m)\u001B[49m\u001B[38;5;241;43m.\u001B[39;49m\u001B[43mpop\u001B[49m\u001B[43m(\u001B[49m\u001B[43mitem\u001B[49m\u001B[38;5;241;43m=\u001B[39;49m\u001B[43mitem\u001B[49m\u001B[43m)\u001B[49m\n",
      "File \u001B[0;32m~/code/vivarium-interface/venv/lib/python3.9/site-packages/pandas/core/generic.py:947\u001B[0m, in \u001B[0;36mNDFrame.pop\u001B[0;34m(self, item)\u001B[0m\n\u001B[1;32m    946\u001B[0m \u001B[38;5;28;01mdef\u001B[39;00m\u001B[38;5;250m \u001B[39m\u001B[38;5;21mpop\u001B[39m(\u001B[38;5;28mself\u001B[39m, item: Hashable) \u001B[38;5;241m-\u001B[39m\u001B[38;5;241m>\u001B[39m Series \u001B[38;5;241m|\u001B[39m Any:\n\u001B[0;32m--> 947\u001B[0m     result \u001B[38;5;241m=\u001B[39m \u001B[38;5;28;43mself\u001B[39;49m\u001B[43m[\u001B[49m\u001B[43mitem\u001B[49m\u001B[43m]\u001B[49m\n\u001B[1;32m    948\u001B[0m     \u001B[38;5;28;01mdel\u001B[39;00m \u001B[38;5;28mself\u001B[39m[item]\n\u001B[1;32m    950\u001B[0m     \u001B[38;5;28;01mreturn\u001B[39;00m result\n",
      "File \u001B[0;32m~/code/vivarium-interface/venv/lib/python3.9/site-packages/pandas/core/frame.py:4102\u001B[0m, in \u001B[0;36mDataFrame.__getitem__\u001B[0;34m(self, key)\u001B[0m\n\u001B[1;32m   4100\u001B[0m \u001B[38;5;28;01mif\u001B[39;00m \u001B[38;5;28mself\u001B[39m\u001B[38;5;241m.\u001B[39mcolumns\u001B[38;5;241m.\u001B[39mnlevels \u001B[38;5;241m>\u001B[39m \u001B[38;5;241m1\u001B[39m:\n\u001B[1;32m   4101\u001B[0m     \u001B[38;5;28;01mreturn\u001B[39;00m \u001B[38;5;28mself\u001B[39m\u001B[38;5;241m.\u001B[39m_getitem_multilevel(key)\n\u001B[0;32m-> 4102\u001B[0m indexer \u001B[38;5;241m=\u001B[39m \u001B[38;5;28;43mself\u001B[39;49m\u001B[38;5;241;43m.\u001B[39;49m\u001B[43mcolumns\u001B[49m\u001B[38;5;241;43m.\u001B[39;49m\u001B[43mget_loc\u001B[49m\u001B[43m(\u001B[49m\u001B[43mkey\u001B[49m\u001B[43m)\u001B[49m\n\u001B[1;32m   4103\u001B[0m \u001B[38;5;28;01mif\u001B[39;00m is_integer(indexer):\n\u001B[1;32m   4104\u001B[0m     indexer \u001B[38;5;241m=\u001B[39m [indexer]\n",
      "File \u001B[0;32m~/code/vivarium-interface/venv/lib/python3.9/site-packages/pandas/core/indexes/base.py:3812\u001B[0m, in \u001B[0;36mIndex.get_loc\u001B[0;34m(self, key)\u001B[0m\n\u001B[1;32m   3807\u001B[0m     \u001B[38;5;28;01mif\u001B[39;00m \u001B[38;5;28misinstance\u001B[39m(casted_key, \u001B[38;5;28mslice\u001B[39m) \u001B[38;5;129;01mor\u001B[39;00m (\n\u001B[1;32m   3808\u001B[0m         \u001B[38;5;28misinstance\u001B[39m(casted_key, abc\u001B[38;5;241m.\u001B[39mIterable)\n\u001B[1;32m   3809\u001B[0m         \u001B[38;5;129;01mand\u001B[39;00m \u001B[38;5;28many\u001B[39m(\u001B[38;5;28misinstance\u001B[39m(x, \u001B[38;5;28mslice\u001B[39m) \u001B[38;5;28;01mfor\u001B[39;00m x \u001B[38;5;129;01min\u001B[39;00m casted_key)\n\u001B[1;32m   3810\u001B[0m     ):\n\u001B[1;32m   3811\u001B[0m         \u001B[38;5;28;01mraise\u001B[39;00m InvalidIndexError(key)\n\u001B[0;32m-> 3812\u001B[0m     \u001B[38;5;28;01mraise\u001B[39;00m \u001B[38;5;167;01mKeyError\u001B[39;00m(key) \u001B[38;5;28;01mfrom\u001B[39;00m\u001B[38;5;250m \u001B[39m\u001B[38;5;21;01merr\u001B[39;00m\n\u001B[1;32m   3813\u001B[0m \u001B[38;5;28;01mexcept\u001B[39;00m \u001B[38;5;167;01mTypeError\u001B[39;00m:\n\u001B[1;32m   3814\u001B[0m     \u001B[38;5;66;03m# If we have a listlike key, _check_indexing_error will raise\u001B[39;00m\n\u001B[1;32m   3815\u001B[0m     \u001B[38;5;66;03m#  InvalidIndexError. Otherwise we fall through and re-raise\u001B[39;00m\n\u001B[1;32m   3816\u001B[0m     \u001B[38;5;66;03m#  the TypeError.\u001B[39;00m\n\u001B[1;32m   3817\u001B[0m     \u001B[38;5;28mself\u001B[39m\u001B[38;5;241m.\u001B[39m_check_indexing_error(key)\n",
      "\u001B[0;31mKeyError\u001B[0m: 'global_time'"
     ]
    }
   ],
   "execution_count": 19
  },
  {
   "metadata": {},
   "cell_type": "markdown",
   "source": "# Save and Load",
   "id": "6e1d4b91609b4231"
  },
  {
   "metadata": {
    "ExecuteTime": {
     "end_time": "2025-02-18T23:26:47.012049Z",
     "start_time": "2025-02-18T22:31:52.254800Z"
    }
   },
   "cell_type": "code",
   "source": [
    "# save the current state to a file\n",
    "v.save(filename='demo1')"
   ],
   "id": "c5742be4329f7ce4",
   "outputs": [
    {
     "name": "stdout",
     "output_type": "stream",
     "text": [
      "Saved file: out/demo1.json\n"
     ]
    }
   ],
   "execution_count": 20
  },
  {
   "metadata": {
    "ExecuteTime": {
     "end_time": "2025-02-18T23:26:47.019346Z",
     "start_time": "2025-02-18T22:31:52.262854Z"
    }
   },
   "cell_type": "code",
   "source": [
    "# make a new Vivarium object (v2) from the saved file\n",
    "v2 = Vivarium(document='out/demo1.json', processes=DEMO_PROCESSES)\n",
    "\n",
    "n_new_nodes = 6\n",
    "\n",
    "# add another object and process\n",
    "for i in range(n_new_nodes):\n",
    "    v2.add_object(name=f'C{i}', path=['top'], value=1)\n",
    "    v2.add_process(name=f'increase{i}',\n",
    "                   process_id='increase float',\n",
    "                   config={'rate': random.uniform(-1, 1)},\n",
    "                   inputs={'amount': ['top', f'C{i}']},\n",
    "                   outputs={'amount': ['top', f'C{i}']}\n",
    "                   )\n",
    "\n",
    "# display the current state as a diagram\n",
    "v2.diagram(dpi='70',\n",
    "           show_values=True,\n",
    "           show_types=True,\n",
    "           )"
   ],
   "id": "d3efc6bf5d5f8ce3",
   "outputs": [
    {
     "data": {
      "image/svg+xml": "<?xml version=\"1.0\" encoding=\"UTF-8\" standalone=\"no\"?>\n<!DOCTYPE svg PUBLIC \"-//W3C//DTD SVG 1.1//EN\"\n \"http://www.w3.org/Graphics/SVG/1.1/DTD/svg11.dtd\">\n<!-- Generated by graphviz version 9.0.0 (0)\n -->\n<!-- Title: bigraph Pages: 1 -->\n<svg width=\"873pt\" height=\"351pt\"\n viewBox=\"0.00 0.00 897.53 361.45\" xmlns=\"http://www.w3.org/2000/svg\" xmlns:xlink=\"http://www.w3.org/1999/xlink\">\n<g id=\"graph0\" class=\"graph\" transform=\"scale(0.972222 0.972222) rotate(0) translate(4 357.45)\">\n<title>bigraph</title>\n<polygon fill=\"white\" stroke=\"none\" points=\"-4,4 -4,-357.45 893.53,-357.45 893.53,4 -4,4\"/>\n<!-- (&#39;global_time&#39;,) -->\n<g id=\"node1\" class=\"node\">\n<title>(&#39;global_time&#39;,)</title>\n<ellipse fill=\"none\" stroke=\"black\" stroke-width=\"2\" cx=\"64.54\" cy=\"-288.91\" rx=\"64.54\" ry=\"64.54\"/>\n<text text-anchor=\"start\" x=\"13.54\" y=\"-285.31\" font-family=\"Times,serif\" font-size=\"12.00\">global_time:10[float]</text>\n</g>\n<!-- (&#39;emitter&#39;,) -->\n<g id=\"node12\" class=\"node\">\n<title>(&#39;emitter&#39;,)</title>\n<polygon fill=\"none\" stroke=\"black\" stroke-width=\"2\" points=\"91.54,-148.19 37.54,-148.19 37.54,-112.19 91.54,-112.19 91.54,-148.19\"/>\n<text text-anchor=\"start\" x=\"47.54\" y=\"-126.59\" font-family=\"Times,serif\" font-size=\"12.00\">emitter</text>\n</g>\n<!-- (&#39;global_time&#39;,)&#45;&gt;(&#39;emitter&#39;,) -->\n<g id=\"edge10\" class=\"edge\">\n<title>(&#39;global_time&#39;,)&#45;&gt;(&#39;emitter&#39;,)</title>\n<path fill=\"none\" stroke=\"black\" stroke-dasharray=\"5,2\" d=\"M64.54,-223.72C64.54,-201.74 64.54,-178.22 64.54,-160.39\"/>\n<polygon fill=\"black\" stroke=\"black\" points=\"68.04,-160.57 64.54,-150.57 61.04,-160.57 68.04,-160.57\"/>\n<text text-anchor=\"start\" x=\"64.54\" y=\"-198.38\" font-family=\"Times,serif\" font-size=\"10.00\">global_time</text>\n</g>\n<!-- (&#39;top&#39;,) -->\n<g id=\"node2\" class=\"node\">\n<title>(&#39;top&#39;,)</title>\n<ellipse fill=\"none\" stroke=\"black\" stroke-width=\"2\" cx=\"447.54\" cy=\"-288.91\" rx=\"22.06\" ry=\"22.06\"/>\n<text text-anchor=\"start\" x=\"439.87\" y=\"-291.31\" font-family=\"Times,serif\" font-size=\"12.00\">top</text>\n<text text-anchor=\"start\" x=\"439.04\" y=\"-279.31\" font-family=\"Times,serif\" font-size=\"12.00\">[...]</text>\n</g>\n<!-- (&#39;top&#39;, &#39;A&#39;) -->\n<g id=\"node3\" class=\"node\">\n<title>(&#39;top&#39;, &#39;A&#39;)</title>\n<ellipse fill=\"none\" stroke=\"black\" stroke-width=\"2\" cx=\"157.54\" cy=\"-130.19\" rx=\"48.19\" ry=\"48.19\"/>\n<text text-anchor=\"start\" x=\"120.37\" y=\"-126.59\" font-family=\"Times,serif\" font-size=\"12.00\">A:259.37[float]</text>\n</g>\n<!-- (&#39;top&#39;,)&#45;&gt;(&#39;top&#39;, &#39;A&#39;) -->\n<g id=\"edge1\" class=\"edge\">\n<title>(&#39;top&#39;,)&#45;&gt;(&#39;top&#39;, &#39;A&#39;)</title>\n<path fill=\"none\" stroke=\"black\" stroke-width=\"2\" d=\"M426.36,-280.05C384.3,-263.99 287.94,-224.96 214.54,-178.38 207.49,-173.9 200.34,-168.66 193.6,-163.32\"/>\n</g>\n<!-- (&#39;top&#39;, &#39;B&#39;) -->\n<g id=\"node4\" class=\"node\">\n<title>(&#39;top&#39;, &#39;B&#39;)</title>\n<ellipse fill=\"none\" stroke=\"black\" stroke-width=\"2\" cx=\"264.54\" cy=\"-130.19\" rx=\"40.7\" ry=\"40.7\"/>\n<text text-anchor=\"start\" x=\"233.7\" y=\"-126.59\" font-family=\"Times,serif\" font-size=\"12.00\">B:0.35[float]</text>\n</g>\n<!-- (&#39;top&#39;,)&#45;&gt;(&#39;top&#39;, &#39;B&#39;) -->\n<g id=\"edge2\" class=\"edge\">\n<title>(&#39;top&#39;,)&#45;&gt;(&#39;top&#39;, &#39;B&#39;)</title>\n<path fill=\"none\" stroke=\"black\" stroke-width=\"2\" d=\"M430.01,-274.1C404.27,-253.68 354.92,-213.99 314.54,-178.38 307.73,-172.38 300.56,-165.78 293.84,-159.47\"/>\n</g>\n<!-- (&#39;top&#39;, &#39;C0&#39;) -->\n<g id=\"node5\" class=\"node\">\n<title>(&#39;top&#39;, &#39;C0&#39;)</title>\n<ellipse fill=\"none\" stroke=\"black\" stroke-width=\"2\" cx=\"358.54\" cy=\"-130.19\" rx=\"35.38\" ry=\"35.38\"/>\n<text text-anchor=\"start\" x=\"332.2\" y=\"-126.59\" font-family=\"Times,serif\" font-size=\"12.00\">C0:1[float]</text>\n</g>\n<!-- (&#39;top&#39;,)&#45;&gt;(&#39;top&#39;, &#39;C0&#39;) -->\n<g id=\"edge3\" class=\"edge\">\n<title>(&#39;top&#39;,)&#45;&gt;(&#39;top&#39;, &#39;C0&#39;)</title>\n<path fill=\"none\" stroke=\"black\" stroke-width=\"2\" d=\"M436.62,-268.7C421.49,-242.05 393.97,-193.59 375.97,-161.9\"/>\n</g>\n<!-- (&#39;top&#39;, &#39;C1&#39;) -->\n<g id=\"node6\" class=\"node\">\n<title>(&#39;top&#39;, &#39;C1&#39;)</title>\n<ellipse fill=\"none\" stroke=\"black\" stroke-width=\"2\" cx=\"447.54\" cy=\"-130.19\" rx=\"35.38\" ry=\"35.38\"/>\n<text text-anchor=\"start\" x=\"421.2\" y=\"-126.59\" font-family=\"Times,serif\" font-size=\"12.00\">C1:1[float]</text>\n</g>\n<!-- (&#39;top&#39;,)&#45;&gt;(&#39;top&#39;, &#39;C1&#39;) -->\n<g id=\"edge4\" class=\"edge\">\n<title>(&#39;top&#39;,)&#45;&gt;(&#39;top&#39;, &#39;C1&#39;)</title>\n<path fill=\"none\" stroke=\"black\" stroke-width=\"2\" d=\"M447.54,-266.12C447.54,-240.3 447.54,-196.93 447.54,-166.34\"/>\n</g>\n<!-- (&#39;top&#39;, &#39;C2&#39;) -->\n<g id=\"node7\" class=\"node\">\n<title>(&#39;top&#39;, &#39;C2&#39;)</title>\n<ellipse fill=\"none\" stroke=\"black\" stroke-width=\"2\" cx=\"536.54\" cy=\"-130.19\" rx=\"35.38\" ry=\"35.38\"/>\n<text text-anchor=\"start\" x=\"510.2\" y=\"-126.59\" font-family=\"Times,serif\" font-size=\"12.00\">C2:1[float]</text>\n</g>\n<!-- (&#39;top&#39;,)&#45;&gt;(&#39;top&#39;, &#39;C2&#39;) -->\n<g id=\"edge5\" class=\"edge\">\n<title>(&#39;top&#39;,)&#45;&gt;(&#39;top&#39;, &#39;C2&#39;)</title>\n<path fill=\"none\" stroke=\"black\" stroke-width=\"2\" d=\"M458.45,-268.7C473.58,-242.05 501.1,-193.59 519.1,-161.9\"/>\n</g>\n<!-- (&#39;top&#39;, &#39;C3&#39;) -->\n<g id=\"node8\" class=\"node\">\n<title>(&#39;top&#39;, &#39;C3&#39;)</title>\n<ellipse fill=\"none\" stroke=\"black\" stroke-width=\"2\" cx=\"625.54\" cy=\"-130.19\" rx=\"35.38\" ry=\"35.38\"/>\n<text text-anchor=\"start\" x=\"599.2\" y=\"-126.59\" font-family=\"Times,serif\" font-size=\"12.00\">C3:1[float]</text>\n</g>\n<!-- (&#39;top&#39;,)&#45;&gt;(&#39;top&#39;, &#39;C3&#39;) -->\n<g id=\"edge6\" class=\"edge\">\n<title>(&#39;top&#39;,)&#45;&gt;(&#39;top&#39;, &#39;C3&#39;)</title>\n<path fill=\"none\" stroke=\"black\" stroke-width=\"2\" d=\"M465.32,-274.38C491.37,-254.3 541.1,-215.04 580.54,-178.38 587.67,-171.75 595.08,-164.25 601.79,-157.21\"/>\n</g>\n<!-- (&#39;top&#39;, &#39;C4&#39;) -->\n<g id=\"node9\" class=\"node\">\n<title>(&#39;top&#39;, &#39;C4&#39;)</title>\n<ellipse fill=\"none\" stroke=\"black\" stroke-width=\"2\" cx=\"721.54\" cy=\"-130.19\" rx=\"35.38\" ry=\"35.38\"/>\n<text text-anchor=\"start\" x=\"695.2\" y=\"-126.59\" font-family=\"Times,serif\" font-size=\"12.00\">C4:1[float]</text>\n</g>\n<!-- (&#39;top&#39;,)&#45;&gt;(&#39;top&#39;, &#39;C4&#39;) -->\n<g id=\"edge7\" class=\"edge\">\n<title>(&#39;top&#39;,)&#45;&gt;(&#39;top&#39;, &#39;C4&#39;)</title>\n<path fill=\"none\" stroke=\"black\" stroke-width=\"2\" d=\"M468.48,-279.88C509.13,-263.81 600.79,-225.17 669.54,-178.38 678.91,-172 688.33,-164.03 696.54,-156.46\"/>\n</g>\n<!-- (&#39;top&#39;, &#39;C5&#39;) -->\n<g id=\"node10\" class=\"node\">\n<title>(&#39;top&#39;, &#39;C5&#39;)</title>\n<ellipse fill=\"none\" stroke=\"black\" stroke-width=\"2\" cx=\"827.54\" cy=\"-130.19\" rx=\"35.38\" ry=\"35.38\"/>\n<text text-anchor=\"start\" x=\"801.2\" y=\"-126.59\" font-family=\"Times,serif\" font-size=\"12.00\">C5:1[float]</text>\n</g>\n<!-- (&#39;top&#39;,)&#45;&gt;(&#39;top&#39;, &#39;C5&#39;) -->\n<g id=\"edge8\" class=\"edge\">\n<title>(&#39;top&#39;,)&#45;&gt;(&#39;top&#39;, &#39;C5&#39;)</title>\n<path fill=\"none\" stroke=\"black\" stroke-width=\"2\" d=\"M469.74,-282.87C522.98,-270.22 661.27,-234.15 765.54,-178.38 777.82,-171.81 790.26,-162.88 800.73,-154.57\"/>\n</g>\n<!-- (&#39;top&#39;,)&#45;&gt;(&#39;emitter&#39;,) -->\n<g id=\"edge11\" class=\"edge\">\n<title>(&#39;top&#39;,)&#45;&gt;(&#39;emitter&#39;,)</title>\n<path fill=\"none\" stroke=\"black\" stroke-dasharray=\"5,2\" d=\"M424.76,-285.52C366.05,-278.4 206.76,-253.01 100.54,-178.38 92.95,-173.05 86.25,-165.63 80.74,-158.26\"/>\n<polygon fill=\"black\" stroke=\"black\" points=\"83.85,-156.6 75.3,-150.34 78.08,-160.57 83.85,-156.6\"/>\n<text text-anchor=\"start\" x=\"142.54\" y=\"-198.38\" font-family=\"Times,serif\" font-size=\"10.00\">top</text>\n</g>\n<!-- (&#39;increase&#39;,) -->\n<g id=\"node11\" class=\"node\">\n<title>(&#39;increase&#39;,)</title>\n<polygon fill=\"none\" stroke=\"black\" stroke-width=\"2\" points=\"185.54,-36 131.54,-36 131.54,0 185.54,0 185.54,-36\"/>\n<text text-anchor=\"start\" x=\"138.88\" y=\"-14.4\" font-family=\"Times,serif\" font-size=\"12.00\">increase</text>\n</g>\n<!-- (&#39;top&#39;, &#39;A&#39;)&#45;&gt;(&#39;increase&#39;,) -->\n<g id=\"edge9\" class=\"edge\">\n<title>(&#39;top&#39;, &#39;A&#39;)&#45;&gt;(&#39;increase&#39;,)</title>\n<path fill=\"none\" stroke=\"black\" stroke-dasharray=\"5,2\" d=\"M133.81,-87.44C130.32,-76.55 128.96,-64.84 132.54,-54 133.38,-51.45 134.49,-48.94 135.77,-46.5\"/>\n<polygon fill=\"black\" stroke=\"black\" points=\"138.59,-48.59 140.99,-38.27 132.68,-44.84 138.59,-48.59\"/>\n<text text-anchor=\"start\" x=\"133.54\" y=\"-56\" font-family=\"Times,serif\" font-size=\"10.00\">amount</text>\n</g>\n<!-- (&#39;top&#39;, &#39;A&#39;)&#45;&gt;(&#39;increase&#39;,) -->\n<g id=\"edge18\" class=\"edge\">\n<title>(&#39;top&#39;, &#39;A&#39;)&#45;&gt;(&#39;increase&#39;,)</title>\n<path fill=\"none\" stroke=\"black\" stroke-dasharray=\"5,2\" d=\"M162.84,-70.24C162.92,-64.75 162.84,-59.27 162.54,-54 162.22,-48.38 161.61,-42.28 160.96,-36.77\"/>\n<polygon fill=\"black\" stroke=\"black\" points=\"159.35,-69.85 162.53,-79.95 166.35,-70.07 159.35,-69.85\"/>\n<text text-anchor=\"start\" x=\"163.54\" y=\"-56\" font-family=\"Times,serif\" font-size=\"10.00\">amount</text>\n</g>\n<!-- (&#39;increase0&#39;,) -->\n<g id=\"node14\" class=\"node\">\n<title>(&#39;increase0&#39;,)</title>\n<polygon fill=\"none\" stroke=\"black\" stroke-width=\"2\" points=\"341.54,-36 287.54,-36 287.54,0 341.54,0 341.54,-36\"/>\n<text text-anchor=\"start\" x=\"291.88\" y=\"-14.4\" font-family=\"Times,serif\" font-size=\"12.00\">increase0</text>\n</g>\n<!-- (&#39;top&#39;, &#39;C0&#39;)&#45;&gt;(&#39;increase0&#39;,) -->\n<g id=\"edge13\" class=\"edge\">\n<title>(&#39;top&#39;, &#39;C0&#39;)&#45;&gt;(&#39;increase0&#39;,)</title>\n<path fill=\"none\" stroke=\"black\" stroke-dasharray=\"5,2\" d=\"M334.42,-103.41C317.96,-85.75 299.04,-65.29 298.54,-64 296.41,-58.54 296.68,-52.66 298.18,-47.02\"/>\n<polygon fill=\"black\" stroke=\"black\" points=\"301.31,-48.61 301.73,-38.02 294.8,-46.04 301.31,-48.61\"/>\n<text text-anchor=\"start\" x=\"299.54\" y=\"-56\" font-family=\"Times,serif\" font-size=\"10.00\">amount</text>\n</g>\n<!-- (&#39;top&#39;, &#39;C0&#39;)&#45;&gt;(&#39;increase0&#39;,) -->\n<g id=\"edge20\" class=\"edge\">\n<title>(&#39;top&#39;, &#39;C0&#39;)&#45;&gt;(&#39;increase0&#39;,)</title>\n<path fill=\"none\" stroke=\"black\" stroke-dasharray=\"5,2\" d=\"M341.32,-86.01C337.14,-75.53 332.68,-64.36 328.54,-54 326.3,-48.41 323.87,-42.32 321.66,-36.8\"/>\n<polygon fill=\"black\" stroke=\"black\" points=\"338.03,-87.22 344.99,-95.21 344.53,-84.63 338.03,-87.22\"/>\n<text text-anchor=\"start\" x=\"332.54\" y=\"-56\" font-family=\"Times,serif\" font-size=\"10.00\">amount</text>\n</g>\n<!-- (&#39;increase1&#39;,) -->\n<g id=\"node15\" class=\"node\">\n<title>(&#39;increase1&#39;,)</title>\n<polygon fill=\"none\" stroke=\"black\" stroke-width=\"2\" points=\"447.54,-36 393.54,-36 393.54,0 447.54,0 447.54,-36\"/>\n<text text-anchor=\"start\" x=\"397.88\" y=\"-14.4\" font-family=\"Times,serif\" font-size=\"12.00\">increase1</text>\n</g>\n<!-- (&#39;top&#39;, &#39;C1&#39;)&#45;&gt;(&#39;increase1&#39;,) -->\n<g id=\"edge14\" class=\"edge\">\n<title>(&#39;top&#39;, &#39;C1&#39;)&#45;&gt;(&#39;increase1&#39;,)</title>\n<path fill=\"none\" stroke=\"black\" stroke-dasharray=\"5,2\" d=\"M424.58,-102.13C416.6,-91.05 408.63,-77.63 404.54,-64 402.93,-58.62 403.29,-52.95 404.69,-47.5\"/>\n<polygon fill=\"black\" stroke=\"black\" points=\"407.93,-48.83 408.19,-38.24 401.38,-46.35 407.93,-48.83\"/>\n<text text-anchor=\"start\" x=\"405.54\" y=\"-56\" font-family=\"Times,serif\" font-size=\"10.00\">amount</text>\n</g>\n<!-- (&#39;top&#39;, &#39;C1&#39;)&#45;&gt;(&#39;increase1&#39;,) -->\n<g id=\"edge21\" class=\"edge\">\n<title>(&#39;top&#39;, &#39;C1&#39;)&#45;&gt;(&#39;increase1&#39;,)</title>\n<path fill=\"none\" stroke=\"black\" stroke-dasharray=\"5,2\" d=\"M441.16,-83.24C439.38,-73.5 437.18,-63.34 434.54,-54 432.93,-48.33 430.72,-42.32 428.54,-36.92\"/>\n<polygon fill=\"black\" stroke=\"black\" points=\"437.68,-83.65 442.82,-92.92 444.58,-82.47 437.68,-83.65\"/>\n<text text-anchor=\"start\" x=\"437.54\" y=\"-56\" font-family=\"Times,serif\" font-size=\"10.00\">amount</text>\n</g>\n<!-- (&#39;increase2&#39;,) -->\n<g id=\"node13\" class=\"node\">\n<title>(&#39;increase2&#39;,)</title>\n<polygon fill=\"none\" stroke=\"black\" stroke-width=\"2\" points=\"553.54,-36 499.54,-36 499.54,0 553.54,0 553.54,-36\"/>\n<text text-anchor=\"start\" x=\"503.88\" y=\"-14.4\" font-family=\"Times,serif\" font-size=\"12.00\">increase2</text>\n</g>\n<!-- (&#39;top&#39;, &#39;C2&#39;)&#45;&gt;(&#39;increase2&#39;,) -->\n<g id=\"edge12\" class=\"edge\">\n<title>(&#39;top&#39;, &#39;C2&#39;)&#45;&gt;(&#39;increase2&#39;,)</title>\n<path fill=\"none\" stroke=\"black\" stroke-dasharray=\"5,2\" d=\"M521.08,-97.43C516.78,-87.02 512.7,-75.25 510.54,-64 509.48,-58.49 510.1,-52.75 511.59,-47.28\"/>\n<polygon fill=\"black\" stroke=\"black\" points=\"514.82,-48.62 515.05,-38.03 508.27,-46.16 514.82,-48.62\"/>\n<text text-anchor=\"start\" x=\"511.54\" y=\"-56\" font-family=\"Times,serif\" font-size=\"10.00\">amount</text>\n</g>\n<!-- (&#39;top&#39;, &#39;C2&#39;)&#45;&gt;(&#39;increase2&#39;,) -->\n<g id=\"edge19\" class=\"edge\">\n<title>(&#39;top&#39;, &#39;C2&#39;)&#45;&gt;(&#39;increase2&#39;,)</title>\n<path fill=\"none\" stroke=\"black\" stroke-dasharray=\"5,2\" d=\"M542.52,-83.03C542.78,-73.38 542.33,-63.31 540.54,-54 539.42,-48.22 537.36,-42.17 535.16,-36.77\"/>\n<polygon fill=\"black\" stroke=\"black\" points=\"539.02,-82.82 541.96,-93 546.01,-83.21 539.02,-82.82\"/>\n<text text-anchor=\"start\" x=\"542.54\" y=\"-56\" font-family=\"Times,serif\" font-size=\"10.00\">amount</text>\n</g>\n<!-- (&#39;increase3&#39;,) -->\n<g id=\"node16\" class=\"node\">\n<title>(&#39;increase3&#39;,)</title>\n<polygon fill=\"none\" stroke=\"black\" stroke-width=\"2\" points=\"659.54,-36 605.54,-36 605.54,0 659.54,0 659.54,-36\"/>\n<text text-anchor=\"start\" x=\"609.88\" y=\"-14.4\" font-family=\"Times,serif\" font-size=\"12.00\">increase3</text>\n</g>\n<!-- (&#39;top&#39;, &#39;C3&#39;)&#45;&gt;(&#39;increase3&#39;,) -->\n<g id=\"edge15\" class=\"edge\">\n<title>(&#39;top&#39;, &#39;C3&#39;)&#45;&gt;(&#39;increase3&#39;,)</title>\n<path fill=\"none\" stroke=\"black\" stroke-dasharray=\"5,2\" d=\"M616.71,-95.27C614.57,-82.27 613.63,-67.36 616.54,-54 617.04,-51.71 617.7,-49.38 618.48,-47.08\"/>\n<polygon fill=\"black\" stroke=\"black\" points=\"621.62,-48.64 622.13,-38.06 615.13,-46.01 621.62,-48.64\"/>\n<text text-anchor=\"start\" x=\"617.54\" y=\"-56\" font-family=\"Times,serif\" font-size=\"10.00\">amount</text>\n</g>\n<!-- (&#39;top&#39;, &#39;C3&#39;)&#45;&gt;(&#39;increase3&#39;,) -->\n<g id=\"edge22\" class=\"edge\">\n<title>(&#39;top&#39;, &#39;C3&#39;)&#45;&gt;(&#39;increase3&#39;,)</title>\n<path fill=\"none\" stroke=\"black\" stroke-dasharray=\"5,2\" d=\"M644.48,-86.89C647.28,-76.24 648.61,-64.77 646.54,-54 645.42,-48.22 643.36,-42.17 641.16,-36.77\"/>\n<polygon fill=\"black\" stroke=\"black\" points=\"641.22,-85.6 641.57,-96.19 647.9,-87.69 641.22,-85.6\"/>\n<text text-anchor=\"start\" x=\"647.54\" y=\"-56\" font-family=\"Times,serif\" font-size=\"10.00\">amount</text>\n</g>\n<!-- (&#39;increase4&#39;,) -->\n<g id=\"node17\" class=\"node\">\n<title>(&#39;increase4&#39;,)</title>\n<polygon fill=\"none\" stroke=\"black\" stroke-width=\"2\" points=\"765.54,-36 711.54,-36 711.54,0 765.54,0 765.54,-36\"/>\n<text text-anchor=\"start\" x=\"715.88\" y=\"-14.4\" font-family=\"Times,serif\" font-size=\"12.00\">increase4</text>\n</g>\n<!-- (&#39;top&#39;, &#39;C4&#39;)&#45;&gt;(&#39;increase4&#39;,) -->\n<g id=\"edge16\" class=\"edge\">\n<title>(&#39;top&#39;, &#39;C4&#39;)&#45;&gt;(&#39;increase4&#39;,)</title>\n<path fill=\"none\" stroke=\"black\" stroke-dasharray=\"5,2\" d=\"M719.02,-94.02C718.88,-81.28 719.65,-66.86 722.54,-54 723.06,-51.71 723.73,-49.39 724.51,-47.08\"/>\n<polygon fill=\"black\" stroke=\"black\" points=\"727.65,-48.65 728.17,-38.07 721.17,-46.01 727.65,-48.65\"/>\n<text text-anchor=\"start\" x=\"723.54\" y=\"-56\" font-family=\"Times,serif\" font-size=\"10.00\">amount</text>\n</g>\n<!-- (&#39;top&#39;, &#39;C4&#39;)&#45;&gt;(&#39;increase4&#39;,) -->\n<g id=\"edge23\" class=\"edge\">\n<title>(&#39;top&#39;, &#39;C4&#39;)&#45;&gt;(&#39;increase4&#39;,)</title>\n<path fill=\"none\" stroke=\"black\" stroke-dasharray=\"5,2\" d=\"M744.3,-88.34C747.71,-80.48 750.7,-72.15 752.54,-64 754.59,-54.9 752.04,-44.98 748.57,-36.78\"/>\n<polygon fill=\"black\" stroke=\"black\" points=\"741.16,-86.79 740.1,-97.34 747.5,-89.76 741.16,-86.79\"/>\n<text text-anchor=\"start\" x=\"753.54\" y=\"-56\" font-family=\"Times,serif\" font-size=\"10.00\">amount</text>\n</g>\n<!-- (&#39;increase5&#39;,) -->\n<g id=\"node18\" class=\"node\">\n<title>(&#39;increase5&#39;,)</title>\n<polygon fill=\"none\" stroke=\"black\" stroke-width=\"2\" points=\"880.54,-36 826.54,-36 826.54,0 880.54,0 880.54,-36\"/>\n<text text-anchor=\"start\" x=\"830.88\" y=\"-14.4\" font-family=\"Times,serif\" font-size=\"12.00\">increase5</text>\n</g>\n<!-- (&#39;top&#39;, &#39;C5&#39;)&#45;&gt;(&#39;increase5&#39;,) -->\n<g id=\"edge17\" class=\"edge\">\n<title>(&#39;top&#39;, &#39;C5&#39;)&#45;&gt;(&#39;increase5&#39;,)</title>\n<path fill=\"none\" stroke=\"black\" stroke-dasharray=\"5,2\" d=\"M823.69,-94.03C823.39,-81.16 824.39,-66.65 828.54,-54 829.38,-51.43 830.49,-48.88 831.77,-46.4\"/>\n<polygon fill=\"black\" stroke=\"black\" points=\"834.67,-48.36 836.96,-38.02 828.72,-44.68 834.67,-48.36\"/>\n<text text-anchor=\"start\" x=\"829.54\" y=\"-56\" font-family=\"Times,serif\" font-size=\"10.00\">amount</text>\n</g>\n<!-- (&#39;top&#39;, &#39;C5&#39;)&#45;&gt;(&#39;increase5&#39;,) -->\n<g id=\"edge24\" class=\"edge\">\n<title>(&#39;top&#39;, &#39;C5&#39;)&#45;&gt;(&#39;increase5&#39;,)</title>\n<path fill=\"none\" stroke=\"black\" stroke-dasharray=\"5,2\" d=\"M850.3,-88.34C853.71,-80.48 856.7,-72.15 858.54,-64 860.54,-55.11 859.7,-45.03 858.19,-36.67\"/>\n<polygon fill=\"black\" stroke=\"black\" points=\"847.16,-86.79 846.1,-97.34 853.5,-89.76 847.16,-86.79\"/>\n<text text-anchor=\"start\" x=\"859.54\" y=\"-56\" font-family=\"Times,serif\" font-size=\"10.00\">amount</text>\n</g>\n</g>\n</svg>\n",
      "text/plain": [
       "<graphviz.graphs.Digraph at 0x1195460a0>"
      ]
     },
     "execution_count": 21,
     "metadata": {},
     "output_type": "execute_result"
    }
   ],
   "execution_count": 21
  },
  {
   "metadata": {
    "ExecuteTime": {
     "end_time": "2025-02-18T23:26:47.020784Z",
     "start_time": "2025-02-18T22:31:52.370644Z"
    }
   },
   "cell_type": "code",
   "source": [
    "v2.run(interval=10)\n",
    "v2.plot_timeseries(subplot_size=(10, 3),\n",
    "                   ncols=2,\n",
    "                   combined_vars=[[f'top.C{i}' for i in range(4)],\n",
    "                                  [f'top.C{i}' for i in range(4, n_new_nodes)]])"
   ],
   "id": "acdc525441605ac6",
   "outputs": [
    {
     "data": {
      "text/plain": [
       "<Figure size 2000x600 with 4 Axes>"
      ],
      "image/png": "[encoded data removed]"
     },
     "execution_count": 22,
     "metadata": {},
     "output_type": "execute_result"
    }
   ],
   "execution_count": 22
  },
  {
   "metadata": {
    "ExecuteTime": {
     "end_time": "2025-02-18T23:26:47.021593Z",
     "start_time": "2025-02-18T22:31:52.573609Z"
    }
   },
   "cell_type": "code",
   "source": [
    "v2.diagram(dpi='70',\n",
    "           show_values=True,\n",
    "           # show_types=True,\n",
    "           significant_digits=4,\n",
    "           )"
   ],
   "id": "28dfbfcc0ffb8b98",
   "outputs": [
    {
     "data": {
      "image/svg+xml": "<?xml version=\"1.0\" encoding=\"UTF-8\" standalone=\"no\"?>\n<!DOCTYPE svg PUBLIC \"-//W3C//DTD SVG 1.1//EN\"\n \"http://www.w3.org/Graphics/SVG/1.1/DTD/svg11.dtd\">\n<!-- Generated by graphviz version 9.0.0 (0)\n -->\n<!-- Title: bigraph Pages: 1 -->\n<svg width=\"789pt\" height=\"304pt\"\n viewBox=\"0.00 0.00 811.20 312.61\" xmlns=\"http://www.w3.org/2000/svg\" xmlns:xlink=\"http://www.w3.org/1999/xlink\">\n<g id=\"graph0\" class=\"graph\" transform=\"scale(0.972222 0.972222) rotate(0) translate(4 308.61)\">\n<title>bigraph</title>\n<polygon fill=\"white\" stroke=\"none\" points=\"-4,4 -4,-308.61 807.2,-308.61 807.2,4 -4,4\"/>\n<!-- (&#39;global_time&#39;,) -->\n<g id=\"node1\" class=\"node\">\n<title>(&#39;global_time&#39;,)</title>\n<ellipse fill=\"none\" stroke=\"black\" stroke-width=\"2\" cx=\"47.2\" cy=\"-257.41\" rx=\"47.2\" ry=\"47.2\"/>\n<text text-anchor=\"start\" x=\"10.87\" y=\"-253.81\" font-family=\"Times,serif\" font-size=\"12.00\">global_time:20</text>\n</g>\n<!-- (&#39;emitter&#39;,) -->\n<g id=\"node12\" class=\"node\">\n<title>(&#39;emitter&#39;,)</title>\n<polygon fill=\"none\" stroke=\"black\" stroke-width=\"2\" points=\"74.2,-141.1 20.2,-141.1 20.2,-105.1 74.2,-105.1 74.2,-141.1\"/>\n<text text-anchor=\"start\" x=\"30.21\" y=\"-119.5\" font-family=\"Times,serif\" font-size=\"12.00\">emitter</text>\n</g>\n<!-- (&#39;global_time&#39;,)&#45;&gt;(&#39;emitter&#39;,) -->\n<g id=\"edge10\" class=\"edge\">\n<title>(&#39;global_time&#39;,)&#45;&gt;(&#39;emitter&#39;,)</title>\n<path fill=\"none\" stroke=\"black\" stroke-dasharray=\"5,2\" d=\"M47.2,-209.39C47.2,-190.62 47.2,-169.61 47.2,-153.13\"/>\n<polygon fill=\"black\" stroke=\"black\" points=\"50.7,-153.55 47.2,-143.55 43.7,-153.55 50.7,-153.55\"/>\n<text text-anchor=\"start\" x=\"47.2\" y=\"-184.21\" font-family=\"Times,serif\" font-size=\"10.00\">global_time</text>\n</g>\n<!-- (&#39;top&#39;,) -->\n<g id=\"node2\" class=\"node\">\n<title>(&#39;top&#39;,)</title>\n<ellipse fill=\"none\" stroke=\"black\" stroke-width=\"2\" cx=\"370.2\" cy=\"-257.41\" rx=\"18\" ry=\"18\"/>\n<text text-anchor=\"start\" x=\"362.53\" y=\"-253.81\" font-family=\"Times,serif\" font-size=\"12.00\">top</text>\n</g>\n<!-- (&#39;top&#39;, &#39;A&#39;) -->\n<g id=\"node3\" class=\"node\">\n<title>(&#39;top&#39;, &#39;A&#39;)</title>\n<ellipse fill=\"none\" stroke=\"black\" stroke-width=\"2\" cx=\"123.2\" cy=\"-123.1\" rx=\"30.85\" ry=\"30.85\"/>\n<text text-anchor=\"start\" x=\"100.7\" y=\"-119.5\" font-family=\"Times,serif\" font-size=\"12.00\">A:672.75</text>\n</g>\n<!-- (&#39;top&#39;,)&#45;&gt;(&#39;top&#39;, &#39;A&#39;) -->\n<g id=\"edge1\" class=\"edge\">\n<title>(&#39;top&#39;,)&#45;&gt;(&#39;top&#39;, &#39;A&#39;)</title>\n<path fill=\"none\" stroke=\"black\" stroke-width=\"2\" d=\"M352.46,-250.97C315.21,-239.06 227.04,-208.15 163.2,-164.21 156.24,-159.41 149.44,-153.31 143.48,-147.33\"/>\n</g>\n<!-- (&#39;top&#39;, &#39;B&#39;) -->\n<g id=\"node4\" class=\"node\">\n<title>(&#39;top&#39;, &#39;B&#39;)</title>\n<ellipse fill=\"none\" stroke=\"black\" stroke-width=\"2\" cx=\"202.2\" cy=\"-123.1\" rx=\"30.46\" ry=\"30.46\"/>\n<text text-anchor=\"start\" x=\"180.03\" y=\"-119.5\" font-family=\"Times,serif\" font-size=\"12.00\">B:0.3487</text>\n</g>\n<!-- (&#39;top&#39;,)&#45;&gt;(&#39;top&#39;, &#39;B&#39;) -->\n<g id=\"edge2\" class=\"edge\">\n<title>(&#39;top&#39;,)&#45;&gt;(&#39;top&#39;, &#39;B&#39;)</title>\n<path fill=\"none\" stroke=\"black\" stroke-width=\"2\" d=\"M354.85,-246.72C329.99,-230.77 279.82,-197.4 241.2,-164.21 234.87,-158.76 228.39,-152.45 222.58,-146.47\"/>\n</g>\n<!-- (&#39;top&#39;, &#39;C0&#39;) -->\n<g id=\"node5\" class=\"node\">\n<title>(&#39;top&#39;, &#39;C0&#39;)</title>\n<ellipse fill=\"none\" stroke=\"black\" stroke-width=\"2\" cx=\"284.2\" cy=\"-123.1\" rx=\"34.01\" ry=\"34.01\"/>\n<text text-anchor=\"start\" x=\"259.03\" y=\"-119.5\" font-family=\"Times,serif\" font-size=\"12.00\">C0:0.0044</text>\n</g>\n<!-- (&#39;top&#39;,)&#45;&gt;(&#39;top&#39;, &#39;C0&#39;) -->\n<g id=\"edge3\" class=\"edge\">\n<title>(&#39;top&#39;,)&#45;&gt;(&#39;top&#39;, &#39;C0&#39;)</title>\n<path fill=\"none\" stroke=\"black\" stroke-width=\"2\" d=\"M360.34,-241.23C346.31,-219.65 320.33,-179.69 302.67,-152.51\"/>\n</g>\n<!-- (&#39;top&#39;, &#39;C1&#39;) -->\n<g id=\"node6\" class=\"node\">\n<title>(&#39;top&#39;, &#39;C1&#39;)</title>\n<ellipse fill=\"none\" stroke=\"black\" stroke-width=\"2\" cx=\"370.2\" cy=\"-123.1\" rx=\"34.01\" ry=\"34.01\"/>\n<text text-anchor=\"start\" x=\"345.03\" y=\"-119.5\" font-family=\"Times,serif\" font-size=\"12.00\">C1:4.9946</text>\n</g>\n<!-- (&#39;top&#39;,)&#45;&gt;(&#39;top&#39;, &#39;C1&#39;) -->\n<g id=\"edge4\" class=\"edge\">\n<title>(&#39;top&#39;,)&#45;&gt;(&#39;top&#39;, &#39;C1&#39;)</title>\n<path fill=\"none\" stroke=\"black\" stroke-width=\"2\" d=\"M370.2,-238.56C370.2,-217.97 370.2,-183.63 370.2,-157.93\"/>\n</g>\n<!-- (&#39;top&#39;, &#39;C2&#39;) -->\n<g id=\"node7\" class=\"node\">\n<title>(&#39;top&#39;, &#39;C2&#39;)</title>\n<ellipse fill=\"none\" stroke=\"black\" stroke-width=\"2\" cx=\"440.2\" cy=\"-123.1\" rx=\"18.05\" ry=\"18.05\"/>\n<text text-anchor=\"start\" x=\"428.53\" y=\"-119.5\" font-family=\"Times,serif\" font-size=\"12.00\">C2:0</text>\n</g>\n<!-- (&#39;top&#39;,)&#45;&gt;(&#39;top&#39;, &#39;C2&#39;) -->\n<g id=\"edge5\" class=\"edge\">\n<title>(&#39;top&#39;,)&#45;&gt;(&#39;top&#39;, &#39;C2&#39;)</title>\n<path fill=\"none\" stroke=\"black\" stroke-width=\"2\" d=\"M378.65,-240.45C392.1,-215.02 418.25,-165.58 431.73,-140.12\"/>\n</g>\n<!-- (&#39;top&#39;, &#39;C3&#39;) -->\n<g id=\"node8\" class=\"node\">\n<title>(&#39;top&#39;, &#39;C3&#39;)</title>\n<ellipse fill=\"none\" stroke=\"black\" stroke-width=\"2\" cx=\"529.2\" cy=\"-123.1\" rx=\"18.05\" ry=\"18.05\"/>\n<text text-anchor=\"start\" x=\"517.53\" y=\"-119.5\" font-family=\"Times,serif\" font-size=\"12.00\">C3:0</text>\n</g>\n<!-- (&#39;top&#39;,)&#45;&gt;(&#39;top&#39;, &#39;C3&#39;) -->\n<g id=\"edge6\" class=\"edge\">\n<title>(&#39;top&#39;,)&#45;&gt;(&#39;top&#39;, &#39;C3&#39;)</title>\n<path fill=\"none\" stroke=\"black\" stroke-width=\"2\" d=\"M384.03,-244.9C414.1,-219.88 485.14,-160.76 515.29,-135.68\"/>\n</g>\n<!-- (&#39;top&#39;, &#39;C4&#39;) -->\n<g id=\"node9\" class=\"node\">\n<title>(&#39;top&#39;, &#39;C4&#39;)</title>\n<ellipse fill=\"none\" stroke=\"black\" stroke-width=\"2\" cx=\"635.2\" cy=\"-123.1\" rx=\"41.1\" ry=\"41.1\"/>\n<text text-anchor=\"start\" x=\"604.03\" y=\"-119.5\" font-family=\"Times,serif\" font-size=\"12.00\">C4:217.4746</text>\n</g>\n<!-- (&#39;top&#39;,)&#45;&gt;(&#39;top&#39;, &#39;C4&#39;) -->\n<g id=\"edge7\" class=\"edge\">\n<title>(&#39;top&#39;,)&#45;&gt;(&#39;top&#39;, &#39;C4&#39;)</title>\n<path fill=\"none\" stroke=\"black\" stroke-width=\"2\" d=\"M386.65,-248.32C419.11,-232.34 493.7,-195.56 556.2,-164.21 569.95,-157.31 585.01,-149.68 598.26,-142.95\"/>\n</g>\n<!-- (&#39;top&#39;, &#39;C5&#39;) -->\n<g id=\"node10\" class=\"node\">\n<title>(&#39;top&#39;, &#39;C5&#39;)</title>\n<ellipse fill=\"none\" stroke=\"black\" stroke-width=\"2\" cx=\"741.2\" cy=\"-123.1\" rx=\"37.56\" ry=\"37.56\"/>\n<text text-anchor=\"start\" x=\"713.03\" y=\"-119.5\" font-family=\"Times,serif\" font-size=\"12.00\">C5:73.8688</text>\n</g>\n<!-- (&#39;top&#39;,)&#45;&gt;(&#39;top&#39;, &#39;C5&#39;) -->\n<g id=\"edge8\" class=\"edge\">\n<title>(&#39;top&#39;,)&#45;&gt;(&#39;top&#39;, &#39;C5&#39;)</title>\n<path fill=\"none\" stroke=\"black\" stroke-width=\"2\" d=\"M388.39,-253.31C437.97,-244.39 578.9,-215.97 685.2,-164.21 694.34,-159.76 703.58,-153.84 711.86,-147.92\"/>\n</g>\n<!-- (&#39;top&#39;,)&#45;&gt;(&#39;emitter&#39;,) -->\n<g id=\"edge11\" class=\"edge\">\n<title>(&#39;top&#39;,)&#45;&gt;(&#39;emitter&#39;,)</title>\n<path fill=\"none\" stroke=\"black\" stroke-dasharray=\"5,2\" d=\"M351.64,-253.89C303.75,-246.7 173.45,-222.7 83.2,-164.21 77.47,-160.49 72.08,-155.63 67.3,-150.58\"/>\n<polygon fill=\"black\" stroke=\"black\" points=\"70.09,-148.45 60.88,-143.22 64.81,-153.05 70.09,-148.45\"/>\n<text text-anchor=\"start\" x=\"134.2\" y=\"-184.21\" font-family=\"Times,serif\" font-size=\"10.00\">top</text>\n</g>\n<!-- (&#39;increase&#39;,) -->\n<g id=\"node11\" class=\"node\">\n<title>(&#39;increase&#39;,)</title>\n<polygon fill=\"none\" stroke=\"black\" stroke-width=\"2\" points=\"160.2,-36 106.2,-36 106.2,0 160.2,0 160.2,-36\"/>\n<text text-anchor=\"start\" x=\"113.55\" y=\"-14.4\" font-family=\"Times,serif\" font-size=\"12.00\">increase</text>\n</g>\n<!-- (&#39;top&#39;, &#39;A&#39;)&#45;&gt;(&#39;increase&#39;,) -->\n<g id=\"edge9\" class=\"edge\">\n<title>(&#39;top&#39;, &#39;A&#39;)&#45;&gt;(&#39;increase&#39;,)</title>\n<path fill=\"none\" stroke=\"black\" stroke-dasharray=\"5,2\" d=\"M104.54,-97.67C96.91,-84.62 91.15,-68.34 97.21,-54 98.48,-50.99 100.15,-48.11 102.08,-45.39\"/>\n<polygon fill=\"black\" stroke=\"black\" points=\"104.61,-47.81 108.42,-37.93 99.28,-43.28 104.61,-47.81\"/>\n<text text-anchor=\"start\" x=\"98.2\" y=\"-56\" font-family=\"Times,serif\" font-size=\"10.00\">amount</text>\n</g>\n<!-- (&#39;top&#39;, &#39;A&#39;)&#45;&gt;(&#39;increase&#39;,) -->\n<g id=\"edge18\" class=\"edge\">\n<title>(&#39;top&#39;, &#39;A&#39;)&#45;&gt;(&#39;increase&#39;,)</title>\n<path fill=\"none\" stroke=\"black\" stroke-dasharray=\"5,2\" d=\"M127.27,-80.19C128.73,-65.06 130.31,-48.78 131.47,-36.82\"/>\n<polygon fill=\"black\" stroke=\"black\" points=\"123.8,-79.65 126.32,-89.94 130.77,-80.33 123.8,-79.65\"/>\n<text text-anchor=\"start\" x=\"130.2\" y=\"-56\" font-family=\"Times,serif\" font-size=\"10.00\">amount</text>\n</g>\n<!-- (&#39;increase0&#39;,) -->\n<g id=\"node14\" class=\"node\">\n<title>(&#39;increase0&#39;,)</title>\n<polygon fill=\"none\" stroke=\"black\" stroke-width=\"2\" points=\"253.2,-36 199.2,-36 199.2,0 253.2,0 253.2,-36\"/>\n<text text-anchor=\"start\" x=\"203.55\" y=\"-14.4\" font-family=\"Times,serif\" font-size=\"12.00\">increase0</text>\n</g>\n<!-- (&#39;top&#39;, &#39;C0&#39;)&#45;&gt;(&#39;increase0&#39;,) -->\n<g id=\"edge13\" class=\"edge\">\n<title>(&#39;top&#39;, &#39;C0&#39;)&#45;&gt;(&#39;increase0&#39;,)</title>\n<path fill=\"none\" stroke=\"black\" stroke-dasharray=\"5,2\" d=\"M259.92,-97.92C253.99,-92.45 247.53,-86.84 241.2,-82 229.15,-72.78 219.58,-77.26 212.21,-64 209.35,-58.86 209.2,-53.06 210.46,-47.37\"/>\n<polygon fill=\"black\" stroke=\"black\" points=\"213.67,-48.79 213.78,-38.2 207.09,-46.41 213.67,-48.79\"/>\n<text text-anchor=\"start\" x=\"213.2\" y=\"-56\" font-family=\"Times,serif\" font-size=\"10.00\">amount</text>\n</g>\n<!-- (&#39;top&#39;, &#39;C0&#39;)&#45;&gt;(&#39;increase0&#39;,) -->\n<g id=\"edge20\" class=\"edge\">\n<title>(&#39;top&#39;, &#39;C0&#39;)&#45;&gt;(&#39;increase0&#39;,)</title>\n<path fill=\"none\" stroke=\"black\" stroke-dasharray=\"5,2\" d=\"M262.18,-82.96C253.26,-67.11 243.41,-49.59 236.27,-36.9\"/>\n<polygon fill=\"black\" stroke=\"black\" points=\"258.89,-84.24 266.84,-91.24 264.99,-80.81 258.89,-84.24\"/>\n<text text-anchor=\"start\" x=\"250.2\" y=\"-56\" font-family=\"Times,serif\" font-size=\"10.00\">amount</text>\n</g>\n<!-- (&#39;increase1&#39;,) -->\n<g id=\"node15\" class=\"node\">\n<title>(&#39;increase1&#39;,)</title>\n<polygon fill=\"none\" stroke=\"black\" stroke-width=\"2\" points=\"361.2,-36 307.2,-36 307.2,0 361.2,0 361.2,-36\"/>\n<text text-anchor=\"start\" x=\"311.55\" y=\"-14.4\" font-family=\"Times,serif\" font-size=\"12.00\">increase1</text>\n</g>\n<!-- (&#39;top&#39;, &#39;C1&#39;)&#45;&gt;(&#39;increase1&#39;,) -->\n<g id=\"edge14\" class=\"edge\">\n<title>(&#39;top&#39;, &#39;C1&#39;)&#45;&gt;(&#39;increase1&#39;,)</title>\n<path fill=\"none\" stroke=\"black\" stroke-dasharray=\"5,2\" d=\"M343.67,-100.26C333.68,-90.36 323.47,-77.78 318.21,-64 316.11,-58.53 316.4,-52.64 317.9,-47\"/>\n<polygon fill=\"black\" stroke=\"black\" points=\"321.04,-48.59 321.45,-38 314.52,-46.02 321.04,-48.59\"/>\n<text text-anchor=\"start\" x=\"319.2\" y=\"-56\" font-family=\"Times,serif\" font-size=\"10.00\">amount</text>\n</g>\n<!-- (&#39;top&#39;, &#39;C1&#39;)&#45;&gt;(&#39;increase1&#39;,) -->\n<g id=\"edge21\" class=\"edge\">\n<title>(&#39;top&#39;, &#39;C1&#39;)&#45;&gt;(&#39;increase1&#39;,)</title>\n<path fill=\"none\" stroke=\"black\" stroke-dasharray=\"5,2\" d=\"M356.78,-79.02C354.04,-70.69 351.11,-62.04 348.2,-54 346.16,-48.34 343.77,-42.22 341.56,-36.72\"/>\n<polygon fill=\"black\" stroke=\"black\" points=\"353.37,-79.86 359.77,-88.29 360.03,-77.7 353.37,-79.86\"/>\n<text text-anchor=\"start\" x=\"352.2\" y=\"-56\" font-family=\"Times,serif\" font-size=\"10.00\">amount</text>\n</g>\n<!-- (&#39;increase2&#39;,) -->\n<g id=\"node13\" class=\"node\">\n<title>(&#39;increase2&#39;,)</title>\n<polygon fill=\"none\" stroke=\"black\" stroke-width=\"2\" points=\"467.2,-36 413.2,-36 413.2,0 467.2,0 467.2,-36\"/>\n<text text-anchor=\"start\" x=\"417.55\" y=\"-14.4\" font-family=\"Times,serif\" font-size=\"12.00\">increase2</text>\n</g>\n<!-- (&#39;top&#39;, &#39;C2&#39;)&#45;&gt;(&#39;increase2&#39;,) -->\n<g id=\"edge12\" class=\"edge\">\n<title>(&#39;top&#39;, &#39;C2&#39;)&#45;&gt;(&#39;increase2&#39;,)</title>\n<path fill=\"none\" stroke=\"black\" stroke-dasharray=\"5,2\" d=\"M432.25,-105.9C426.49,-92.12 420.33,-71.8 424.21,-54 424.71,-51.71 425.37,-49.38 426.14,-47.08\"/>\n<polygon fill=\"black\" stroke=\"black\" points=\"429.29,-48.64 429.79,-38.06 422.8,-46.01 429.29,-48.64\"/>\n<text text-anchor=\"start\" x=\"425.2\" y=\"-56\" font-family=\"Times,serif\" font-size=\"10.00\">amount</text>\n</g>\n<!-- (&#39;top&#39;, &#39;C2&#39;)&#45;&gt;(&#39;increase2&#39;,) -->\n<g id=\"edge19\" class=\"edge\">\n<title>(&#39;top&#39;, &#39;C2&#39;)&#45;&gt;(&#39;increase2&#39;,)</title>\n<path fill=\"none\" stroke=\"black\" stroke-dasharray=\"5,2\" d=\"M450.74,-94.98C454.31,-82.52 456.81,-67.52 454.2,-54 453.09,-48.22 451.03,-42.17 448.82,-36.77\"/>\n<polygon fill=\"black\" stroke=\"black\" points=\"447.52,-93.58 447.75,-104.17 454.17,-95.75 447.52,-93.58\"/>\n<text text-anchor=\"start\" x=\"456.2\" y=\"-56\" font-family=\"Times,serif\" font-size=\"10.00\">amount</text>\n</g>\n<!-- (&#39;increase3&#39;,) -->\n<g id=\"node16\" class=\"node\">\n<title>(&#39;increase3&#39;,)</title>\n<polygon fill=\"none\" stroke=\"black\" stroke-width=\"2\" points=\"573.2,-36 519.2,-36 519.2,0 573.2,0 573.2,-36\"/>\n<text text-anchor=\"start\" x=\"523.55\" y=\"-14.4\" font-family=\"Times,serif\" font-size=\"12.00\">increase3</text>\n</g>\n<!-- (&#39;top&#39;, &#39;C3&#39;)&#45;&gt;(&#39;increase3&#39;,) -->\n<g id=\"edge15\" class=\"edge\">\n<title>(&#39;top&#39;, &#39;C3&#39;)&#45;&gt;(&#39;increase3&#39;,)</title>\n<path fill=\"none\" stroke=\"black\" stroke-dasharray=\"5,2\" d=\"M527.48,-104.23C526.61,-90.35 526.44,-70.73 530.21,-54 530.72,-51.71 531.4,-49.39 532.18,-47.09\"/>\n<polygon fill=\"black\" stroke=\"black\" points=\"535.32,-48.65 535.85,-38.07 528.84,-46.01 535.32,-48.65\"/>\n<text text-anchor=\"start\" x=\"531.2\" y=\"-56\" font-family=\"Times,serif\" font-size=\"10.00\">amount</text>\n</g>\n<!-- (&#39;top&#39;, &#39;C3&#39;)&#45;&gt;(&#39;increase3&#39;,) -->\n<g id=\"edge22\" class=\"edge\">\n<title>(&#39;top&#39;, &#39;C3&#39;)&#45;&gt;(&#39;increase3&#39;,)</title>\n<path fill=\"none\" stroke=\"black\" stroke-dasharray=\"5,2\" d=\"M545.49,-97.99C551.34,-87.94 557.24,-75.85 560.2,-64 562.46,-54.95 559.94,-45.04 556.43,-36.82\"/>\n<polygon fill=\"black\" stroke=\"black\" points=\"542.6,-96.01 540.31,-106.35 548.55,-99.69 542.6,-96.01\"/>\n<text text-anchor=\"start\" x=\"561.2\" y=\"-56\" font-family=\"Times,serif\" font-size=\"10.00\">amount</text>\n</g>\n<!-- (&#39;increase4&#39;,) -->\n<g id=\"node17\" class=\"node\">\n<title>(&#39;increase4&#39;,)</title>\n<polygon fill=\"none\" stroke=\"black\" stroke-width=\"2\" points=\"679.2,-36 625.2,-36 625.2,0 679.2,0 679.2,-36\"/>\n<text text-anchor=\"start\" x=\"629.55\" y=\"-14.4\" font-family=\"Times,serif\" font-size=\"12.00\">increase4</text>\n</g>\n<!-- (&#39;top&#39;, &#39;C4&#39;)&#45;&gt;(&#39;increase4&#39;,) -->\n<g id=\"edge16\" class=\"edge\">\n<title>(&#39;top&#39;, &#39;C4&#39;)&#45;&gt;(&#39;increase4&#39;,)</title>\n<path fill=\"none\" stroke=\"black\" stroke-dasharray=\"5,2\" d=\"M633.07,-81.09C633.36,-72.08 634.26,-62.65 636.21,-54 636.72,-51.71 637.4,-49.39 638.18,-47.09\"/>\n<polygon fill=\"black\" stroke=\"black\" points=\"641.32,-48.65 641.85,-38.07 634.84,-46.01 641.32,-48.65\"/>\n<text text-anchor=\"start\" x=\"637.2\" y=\"-56\" font-family=\"Times,serif\" font-size=\"10.00\">amount</text>\n</g>\n<!-- (&#39;top&#39;, &#39;C4&#39;)&#45;&gt;(&#39;increase4&#39;,) -->\n<g id=\"edge23\" class=\"edge\">\n<title>(&#39;top&#39;, &#39;C4&#39;)&#45;&gt;(&#39;increase4&#39;,)</title>\n<path fill=\"none\" stroke=\"black\" stroke-dasharray=\"5,2\" d=\"M661.95,-76.9C663.66,-72.64 665.12,-68.31 666.2,-64 668.46,-54.95 665.94,-45.04 662.43,-36.82\"/>\n<polygon fill=\"black\" stroke=\"black\" points=\"658.82,-75.33 657.91,-85.89 665.2,-78.21 658.82,-75.33\"/>\n<text text-anchor=\"start\" x=\"667.2\" y=\"-56\" font-family=\"Times,serif\" font-size=\"10.00\">amount</text>\n</g>\n<!-- (&#39;increase5&#39;,) -->\n<g id=\"node18\" class=\"node\">\n<title>(&#39;increase5&#39;,)</title>\n<polygon fill=\"none\" stroke=\"black\" stroke-width=\"2\" points=\"794.2,-36 740.2,-36 740.2,0 794.2,0 794.2,-36\"/>\n<text text-anchor=\"start\" x=\"744.55\" y=\"-14.4\" font-family=\"Times,serif\" font-size=\"12.00\">increase5</text>\n</g>\n<!-- (&#39;top&#39;, &#39;C5&#39;)&#45;&gt;(&#39;increase5&#39;,) -->\n<g id=\"edge17\" class=\"edge\">\n<title>(&#39;top&#39;, &#39;C5&#39;)&#45;&gt;(&#39;increase5&#39;,)</title>\n<path fill=\"none\" stroke=\"black\" stroke-dasharray=\"5,2\" d=\"M737.74,-85.03C737.85,-74.77 739,-63.77 742.21,-54 743.05,-51.43 744.16,-48.88 745.44,-46.4\"/>\n<polygon fill=\"black\" stroke=\"black\" points=\"748.34,-48.37 750.63,-38.02 742.39,-44.68 748.34,-48.37\"/>\n<text text-anchor=\"start\" x=\"743.2\" y=\"-56\" font-family=\"Times,serif\" font-size=\"10.00\">amount</text>\n</g>\n<!-- (&#39;top&#39;, &#39;C5&#39;)&#45;&gt;(&#39;increase5&#39;,) -->\n<g id=\"edge24\" class=\"edge\">\n<title>(&#39;top&#39;, &#39;C5&#39;)&#45;&gt;(&#39;increase5&#39;,)</title>\n<path fill=\"none\" stroke=\"black\" stroke-dasharray=\"5,2\" d=\"M766.43,-80.55C768.79,-75.13 770.82,-69.54 772.2,-64 774.41,-55.15 773.59,-45.09 772.04,-36.72\"/>\n<polygon fill=\"black\" stroke=\"black\" points=\"763.39,-78.78 762.2,-89.31 769.7,-81.82 763.39,-78.78\"/>\n<text text-anchor=\"start\" x=\"773.2\" y=\"-56\" font-family=\"Times,serif\" font-size=\"10.00\">amount</text>\n</g>\n</g>\n</svg>\n",
      "text/plain": [
       "<graphviz.graphs.Digraph at 0x10fdcd3a0>"
      ]
     },
     "execution_count": 23,
     "metadata": {},
     "output_type": "execute_result"
    }
   ],
   "execution_count": 23
  },
  {
   "metadata": {
    "ExecuteTime": {
     "end_time": "2025-02-18T23:26:47.026885Z",
     "start_time": "2025-02-18T22:31:52.610145Z"
    }
   },
   "cell_type": "code",
   "source": [
    "v2.diagram(dpi='70',\n",
    "           show_values=True,\n",
    "           # show_types=True,\n",
    "           significant_digits=4,\n",
    "           rankdir='LR',\n",
    "           port_labels=False,\n",
    "           remove_nodes=['top.A', 'top.B', 'increase', 'emitter', 'global_time'],\n",
    "           node_border_colors={(f'increase{i}',): 'blue' for i in range(n_new_nodes)},\n",
    "           )"
   ],
   "id": "646f55475bef2b52",
   "outputs": [
    {
     "data": {
      "image/svg+xml": "<?xml version=\"1.0\" encoding=\"UTF-8\" standalone=\"no\"?>\n<!DOCTYPE svg PUBLIC \"-//W3C//DTD SVG 1.1//EN\"\n \"http://www.w3.org/Graphics/SVG/1.1/DTD/svg11.dtd\">\n<!-- Generated by graphviz version 9.0.0 (0)\n -->\n<!-- Title: bigraph Pages: 1 -->\n<svg width=\"245pt\" height=\"451pt\"\n viewBox=\"0.00 0.00 252.21 463.57\" xmlns=\"http://www.w3.org/2000/svg\" xmlns:xlink=\"http://www.w3.org/1999/xlink\">\n<g id=\"graph0\" class=\"graph\" transform=\"scale(0.972222 0.972222) rotate(0) translate(4 459.57)\">\n<title>bigraph</title>\n<polygon fill=\"white\" stroke=\"none\" points=\"-4,4 -4,-459.57 248.21,-459.57 248.21,4 -4,4\"/>\n<!-- (&#39;top&#39;,) -->\n<g id=\"node1\" class=\"node\">\n<title>(&#39;top&#39;,)</title>\n<ellipse fill=\"none\" stroke=\"black\" stroke-width=\"2\" cx=\"18\" cy=\"-238.56\" rx=\"18\" ry=\"18\"/>\n<text text-anchor=\"start\" x=\"10.33\" y=\"-234.96\" font-family=\"Times,serif\" font-size=\"12.00\">top</text>\n</g>\n<!-- (&#39;top&#39;, &#39;C0&#39;) -->\n<g id=\"node2\" class=\"node\">\n<title>(&#39;top&#39;, &#39;C0&#39;)</title>\n<ellipse fill=\"none\" stroke=\"black\" stroke-width=\"2\" cx=\"113.1\" cy=\"-421.56\" rx=\"34.01\" ry=\"34.01\"/>\n<text text-anchor=\"start\" x=\"87.93\" y=\"-417.96\" font-family=\"Times,serif\" font-size=\"12.00\">C0:0.0044</text>\n</g>\n<!-- (&#39;top&#39;,)&#45;&gt;(&#39;top&#39;, &#39;C0&#39;) -->\n<g id=\"edge1\" class=\"edge\">\n<title>(&#39;top&#39;,)&#45;&gt;(&#39;top&#39;, &#39;C0&#39;)</title>\n<path fill=\"none\" stroke=\"black\" stroke-width=\"2\" d=\"M23.35,-256.36C30.6,-283.98 46.89,-338.17 72,-378.56 76.31,-385.49 81.84,-392.29 87.42,-398.36\"/>\n</g>\n<!-- (&#39;top&#39;, &#39;C1&#39;) -->\n<g id=\"node3\" class=\"node\">\n<title>(&#39;top&#39;, &#39;C1&#39;)</title>\n<ellipse fill=\"none\" stroke=\"black\" stroke-width=\"2\" cx=\"113.1\" cy=\"-335.56\" rx=\"34.01\" ry=\"34.01\"/>\n<text text-anchor=\"start\" x=\"87.93\" y=\"-331.96\" font-family=\"Times,serif\" font-size=\"12.00\">C1:4.9946</text>\n</g>\n<!-- (&#39;top&#39;,)&#45;&gt;(&#39;top&#39;, &#39;C1&#39;) -->\n<g id=\"edge2\" class=\"edge\">\n<title>(&#39;top&#39;,)&#45;&gt;(&#39;top&#39;, &#39;C1&#39;)</title>\n<path fill=\"none\" stroke=\"black\" stroke-width=\"2\" d=\"M31.56,-251.64C46.15,-266.84 70.54,-292.25 88.67,-311.14\"/>\n</g>\n<!-- (&#39;top&#39;, &#39;C2&#39;) -->\n<g id=\"node4\" class=\"node\">\n<title>(&#39;top&#39;, &#39;C2&#39;)</title>\n<ellipse fill=\"none\" stroke=\"black\" stroke-width=\"2\" cx=\"113.1\" cy=\"-265.56\" rx=\"18.05\" ry=\"18.05\"/>\n<text text-anchor=\"start\" x=\"101.43\" y=\"-261.96\" font-family=\"Times,serif\" font-size=\"12.00\">C2:0</text>\n</g>\n<!-- (&#39;top&#39;,)&#45;&gt;(&#39;top&#39;, &#39;C2&#39;) -->\n<g id=\"edge3\" class=\"edge\">\n<title>(&#39;top&#39;,)&#45;&gt;(&#39;top&#39;, &#39;C2&#39;)</title>\n<path fill=\"none\" stroke=\"black\" stroke-width=\"2\" d=\"M36.08,-243.51C52.77,-248.35 78.05,-255.68 94.82,-260.54\"/>\n</g>\n<!-- (&#39;top&#39;, &#39;C3&#39;) -->\n<g id=\"node5\" class=\"node\">\n<title>(&#39;top&#39;, &#39;C3&#39;)</title>\n<ellipse fill=\"none\" stroke=\"black\" stroke-width=\"2\" cx=\"113.1\" cy=\"-211.56\" rx=\"18.05\" ry=\"18.05\"/>\n<text text-anchor=\"start\" x=\"101.43\" y=\"-207.96\" font-family=\"Times,serif\" font-size=\"12.00\">C3:0</text>\n</g>\n<!-- (&#39;top&#39;,)&#45;&gt;(&#39;top&#39;, &#39;C3&#39;) -->\n<g id=\"edge4\" class=\"edge\">\n<title>(&#39;top&#39;,)&#45;&gt;(&#39;top&#39;, &#39;C3&#39;)</title>\n<path fill=\"none\" stroke=\"black\" stroke-width=\"2\" d=\"M36.08,-233.6C52.77,-228.76 78.05,-221.43 94.82,-216.57\"/>\n</g>\n<!-- (&#39;top&#39;, &#39;C4&#39;) -->\n<g id=\"node6\" class=\"node\">\n<title>(&#39;top&#39;, &#39;C4&#39;)</title>\n<ellipse fill=\"none\" stroke=\"black\" stroke-width=\"2\" cx=\"113.1\" cy=\"-134.56\" rx=\"41.1\" ry=\"41.1\"/>\n<text text-anchor=\"start\" x=\"81.93\" y=\"-130.96\" font-family=\"Times,serif\" font-size=\"12.00\">C4:217.4746</text>\n</g>\n<!-- (&#39;top&#39;,)&#45;&gt;(&#39;top&#39;, &#39;C4&#39;) -->\n<g id=\"edge5\" class=\"edge\">\n<title>(&#39;top&#39;,)&#45;&gt;(&#39;top&#39;, &#39;C4&#39;)</title>\n<path fill=\"none\" stroke=\"black\" stroke-width=\"2\" d=\"M31.17,-224.96C44.68,-209.87 66.91,-185.04 84.65,-165.22\"/>\n</g>\n<!-- (&#39;top&#39;, &#39;C5&#39;) -->\n<g id=\"node7\" class=\"node\">\n<title>(&#39;top&#39;, &#39;C5&#39;)</title>\n<ellipse fill=\"none\" stroke=\"black\" stroke-width=\"2\" cx=\"113.1\" cy=\"-37.56\" rx=\"37.56\" ry=\"37.56\"/>\n<text text-anchor=\"start\" x=\"84.93\" y=\"-33.96\" font-family=\"Times,serif\" font-size=\"12.00\">C5:73.8688</text>\n</g>\n<!-- (&#39;top&#39;,)&#45;&gt;(&#39;top&#39;, &#39;C5&#39;) -->\n<g id=\"edge6\" class=\"edge\">\n<title>(&#39;top&#39;,)&#45;&gt;(&#39;top&#39;, &#39;C5&#39;)</title>\n<path fill=\"none\" stroke=\"black\" stroke-width=\"2\" d=\"M22.87,-220.55C29.76,-190.83 45.92,-130.22 72,-84.56 75.88,-77.76 80.81,-71.01 85.88,-64.85\"/>\n</g>\n<!-- (&#39;increase0&#39;,) -->\n<g id=\"node9\" class=\"node\">\n<title>(&#39;increase0&#39;,)</title>\n<polygon fill=\"none\" stroke=\"blue\" stroke-width=\"2\" points=\"244.21,-439.56 190.21,-439.56 190.21,-403.56 244.21,-403.56 244.21,-439.56\"/>\n<text text-anchor=\"start\" x=\"194.55\" y=\"-417.96\" font-family=\"Times,serif\" font-size=\"12.00\">increase0</text>\n</g>\n<!-- (&#39;top&#39;, &#39;C0&#39;)&#45;&gt;(&#39;increase0&#39;,) -->\n<g id=\"edge8\" class=\"edge\">\n<title>(&#39;top&#39;, &#39;C0&#39;)&#45;&gt;(&#39;increase0&#39;,)</title>\n<path fill=\"none\" stroke=\"black\" stroke-dasharray=\"5,2\" d=\"M147.25,-415.19C157.05,-414.75 167.85,-414.69 177.93,-415\"/>\n<polygon fill=\"black\" stroke=\"black\" points=\"177.68,-418.49 187.83,-415.46 178.01,-411.5 177.68,-418.49\"/>\n</g>\n<!-- (&#39;top&#39;, &#39;C0&#39;)&#45;&gt;(&#39;increase0&#39;,) -->\n<g id=\"edge14\" class=\"edge\">\n<title>(&#39;top&#39;, &#39;C0&#39;)&#45;&gt;(&#39;increase0&#39;,)</title>\n<path fill=\"none\" stroke=\"black\" stroke-dasharray=\"5,2\" d=\"M158.44,-428.25C168.96,-428.42 179.88,-428.19 189.35,-427.58\"/>\n<polygon fill=\"black\" stroke=\"black\" points=\"158.86,-424.77 148.77,-427.97 158.66,-431.76 158.86,-424.77\"/>\n</g>\n<!-- (&#39;increase1&#39;,) -->\n<g id=\"node10\" class=\"node\">\n<title>(&#39;increase1&#39;,)</title>\n<polygon fill=\"none\" stroke=\"blue\" stroke-width=\"2\" points=\"244.21,-353.56 190.21,-353.56 190.21,-317.56 244.21,-317.56 244.21,-353.56\"/>\n<text text-anchor=\"start\" x=\"194.55\" y=\"-331.96\" font-family=\"Times,serif\" font-size=\"12.00\">increase1</text>\n</g>\n<!-- (&#39;top&#39;, &#39;C1&#39;)&#45;&gt;(&#39;increase1&#39;,) -->\n<g id=\"edge9\" class=\"edge\">\n<title>(&#39;top&#39;, &#39;C1&#39;)&#45;&gt;(&#39;increase1&#39;,)</title>\n<path fill=\"none\" stroke=\"black\" stroke-dasharray=\"5,2\" d=\"M147.25,-329.19C157.05,-328.75 167.85,-328.69 177.93,-329\"/>\n<polygon fill=\"black\" stroke=\"black\" points=\"177.68,-332.49 187.83,-329.46 178.01,-325.5 177.68,-332.49\"/>\n</g>\n<!-- (&#39;top&#39;, &#39;C1&#39;)&#45;&gt;(&#39;increase1&#39;,) -->\n<g id=\"edge15\" class=\"edge\">\n<title>(&#39;top&#39;, &#39;C1&#39;)&#45;&gt;(&#39;increase1&#39;,)</title>\n<path fill=\"none\" stroke=\"black\" stroke-dasharray=\"5,2\" d=\"M158.44,-342.25C168.96,-342.42 179.88,-342.19 189.35,-341.58\"/>\n<polygon fill=\"black\" stroke=\"black\" points=\"158.86,-338.77 148.77,-341.97 158.66,-345.76 158.86,-338.77\"/>\n</g>\n<!-- (&#39;increase2&#39;,) -->\n<g id=\"node8\" class=\"node\">\n<title>(&#39;increase2&#39;,)</title>\n<polygon fill=\"none\" stroke=\"blue\" stroke-width=\"2\" points=\"244.21,-283.56 190.21,-283.56 190.21,-247.56 244.21,-247.56 244.21,-283.56\"/>\n<text text-anchor=\"start\" x=\"194.55\" y=\"-261.96\" font-family=\"Times,serif\" font-size=\"12.00\">increase2</text>\n</g>\n<!-- (&#39;top&#39;, &#39;C2&#39;)&#45;&gt;(&#39;increase2&#39;,) -->\n<g id=\"edge7\" class=\"edge\">\n<title>(&#39;top&#39;, &#39;C2&#39;)&#45;&gt;(&#39;increase2&#39;,)</title>\n<path fill=\"none\" stroke=\"black\" stroke-dasharray=\"5,2\" d=\"M131.42,-260.34C144.24,-258.95 162.2,-258.5 178.29,-259.01\"/>\n<polygon fill=\"black\" stroke=\"black\" points=\"177.9,-262.49 188.06,-259.47 178.24,-255.5 177.9,-262.49\"/>\n</g>\n<!-- (&#39;top&#39;, &#39;C2&#39;)&#45;&gt;(&#39;increase2&#39;,) -->\n<g id=\"edge13\" class=\"edge\">\n<title>(&#39;top&#39;, &#39;C2&#39;)&#45;&gt;(&#39;increase2&#39;,)</title>\n<path fill=\"none\" stroke=\"black\" stroke-dasharray=\"5,2\" d=\"M142.88,-271.7C157.53,-272.55 175.23,-272.51 189.57,-271.57\"/>\n<polygon fill=\"black\" stroke=\"black\" points=\"143.18,-268.21 132.93,-270.9 142.62,-275.19 143.18,-268.21\"/>\n</g>\n<!-- (&#39;increase3&#39;,) -->\n<g id=\"node11\" class=\"node\">\n<title>(&#39;increase3&#39;,)</title>\n<polygon fill=\"none\" stroke=\"blue\" stroke-width=\"2\" points=\"244.21,-229.56 190.21,-229.56 190.21,-193.56 244.21,-193.56 244.21,-229.56\"/>\n<text text-anchor=\"start\" x=\"194.55\" y=\"-207.96\" font-family=\"Times,serif\" font-size=\"12.00\">increase3</text>\n</g>\n<!-- (&#39;top&#39;, &#39;C3&#39;)&#45;&gt;(&#39;increase3&#39;,) -->\n<g id=\"edge10\" class=\"edge\">\n<title>(&#39;top&#39;, &#39;C3&#39;)&#45;&gt;(&#39;increase3&#39;,)</title>\n<path fill=\"none\" stroke=\"black\" stroke-dasharray=\"5,2\" d=\"M131.42,-206.34C144.24,-204.95 162.2,-204.5 178.29,-205.01\"/>\n<polygon fill=\"black\" stroke=\"black\" points=\"177.9,-208.49 188.06,-205.47 178.24,-201.5 177.9,-208.49\"/>\n</g>\n<!-- (&#39;top&#39;, &#39;C3&#39;)&#45;&gt;(&#39;increase3&#39;,) -->\n<g id=\"edge16\" class=\"edge\">\n<title>(&#39;top&#39;, &#39;C3&#39;)&#45;&gt;(&#39;increase3&#39;,)</title>\n<path fill=\"none\" stroke=\"black\" stroke-dasharray=\"5,2\" d=\"M142.88,-217.7C157.53,-218.55 175.23,-218.51 189.57,-217.57\"/>\n<polygon fill=\"black\" stroke=\"black\" points=\"143.18,-214.21 132.93,-216.9 142.62,-221.19 143.18,-214.21\"/>\n</g>\n<!-- (&#39;increase4&#39;,) -->\n<g id=\"node12\" class=\"node\">\n<title>(&#39;increase4&#39;,)</title>\n<polygon fill=\"none\" stroke=\"blue\" stroke-width=\"2\" points=\"244.21,-152.56 190.21,-152.56 190.21,-116.56 244.21,-116.56 244.21,-152.56\"/>\n<text text-anchor=\"start\" x=\"194.55\" y=\"-130.96\" font-family=\"Times,serif\" font-size=\"12.00\">increase4</text>\n</g>\n<!-- (&#39;top&#39;, &#39;C4&#39;)&#45;&gt;(&#39;increase4&#39;,) -->\n<g id=\"edge11\" class=\"edge\">\n<title>(&#39;top&#39;, &#39;C4&#39;)&#45;&gt;(&#39;increase4&#39;,)</title>\n<path fill=\"none\" stroke=\"black\" stroke-dasharray=\"5,2\" d=\"M154.46,-127.94C162.23,-127.74 170.35,-127.76 178.05,-128\"/>\n<polygon fill=\"black\" stroke=\"black\" points=\"177.65,-131.49 187.8,-128.46 177.98,-124.49 177.65,-131.49\"/>\n</g>\n<!-- (&#39;top&#39;, &#39;C4&#39;)&#45;&gt;(&#39;increase4&#39;,) -->\n<g id=\"edge17\" class=\"edge\">\n<title>(&#39;top&#39;, &#39;C4&#39;)&#45;&gt;(&#39;increase4&#39;,)</title>\n<path fill=\"none\" stroke=\"black\" stroke-dasharray=\"5,2\" d=\"M165.86,-141.31C173.98,-141.29 182.07,-141.05 189.32,-140.58\"/>\n<polygon fill=\"black\" stroke=\"black\" points=\"166.01,-137.81 155.97,-141.19 165.93,-144.81 166.01,-137.81\"/>\n</g>\n<!-- (&#39;increase5&#39;,) -->\n<g id=\"node13\" class=\"node\">\n<title>(&#39;increase5&#39;,)</title>\n<polygon fill=\"none\" stroke=\"blue\" stroke-width=\"2\" points=\"244.21,-55.56 190.21,-55.56 190.21,-19.56 244.21,-19.56 244.21,-55.56\"/>\n<text text-anchor=\"start\" x=\"194.55\" y=\"-33.96\" font-family=\"Times,serif\" font-size=\"12.00\">increase5</text>\n</g>\n<!-- (&#39;top&#39;, &#39;C5&#39;)&#45;&gt;(&#39;increase5&#39;,) -->\n<g id=\"edge12\" class=\"edge\">\n<title>(&#39;top&#39;, &#39;C5&#39;)&#45;&gt;(&#39;increase5&#39;,)</title>\n<path fill=\"none\" stroke=\"black\" stroke-dasharray=\"5,2\" d=\"M150.96,-31.04C159.78,-30.74 169.21,-30.73 178.08,-31\"/>\n<polygon fill=\"black\" stroke=\"black\" points=\"177.66,-34.49 187.82,-31.46 177.99,-27.49 177.66,-34.49\"/>\n</g>\n<!-- (&#39;top&#39;, &#39;C5&#39;)&#45;&gt;(&#39;increase5&#39;,) -->\n<g id=\"edge18\" class=\"edge\">\n<title>(&#39;top&#39;, &#39;C5&#39;)&#45;&gt;(&#39;increase5&#39;,)</title>\n<path fill=\"none\" stroke=\"black\" stroke-dasharray=\"5,2\" d=\"M162.19,-44.3C171.52,-44.36 180.99,-44.12 189.33,-43.58\"/>\n<polygon fill=\"black\" stroke=\"black\" points=\"162.55,-40.8 152.48,-44.1 162.4,-47.8 162.55,-40.8\"/>\n</g>\n</g>\n</svg>\n",
      "text/plain": [
       "<graphviz.graphs.Digraph at 0x1195746a0>"
      ]
     },
     "execution_count": 24,
     "metadata": {},
     "output_type": "execute_result"
    }
   ],
   "execution_count": 24
  },
  {
   "metadata": {
    "ExecuteTime": {
     "end_time": "2025-02-18T23:26:47.028312Z",
     "start_time": "2025-02-18T22:31:52.638448Z"
    }
   },
   "cell_type": "code",
   "source": "",
   "id": "a7b46454e748dfe7",
   "outputs": [],
   "execution_count": null
  }
 ],
 "metadata": {
  "kernelspec": {
   "display_name": "Python 3",
   "language": "python",
   "name": "python3"
  },
  "language_info": {
   "codemirror_mode": {
    "name": "ipython",
    "version": 2
   },
   "file_extension": ".py",
   "mimetype": "text/x-python",
   "name": "python",
   "nbconvert_exporter": "python",
   "pygments_lexer": "ipython2",
   "version": "2.7.6"
  }
 },
 "nbformat": 4,
 "nbformat_minor": 5
}
