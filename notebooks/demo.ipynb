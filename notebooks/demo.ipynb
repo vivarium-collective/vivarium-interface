{
 "cells": [
  {
   "metadata": {},
   "cell_type": "markdown",
   "source": [
    "# Vivarium Interface Demo\n",
    "\n",
    "This notebook demonstrates the usage of the Vivarium Python API for building, verifying, and saving composite process-bigraph simulations. It includes examples of initializing a simulation, running it, retrieving results, and generating visual diagrams."
   ],
   "id": "72bf55bd0ba0253d"
  },
  {
   "cell_type": "code",
   "id": "initial_id",
   "metadata": {
    "collapsed": true,
    "ExecuteTime": {
     "end_time": "2025-03-11T22:24:05.387025Z",
     "start_time": "2025-03-11T22:24:04.906285Z"
    }
   },
   "source": [
    "import random\n",
    "from vivarium import Vivarium\n",
    "from vivarium.tests import DEMO_PROCESSES  # toy processes"
   ],
   "outputs": [],
   "execution_count": 1
  },
  {
   "metadata": {
    "ExecuteTime": {
     "end_time": "2025-03-11T22:24:05.396318Z",
     "start_time": "2025-03-11T22:24:05.389600Z"
    }
   },
   "cell_type": "code",
   "source": [
    "# initialize a Vivarium object\n",
    "v = Vivarium(processes=DEMO_PROCESSES,\n",
    "             # require=['units', 'sbml', 'sedml=0.1.0']\n",
    "             )"
   ],
   "id": "eba991c23c80ca27",
   "outputs": [],
   "execution_count": 2
  },
  {
   "metadata": {
    "ExecuteTime": {
     "end_time": "2025-03-11T22:24:05.462250Z",
     "start_time": "2025-03-11T22:24:05.456138Z"
    }
   },
   "cell_type": "code",
   "source": [
    "# view the available types\n",
    "v.get_types()"
   ],
   "id": "abb345f9eb4e5b72",
   "outputs": [
    {
     "data": {
      "text/plain": [
       "                      Type\n",
       "0                         \n",
       "1                 length^3\n",
       "2   current*time/substance\n",
       "3        /temperature*time\n",
       "4           substance/time\n",
       "..                     ...\n",
       "90      mass/length*time^2\n",
       "91                   maybe\n",
       "92        current*length^2\n",
       "93             mass/time^2\n",
       "94    length^2*mass/time^3\n",
       "\n",
       "[95 rows x 1 columns]"
      ],
      "text/html": [
       "<div>\n",
       "<style scoped>\n",
       "    .dataframe tbody tr th:only-of-type {\n",
       "        vertical-align: middle;\n",
       "    }\n",
       "\n",
       "    .dataframe tbody tr th {\n",
       "        vertical-align: top;\n",
       "    }\n",
       "\n",
       "    .dataframe thead th {\n",
       "        text-align: right;\n",
       "    }\n",
       "</style>\n",
       "<table border=\"1\" class=\"dataframe\">\n",
       "  <thead>\n",
       "    <tr style=\"text-align: right;\">\n",
       "      <th></th>\n",
       "      <th>Type</th>\n",
       "    </tr>\n",
       "  </thead>\n",
       "  <tbody>\n",
       "    <tr>\n",
       "      <th>0</th>\n",
       "      <td></td>\n",
       "    </tr>\n",
       "    <tr>\n",
       "      <th>1</th>\n",
       "      <td>length^3</td>\n",
       "    </tr>\n",
       "    <tr>\n",
       "      <th>2</th>\n",
       "      <td>current*time/substance</td>\n",
       "    </tr>\n",
       "    <tr>\n",
       "      <th>3</th>\n",
       "      <td>/temperature*time</td>\n",
       "    </tr>\n",
       "    <tr>\n",
       "      <th>4</th>\n",
       "      <td>substance/time</td>\n",
       "    </tr>\n",
       "    <tr>\n",
       "      <th>...</th>\n",
       "      <td>...</td>\n",
       "    </tr>\n",
       "    <tr>\n",
       "      <th>90</th>\n",
       "      <td>mass/length*time^2</td>\n",
       "    </tr>\n",
       "    <tr>\n",
       "      <th>91</th>\n",
       "      <td>maybe</td>\n",
       "    </tr>\n",
       "    <tr>\n",
       "      <th>92</th>\n",
       "      <td>current*length^2</td>\n",
       "    </tr>\n",
       "    <tr>\n",
       "      <th>93</th>\n",
       "      <td>mass/time^2</td>\n",
       "    </tr>\n",
       "    <tr>\n",
       "      <th>94</th>\n",
       "      <td>length^2*mass/time^3</td>\n",
       "    </tr>\n",
       "  </tbody>\n",
       "</table>\n",
       "<p>95 rows × 1 columns</p>\n",
       "</div>"
      ]
     },
     "execution_count": 3,
     "metadata": {},
     "output_type": "execute_result"
    }
   ],
   "execution_count": 3
  },
  {
   "metadata": {
    "ExecuteTime": {
     "end_time": "2025-03-11T22:24:05.485614Z",
     "start_time": "2025-03-11T22:24:05.482599Z"
    }
   },
   "cell_type": "code",
   "source": [
    "# view the type schema for 'string'\n",
    "v.get_type('length')"
   ],
   "id": "4a39e446dab3f6c4",
   "outputs": [
    {
     "data": {
      "text/plain": [
       "     Attribute                                           Value\n",
       "0      default                                 1 dimensionless\n",
       "1  description  type to represent values with scientific units"
      ],
      "text/html": [
       "<div>\n",
       "<style scoped>\n",
       "    .dataframe tbody tr th:only-of-type {\n",
       "        vertical-align: middle;\n",
       "    }\n",
       "\n",
       "    .dataframe tbody tr th {\n",
       "        vertical-align: top;\n",
       "    }\n",
       "\n",
       "    .dataframe thead th {\n",
       "        text-align: right;\n",
       "    }\n",
       "</style>\n",
       "<table border=\"1\" class=\"dataframe\">\n",
       "  <thead>\n",
       "    <tr style=\"text-align: right;\">\n",
       "      <th></th>\n",
       "      <th>Attribute</th>\n",
       "      <th>Value</th>\n",
       "    </tr>\n",
       "  </thead>\n",
       "  <tbody>\n",
       "    <tr>\n",
       "      <th>0</th>\n",
       "      <td>default</td>\n",
       "      <td>1 dimensionless</td>\n",
       "    </tr>\n",
       "    <tr>\n",
       "      <th>1</th>\n",
       "      <td>description</td>\n",
       "      <td>type to represent values with scientific units</td>\n",
       "    </tr>\n",
       "  </tbody>\n",
       "</table>\n",
       "</div>"
      ]
     },
     "execution_count": 4,
     "metadata": {},
     "output_type": "execute_result"
    }
   ],
   "execution_count": 4
  },
  {
   "metadata": {
    "ExecuteTime": {
     "end_time": "2025-03-11T22:24:05.535188Z",
     "start_time": "2025-03-11T22:24:05.532170Z"
    }
   },
   "cell_type": "code",
   "source": [
    "# view the available processes\n",
    "v.get_processes()"
   ],
   "id": "fcc6519caadd5ec6",
   "outputs": [
    {
     "data": {
      "text/plain": [
       "           Process\n",
       "0  console-emitter\n",
       "1   increase float\n",
       "2    increase mass\n",
       "3        composite\n",
       "4      ram-emitter\n",
       "5     json-emitter"
      ],
      "text/html": [
       "<div>\n",
       "<style scoped>\n",
       "    .dataframe tbody tr th:only-of-type {\n",
       "        vertical-align: middle;\n",
       "    }\n",
       "\n",
       "    .dataframe tbody tr th {\n",
       "        vertical-align: top;\n",
       "    }\n",
       "\n",
       "    .dataframe thead th {\n",
       "        text-align: right;\n",
       "    }\n",
       "</style>\n",
       "<table border=\"1\" class=\"dataframe\">\n",
       "  <thead>\n",
       "    <tr style=\"text-align: right;\">\n",
       "      <th></th>\n",
       "      <th>Process</th>\n",
       "    </tr>\n",
       "  </thead>\n",
       "  <tbody>\n",
       "    <tr>\n",
       "      <th>0</th>\n",
       "      <td>console-emitter</td>\n",
       "    </tr>\n",
       "    <tr>\n",
       "      <th>1</th>\n",
       "      <td>increase float</td>\n",
       "    </tr>\n",
       "    <tr>\n",
       "      <th>2</th>\n",
       "      <td>increase mass</td>\n",
       "    </tr>\n",
       "    <tr>\n",
       "      <th>3</th>\n",
       "      <td>composite</td>\n",
       "    </tr>\n",
       "    <tr>\n",
       "      <th>4</th>\n",
       "      <td>ram-emitter</td>\n",
       "    </tr>\n",
       "    <tr>\n",
       "      <th>5</th>\n",
       "      <td>json-emitter</td>\n",
       "    </tr>\n",
       "  </tbody>\n",
       "</table>\n",
       "</div>"
      ]
     },
     "execution_count": 5,
     "metadata": {},
     "output_type": "execute_result"
    }
   ],
   "execution_count": 5
  },
  {
   "metadata": {
    "ExecuteTime": {
     "end_time": "2025-03-11T22:24:05.597554Z",
     "start_time": "2025-03-11T22:24:05.595347Z"
    }
   },
   "cell_type": "code",
   "source": [
    "# inspect the config schema for the 'increase' process\n",
    "v.process_schema('increase float')"
   ],
   "id": "26d8ce7a13ba13a9",
   "outputs": [
    {
     "data": {
      "text/plain": [
       "'(rate:float)'"
      ]
     },
     "execution_count": 6,
     "metadata": {},
     "output_type": "execute_result"
    }
   ],
   "execution_count": 6
  },
  {
   "metadata": {
    "ExecuteTime": {
     "end_time": "2025-03-11T22:24:05.631475Z",
     "start_time": "2025-03-11T22:24:05.630069Z"
    }
   },
   "cell_type": "code",
   "source": [
    "# # TODO -- this could look better. Maybe get the dataclass so it can be passed back into the process?\n",
    "# schema = v.process_schema('increase float')\n",
    "# d = v.core.dataclass(schema)\n",
    "# d.rate = 0.1\n",
    "# # d can be passed into the process"
   ],
   "id": "63084e12b9fc7282",
   "outputs": [],
   "execution_count": 7
  },
  {
   "metadata": {
    "ExecuteTime": {
     "end_time": "2025-03-11T22:24:05.671990Z",
     "start_time": "2025-03-11T22:24:05.666803Z"
    }
   },
   "cell_type": "code",
   "source": [
    "# inspect the process interface (inputs/outputs) for the 'increase' process\n",
    "# TODO -- fix this output. interface might need a config\n",
    "v.process_interface('increase mass')"
   ],
   "id": "b7e650510d6e13c6",
   "outputs": [
    {
     "data": {
      "text/plain": [
       "              default                                     description Type\n",
       "Inputs mass  1.0 gram  type to represent values with scientific units  NaN"
      ],
      "text/html": [
       "<div>\n",
       "<style scoped>\n",
       "    .dataframe tbody tr th:only-of-type {\n",
       "        vertical-align: middle;\n",
       "    }\n",
       "\n",
       "    .dataframe tbody tr th {\n",
       "        vertical-align: top;\n",
       "    }\n",
       "\n",
       "    .dataframe thead th {\n",
       "        text-align: right;\n",
       "    }\n",
       "</style>\n",
       "<table border=\"1\" class=\"dataframe\">\n",
       "  <thead>\n",
       "    <tr style=\"text-align: right;\">\n",
       "      <th></th>\n",
       "      <th></th>\n",
       "      <th>default</th>\n",
       "      <th>description</th>\n",
       "      <th>Type</th>\n",
       "    </tr>\n",
       "  </thead>\n",
       "  <tbody>\n",
       "    <tr>\n",
       "      <th>Inputs</th>\n",
       "      <th>mass</th>\n",
       "      <td>1.0 gram</td>\n",
       "      <td>type to represent values with scientific units</td>\n",
       "      <td>NaN</td>\n",
       "    </tr>\n",
       "  </tbody>\n",
       "</table>\n",
       "</div>"
      ]
     },
     "execution_count": 8,
     "metadata": {},
     "output_type": "execute_result"
    }
   ],
   "execution_count": 8
  },
  {
   "metadata": {
    "ExecuteTime": {
     "end_time": "2025-03-11T22:24:05.695968Z",
     "start_time": "2025-03-11T22:24:05.692877Z"
    }
   },
   "cell_type": "code",
   "source": [
    "# add an increase process called 'increase process'\n",
    "v.add_process(name='increase',\n",
    "              process_id='increase float',  # this is the process id\n",
    "              config={'rate': 0.1},         # set according to the config schema. TODO Could this accept a dataclass?\n",
    "              )\n",
    "\n",
    "# print the current state\n",
    "v"
   ],
   "id": "8d522a7fe7f2e577",
   "outputs": [
    {
     "data": {
      "text/plain": [
       "Vivarium( \n",
       "{ 'global_time': 0.0,\n",
       "  'increase': { 'address': 'local:increase float',\n",
       "                'config': {'rate': 0.1},\n",
       "                'inputs': {},\n",
       "                'instance': <vivarium.tests.IncreaseFloat object at 0x10c331e80>,\n",
       "                'interval': 1.0,\n",
       "                'outputs': {},\n",
       "                'shared': None}})"
      ]
     },
     "execution_count": 9,
     "metadata": {},
     "output_type": "execute_result"
    }
   ],
   "execution_count": 9
  },
  {
   "metadata": {
    "ExecuteTime": {
     "end_time": "2025-03-11T22:24:05.746452Z",
     "start_time": "2025-03-11T22:24:05.724169Z"
    }
   },
   "cell_type": "code",
   "source": [
    "# display as a diagram\n",
    "v.diagram(dpi='70', remove_nodes=['global_time'])"
   ],
   "id": "4f9c682c33eb3609",
   "outputs": [
    {
     "data": {
      "image/svg+xml": "<?xml version=\"1.0\" encoding=\"UTF-8\" standalone=\"no\"?>\n<!DOCTYPE svg PUBLIC \"-//W3C//DTD SVG 1.1//EN\"\n \"http://www.w3.org/Graphics/SVG/1.1/DTD/svg11.dtd\">\n<!-- Generated by graphviz version 9.0.0 (0)\n -->\n<!-- Title: bigraph Pages: 1 -->\n<svg width=\"90pt\" height=\"114pt\"\n viewBox=\"0.00 0.00 92.57 117.15\" xmlns=\"http://www.w3.org/2000/svg\" xmlns:xlink=\"http://www.w3.org/1999/xlink\">\n<g id=\"graph0\" class=\"graph\" transform=\"scale(0.972222 0.972222) rotate(0) translate(4 113.15)\">\n<title>bigraph</title>\n<polygon fill=\"white\" stroke=\"none\" points=\"-4,4 -4,-113.15 88.57,-113.15 88.57,4 -4,4\"/>\n<!-- (&#39;increase&#39;,) -->\n<g id=\"node1\" class=\"node\">\n<title>(&#39;increase&#39;,)</title>\n<polygon fill=\"none\" stroke=\"black\" stroke-width=\"2\" points=\"66.58,-36 12.58,-36 12.58,0 66.58,0 66.58,-36\"/>\n<text text-anchor=\"start\" x=\"19.92\" y=\"-14.4\" font-family=\"Times,serif\" font-size=\"12.00\">increase</text>\n</g>\n<!-- (&#39;increase&#39;, &#39;a&#39;, &#39;m&#39;, &#39;o&#39;, &#39;u&#39;, &#39;n&#39;, &#39;t&#39;)_input -->\n<!-- (&#39;increase&#39;, &#39;a&#39;, &#39;m&#39;, &#39;o&#39;, &#39;u&#39;, &#39;n&#39;, &#39;t&#39;)_input&#45;&gt;(&#39;increase&#39;,) -->\n<g id=\"edge1\" class=\"edge\">\n<title>(&#39;increase&#39;, &#39;a&#39;, &#39;m&#39;, &#39;o&#39;, &#39;u&#39;, &#39;n&#39;, &#39;t&#39;)_input&#45;&gt;(&#39;increase&#39;,)</title>\n<path fill=\"none\" stroke=\"black\" stroke-dasharray=\"5,2\" d=\"M11.98,-81.45C11.46,-73.33 11.63,-62.82 14.58,-54 15.44,-51.43 16.56,-48.89 17.84,-46.41\"/>\n<polygon fill=\"black\" stroke=\"black\" points=\"20.74,-48.38 23.04,-38.03 14.8,-44.68 20.74,-48.38\"/>\n<text text-anchor=\"start\" x=\"15.58\" y=\"-56\" font-family=\"Times,serif\" font-size=\"10.00\">amount</text>\n</g>\n<!-- (&#39;increase&#39;, &#39;a&#39;, &#39;m&#39;, &#39;o&#39;, &#39;u&#39;, &#39;n&#39;, &#39;t&#39;)_output -->\n<!-- (&#39;increase&#39;, &#39;a&#39;, &#39;m&#39;, &#39;o&#39;, &#39;u&#39;, &#39;n&#39;, &#39;t&#39;)_output&#45;&gt;(&#39;increase&#39;,) -->\n<g id=\"edge2\" class=\"edge\">\n<title>(&#39;increase&#39;, &#39;a&#39;, &#39;m&#39;, &#39;o&#39;, &#39;u&#39;, &#39;n&#39;, &#39;t&#39;)_output&#45;&gt;(&#39;increase&#39;,)</title>\n<path fill=\"none\" stroke=\"black\" stroke-dasharray=\"5,2\" d=\"M58.21,-71.16C54.28,-60.15 49.66,-47.22 46,-36.99\"/>\n<polygon fill=\"black\" stroke=\"black\" points=\"54.83,-72.09 61.49,-80.33 61.42,-69.74 54.83,-72.09\"/>\n<text text-anchor=\"start\" x=\"54.58\" y=\"-56\" font-family=\"Times,serif\" font-size=\"10.00\">amount</text>\n</g>\n</g>\n</svg>\n",
      "text/plain": [
       "<graphviz.graphs.Digraph at 0x10c3312e0>"
      ]
     },
     "execution_count": 10,
     "metadata": {},
     "output_type": "execute_result"
    }
   ],
   "execution_count": 10
  },
  {
   "metadata": {
    "ExecuteTime": {
     "end_time": "2025-03-11T22:24:05.758970Z",
     "start_time": "2025-03-11T22:24:05.755422Z"
    }
   },
   "cell_type": "code",
   "source": [
    "# connect the 'increase' process to the state through its inputs and outputs\n",
    "v.connect_process(\n",
    "    process_name='increase',\n",
    "    inputs={'amount': ['top', 'A']},\n",
    "    outputs={'amount': ['top', 'A']}\n",
    ")\n",
    "\n",
    "# display the current state\n",
    "v"
   ],
   "id": "ff8fa545a4e64ca5",
   "outputs": [
    {
     "data": {
      "text/plain": [
       "Vivarium( \n",
       "{ 'global_time': 0.0,\n",
       "  'increase': { 'address': 'local:increase float',\n",
       "                'config': {'rate': 0.1},\n",
       "                'inputs': {'amount': ['top', 'A']},\n",
       "                'instance': <vivarium.tests.IncreaseFloat object at 0x10c331e80>,\n",
       "                'interval': 1.0,\n",
       "                'outputs': {'amount': ['top', 'A']},\n",
       "                'shared': None},\n",
       "  'top': {'A': 1.0}})"
      ]
     },
     "execution_count": 11,
     "metadata": {},
     "output_type": "execute_result"
    }
   ],
   "execution_count": 11
  },
  {
   "metadata": {
    "ExecuteTime": {
     "end_time": "2025-03-11T22:24:05.793502Z",
     "start_time": "2025-03-11T22:24:05.771586Z"
    }
   },
   "cell_type": "code",
   "source": [
    "# display the current state as a diagram\n",
    "v.diagram(dpi='70', remove_nodes=['global_time', 'emitter'])"
   ],
   "id": "b1c9f91524fe9ad0",
   "outputs": [
    {
     "data": {
      "image/svg+xml": "<?xml version=\"1.0\" encoding=\"UTF-8\" standalone=\"no\"?>\n<!DOCTYPE svg PUBLIC \"-//W3C//DTD SVG 1.1//EN\"\n \"http://www.w3.org/Graphics/SVG/1.1/DTD/svg11.dtd\">\n<!-- Generated by graphviz version 9.0.0 (0)\n -->\n<!-- Title: bigraph Pages: 1 -->\n<svg width=\"68pt\" height=\"193pt\"\n viewBox=\"0.00 0.00 70.00 199.00\" xmlns=\"http://www.w3.org/2000/svg\" xmlns:xlink=\"http://www.w3.org/1999/xlink\">\n<g id=\"graph0\" class=\"graph\" transform=\"scale(0.972222 0.972222) rotate(0) translate(4 195)\">\n<title>bigraph</title>\n<polygon fill=\"white\" stroke=\"none\" points=\"-4,4 -4,-195 66,-195 66,4 -4,4\"/>\n<!-- (&#39;top&#39;,) -->\n<g id=\"node1\" class=\"node\">\n<title>(&#39;top&#39;,)</title>\n<ellipse fill=\"none\" stroke=\"black\" stroke-width=\"2\" cx=\"27\" cy=\"-173\" rx=\"18\" ry=\"18\"/>\n<text text-anchor=\"start\" x=\"19.33\" y=\"-169.4\" font-family=\"Times,serif\" font-size=\"12.00\">top</text>\n</g>\n<!-- (&#39;top&#39;, &#39;A&#39;) -->\n<g id=\"node2\" class=\"node\">\n<title>(&#39;top&#39;, &#39;A&#39;)</title>\n<ellipse fill=\"none\" stroke=\"black\" stroke-width=\"2\" cx=\"27\" cy=\"-100\" rx=\"18\" ry=\"18\"/>\n<text text-anchor=\"start\" x=\"22.67\" y=\"-96.4\" font-family=\"Times,serif\" font-size=\"12.00\">A</text>\n</g>\n<!-- (&#39;top&#39;,)&#45;&gt;(&#39;top&#39;, &#39;A&#39;) -->\n<g id=\"edge1\" class=\"edge\">\n<title>(&#39;top&#39;,)&#45;&gt;(&#39;top&#39;, &#39;A&#39;)</title>\n<path fill=\"none\" stroke=\"black\" stroke-width=\"2\" d=\"M27,-154.08C27,-143.24 27,-129.46 27,-118.66\"/>\n</g>\n<!-- (&#39;increase&#39;,) -->\n<g id=\"node3\" class=\"node\">\n<title>(&#39;increase&#39;,)</title>\n<polygon fill=\"none\" stroke=\"black\" stroke-width=\"2\" points=\"54,-36 0,-36 0,0 54,0 54,-36\"/>\n<text text-anchor=\"start\" x=\"7.35\" y=\"-14.4\" font-family=\"Times,serif\" font-size=\"12.00\">increase</text>\n</g>\n<!-- (&#39;top&#39;, &#39;A&#39;)&#45;&gt;(&#39;increase&#39;,) -->\n<g id=\"edge2\" class=\"edge\">\n<title>(&#39;top&#39;, &#39;A&#39;)&#45;&gt;(&#39;increase&#39;,)</title>\n<path fill=\"none\" stroke=\"black\" stroke-dasharray=\"5,2\" d=\"M13.57,-86.62C5.8,-77.9 -1.76,-65.74 2,-54 2.83,-51.42 3.93,-48.87 5.2,-46.39\"/>\n<polygon fill=\"black\" stroke=\"black\" points=\"8.1,-48.35 10.37,-38 2.14,-44.68 8.1,-48.35\"/>\n<text text-anchor=\"start\" x=\"3\" y=\"-56\" font-family=\"Times,serif\" font-size=\"10.00\">amount</text>\n</g>\n<!-- (&#39;top&#39;, &#39;A&#39;)&#45;&gt;(&#39;increase&#39;,) -->\n<g id=\"edge3\" class=\"edge\">\n<title>(&#39;top&#39;, &#39;A&#39;)&#45;&gt;(&#39;increase&#39;,)</title>\n<path fill=\"none\" stroke=\"black\" stroke-dasharray=\"5,2\" d=\"M31.47,-69.93C31.68,-67.93 31.86,-65.94 32,-64 32.64,-55.06 31.71,-45.16 30.49,-36.93\"/>\n<polygon fill=\"black\" stroke=\"black\" points=\"28.01,-69.38 30.22,-79.75 34.96,-70.27 28.01,-69.38\"/>\n<text text-anchor=\"start\" x=\"32\" y=\"-56\" font-family=\"Times,serif\" font-size=\"10.00\">amount</text>\n</g>\n</g>\n</svg>\n",
      "text/plain": [
       "<graphviz.graphs.Digraph at 0x10c3311c0>"
      ]
     },
     "execution_count": 12,
     "metadata": {},
     "output_type": "execute_result"
    }
   ],
   "execution_count": 12
  },
  {
   "metadata": {
    "ExecuteTime": {
     "end_time": "2025-03-11T22:24:05.799596Z",
     "start_time": "2025-03-11T22:24:05.797323Z"
    }
   },
   "cell_type": "code",
   "source": [
    "# get the value of 'top.A'\n",
    "v.get_value(path=['top', 'A'])"
   ],
   "id": "2c9366a68b8bd8dc",
   "outputs": [
    {
     "data": {
      "text/plain": [
       "1.0"
      ]
     },
     "execution_count": 13,
     "metadata": {},
     "output_type": "execute_result"
    }
   ],
   "execution_count": 13
  },
  {
   "metadata": {
    "ExecuteTime": {
     "end_time": "2025-03-11T22:24:05.812725Z",
     "start_time": "2025-03-11T22:24:05.809446Z"
    }
   },
   "cell_type": "code",
   "source": [
    "# set value of 'top.A' to 100\n",
    "v.set_value(path=['top', 'A'], value=100.0)\n",
    "v.get_value(path=['top', 'A'])"
   ],
   "id": "d92c494f85777e5e",
   "outputs": [
    {
     "data": {
      "text/plain": [
       "100.0"
      ]
     },
     "execution_count": 14,
     "metadata": {},
     "output_type": "execute_result"
    }
   ],
   "execution_count": 14
  },
  {
   "metadata": {
    "ExecuteTime": {
     "end_time": "2025-03-11T22:24:05.839103Z",
     "start_time": "2025-03-11T22:24:05.815926Z"
    }
   },
   "cell_type": "code",
   "source": [
    "# add an emitter to save the history\n",
    "# TODO -- improve emitter configurability\n",
    "v.add_emitter()\n",
    "\n",
    "# display the current state\n",
    "v.diagram(dpi='70')"
   ],
   "id": "4f8ddc0146c1c570",
   "outputs": [
    {
     "data": {
      "image/svg+xml": "<?xml version=\"1.0\" encoding=\"UTF-8\" standalone=\"no\"?>\n<!DOCTYPE svg PUBLIC \"-//W3C//DTD SVG 1.1//EN\"\n \"http://www.w3.org/Graphics/SVG/1.1/DTD/svg11.dtd\">\n<!-- Generated by graphviz version 9.0.0 (0)\n -->\n<!-- Title: bigraph Pages: 1 -->\n<svg width=\"175pt\" height=\"241pt\"\n viewBox=\"0.00 0.00 180.13 248.28\" xmlns=\"http://www.w3.org/2000/svg\" xmlns:xlink=\"http://www.w3.org/1999/xlink\">\n<g id=\"graph0\" class=\"graph\" transform=\"scale(0.972222 0.972222) rotate(0) translate(4 244.28)\">\n<title>bigraph</title>\n<polygon fill=\"white\" stroke=\"none\" points=\"-4,4 -4,-244.28 176.13,-244.28 176.13,4 -4,4\"/>\n<!-- (&#39;global_time&#39;,) -->\n<g id=\"node1\" class=\"node\">\n<title>(&#39;global_time&#39;,)</title>\n<ellipse fill=\"none\" stroke=\"black\" stroke-width=\"2\" cx=\"38.14\" cy=\"-202.14\" rx=\"38.14\" ry=\"38.14\"/>\n<text text-anchor=\"start\" x=\"9.48\" y=\"-198.54\" font-family=\"Times,serif\" font-size=\"12.00\">global_time</text>\n</g>\n<!-- (&#39;emitter&#39;,) -->\n<g id=\"node5\" class=\"node\">\n<title>(&#39;emitter&#39;,)</title>\n<polygon fill=\"none\" stroke=\"black\" stroke-width=\"2\" points=\"83.14,-118 29.14,-118 29.14,-82 83.14,-82 83.14,-118\"/>\n<text text-anchor=\"start\" x=\"39.15\" y=\"-96.4\" font-family=\"Times,serif\" font-size=\"12.00\">emitter</text>\n</g>\n<!-- (&#39;global_time&#39;,)&#45;&gt;(&#39;emitter&#39;,) -->\n<g id=\"edge4\" class=\"edge\">\n<title>(&#39;global_time&#39;,)&#45;&gt;(&#39;emitter&#39;,)</title>\n<path fill=\"none\" stroke=\"black\" stroke-dasharray=\"5,2\" d=\"M36.13,-163.25C36.4,-154.23 37.31,-144.69 39.37,-136 39.88,-133.84 40.54,-131.65 41.3,-129.48\"/>\n<polygon fill=\"black\" stroke=\"black\" points=\"44.48,-130.95 45.13,-120.38 38.03,-128.24 44.48,-130.95\"/>\n<text text-anchor=\"start\" x=\"40.14\" y=\"-138\" font-family=\"Times,serif\" font-size=\"10.00\">global_time</text>\n</g>\n<!-- (&#39;top&#39;,) -->\n<g id=\"node2\" class=\"node\">\n<title>(&#39;top&#39;,)</title>\n<ellipse fill=\"none\" stroke=\"black\" stroke-width=\"2\" cx=\"124.14\" cy=\"-202.14\" rx=\"18\" ry=\"18\"/>\n<text text-anchor=\"start\" x=\"116.47\" y=\"-198.54\" font-family=\"Times,serif\" font-size=\"12.00\">top</text>\n</g>\n<!-- (&#39;top&#39;, &#39;A&#39;) -->\n<g id=\"node3\" class=\"node\">\n<title>(&#39;top&#39;, &#39;A&#39;)</title>\n<ellipse fill=\"none\" stroke=\"black\" stroke-width=\"2\" cx=\"137.14\" cy=\"-100\" rx=\"18\" ry=\"18\"/>\n<text text-anchor=\"start\" x=\"132.8\" y=\"-96.4\" font-family=\"Times,serif\" font-size=\"12.00\">A</text>\n</g>\n<!-- (&#39;top&#39;,)&#45;&gt;(&#39;top&#39;, &#39;A&#39;) -->\n<g id=\"edge1\" class=\"edge\">\n<title>(&#39;top&#39;,)&#45;&gt;(&#39;top&#39;, &#39;A&#39;)</title>\n<path fill=\"none\" stroke=\"black\" stroke-width=\"2\" d=\"M126.4,-183.7C128.77,-165.43 132.48,-136.9 134.86,-118.58\"/>\n</g>\n<!-- (&#39;top&#39;,)&#45;&gt;(&#39;emitter&#39;,) -->\n<g id=\"edge3\" class=\"edge\">\n<title>(&#39;top&#39;,)&#45;&gt;(&#39;emitter&#39;,)</title>\n<path fill=\"none\" stroke=\"black\" stroke-dasharray=\"5,2\" d=\"M116.2,-185.05C109.24,-171.51 98.48,-151.87 87.14,-136 85.13,-133.19 82.92,-130.34 80.65,-127.55\"/>\n<polygon fill=\"black\" stroke=\"black\" points=\"83.44,-125.42 74.28,-120.08 78.11,-129.96 83.44,-125.42\"/>\n<text text-anchor=\"start\" x=\"93.14\" y=\"-138\" font-family=\"Times,serif\" font-size=\"10.00\">top</text>\n</g>\n<!-- (&#39;increase&#39;,) -->\n<g id=\"node4\" class=\"node\">\n<title>(&#39;increase&#39;,)</title>\n<polygon fill=\"none\" stroke=\"black\" stroke-width=\"2\" points=\"163.14,-36 109.14,-36 109.14,0 163.14,0 163.14,-36\"/>\n<text text-anchor=\"start\" x=\"116.49\" y=\"-14.4\" font-family=\"Times,serif\" font-size=\"12.00\">increase</text>\n</g>\n<!-- (&#39;top&#39;, &#39;A&#39;)&#45;&gt;(&#39;increase&#39;,) -->\n<g id=\"edge2\" class=\"edge\">\n<title>(&#39;top&#39;, &#39;A&#39;)&#45;&gt;(&#39;increase&#39;,)</title>\n<path fill=\"none\" stroke=\"black\" stroke-dasharray=\"5,2\" d=\"M124.52,-86.2C119.3,-80.03 113.85,-72.19 111.14,-64 109.18,-58.06 110.16,-52 112.62,-46.34\"/>\n<polygon fill=\"black\" stroke=\"black\" points=\"115.48,-48.37 117.56,-37.98 109.46,-44.81 115.48,-48.37\"/>\n<text text-anchor=\"start\" x=\"112.14\" y=\"-56\" font-family=\"Times,serif\" font-size=\"10.00\">amount</text>\n</g>\n<!-- (&#39;top&#39;, &#39;A&#39;)&#45;&gt;(&#39;increase&#39;,) -->\n<g id=\"edge5\" class=\"edge\">\n<title>(&#39;top&#39;, &#39;A&#39;)&#45;&gt;(&#39;increase&#39;,)</title>\n<path fill=\"none\" stroke=\"black\" stroke-dasharray=\"5,2\" d=\"M141.07,-70.22C141.41,-64.83 141.51,-59.25 141.14,-54 140.74,-48.37 139.98,-42.26 139.17,-36.75\"/>\n<polygon fill=\"black\" stroke=\"black\" points=\"137.6,-69.69 140.14,-79.98 144.57,-70.36 137.6,-69.69\"/>\n<text text-anchor=\"start\" x=\"142.14\" y=\"-56\" font-family=\"Times,serif\" font-size=\"10.00\">amount</text>\n</g>\n</g>\n</svg>\n",
      "text/plain": [
       "<graphviz.graphs.Digraph at 0x10c11ee80>"
      ]
     },
     "execution_count": 15,
     "metadata": {},
     "output_type": "execute_result"
    }
   ],
   "execution_count": 15
  },
  {
   "metadata": {
    "ExecuteTime": {
     "end_time": "2025-03-11T22:24:05.871944Z",
     "start_time": "2025-03-11T22:24:05.843381Z"
    }
   },
   "cell_type": "code",
   "source": [
    "# add more objects\n",
    "v.add_object(name='B', path=['top'], value=1)\n",
    "\n",
    "# add another increase process\n",
    "v.add_process(name='increase2',\n",
    "              process_id='increase float',\n",
    "              config={'rate': -0.1},\n",
    "              inputs={'amount': ['top', 'B']},\n",
    "              outputs={'amount': ['top', 'B']}\n",
    "              )\n",
    "\n",
    "# display the current state\n",
    "v.diagram(dpi='70', size='30,15')"
   ],
   "id": "d97ac26706fef31d",
   "outputs": [
    {
     "data": {
      "image/svg+xml": "<?xml version=\"1.0\" encoding=\"UTF-8\" standalone=\"no\"?>\n<!DOCTYPE svg PUBLIC \"-//W3C//DTD SVG 1.1//EN\"\n \"http://www.w3.org/Graphics/SVG/1.1/DTD/svg11.dtd\">\n<!-- Generated by graphviz version 9.0.0 (0)\n -->\n<!-- Title: bigraph Pages: 1 -->\n<svg width=\"246pt\" height=\"241pt\"\n viewBox=\"0.00 0.00 253.13 248.28\" xmlns=\"http://www.w3.org/2000/svg\" xmlns:xlink=\"http://www.w3.org/1999/xlink\">\n<g id=\"graph0\" class=\"graph\" transform=\"scale(0.972222 0.972222) rotate(0) translate(4 244.28)\">\n<title>bigraph</title>\n<polygon fill=\"white\" stroke=\"none\" points=\"-4,4 -4,-244.28 249.13,-244.28 249.13,4 -4,4\"/>\n<!-- (&#39;global_time&#39;,) -->\n<g id=\"node1\" class=\"node\">\n<title>(&#39;global_time&#39;,)</title>\n<ellipse fill=\"none\" stroke=\"black\" stroke-width=\"2\" cx=\"38.14\" cy=\"-202.14\" rx=\"38.14\" ry=\"38.14\"/>\n<text text-anchor=\"start\" x=\"9.48\" y=\"-198.54\" font-family=\"Times,serif\" font-size=\"12.00\">global_time</text>\n</g>\n<!-- (&#39;emitter&#39;,) -->\n<g id=\"node6\" class=\"node\">\n<title>(&#39;emitter&#39;,)</title>\n<polygon fill=\"none\" stroke=\"black\" stroke-width=\"2\" points=\"83.14,-118 29.14,-118 29.14,-82 83.14,-82 83.14,-118\"/>\n<text text-anchor=\"start\" x=\"39.15\" y=\"-96.4\" font-family=\"Times,serif\" font-size=\"12.00\">emitter</text>\n</g>\n<!-- (&#39;global_time&#39;,)&#45;&gt;(&#39;emitter&#39;,) -->\n<g id=\"edge5\" class=\"edge\">\n<title>(&#39;global_time&#39;,)&#45;&gt;(&#39;emitter&#39;,)</title>\n<path fill=\"none\" stroke=\"black\" stroke-dasharray=\"5,2\" d=\"M36.13,-163.25C36.4,-154.23 37.31,-144.69 39.37,-136 39.88,-133.84 40.54,-131.65 41.3,-129.48\"/>\n<polygon fill=\"black\" stroke=\"black\" points=\"44.48,-130.95 45.13,-120.38 38.03,-128.24 44.48,-130.95\"/>\n<text text-anchor=\"start\" x=\"40.14\" y=\"-138\" font-family=\"Times,serif\" font-size=\"10.00\">global_time</text>\n</g>\n<!-- (&#39;top&#39;,) -->\n<g id=\"node2\" class=\"node\">\n<title>(&#39;top&#39;,)</title>\n<ellipse fill=\"none\" stroke=\"black\" stroke-width=\"2\" cx=\"137.14\" cy=\"-202.14\" rx=\"18\" ry=\"18\"/>\n<text text-anchor=\"start\" x=\"129.47\" y=\"-198.54\" font-family=\"Times,serif\" font-size=\"12.00\">top</text>\n</g>\n<!-- (&#39;top&#39;, &#39;A&#39;) -->\n<g id=\"node3\" class=\"node\">\n<title>(&#39;top&#39;, &#39;A&#39;)</title>\n<ellipse fill=\"none\" stroke=\"black\" stroke-width=\"2\" cx=\"129.14\" cy=\"-100\" rx=\"18\" ry=\"18\"/>\n<text text-anchor=\"start\" x=\"124.8\" y=\"-96.4\" font-family=\"Times,serif\" font-size=\"12.00\">A</text>\n</g>\n<!-- (&#39;top&#39;,)&#45;&gt;(&#39;top&#39;, &#39;A&#39;) -->\n<g id=\"edge1\" class=\"edge\">\n<title>(&#39;top&#39;,)&#45;&gt;(&#39;top&#39;, &#39;A&#39;)</title>\n<path fill=\"none\" stroke=\"black\" stroke-width=\"2\" d=\"M135.71,-183.24C134.25,-165.01 132.01,-136.92 130.56,-118.75\"/>\n</g>\n<!-- (&#39;top&#39;, &#39;B&#39;) -->\n<g id=\"node4\" class=\"node\">\n<title>(&#39;top&#39;, &#39;B&#39;)</title>\n<ellipse fill=\"none\" stroke=\"black\" stroke-width=\"2\" cx=\"183.14\" cy=\"-100\" rx=\"18\" ry=\"18\"/>\n<text text-anchor=\"start\" x=\"179.14\" y=\"-96.4\" font-family=\"Times,serif\" font-size=\"12.00\">B</text>\n</g>\n<!-- (&#39;top&#39;,)&#45;&gt;(&#39;top&#39;, &#39;B&#39;) -->\n<g id=\"edge2\" class=\"edge\">\n<title>(&#39;top&#39;,)&#45;&gt;(&#39;top&#39;, &#39;B&#39;)</title>\n<path fill=\"none\" stroke=\"black\" stroke-width=\"2\" d=\"M144.53,-185.05C153.06,-166.47 167.02,-136.08 175.61,-117.38\"/>\n</g>\n<!-- (&#39;top&#39;,)&#45;&gt;(&#39;emitter&#39;,) -->\n<g id=\"edge4\" class=\"edge\">\n<title>(&#39;top&#39;,)&#45;&gt;(&#39;emitter&#39;,)</title>\n<path fill=\"none\" stroke=\"black\" stroke-dasharray=\"5,2\" d=\"M126.5,-186.68C116.56,-173.33 101.2,-153.05 87.14,-136 84.81,-133.18 82.35,-130.27 79.86,-127.39\"/>\n<polygon fill=\"black\" stroke=\"black\" points=\"82.69,-125.31 73.47,-120.09 77.43,-129.92 82.69,-125.31\"/>\n<text text-anchor=\"start\" x=\"95.14\" y=\"-138\" font-family=\"Times,serif\" font-size=\"10.00\">top</text>\n</g>\n<!-- (&#39;increase&#39;,) -->\n<g id=\"node5\" class=\"node\">\n<title>(&#39;increase&#39;,)</title>\n<polygon fill=\"none\" stroke=\"black\" stroke-width=\"2\" points=\"139.14,-36 85.14,-36 85.14,0 139.14,0 139.14,-36\"/>\n<text text-anchor=\"start\" x=\"92.49\" y=\"-14.4\" font-family=\"Times,serif\" font-size=\"12.00\">increase</text>\n</g>\n<!-- (&#39;top&#39;, &#39;A&#39;)&#45;&gt;(&#39;increase&#39;,) -->\n<g id=\"edge3\" class=\"edge\">\n<title>(&#39;top&#39;, &#39;A&#39;)&#45;&gt;(&#39;increase&#39;,)</title>\n<path fill=\"none\" stroke=\"black\" stroke-dasharray=\"5,2\" d=\"M112.03,-92.39C100.16,-86.78 85.25,-77.49 78.14,-64 74.85,-57.75 76.12,-51.44 79.63,-45.61\"/>\n<polygon fill=\"black\" stroke=\"black\" points=\"82.15,-48.06 85.73,-38.09 76.71,-43.66 82.15,-48.06\"/>\n<text text-anchor=\"start\" x=\"79.14\" y=\"-56\" font-family=\"Times,serif\" font-size=\"10.00\">amount</text>\n</g>\n<!-- (&#39;top&#39;, &#39;A&#39;)&#45;&gt;(&#39;increase&#39;,) -->\n<g id=\"edge7\" class=\"edge\">\n<title>(&#39;top&#39;, &#39;A&#39;)&#45;&gt;(&#39;increase&#39;,)</title>\n<path fill=\"none\" stroke=\"black\" stroke-dasharray=\"5,2\" d=\"M123.1,-70.59C120.71,-59.36 118.04,-46.8 115.94,-36.88\"/>\n<polygon fill=\"black\" stroke=\"black\" points=\"119.63,-71.11 125.13,-80.16 126.48,-69.65 119.63,-71.11\"/>\n<text text-anchor=\"start\" x=\"122.14\" y=\"-56\" font-family=\"Times,serif\" font-size=\"10.00\">amount</text>\n</g>\n<!-- (&#39;increase2&#39;,) -->\n<g id=\"node7\" class=\"node\">\n<title>(&#39;increase2&#39;,)</title>\n<polygon fill=\"none\" stroke=\"black\" stroke-width=\"2\" points=\"228.14,-36 174.14,-36 174.14,0 228.14,0 228.14,-36\"/>\n<text text-anchor=\"start\" x=\"178.49\" y=\"-14.4\" font-family=\"Times,serif\" font-size=\"12.00\">increase2</text>\n</g>\n<!-- (&#39;top&#39;, &#39;B&#39;)&#45;&gt;(&#39;increase2&#39;,) -->\n<g id=\"edge6\" class=\"edge\">\n<title>(&#39;top&#39;, &#39;B&#39;)&#45;&gt;(&#39;increase2&#39;,)</title>\n<path fill=\"none\" stroke=\"black\" stroke-dasharray=\"5,2\" d=\"M181.8,-81.25C181.61,-72.88 182.01,-62.81 184.14,-54 184.67,-51.83 185.34,-49.64 186.11,-47.47\"/>\n<polygon fill=\"black\" stroke=\"black\" points=\"189.29,-48.93 190,-38.36 182.85,-46.19 189.29,-48.93\"/>\n<text text-anchor=\"start\" x=\"185.14\" y=\"-56\" font-family=\"Times,serif\" font-size=\"10.00\">amount</text>\n</g>\n<!-- (&#39;top&#39;, &#39;B&#39;)&#45;&gt;(&#39;increase2&#39;,) -->\n<g id=\"edge8\" class=\"edge\">\n<title>(&#39;top&#39;, &#39;B&#39;)&#45;&gt;(&#39;increase2&#39;,)</title>\n<path fill=\"none\" stroke=\"black\" stroke-dasharray=\"5,2\" d=\"M204.77,-79.43C208.6,-74.79 212.03,-69.55 214.14,-64 217.48,-55.18 215.13,-45.11 211.55,-36.74\"/>\n<polygon fill=\"black\" stroke=\"black\" points=\"202.47,-76.77 198.2,-86.47 207.58,-81.55 202.47,-76.77\"/>\n<text text-anchor=\"start\" x=\"215.14\" y=\"-56\" font-family=\"Times,serif\" font-size=\"10.00\">amount</text>\n</g>\n</g>\n</svg>\n",
      "text/plain": [
       "<graphviz.graphs.Digraph at 0x10c3c20a0>"
      ]
     },
     "execution_count": 16,
     "metadata": {},
     "output_type": "execute_result"
    }
   ],
   "execution_count": 16
  },
  {
   "metadata": {
    "ExecuteTime": {
     "end_time": "2025-03-11T22:24:05.878512Z",
     "start_time": "2025-03-11T22:24:05.875340Z"
    }
   },
   "cell_type": "code",
   "source": [
    "# run the simulation for 10 time units\n",
    "v.run(interval=10)"
   ],
   "id": "3ac748abc7b485f9",
   "outputs": [],
   "execution_count": 17
  },
  {
   "metadata": {
    "ExecuteTime": {
     "end_time": "2025-03-11T22:24:05.886681Z",
     "start_time": "2025-03-11T22:24:05.881865Z"
    }
   },
   "cell_type": "code",
   "source": [
    "# get the timeseries results\n",
    "timeseries = v.get_timeseries(significant_digits=6)\n",
    "timeseries"
   ],
   "id": "7a12396ee5964488",
   "outputs": [
    {
     "data": {
      "text/plain": [
       "    /global_time      /top/A    /top/B\n",
       "0            0.0  100.000000  1.000000\n",
       "1            1.0  110.000000  0.900000\n",
       "2            2.0  121.000000  0.810000\n",
       "3            3.0  133.100000  0.729000\n",
       "4            4.0  146.410000  0.656100\n",
       "5            5.0  161.051000  0.590490\n",
       "6            6.0  177.156100  0.531441\n",
       "7            7.0  194.871710  0.478297\n",
       "8            8.0  214.358881  0.430467\n",
       "9            9.0  235.794769  0.387420\n",
       "10          10.0  259.374246  0.348678"
      ],
      "text/html": [
       "<div>\n",
       "<style scoped>\n",
       "    .dataframe tbody tr th:only-of-type {\n",
       "        vertical-align: middle;\n",
       "    }\n",
       "\n",
       "    .dataframe tbody tr th {\n",
       "        vertical-align: top;\n",
       "    }\n",
       "\n",
       "    .dataframe thead th {\n",
       "        text-align: right;\n",
       "    }\n",
       "</style>\n",
       "<table border=\"1\" class=\"dataframe\">\n",
       "  <thead>\n",
       "    <tr style=\"text-align: right;\">\n",
       "      <th></th>\n",
       "      <th>/global_time</th>\n",
       "      <th>/top/A</th>\n",
       "      <th>/top/B</th>\n",
       "    </tr>\n",
       "  </thead>\n",
       "  <tbody>\n",
       "    <tr>\n",
       "      <th>0</th>\n",
       "      <td>0.0</td>\n",
       "      <td>100.000000</td>\n",
       "      <td>1.000000</td>\n",
       "    </tr>\n",
       "    <tr>\n",
       "      <th>1</th>\n",
       "      <td>1.0</td>\n",
       "      <td>110.000000</td>\n",
       "      <td>0.900000</td>\n",
       "    </tr>\n",
       "    <tr>\n",
       "      <th>2</th>\n",
       "      <td>2.0</td>\n",
       "      <td>121.000000</td>\n",
       "      <td>0.810000</td>\n",
       "    </tr>\n",
       "    <tr>\n",
       "      <th>3</th>\n",
       "      <td>3.0</td>\n",
       "      <td>133.100000</td>\n",
       "      <td>0.729000</td>\n",
       "    </tr>\n",
       "    <tr>\n",
       "      <th>4</th>\n",
       "      <td>4.0</td>\n",
       "      <td>146.410000</td>\n",
       "      <td>0.656100</td>\n",
       "    </tr>\n",
       "    <tr>\n",
       "      <th>5</th>\n",
       "      <td>5.0</td>\n",
       "      <td>161.051000</td>\n",
       "      <td>0.590490</td>\n",
       "    </tr>\n",
       "    <tr>\n",
       "      <th>6</th>\n",
       "      <td>6.0</td>\n",
       "      <td>177.156100</td>\n",
       "      <td>0.531441</td>\n",
       "    </tr>\n",
       "    <tr>\n",
       "      <th>7</th>\n",
       "      <td>7.0</td>\n",
       "      <td>194.871710</td>\n",
       "      <td>0.478297</td>\n",
       "    </tr>\n",
       "    <tr>\n",
       "      <th>8</th>\n",
       "      <td>8.0</td>\n",
       "      <td>214.358881</td>\n",
       "      <td>0.430467</td>\n",
       "    </tr>\n",
       "    <tr>\n",
       "      <th>9</th>\n",
       "      <td>9.0</td>\n",
       "      <td>235.794769</td>\n",
       "      <td>0.387420</td>\n",
       "    </tr>\n",
       "    <tr>\n",
       "      <th>10</th>\n",
       "      <td>10.0</td>\n",
       "      <td>259.374246</td>\n",
       "      <td>0.348678</td>\n",
       "    </tr>\n",
       "  </tbody>\n",
       "</table>\n",
       "</div>"
      ]
     },
     "execution_count": 18,
     "metadata": {},
     "output_type": "execute_result"
    }
   ],
   "execution_count": 18
  },
  {
   "metadata": {
    "ExecuteTime": {
     "end_time": "2025-03-11T22:24:06.002343Z",
     "start_time": "2025-03-11T22:24:05.899182Z"
    }
   },
   "cell_type": "code",
   "source": [
    "v.plot_timeseries(\n",
    "    query=None,\n",
    "    subplot_size=(6, 3),\n",
    "    ncols=2,\n",
    "    # combined_vars=None\n",
    ")"
   ],
   "id": "fd241a0b6dc599aa",
   "outputs": [
    {
     "data": {
      "text/plain": [
       "<Figure size 1200x300 with 2 Axes>"
      ],
      "image/png": "[encoded data removed]"
     },
     "execution_count": 19,
     "metadata": {},
     "output_type": "execute_result"
    }
   ],
   "execution_count": 19
  },
  {
   "metadata": {},
   "cell_type": "markdown",
   "source": "# Save and Load",
   "id": "6e1d4b91609b4231"
  },
  {
   "metadata": {
    "ExecuteTime": {
     "end_time": "2025-03-11T22:24:06.009403Z",
     "start_time": "2025-03-11T22:24:06.005680Z"
    }
   },
   "cell_type": "code",
   "source": [
    "# save the current state to a file\n",
    "v.save(filename='demo1')"
   ],
   "id": "c5742be4329f7ce4",
   "outputs": [
    {
     "name": "stdout",
     "output_type": "stream",
     "text": [
      "Saved file: out/demo1.json\n"
     ]
    }
   ],
   "execution_count": 20
  },
  {
   "metadata": {
    "ExecuteTime": {
     "end_time": "2025-03-11T22:24:06.105698Z",
     "start_time": "2025-03-11T22:24:06.016144Z"
    }
   },
   "cell_type": "code",
   "source": [
    "# make a new Vivarium object (v2) from the saved file\n",
    "v2 = Vivarium(document='out/demo1.json', processes=DEMO_PROCESSES)\n",
    "\n",
    "n_new_nodes = 6\n",
    "\n",
    "# add another object and process\n",
    "for i in range(n_new_nodes):\n",
    "    v2.add_object(name=f'C{i}', path=['top'], value=1)\n",
    "    v2.add_process(name=f'increase{i}',\n",
    "                   process_id='increase float',\n",
    "                   config={'rate': random.uniform(-1, 1)},\n",
    "                   inputs={'amount': ['top', f'C{i}']},\n",
    "                   outputs={'amount': ['top', f'C{i}']}\n",
    "                   )\n",
    "\n",
    "# display the current state as a diagram\n",
    "v2.diagram(dpi='70',\n",
    "           show_values=True,\n",
    "           show_types=True,\n",
    "           )"
   ],
   "id": "d3efc6bf5d5f8ce3",
   "outputs": [
    {
     "data": {
      "image/svg+xml": "<?xml version=\"1.0\" encoding=\"UTF-8\" standalone=\"no\"?>\n<!DOCTYPE svg PUBLIC \"-//W3C//DTD SVG 1.1//EN\"\n \"http://www.w3.org/Graphics/SVG/1.1/DTD/svg11.dtd\">\n<!-- Generated by graphviz version 9.0.0 (0)\n -->\n<!-- Title: bigraph Pages: 1 -->\n<svg width=\"973pt\" height=\"403pt\"\n viewBox=\"0.00 0.00 1000.85 414.65\" xmlns=\"http://www.w3.org/2000/svg\" xmlns:xlink=\"http://www.w3.org/1999/xlink\">\n<g id=\"graph0\" class=\"graph\" transform=\"scale(0.972222 0.972222) rotate(0) translate(4 410.65)\">\n<title>bigraph</title>\n<polygon fill=\"white\" stroke=\"none\" points=\"-4,4 -4,-410.65 996.85,-410.65 996.85,4 -4,4\"/>\n<!-- (&#39;global_time&#39;,) -->\n<g id=\"node1\" class=\"node\">\n<title>(&#39;global_time&#39;,)</title>\n<ellipse fill=\"none\" stroke=\"black\" stroke-width=\"2\" cx=\"69.86\" cy=\"-336.79\" rx=\"69.86\" ry=\"69.86\"/>\n<text text-anchor=\"start\" x=\"14.36\" y=\"-333.19\" font-family=\"Times,serif\" font-size=\"12.00\">global_time:10.0[float]</text>\n</g>\n<!-- (&#39;emitter&#39;,) -->\n<g id=\"node12\" class=\"node\">\n<title>(&#39;emitter&#39;,)</title>\n<polygon fill=\"none\" stroke=\"black\" stroke-width=\"2\" points=\"96.86,-169.47 42.86,-169.47 42.86,-133.47 96.86,-133.47 96.86,-169.47\"/>\n<text text-anchor=\"start\" x=\"52.86\" y=\"-147.87\" font-family=\"Times,serif\" font-size=\"12.00\">emitter</text>\n</g>\n<!-- (&#39;global_time&#39;,)&#45;&gt;(&#39;emitter&#39;,) -->\n<g id=\"edge11\" class=\"edge\">\n<title>(&#39;global_time&#39;,)&#45;&gt;(&#39;emitter&#39;,)</title>\n<path fill=\"none\" stroke=\"black\" stroke-dasharray=\"5,2\" d=\"M69.86,-265.96C69.86,-236.63 69.86,-204.13 69.86,-181.45\"/>\n<polygon fill=\"black\" stroke=\"black\" points=\"73.36,-181.76 69.86,-171.76 66.36,-181.76 73.36,-181.76\"/>\n<text text-anchor=\"start\" x=\"69.86\" y=\"-240.94\" font-family=\"Times,serif\" font-size=\"10.00\">global_time</text>\n</g>\n<!-- (&#39;top&#39;,) -->\n<g id=\"node2\" class=\"node\">\n<title>(&#39;top&#39;,)</title>\n<ellipse fill=\"none\" stroke=\"black\" stroke-width=\"2\" cx=\"551.86\" cy=\"-336.79\" rx=\"22.06\" ry=\"22.06\"/>\n<text text-anchor=\"start\" x=\"544.19\" y=\"-339.19\" font-family=\"Times,serif\" font-size=\"12.00\">top</text>\n<text text-anchor=\"start\" x=\"543.36\" y=\"-327.19\" font-family=\"Times,serif\" font-size=\"12.00\">[...]</text>\n</g>\n<!-- (&#39;top&#39;, &#39;A&#39;) -->\n<g id=\"node3\" class=\"node\">\n<title>(&#39;top&#39;, &#39;A&#39;)</title>\n<ellipse fill=\"none\" stroke=\"black\" stroke-width=\"2\" cx=\"183.86\" cy=\"-151.47\" rx=\"69.47\" ry=\"69.47\"/>\n<text text-anchor=\"start\" x=\"128.69\" y=\"-147.87\" font-family=\"Times,serif\" font-size=\"12.00\">A:259.37424601[float]</text>\n</g>\n<!-- (&#39;top&#39;,)&#45;&gt;(&#39;top&#39;, &#39;A&#39;) -->\n<g id=\"edge1\" class=\"edge\">\n<title>(&#39;top&#39;,)&#45;&gt;(&#39;top&#39;, &#39;A&#39;)</title>\n<path fill=\"none\" stroke=\"black\" stroke-width=\"2\" d=\"M530.04,-329.87C480.24,-315.77 355.36,-277.17 262.86,-220.94 253.08,-215 243.34,-207.83 234.2,-200.41\"/>\n</g>\n<!-- (&#39;top&#39;, &#39;B&#39;) -->\n<g id=\"node4\" class=\"node\">\n<title>(&#39;top&#39;, &#39;B&#39;)</title>\n<ellipse fill=\"none\" stroke=\"black\" stroke-width=\"2\" cx=\"340.86\" cy=\"-151.47\" rx=\"69.08\" ry=\"69.08\"/>\n<text text-anchor=\"start\" x=\"286.02\" y=\"-147.87\" font-family=\"Times,serif\" font-size=\"12.00\">B:0.3486784401[float]</text>\n</g>\n<!-- (&#39;top&#39;,)&#45;&gt;(&#39;top&#39;, &#39;B&#39;) -->\n<g id=\"edge2\" class=\"edge\">\n<title>(&#39;top&#39;,)&#45;&gt;(&#39;top&#39;, &#39;B&#39;)</title>\n<path fill=\"none\" stroke=\"black\" stroke-width=\"2\" d=\"M535.02,-321.33C509.74,-299.6 460.5,-257.2 418.86,-220.94 410.43,-213.6 401.51,-205.8 392.83,-198.19\"/>\n</g>\n<!-- (&#39;top&#39;, &#39;C0&#39;) -->\n<g id=\"node5\" class=\"node\">\n<title>(&#39;top&#39;, &#39;C0&#39;)</title>\n<ellipse fill=\"none\" stroke=\"black\" stroke-width=\"2\" cx=\"462.86\" cy=\"-151.47\" rx=\"35.38\" ry=\"35.38\"/>\n<text text-anchor=\"start\" x=\"436.52\" y=\"-147.87\" font-family=\"Times,serif\" font-size=\"12.00\">C0:1[float]</text>\n</g>\n<!-- (&#39;top&#39;,)&#45;&gt;(&#39;top&#39;, &#39;C0&#39;) -->\n<g id=\"edge3\" class=\"edge\">\n<title>(&#39;top&#39;,)&#45;&gt;(&#39;top&#39;, &#39;C0&#39;)</title>\n<path fill=\"none\" stroke=\"black\" stroke-width=\"2\" d=\"M542.33,-316.17C526.99,-284.58 496.69,-222.15 478.25,-184.18\"/>\n</g>\n<!-- (&#39;top&#39;, &#39;C1&#39;) -->\n<g id=\"node6\" class=\"node\">\n<title>(&#39;top&#39;, &#39;C1&#39;)</title>\n<ellipse fill=\"none\" stroke=\"black\" stroke-width=\"2\" cx=\"551.86\" cy=\"-151.47\" rx=\"35.38\" ry=\"35.38\"/>\n<text text-anchor=\"start\" x=\"525.52\" y=\"-147.87\" font-family=\"Times,serif\" font-size=\"12.00\">C1:1[float]</text>\n</g>\n<!-- (&#39;top&#39;,)&#45;&gt;(&#39;top&#39;, &#39;C1&#39;) -->\n<g id=\"edge4\" class=\"edge\">\n<title>(&#39;top&#39;,)&#45;&gt;(&#39;top&#39;, &#39;C1&#39;)</title>\n<path fill=\"none\" stroke=\"black\" stroke-width=\"2\" d=\"M551.86,-314.04C551.86,-282.84 551.86,-225.02 551.86,-187.68\"/>\n</g>\n<!-- (&#39;top&#39;, &#39;C2&#39;) -->\n<g id=\"node7\" class=\"node\">\n<title>(&#39;top&#39;, &#39;C2&#39;)</title>\n<ellipse fill=\"none\" stroke=\"black\" stroke-width=\"2\" cx=\"640.86\" cy=\"-151.47\" rx=\"35.38\" ry=\"35.38\"/>\n<text text-anchor=\"start\" x=\"614.52\" y=\"-147.87\" font-family=\"Times,serif\" font-size=\"12.00\">C2:1[float]</text>\n</g>\n<!-- (&#39;top&#39;,)&#45;&gt;(&#39;top&#39;, &#39;C2&#39;) -->\n<g id=\"edge5\" class=\"edge\">\n<title>(&#39;top&#39;,)&#45;&gt;(&#39;top&#39;, &#39;C2&#39;)</title>\n<path fill=\"none\" stroke=\"black\" stroke-width=\"2\" d=\"M561.38,-316.17C576.72,-284.58 607.02,-222.15 625.46,-184.18\"/>\n</g>\n<!-- (&#39;top&#39;, &#39;C3&#39;) -->\n<g id=\"node8\" class=\"node\">\n<title>(&#39;top&#39;, &#39;C3&#39;)</title>\n<ellipse fill=\"none\" stroke=\"black\" stroke-width=\"2\" cx=\"729.86\" cy=\"-151.47\" rx=\"35.38\" ry=\"35.38\"/>\n<text text-anchor=\"start\" x=\"703.52\" y=\"-147.87\" font-family=\"Times,serif\" font-size=\"12.00\">C3:1[float]</text>\n</g>\n<!-- (&#39;top&#39;,)&#45;&gt;(&#39;top&#39;, &#39;C3&#39;) -->\n<g id=\"edge6\" class=\"edge\">\n<title>(&#39;top&#39;,)&#45;&gt;(&#39;top&#39;, &#39;C3&#39;)</title>\n<path fill=\"none\" stroke=\"black\" stroke-width=\"2\" d=\"M570.04,-322.68C597.04,-302.68 648.45,-262.45 684.86,-220.94 694.98,-209.39 704.58,-195.4 712.28,-183.08\"/>\n</g>\n<!-- (&#39;top&#39;, &#39;C4&#39;) -->\n<g id=\"node9\" class=\"node\">\n<title>(&#39;top&#39;, &#39;C4&#39;)</title>\n<ellipse fill=\"none\" stroke=\"black\" stroke-width=\"2\" cx=\"825.86\" cy=\"-151.47\" rx=\"35.38\" ry=\"35.38\"/>\n<text text-anchor=\"start\" x=\"799.52\" y=\"-147.87\" font-family=\"Times,serif\" font-size=\"12.00\">C4:1[float]</text>\n</g>\n<!-- (&#39;top&#39;,)&#45;&gt;(&#39;top&#39;, &#39;C4&#39;) -->\n<g id=\"edge7\" class=\"edge\">\n<title>(&#39;top&#39;,)&#45;&gt;(&#39;top&#39;, &#39;C4&#39;)</title>\n<path fill=\"none\" stroke=\"black\" stroke-width=\"2\" d=\"M573.28,-328.38C615.16,-313.14 709.43,-275.13 773.86,-220.94 786.76,-210.08 798.41,-195.47 807.39,-182.53\"/>\n</g>\n<!-- (&#39;top&#39;, &#39;C5&#39;) -->\n<g id=\"node10\" class=\"node\">\n<title>(&#39;top&#39;, &#39;C5&#39;)</title>\n<ellipse fill=\"none\" stroke=\"black\" stroke-width=\"2\" cx=\"931.86\" cy=\"-151.47\" rx=\"35.38\" ry=\"35.38\"/>\n<text text-anchor=\"start\" x=\"905.52\" y=\"-147.87\" font-family=\"Times,serif\" font-size=\"12.00\">C5:1[float]</text>\n</g>\n<!-- (&#39;top&#39;,)&#45;&gt;(&#39;top&#39;, &#39;C5&#39;) -->\n<g id=\"edge8\" class=\"edge\">\n<title>(&#39;top&#39;,)&#45;&gt;(&#39;top&#39;, &#39;C5&#39;)</title>\n<path fill=\"none\" stroke=\"black\" stroke-width=\"2\" d=\"M573.98,-331.68C628.22,-320.8 770.65,-287.47 869.86,-220.94 885.7,-210.31 900.22,-194.76 911.21,-181.17\"/>\n</g>\n<!-- (&#39;top&#39;,)&#45;&gt;(&#39;emitter&#39;,) -->\n<g id=\"edge10\" class=\"edge\">\n<title>(&#39;top&#39;,)&#45;&gt;(&#39;emitter&#39;,)</title>\n<path fill=\"none\" stroke=\"black\" stroke-dasharray=\"5,2\" d=\"M529.14,-336.1C458.44,-335.9 239.1,-326.36 105.86,-220.94 93.06,-210.81 84.3,-194.87 78.63,-180.92\"/>\n<polygon fill=\"black\" stroke=\"black\" points=\"81.98,-179.9 75.24,-171.72 75.41,-182.32 81.98,-179.9\"/>\n<text text-anchor=\"start\" x=\"146.86\" y=\"-240.94\" font-family=\"Times,serif\" font-size=\"10.00\">top</text>\n</g>\n<!-- (&#39;increase&#39;,) -->\n<g id=\"node11\" class=\"node\">\n<title>(&#39;increase&#39;,)</title>\n<polygon fill=\"none\" stroke=\"black\" stroke-width=\"2\" points=\"211.86,-36 157.86,-36 157.86,0 211.86,0 211.86,-36\"/>\n<text text-anchor=\"start\" x=\"165.2\" y=\"-14.4\" font-family=\"Times,serif\" font-size=\"12.00\">increase</text>\n</g>\n<!-- (&#39;top&#39;, &#39;A&#39;)&#45;&gt;(&#39;increase&#39;,) -->\n<g id=\"edge9\" class=\"edge\">\n<title>(&#39;top&#39;, &#39;A&#39;)&#45;&gt;(&#39;increase&#39;,)</title>\n<path fill=\"none\" stroke=\"black\" stroke-dasharray=\"5,2\" d=\"M156.86,-86.55C155.21,-75.62 155.41,-64.43 158.86,-54 159.7,-51.45 160.81,-48.94 162.09,-46.5\"/>\n<polygon fill=\"black\" stroke=\"black\" points=\"164.91,-48.59 167.31,-38.27 159,-44.84 164.91,-48.59\"/>\n<text text-anchor=\"start\" x=\"159.86\" y=\"-56\" font-family=\"Times,serif\" font-size=\"10.00\">amount</text>\n</g>\n<!-- (&#39;top&#39;, &#39;A&#39;)&#45;&gt;(&#39;increase&#39;,) -->\n<g id=\"edge18\" class=\"edge\">\n<title>(&#39;top&#39;, &#39;A&#39;)&#45;&gt;(&#39;increase&#39;,)</title>\n<path fill=\"none\" stroke=\"black\" stroke-dasharray=\"5,2\" d=\"M189.34,-70.17C189.31,-64.7 189.16,-59.27 188.86,-54 188.54,-48.38 187.93,-42.28 187.28,-36.77\"/>\n<polygon fill=\"black\" stroke=\"black\" points=\"185.84,-69.89 189.27,-79.92 192.84,-69.95 185.84,-69.89\"/>\n<text text-anchor=\"start\" x=\"189.86\" y=\"-56\" font-family=\"Times,serif\" font-size=\"10.00\">amount</text>\n</g>\n<!-- (&#39;increase0&#39;,) -->\n<g id=\"node14\" class=\"node\">\n<title>(&#39;increase0&#39;,)</title>\n<polygon fill=\"none\" stroke=\"black\" stroke-width=\"2\" points=\"445.86,-36 391.86,-36 391.86,0 445.86,0 445.86,-36\"/>\n<text text-anchor=\"start\" x=\"396.2\" y=\"-14.4\" font-family=\"Times,serif\" font-size=\"12.00\">increase0</text>\n</g>\n<!-- (&#39;top&#39;, &#39;C0&#39;)&#45;&gt;(&#39;increase0&#39;,) -->\n<g id=\"edge13\" class=\"edge\">\n<title>(&#39;top&#39;, &#39;C0&#39;)&#45;&gt;(&#39;increase0&#39;,)</title>\n<path fill=\"none\" stroke=\"black\" stroke-dasharray=\"5,2\" d=\"M444.77,-120.13C437.18,-107.98 427.99,-94.05 418.86,-82 412.39,-73.47 406.66,-74 402.86,-64 400.78,-58.52 401.07,-52.64 402.57,-46.99\"/>\n<polygon fill=\"black\" stroke=\"black\" points=\"405.71,-48.58 406.12,-38 399.19,-46.02 405.71,-48.58\"/>\n<text text-anchor=\"start\" x=\"403.86\" y=\"-56\" font-family=\"Times,serif\" font-size=\"10.00\">amount</text>\n</g>\n<!-- (&#39;top&#39;, &#39;C0&#39;)&#45;&gt;(&#39;increase0&#39;,) -->\n<g id=\"edge20\" class=\"edge\">\n<title>(&#39;top&#39;, &#39;C0&#39;)&#45;&gt;(&#39;increase0&#39;,)</title>\n<path fill=\"none\" stroke=\"black\" stroke-dasharray=\"5,2\" d=\"M449.78,-105.83C444.77,-89.44 438.81,-70.79 432.86,-54 430.84,-48.33 428.47,-42.21 426.25,-36.7\"/>\n<polygon fill=\"black\" stroke=\"black\" points=\"446.4,-106.76 452.65,-115.32 453.1,-104.74 446.4,-106.76\"/>\n<text text-anchor=\"start\" x=\"435.86\" y=\"-56\" font-family=\"Times,serif\" font-size=\"10.00\">amount</text>\n</g>\n<!-- (&#39;increase1&#39;,) -->\n<g id=\"node15\" class=\"node\">\n<title>(&#39;increase1&#39;,)</title>\n<polygon fill=\"none\" stroke=\"black\" stroke-width=\"2\" points=\"551.86,-36 497.86,-36 497.86,0 551.86,0 551.86,-36\"/>\n<text text-anchor=\"start\" x=\"502.2\" y=\"-14.4\" font-family=\"Times,serif\" font-size=\"12.00\">increase1</text>\n</g>\n<!-- (&#39;top&#39;, &#39;C1&#39;)&#45;&gt;(&#39;increase1&#39;,) -->\n<g id=\"edge14\" class=\"edge\">\n<title>(&#39;top&#39;, &#39;C1&#39;)&#45;&gt;(&#39;increase1&#39;,)</title>\n<path fill=\"none\" stroke=\"black\" stroke-dasharray=\"5,2\" d=\"M532.69,-120.56C523.52,-104.48 513.54,-83.91 508.86,-64 507.58,-58.54 508.09,-52.82 509.54,-47.36\"/>\n<polygon fill=\"black\" stroke=\"black\" points=\"512.78,-48.69 513.02,-38.1 506.23,-46.23 512.78,-48.69\"/>\n<text text-anchor=\"start\" x=\"509.86\" y=\"-56\" font-family=\"Times,serif\" font-size=\"10.00\">amount</text>\n</g>\n<!-- (&#39;top&#39;, &#39;C1&#39;)&#45;&gt;(&#39;increase1&#39;,) -->\n<g id=\"edge21\" class=\"edge\">\n<title>(&#39;top&#39;, &#39;C1&#39;)&#45;&gt;(&#39;increase1&#39;,)</title>\n<path fill=\"none\" stroke=\"black\" stroke-dasharray=\"5,2\" d=\"M547.94,-103.97C545.97,-87.97 543.08,-70.04 538.86,-54 537.36,-48.3 535.18,-42.29 532.99,-36.88\"/>\n<polygon fill=\"black\" stroke=\"black\" points=\"544.44,-104.19 549.04,-113.73 551.39,-103.4 544.44,-104.19\"/>\n<text text-anchor=\"start\" x=\"540.86\" y=\"-56\" font-family=\"Times,serif\" font-size=\"10.00\">amount</text>\n</g>\n<!-- (&#39;increase2&#39;,) -->\n<g id=\"node13\" class=\"node\">\n<title>(&#39;increase2&#39;,)</title>\n<polygon fill=\"none\" stroke=\"black\" stroke-width=\"2\" points=\"657.86,-36 603.86,-36 603.86,0 657.86,0 657.86,-36\"/>\n<text text-anchor=\"start\" x=\"608.2\" y=\"-14.4\" font-family=\"Times,serif\" font-size=\"12.00\">increase2</text>\n</g>\n<!-- (&#39;top&#39;, &#39;C2&#39;)&#45;&gt;(&#39;increase2&#39;,) -->\n<g id=\"edge12\" class=\"edge\">\n<title>(&#39;top&#39;, &#39;C2&#39;)&#45;&gt;(&#39;increase2&#39;,)</title>\n<path fill=\"none\" stroke=\"black\" stroke-dasharray=\"5,2\" d=\"M624.68,-119.38C616.84,-100.57 610.06,-76.03 614.86,-54 615.36,-51.71 616.02,-49.38 616.8,-47.08\"/>\n<polygon fill=\"black\" stroke=\"black\" points=\"619.94,-48.64 620.45,-38.06 613.45,-46.01 619.94,-48.64\"/>\n<text text-anchor=\"start\" x=\"615.86\" y=\"-56\" font-family=\"Times,serif\" font-size=\"10.00\">amount</text>\n</g>\n<!-- (&#39;top&#39;, &#39;C2&#39;)&#45;&gt;(&#39;increase2&#39;,) -->\n<g id=\"edge19\" class=\"edge\">\n<title>(&#39;top&#39;, &#39;C2&#39;)&#45;&gt;(&#39;increase2&#39;,)</title>\n<path fill=\"none\" stroke=\"black\" stroke-dasharray=\"5,2\" d=\"M647.07,-104.5C648.11,-88.41 647.99,-70.29 644.86,-54 643.74,-48.22 641.68,-42.17 639.48,-36.77\"/>\n<polygon fill=\"black\" stroke=\"black\" points=\"643.59,-104.04 646.25,-114.29 650.57,-104.62 643.59,-104.04\"/>\n<text text-anchor=\"start\" x=\"646.86\" y=\"-56\" font-family=\"Times,serif\" font-size=\"10.00\">amount</text>\n</g>\n<!-- (&#39;increase3&#39;,) -->\n<g id=\"node16\" class=\"node\">\n<title>(&#39;increase3&#39;,)</title>\n<polygon fill=\"none\" stroke=\"black\" stroke-width=\"2\" points=\"763.86,-36 709.86,-36 709.86,0 763.86,0 763.86,-36\"/>\n<text text-anchor=\"start\" x=\"714.2\" y=\"-14.4\" font-family=\"Times,serif\" font-size=\"12.00\">increase3</text>\n</g>\n<!-- (&#39;top&#39;, &#39;C3&#39;)&#45;&gt;(&#39;increase3&#39;,) -->\n<g id=\"edge15\" class=\"edge\">\n<title>(&#39;top&#39;, &#39;C3&#39;)&#45;&gt;(&#39;increase3&#39;,)</title>\n<path fill=\"none\" stroke=\"black\" stroke-dasharray=\"5,2\" d=\"M721.61,-116.23C718.4,-97.65 716.42,-74.38 720.86,-54 721.36,-51.71 722.02,-49.38 722.8,-47.08\"/>\n<polygon fill=\"black\" stroke=\"black\" points=\"725.94,-48.64 726.45,-38.06 719.45,-46.01 725.94,-48.64\"/>\n<text text-anchor=\"start\" x=\"721.86\" y=\"-56\" font-family=\"Times,serif\" font-size=\"10.00\">amount</text>\n</g>\n<!-- (&#39;top&#39;, &#39;C3&#39;)&#45;&gt;(&#39;increase3&#39;,) -->\n<g id=\"edge22\" class=\"edge\">\n<title>(&#39;top&#39;, &#39;C3&#39;)&#45;&gt;(&#39;increase3&#39;,)</title>\n<path fill=\"none\" stroke=\"black\" stroke-dasharray=\"5,2\" d=\"M746.95,-106.95C751.44,-90.41 754.2,-71.37 750.86,-54 749.74,-48.22 747.68,-42.17 745.48,-36.77\"/>\n<polygon fill=\"black\" stroke=\"black\" points=\"743.6,-105.92 744.05,-116.5 750.3,-107.95 743.6,-105.92\"/>\n<text text-anchor=\"start\" x=\"752.86\" y=\"-56\" font-family=\"Times,serif\" font-size=\"10.00\">amount</text>\n</g>\n<!-- (&#39;increase4&#39;,) -->\n<g id=\"node17\" class=\"node\">\n<title>(&#39;increase4&#39;,)</title>\n<polygon fill=\"none\" stroke=\"black\" stroke-width=\"2\" points=\"869.86,-36 815.86,-36 815.86,0 869.86,0 869.86,-36\"/>\n<text text-anchor=\"start\" x=\"820.2\" y=\"-14.4\" font-family=\"Times,serif\" font-size=\"12.00\">increase4</text>\n</g>\n<!-- (&#39;top&#39;, &#39;C4&#39;)&#45;&gt;(&#39;increase4&#39;,) -->\n<g id=\"edge16\" class=\"edge\">\n<title>(&#39;top&#39;, &#39;C4&#39;)&#45;&gt;(&#39;increase4&#39;,)</title>\n<path fill=\"none\" stroke=\"black\" stroke-dasharray=\"5,2\" d=\"M822.74,-115.24C821.97,-96.79 822.41,-73.94 826.86,-54 827.37,-51.71 828.04,-49.38 828.82,-47.08\"/>\n<polygon fill=\"black\" stroke=\"black\" points=\"831.97,-48.65 832.48,-38.06 825.48,-46.01 831.97,-48.65\"/>\n<text text-anchor=\"start\" x=\"827.86\" y=\"-56\" font-family=\"Times,serif\" font-size=\"10.00\">amount</text>\n</g>\n<!-- (&#39;top&#39;, &#39;C4&#39;)&#45;&gt;(&#39;increase4&#39;,) -->\n<g id=\"edge23\" class=\"edge\">\n<title>(&#39;top&#39;, &#39;C4&#39;)&#45;&gt;(&#39;increase4&#39;,)</title>\n<path fill=\"none\" stroke=\"black\" stroke-dasharray=\"5,2\" d=\"M844.45,-107.76C849.52,-94.05 854.31,-78.63 856.86,-64 858.45,-54.81 855.85,-44.88 852.47,-36.69\"/>\n<polygon fill=\"black\" stroke=\"black\" points=\"841.25,-106.34 840.9,-116.93 847.77,-108.86 841.25,-106.34\"/>\n<text text-anchor=\"start\" x=\"857.86\" y=\"-56\" font-family=\"Times,serif\" font-size=\"10.00\">amount</text>\n</g>\n<!-- (&#39;increase5&#39;,) -->\n<g id=\"node18\" class=\"node\">\n<title>(&#39;increase5&#39;,)</title>\n<polygon fill=\"none\" stroke=\"black\" stroke-width=\"2\" points=\"984.86,-36 930.86,-36 930.86,0 984.86,0 984.86,-36\"/>\n<text text-anchor=\"start\" x=\"935.2\" y=\"-14.4\" font-family=\"Times,serif\" font-size=\"12.00\">increase5</text>\n</g>\n<!-- (&#39;top&#39;, &#39;C5&#39;)&#45;&gt;(&#39;increase5&#39;,) -->\n<g id=\"edge17\" class=\"edge\">\n<title>(&#39;top&#39;, &#39;C5&#39;)&#45;&gt;(&#39;increase5&#39;,)</title>\n<path fill=\"none\" stroke=\"black\" stroke-dasharray=\"5,2\" d=\"M927.24,-115.72C925.98,-96.99 926.42,-73.74 932.86,-54 933.7,-51.42 934.8,-48.88 936.08,-46.4\"/>\n<polygon fill=\"black\" stroke=\"black\" points=\"938.98,-48.36 941.27,-38.01 933.03,-44.68 938.98,-48.36\"/>\n<text text-anchor=\"start\" x=\"933.86\" y=\"-56\" font-family=\"Times,serif\" font-size=\"10.00\">amount</text>\n</g>\n<!-- (&#39;top&#39;, &#39;C5&#39;)&#45;&gt;(&#39;increase5&#39;,) -->\n<g id=\"edge24\" class=\"edge\">\n<title>(&#39;top&#39;, &#39;C5&#39;)&#45;&gt;(&#39;increase5&#39;,)</title>\n<path fill=\"none\" stroke=\"black\" stroke-dasharray=\"5,2\" d=\"M950.45,-107.76C955.52,-94.05 960.31,-78.63 962.86,-64 964.42,-55.02 963.54,-44.93 962.11,-36.59\"/>\n<polygon fill=\"black\" stroke=\"black\" points=\"947.25,-106.34 946.9,-116.93 953.77,-108.86 947.25,-106.34\"/>\n<text text-anchor=\"start\" x=\"962.86\" y=\"-56\" font-family=\"Times,serif\" font-size=\"10.00\">amount</text>\n</g>\n</g>\n</svg>\n",
      "text/plain": [
       "<graphviz.graphs.Digraph at 0x10cab81f0>"
      ]
     },
     "execution_count": 21,
     "metadata": {},
     "output_type": "execute_result"
    }
   ],
   "execution_count": 21
  },
  {
   "metadata": {
    "ExecuteTime": {
     "end_time": "2025-03-11T22:24:06.297307Z",
     "start_time": "2025-03-11T22:24:06.108284Z"
    }
   },
   "cell_type": "code",
   "source": [
    "v2.run(interval=10)\n",
    "v2.plot_timeseries(subplot_size=(10, 3),\n",
    "                   ncols=2,\n",
    "                   combined_vars=[[f'/top/C{i}' for i in range(4)],\n",
    "                                  [f'/top/C{i}' for i in range(4, n_new_nodes)]])"
   ],
   "id": "acdc525441605ac6",
   "outputs": [
    {
     "ename": "TypeError",
     "evalue": "can only concatenate str (not \"int\") to str",
     "output_type": "error",
     "traceback": [
      "\u001B[0;31m---------------------------------------------------------------------------\u001B[0m",
      "\u001B[0;31mTypeError\u001B[0m                                 Traceback (most recent call last)",
      "Cell \u001B[0;32mIn[22], line 1\u001B[0m\n\u001B[0;32m----> 1\u001B[0m \u001B[43mv2\u001B[49m\u001B[38;5;241;43m.\u001B[39;49m\u001B[43mrun\u001B[49m\u001B[43m(\u001B[49m\u001B[43minterval\u001B[49m\u001B[38;5;241;43m=\u001B[39;49m\u001B[38;5;241;43m10\u001B[39;49m\u001B[43m)\u001B[49m\n\u001B[1;32m      2\u001B[0m v2\u001B[38;5;241m.\u001B[39mplot_timeseries(subplot_size\u001B[38;5;241m=\u001B[39m(\u001B[38;5;241m10\u001B[39m, \u001B[38;5;241m3\u001B[39m),\n\u001B[1;32m      3\u001B[0m                    ncols\u001B[38;5;241m=\u001B[39m\u001B[38;5;241m2\u001B[39m,\n\u001B[1;32m      4\u001B[0m                    combined_vars\u001B[38;5;241m=\u001B[39m[[\u001B[38;5;124mf\u001B[39m\u001B[38;5;124m'\u001B[39m\u001B[38;5;124m/top/C\u001B[39m\u001B[38;5;132;01m{\u001B[39;00mi\u001B[38;5;132;01m}\u001B[39;00m\u001B[38;5;124m'\u001B[39m \u001B[38;5;28;01mfor\u001B[39;00m i \u001B[38;5;129;01min\u001B[39;00m \u001B[38;5;28mrange\u001B[39m(\u001B[38;5;241m4\u001B[39m)],\n\u001B[1;32m      5\u001B[0m                                   [\u001B[38;5;124mf\u001B[39m\u001B[38;5;124m'\u001B[39m\u001B[38;5;124m/top/C\u001B[39m\u001B[38;5;132;01m{\u001B[39;00mi\u001B[38;5;132;01m}\u001B[39;00m\u001B[38;5;124m'\u001B[39m \u001B[38;5;28;01mfor\u001B[39;00m i \u001B[38;5;129;01min\u001B[39;00m \u001B[38;5;28mrange\u001B[39m(\u001B[38;5;241m4\u001B[39m, n_new_nodes)]])\n",
      "File \u001B[0;32m~/code/vivarium-interface/vivarium/vivarium.py:391\u001B[0m, in \u001B[0;36mVivarium.run\u001B[0;34m(self, interval)\u001B[0m\n\u001B[1;32m    388\u001B[0m \u001B[38;5;28;01mif\u001B[39;00m \u001B[38;5;129;01mnot\u001B[39;00m \u001B[38;5;28mself\u001B[39m\u001B[38;5;241m.\u001B[39memitter_paths:\n\u001B[1;32m    389\u001B[0m     \u001B[38;5;28mself\u001B[39m\u001B[38;5;241m.\u001B[39madd_emitter()\n\u001B[0;32m--> 391\u001B[0m \u001B[38;5;28;43mself\u001B[39;49m\u001B[38;5;241;43m.\u001B[39;49m\u001B[43mcomposite\u001B[49m\u001B[38;5;241;43m.\u001B[39;49m\u001B[43mrun\u001B[49m\u001B[43m(\u001B[49m\u001B[43minterval\u001B[49m\u001B[43m)\u001B[49m\n",
      "File \u001B[0;32m~/code/process-bigraph/process_bigraph/composite.py:769\u001B[0m, in \u001B[0;36mComposite.run\u001B[0;34m(self, interval, force_complete)\u001B[0m\n\u001B[1;32m    766\u001B[0m     \u001B[38;5;28mself\u001B[39m\u001B[38;5;241m.\u001B[39mto_run \u001B[38;5;241m=\u001B[39m \u001B[38;5;28;01mNone\u001B[39;00m\n\u001B[1;32m    768\u001B[0m \u001B[38;5;66;03m# Define the end time for the run\u001B[39;00m\n\u001B[0;32m--> 769\u001B[0m end_time \u001B[38;5;241m=\u001B[39m \u001B[38;5;28;43mself\u001B[39;49m\u001B[38;5;241;43m.\u001B[39;49m\u001B[43mstate\u001B[49m\u001B[43m[\u001B[49m\u001B[38;5;124;43m'\u001B[39;49m\u001B[38;5;124;43mglobal_time\u001B[39;49m\u001B[38;5;124;43m'\u001B[39;49m\u001B[43m]\u001B[49m\u001B[43m \u001B[49m\u001B[38;5;241;43m+\u001B[39;49m\u001B[43m \u001B[49m\u001B[43minterval\u001B[49m\n\u001B[1;32m    771\u001B[0m \u001B[38;5;66;03m# Run the processes and apply updates until the end time is reached\u001B[39;00m\n\u001B[1;32m    772\u001B[0m \u001B[38;5;28;01mwhile\u001B[39;00m \u001B[38;5;28mself\u001B[39m\u001B[38;5;241m.\u001B[39mstate[\u001B[38;5;124m'\u001B[39m\u001B[38;5;124mglobal_time\u001B[39m\u001B[38;5;124m'\u001B[39m] \u001B[38;5;241m<\u001B[39m end_time \u001B[38;5;129;01mor\u001B[39;00m force_complete:\n",
      "\u001B[0;31mTypeError\u001B[0m: can only concatenate str (not \"int\") to str"
     ]
    }
   ],
   "execution_count": 22
  },
  {
   "metadata": {
    "ExecuteTime": {
     "end_time": "2025-03-11T22:24:06.298568Z",
     "start_time": "2025-03-01T23:46:06.815001Z"
    }
   },
   "cell_type": "code",
   "source": [
    "v2.diagram(dpi='70',\n",
    "           show_values=True,\n",
    "           # show_types=True,\n",
    "           significant_digits=4,\n",
    "           )"
   ],
   "id": "28dfbfcc0ffb8b98",
   "outputs": [
    {
     "data": {
      "image/svg+xml": "<?xml version=\"1.0\" encoding=\"UTF-8\" standalone=\"no\"?>\n<!DOCTYPE svg PUBLIC \"-//W3C//DTD SVG 1.1//EN\"\n \"http://www.w3.org/Graphics/SVG/1.1/DTD/svg11.dtd\">\n<!-- Generated by graphviz version 9.0.0 (0)\n -->\n<!-- Title: bigraph Pages: 1 -->\n<svg width=\"767pt\" height=\"290pt\"\n viewBox=\"0.00 0.00 789.20 298.42\" xmlns=\"http://www.w3.org/2000/svg\" xmlns:xlink=\"http://www.w3.org/1999/xlink\">\n<g id=\"graph0\" class=\"graph\" transform=\"scale(0.972222 0.972222) rotate(0) translate(4 294.42)\">\n<title>bigraph</title>\n<polygon fill=\"white\" stroke=\"none\" points=\"-4,4 -4,-294.42 785.2,-294.42 785.2,4 -4,4\"/>\n<!-- (&#39;global_time&#39;,) -->\n<g id=\"node1\" class=\"node\">\n<title>(&#39;global_time&#39;,)</title>\n<ellipse fill=\"none\" stroke=\"black\" stroke-width=\"2\" cx=\"47.2\" cy=\"-243.22\" rx=\"47.2\" ry=\"47.2\"/>\n<text text-anchor=\"start\" x=\"10.87\" y=\"-239.62\" font-family=\"Times,serif\" font-size=\"12.00\">global_time:20</text>\n</g>\n<!-- (&#39;emitter&#39;,) -->\n<g id=\"node12\" class=\"node\">\n<title>(&#39;emitter&#39;,)</title>\n<polygon fill=\"none\" stroke=\"black\" stroke-width=\"2\" points=\"74.2,-134.01 20.2,-134.01 20.2,-98.01 74.2,-98.01 74.2,-134.01\"/>\n<text text-anchor=\"start\" x=\"30.21\" y=\"-112.41\" font-family=\"Times,serif\" font-size=\"12.00\">emitter</text>\n</g>\n<!-- (&#39;global_time&#39;,)&#45;&gt;(&#39;emitter&#39;,) -->\n<g id=\"edge10\" class=\"edge\">\n<title>(&#39;global_time&#39;,)&#45;&gt;(&#39;emitter&#39;,)</title>\n<path fill=\"none\" stroke=\"black\" stroke-dasharray=\"5,2\" d=\"M47.2,-195.24C47.2,-178.76 47.2,-160.74 47.2,-146.15\"/>\n<polygon fill=\"black\" stroke=\"black\" points=\"50.7,-146.32 47.2,-136.32 43.7,-146.32 50.7,-146.32\"/>\n<text text-anchor=\"start\" x=\"47.2\" y=\"-170.02\" font-family=\"Times,serif\" font-size=\"10.00\">global_time</text>\n</g>\n<!-- (&#39;top&#39;,) -->\n<g id=\"node2\" class=\"node\">\n<title>(&#39;top&#39;,)</title>\n<ellipse fill=\"none\" stroke=\"black\" stroke-width=\"2\" cx=\"339.2\" cy=\"-243.22\" rx=\"18\" ry=\"18\"/>\n<text text-anchor=\"start\" x=\"331.53\" y=\"-239.62\" font-family=\"Times,serif\" font-size=\"12.00\">top</text>\n</g>\n<!-- (&#39;top&#39;, &#39;A&#39;) -->\n<g id=\"node3\" class=\"node\">\n<title>(&#39;top&#39;, &#39;A&#39;)</title>\n<ellipse fill=\"none\" stroke=\"black\" stroke-width=\"2\" cx=\"123.2\" cy=\"-116.01\" rx=\"30.85\" ry=\"30.85\"/>\n<text text-anchor=\"start\" x=\"100.7\" y=\"-112.41\" font-family=\"Times,serif\" font-size=\"12.00\">A:672.75</text>\n</g>\n<!-- (&#39;top&#39;,)&#45;&gt;(&#39;top&#39;, &#39;A&#39;) -->\n<g id=\"edge1\" class=\"edge\">\n<title>(&#39;top&#39;,)&#45;&gt;(&#39;top&#39;, &#39;A&#39;)</title>\n<path fill=\"none\" stroke=\"black\" stroke-width=\"2\" d=\"M322.55,-234.91C290.53,-220.55 218.66,-186.85 163.2,-150.02 157.5,-146.23 151.66,-141.79 146.26,-137.4\"/>\n</g>\n<!-- (&#39;top&#39;, &#39;B&#39;) -->\n<g id=\"node4\" class=\"node\">\n<title>(&#39;top&#39;, &#39;B&#39;)</title>\n<ellipse fill=\"none\" stroke=\"black\" stroke-width=\"2\" cx=\"202.2\" cy=\"-116.01\" rx=\"30.46\" ry=\"30.46\"/>\n<text text-anchor=\"start\" x=\"180.03\" y=\"-112.41\" font-family=\"Times,serif\" font-size=\"12.00\">B:0.3487</text>\n</g>\n<!-- (&#39;top&#39;,)&#45;&gt;(&#39;top&#39;, &#39;B&#39;) -->\n<g id=\"edge2\" class=\"edge\">\n<title>(&#39;top&#39;,)&#45;&gt;(&#39;top&#39;, &#39;B&#39;)</title>\n<path fill=\"none\" stroke=\"black\" stroke-width=\"2\" d=\"M325.82,-229.99C302.39,-208.57 253.7,-164.08 224.91,-137.77\"/>\n</g>\n<!-- (&#39;top&#39;, &#39;C0&#39;) -->\n<g id=\"node5\" class=\"node\">\n<title>(&#39;top&#39;, &#39;C0&#39;)</title>\n<ellipse fill=\"none\" stroke=\"black\" stroke-width=\"2\" cx=\"269.2\" cy=\"-116.01\" rx=\"18.05\" ry=\"18.05\"/>\n<text text-anchor=\"start\" x=\"257.53\" y=\"-112.41\" font-family=\"Times,serif\" font-size=\"12.00\">C0:0</text>\n</g>\n<!-- (&#39;top&#39;,)&#45;&gt;(&#39;top&#39;, &#39;C0&#39;) -->\n<g id=\"edge3\" class=\"edge\">\n<title>(&#39;top&#39;,)&#45;&gt;(&#39;top&#39;, &#39;C0&#39;)</title>\n<path fill=\"none\" stroke=\"black\" stroke-width=\"2\" d=\"M330.48,-226.62C317.06,-202.62 291.52,-156.92 278.04,-132.81\"/>\n</g>\n<!-- (&#39;top&#39;, &#39;C1&#39;) -->\n<g id=\"node6\" class=\"node\">\n<title>(&#39;top&#39;, &#39;C1&#39;)</title>\n<ellipse fill=\"none\" stroke=\"black\" stroke-width=\"2\" cx=\"339.2\" cy=\"-116.01\" rx=\"34.01\" ry=\"34.01\"/>\n<text text-anchor=\"start\" x=\"314.03\" y=\"-112.41\" font-family=\"Times,serif\" font-size=\"12.00\">C1:0.0017</text>\n</g>\n<!-- (&#39;top&#39;,)&#45;&gt;(&#39;top&#39;, &#39;C1&#39;) -->\n<g id=\"edge4\" class=\"edge\">\n<title>(&#39;top&#39;,)&#45;&gt;(&#39;top&#39;, &#39;C1&#39;)</title>\n<path fill=\"none\" stroke=\"black\" stroke-width=\"2\" d=\"M339.2,-224.28C339.2,-205.21 339.2,-174.61 339.2,-150.96\"/>\n</g>\n<!-- (&#39;top&#39;, &#39;C2&#39;) -->\n<g id=\"node7\" class=\"node\">\n<title>(&#39;top&#39;, &#39;C2&#39;)</title>\n<ellipse fill=\"none\" stroke=\"black\" stroke-width=\"2\" cx=\"425.2\" cy=\"-116.01\" rx=\"34.01\" ry=\"34.01\"/>\n<text text-anchor=\"start\" x=\"400.03\" y=\"-112.41\" font-family=\"Times,serif\" font-size=\"12.00\">C2:0.8046</text>\n</g>\n<!-- (&#39;top&#39;,)&#45;&gt;(&#39;top&#39;, &#39;C2&#39;) -->\n<g id=\"edge5\" class=\"edge\">\n<title>(&#39;top&#39;,)&#45;&gt;(&#39;top&#39;, &#39;C2&#39;)</title>\n<path fill=\"none\" stroke=\"black\" stroke-width=\"2\" d=\"M349.4,-227.37C363.29,-207.15 388.4,-170.6 405.89,-145.12\"/>\n</g>\n<!-- (&#39;top&#39;, &#39;C3&#39;) -->\n<g id=\"node8\" class=\"node\">\n<title>(&#39;top&#39;, &#39;C3&#39;)</title>\n<ellipse fill=\"none\" stroke=\"black\" stroke-width=\"2\" cx=\"511.2\" cy=\"-116.01\" rx=\"34.01\" ry=\"34.01\"/>\n<text text-anchor=\"start\" x=\"486.03\" y=\"-112.41\" font-family=\"Times,serif\" font-size=\"12.00\">C3:0.0002</text>\n</g>\n<!-- (&#39;top&#39;,)&#45;&gt;(&#39;top&#39;, &#39;C3&#39;) -->\n<g id=\"edge6\" class=\"edge\">\n<title>(&#39;top&#39;,)&#45;&gt;(&#39;top&#39;, &#39;C3&#39;)</title>\n<path fill=\"none\" stroke=\"black\" stroke-width=\"2\" d=\"M354.02,-231.87C378.14,-214.99 427.28,-180.34 468.2,-150.02 473.5,-146.1 479.11,-141.85 484.47,-137.75\"/>\n</g>\n<!-- (&#39;top&#39;, &#39;C4&#39;) -->\n<g id=\"node9\" class=\"node\">\n<title>(&#39;top&#39;, &#39;C4&#39;)</title>\n<ellipse fill=\"none\" stroke=\"black\" stroke-width=\"2\" cx=\"613.2\" cy=\"-116.01\" rx=\"34.01\" ry=\"34.01\"/>\n<text text-anchor=\"start\" x=\"588.03\" y=\"-112.41\" font-family=\"Times,serif\" font-size=\"12.00\">C4:0.1312</text>\n</g>\n<!-- (&#39;top&#39;,)&#45;&gt;(&#39;top&#39;, &#39;C4&#39;) -->\n<g id=\"edge7\" class=\"edge\">\n<title>(&#39;top&#39;,)&#45;&gt;(&#39;top&#39;, &#39;C4&#39;)</title>\n<path fill=\"none\" stroke=\"black\" stroke-width=\"2\" d=\"M356.48,-235.53C393.35,-221.09 482.24,-185.46 554.2,-150.02 563.89,-145.25 574.23,-139.64 583.51,-134.42\"/>\n</g>\n<!-- (&#39;top&#39;, &#39;C5&#39;) -->\n<g id=\"node10\" class=\"node\">\n<title>(&#39;top&#39;, &#39;C5&#39;)</title>\n<ellipse fill=\"none\" stroke=\"black\" stroke-width=\"2\" cx=\"719.2\" cy=\"-116.01\" rx=\"18.05\" ry=\"18.05\"/>\n<text text-anchor=\"start\" x=\"707.53\" y=\"-112.41\" font-family=\"Times,serif\" font-size=\"12.00\">C5:0</text>\n</g>\n<!-- (&#39;top&#39;,)&#45;&gt;(&#39;top&#39;, &#39;C5&#39;) -->\n<g id=\"edge8\" class=\"edge\">\n<title>(&#39;top&#39;,)&#45;&gt;(&#39;top&#39;, &#39;C5&#39;)</title>\n<path fill=\"none\" stroke=\"black\" stroke-width=\"2\" d=\"M357.5,-238.25C406.81,-227.27 546.15,-194.34 656.2,-150.02 672.81,-143.33 690.82,-133.63 703.31,-126.47\"/>\n</g>\n<!-- (&#39;top&#39;,)&#45;&gt;(&#39;emitter&#39;,) -->\n<g id=\"edge11\" class=\"edge\">\n<title>(&#39;top&#39;,)&#45;&gt;(&#39;emitter&#39;,)</title>\n<path fill=\"none\" stroke=\"black\" stroke-dasharray=\"5,2\" d=\"M321.06,-238.31C277.6,-228.4 165.06,-199.52 83.2,-150.02 79.58,-147.83 76,-145.24 72.58,-142.48\"/>\n<polygon fill=\"black\" stroke=\"black\" points=\"74.98,-139.93 65.15,-135.98 70.37,-145.2 74.98,-139.93\"/>\n<text text-anchor=\"start\" x=\"136.2\" y=\"-170.02\" font-family=\"Times,serif\" font-size=\"10.00\">top</text>\n</g>\n<!-- (&#39;increase&#39;,) -->\n<g id=\"node11\" class=\"node\">\n<title>(&#39;increase&#39;,)</title>\n<polygon fill=\"none\" stroke=\"black\" stroke-width=\"2\" points=\"139.2,-36 85.2,-36 85.2,0 139.2,0 139.2,-36\"/>\n<text text-anchor=\"start\" x=\"92.55\" y=\"-14.4\" font-family=\"Times,serif\" font-size=\"12.00\">increase</text>\n</g>\n<!-- (&#39;top&#39;, &#39;A&#39;)&#45;&gt;(&#39;increase&#39;,) -->\n<g id=\"edge9\" class=\"edge\">\n<title>(&#39;top&#39;, &#39;A&#39;)&#45;&gt;(&#39;increase&#39;,)</title>\n<path fill=\"none\" stroke=\"black\" stroke-dasharray=\"5,2\" d=\"M98.98,-95.72C90.04,-87.09 80.94,-76.11 76.21,-64 73.63,-57.39 75.24,-51 78.91,-45.2\"/>\n<polygon fill=\"black\" stroke=\"black\" points=\"81.37,-47.71 85.11,-37.8 76,-43.22 81.37,-47.71\"/>\n<text text-anchor=\"start\" x=\"77.2\" y=\"-56\" font-family=\"Times,serif\" font-size=\"10.00\">amount</text>\n</g>\n<!-- (&#39;top&#39;, &#39;A&#39;)&#45;&gt;(&#39;increase&#39;,) -->\n<g id=\"edge18\" class=\"edge\">\n<title>(&#39;top&#39;, &#39;A&#39;)&#45;&gt;(&#39;increase&#39;,)</title>\n<path fill=\"none\" stroke=\"black\" stroke-dasharray=\"5,2\" d=\"M118.38,-72.96C116.93,-60.26 115.41,-46.99 114.24,-36.79\"/>\n<polygon fill=\"black\" stroke=\"black\" points=\"114.9,-73.33 119.52,-82.86 121.86,-72.53 114.9,-73.33\"/>\n<text text-anchor=\"start\" x=\"117.2\" y=\"-56\" font-family=\"Times,serif\" font-size=\"10.00\">amount</text>\n</g>\n<!-- (&#39;increase0&#39;,) -->\n<g id=\"node14\" class=\"node\">\n<title>(&#39;increase0&#39;,)</title>\n<polygon fill=\"none\" stroke=\"black\" stroke-width=\"2\" points=\"232.2,-36 178.2,-36 178.2,0 232.2,0 232.2,-36\"/>\n<text text-anchor=\"start\" x=\"182.55\" y=\"-14.4\" font-family=\"Times,serif\" font-size=\"12.00\">increase0</text>\n</g>\n<!-- (&#39;top&#39;, &#39;C0&#39;)&#45;&gt;(&#39;increase0&#39;,) -->\n<g id=\"edge13\" class=\"edge\">\n<title>(&#39;top&#39;, &#39;C0&#39;)&#45;&gt;(&#39;increase0&#39;,)</title>\n<path fill=\"none\" stroke=\"black\" stroke-dasharray=\"5,2\" d=\"M259.17,-99.96C254.36,-93.69 248.13,-86.78 241.2,-82 221.41,-68.36 204.09,-83.62 190.21,-64 186.64,-58.96 186.45,-53.01 187.96,-47.11\"/>\n<polygon fill=\"black\" stroke=\"black\" points=\"191.07,-48.76 191.6,-38.18 184.59,-46.12 191.07,-48.76\"/>\n<text text-anchor=\"start\" x=\"191.2\" y=\"-56\" font-family=\"Times,serif\" font-size=\"10.00\">amount</text>\n</g>\n<!-- (&#39;top&#39;, &#39;C0&#39;)&#45;&gt;(&#39;increase0&#39;,) -->\n<g id=\"edge20\" class=\"edge\">\n<title>(&#39;top&#39;, &#39;C0&#39;)&#45;&gt;(&#39;increase0&#39;,)</title>\n<path fill=\"none\" stroke=\"black\" stroke-dasharray=\"5,2\" d=\"M253.07,-90.82C241.88,-74.03 227.22,-52.04 217.09,-36.83\"/>\n<polygon fill=\"black\" stroke=\"black\" points=\"249.9,-92.37 258.36,-98.75 255.73,-88.49 249.9,-92.37\"/>\n<text text-anchor=\"start\" x=\"234.2\" y=\"-56\" font-family=\"Times,serif\" font-size=\"10.00\">amount</text>\n</g>\n<!-- (&#39;increase1&#39;,) -->\n<g id=\"node15\" class=\"node\">\n<title>(&#39;increase1&#39;,)</title>\n<polygon fill=\"none\" stroke=\"black\" stroke-width=\"2\" points=\"339.2,-36 285.2,-36 285.2,0 339.2,0 339.2,-36\"/>\n<text text-anchor=\"start\" x=\"289.55\" y=\"-14.4\" font-family=\"Times,serif\" font-size=\"12.00\">increase1</text>\n</g>\n<!-- (&#39;top&#39;, &#39;C1&#39;)&#45;&gt;(&#39;increase1&#39;,) -->\n<g id=\"edge14\" class=\"edge\">\n<title>(&#39;top&#39;, &#39;C1&#39;)&#45;&gt;(&#39;increase1&#39;,)</title>\n<path fill=\"none\" stroke=\"black\" stroke-dasharray=\"5,2\" d=\"M314.05,-92.12C306.88,-84.02 299.98,-74.34 296.21,-64 294.28,-58.73 294.49,-53.1 295.84,-47.67\"/>\n<polygon fill=\"black\" stroke=\"black\" points=\"299.09,-48.99 299.37,-38.4 292.54,-46.5 299.09,-48.99\"/>\n<text text-anchor=\"start\" x=\"297.2\" y=\"-56\" font-family=\"Times,serif\" font-size=\"10.00\">amount</text>\n</g>\n<!-- (&#39;top&#39;, &#39;C1&#39;)&#45;&gt;(&#39;increase1&#39;,) -->\n<g id=\"edge21\" class=\"edge\">\n<title>(&#39;top&#39;, &#39;C1&#39;)&#45;&gt;(&#39;increase1&#39;,)</title>\n<path fill=\"none\" stroke=\"black\" stroke-dasharray=\"5,2\" d=\"M330.75,-70.93C329.37,-65.19 327.85,-59.43 326.2,-54 324.49,-48.36 322.25,-42.37 320.07,-36.96\"/>\n<polygon fill=\"black\" stroke=\"black\" points=\"327.26,-71.36 332.87,-80.34 334.08,-69.82 327.26,-71.36\"/>\n<text text-anchor=\"start\" x=\"329.2\" y=\"-56\" font-family=\"Times,serif\" font-size=\"10.00\">amount</text>\n</g>\n<!-- (&#39;increase2&#39;,) -->\n<g id=\"node13\" class=\"node\">\n<title>(&#39;increase2&#39;,)</title>\n<polygon fill=\"none\" stroke=\"black\" stroke-width=\"2\" points=\"445.2,-36 391.2,-36 391.2,0 445.2,0 445.2,-36\"/>\n<text text-anchor=\"start\" x=\"395.55\" y=\"-14.4\" font-family=\"Times,serif\" font-size=\"12.00\">increase2</text>\n</g>\n<!-- (&#39;top&#39;, &#39;C2&#39;)&#45;&gt;(&#39;increase2&#39;,) -->\n<g id=\"edge12\" class=\"edge\">\n<title>(&#39;top&#39;, &#39;C2&#39;)&#45;&gt;(&#39;increase2&#39;,)</title>\n<path fill=\"none\" stroke=\"black\" stroke-dasharray=\"5,2\" d=\"M409.15,-84.98C406.28,-78.25 403.72,-71.03 402.21,-64 401.03,-58.51 401.59,-52.78 403.06,-47.32\"/>\n<polygon fill=\"black\" stroke=\"black\" points=\"406.29,-48.66 406.53,-38.06 399.74,-46.19 406.29,-48.66\"/>\n<text text-anchor=\"start\" x=\"403.2\" y=\"-56\" font-family=\"Times,serif\" font-size=\"10.00\">amount</text>\n</g>\n<!-- (&#39;top&#39;, &#39;C2&#39;)&#45;&gt;(&#39;increase2&#39;,) -->\n<g id=\"edge19\" class=\"edge\">\n<title>(&#39;top&#39;, &#39;C2&#39;)&#45;&gt;(&#39;increase2&#39;,)</title>\n<path fill=\"none\" stroke=\"black\" stroke-dasharray=\"5,2\" d=\"M433.46,-70.59C433.57,-64.99 433.23,-59.35 432.2,-54 431.09,-48.22 429.03,-42.17 426.82,-36.77\"/>\n<polygon fill=\"black\" stroke=\"black\" points=\"429.97,-70.21 432.76,-80.43 436.96,-70.7 429.97,-70.21\"/>\n<text text-anchor=\"start\" x=\"434.2\" y=\"-56\" font-family=\"Times,serif\" font-size=\"10.00\">amount</text>\n</g>\n<!-- (&#39;increase3&#39;,) -->\n<g id=\"node16\" class=\"node\">\n<title>(&#39;increase3&#39;,)</title>\n<polygon fill=\"none\" stroke=\"black\" stroke-width=\"2\" points=\"551.2,-36 497.2,-36 497.2,0 551.2,0 551.2,-36\"/>\n<text text-anchor=\"start\" x=\"501.55\" y=\"-14.4\" font-family=\"Times,serif\" font-size=\"12.00\">increase3</text>\n</g>\n<!-- (&#39;top&#39;, &#39;C3&#39;)&#45;&gt;(&#39;increase3&#39;,) -->\n<g id=\"edge15\" class=\"edge\">\n<title>(&#39;top&#39;, &#39;C3&#39;)&#45;&gt;(&#39;increase3&#39;,)</title>\n<path fill=\"none\" stroke=\"black\" stroke-dasharray=\"5,2\" d=\"M506.41,-81.5C505.98,-72.49 506.29,-62.81 508.21,-54 508.71,-51.71 509.37,-49.38 510.14,-47.08\"/>\n<polygon fill=\"black\" stroke=\"black\" points=\"513.29,-48.64 513.79,-38.06 506.8,-46.01 513.29,-48.64\"/>\n<text text-anchor=\"start\" x=\"509.2\" y=\"-56\" font-family=\"Times,serif\" font-size=\"10.00\">amount</text>\n</g>\n<!-- (&#39;top&#39;, &#39;C3&#39;)&#45;&gt;(&#39;increase3&#39;,) -->\n<g id=\"edge22\" class=\"edge\">\n<title>(&#39;top&#39;, &#39;C3&#39;)&#45;&gt;(&#39;increase3&#39;,)</title>\n<path fill=\"none\" stroke=\"black\" stroke-dasharray=\"5,2\" d=\"M534.2,-76.07C535.82,-72.09 537.2,-68.03 538.2,-64 540.45,-54.95 537.92,-45.03 534.42,-36.82\"/>\n<polygon fill=\"black\" stroke=\"black\" points=\"531.11,-74.4 530.11,-84.95 537.47,-77.33 531.11,-74.4\"/>\n<text text-anchor=\"start\" x=\"539.2\" y=\"-56\" font-family=\"Times,serif\" font-size=\"10.00\">amount</text>\n</g>\n<!-- (&#39;increase4&#39;,) -->\n<g id=\"node17\" class=\"node\">\n<title>(&#39;increase4&#39;,)</title>\n<polygon fill=\"none\" stroke=\"black\" stroke-width=\"2\" points=\"657.2,-36 603.2,-36 603.2,0 657.2,0 657.2,-36\"/>\n<text text-anchor=\"start\" x=\"607.55\" y=\"-14.4\" font-family=\"Times,serif\" font-size=\"12.00\">increase4</text>\n</g>\n<!-- (&#39;top&#39;, &#39;C4&#39;)&#45;&gt;(&#39;increase4&#39;,) -->\n<g id=\"edge16\" class=\"edge\">\n<title>(&#39;top&#39;, &#39;C4&#39;)&#45;&gt;(&#39;increase4&#39;,)</title>\n<path fill=\"none\" stroke=\"black\" stroke-dasharray=\"5,2\" d=\"M611.29,-81.15C611.46,-72.23 612.24,-62.68 614.21,-54 614.72,-51.71 615.4,-49.39 616.19,-47.09\"/>\n<polygon fill=\"black\" stroke=\"black\" points=\"619.33,-48.65 619.85,-38.07 612.84,-46.01 619.33,-48.65\"/>\n<text text-anchor=\"start\" x=\"615.2\" y=\"-56\" font-family=\"Times,serif\" font-size=\"10.00\">amount</text>\n</g>\n<!-- (&#39;top&#39;, &#39;C4&#39;)&#45;&gt;(&#39;increase4&#39;,) -->\n<g id=\"edge23\" class=\"edge\">\n<title>(&#39;top&#39;, &#39;C4&#39;)&#45;&gt;(&#39;increase4&#39;,)</title>\n<path fill=\"none\" stroke=\"black\" stroke-dasharray=\"5,2\" d=\"M638.95,-77.65C641.08,-73.2 642.91,-68.6 644.2,-64 646.72,-55.02 644.22,-45.11 640.67,-36.89\"/>\n<polygon fill=\"black\" stroke=\"black\" points=\"635.92,-75.9 634.24,-86.36 642.08,-79.22 635.92,-75.9\"/>\n<text text-anchor=\"start\" x=\"646.2\" y=\"-56\" font-family=\"Times,serif\" font-size=\"10.00\">amount</text>\n</g>\n<!-- (&#39;increase5&#39;,) -->\n<g id=\"node18\" class=\"node\">\n<title>(&#39;increase5&#39;,)</title>\n<polygon fill=\"none\" stroke=\"black\" stroke-width=\"2\" points=\"772.2,-36 718.2,-36 718.2,0 772.2,0 772.2,-36\"/>\n<text text-anchor=\"start\" x=\"722.55\" y=\"-14.4\" font-family=\"Times,serif\" font-size=\"12.00\">increase5</text>\n</g>\n<!-- (&#39;top&#39;, &#39;C5&#39;)&#45;&gt;(&#39;increase5&#39;,) -->\n<g id=\"edge17\" class=\"edge\">\n<title>(&#39;top&#39;, &#39;C5&#39;)&#45;&gt;(&#39;increase5&#39;,)</title>\n<path fill=\"none\" stroke=\"black\" stroke-dasharray=\"5,2\" d=\"M716.75,-97.19C715.7,-84.77 715.6,-67.99 720.21,-54 721.05,-51.43 722.16,-48.88 723.44,-46.4\"/>\n<polygon fill=\"black\" stroke=\"black\" points=\"726.35,-48.37 728.64,-38.02 720.39,-44.68 726.35,-48.37\"/>\n<text text-anchor=\"start\" x=\"721.2\" y=\"-56\" font-family=\"Times,serif\" font-size=\"10.00\">amount</text>\n</g>\n<!-- (&#39;top&#39;, &#39;C5&#39;)&#45;&gt;(&#39;increase5&#39;,) -->\n<g id=\"edge24\" class=\"edge\">\n<title>(&#39;top&#39;, &#39;C5&#39;)&#45;&gt;(&#39;increase5&#39;,)</title>\n<path fill=\"none\" stroke=\"black\" stroke-dasharray=\"5,2\" d=\"M736.9,-91.91C742.27,-83.57 747.46,-73.79 750.2,-64 752.66,-55.22 751.86,-45.16 750.26,-36.78\"/>\n<polygon fill=\"black\" stroke=\"black\" points=\"734.1,-89.8 731.29,-100.02 739.86,-93.79 734.1,-89.8\"/>\n<text text-anchor=\"start\" x=\"751.2\" y=\"-56\" font-family=\"Times,serif\" font-size=\"10.00\">amount</text>\n</g>\n</g>\n</svg>\n",
      "text/plain": [
       "<graphviz.graphs.Digraph at 0x10a0fc8e0>"
      ]
     },
     "execution_count": 46,
     "metadata": {},
     "output_type": "execute_result"
    }
   ],
   "execution_count": 46
  },
  {
   "metadata": {
    "ExecuteTime": {
     "end_time": "2025-03-11T22:24:06.302098Z",
     "start_time": "2025-03-01T23:46:06.849970Z"
    }
   },
   "cell_type": "code",
   "source": [
    "v2.diagram(dpi='70',\n",
    "           show_values=True,\n",
    "           # show_types=True,\n",
    "           significant_digits=4,\n",
    "           rankdir='LR',\n",
    "           port_labels=False,\n",
    "           remove_nodes=['top.A', 'top.B', 'increase', 'emitter', 'global_time'],\n",
    "           node_border_colors={(f'increase{i}',): 'blue' for i in range(n_new_nodes)},\n",
    "           )"
   ],
   "id": "646f55475bef2b52",
   "outputs": [
    {
     "data": {
      "image/svg+xml": "<?xml version=\"1.0\" encoding=\"UTF-8\" standalone=\"no\"?>\n<!DOCTYPE svg PUBLIC \"-//W3C//DTD SVG 1.1//EN\"\n \"http://www.w3.org/Graphics/SVG/1.1/DTD/svg11.dtd\">\n<!-- Generated by graphviz version 9.0.0 (0)\n -->\n<!-- Title: bigraph Pages: 1 -->\n<svg width=\"231pt\" height=\"430pt\"\n viewBox=\"0.00 0.00 238.02 442.10\" xmlns=\"http://www.w3.org/2000/svg\" xmlns:xlink=\"http://www.w3.org/1999/xlink\">\n<g id=\"graph0\" class=\"graph\" transform=\"scale(0.972222 0.972222) rotate(0) translate(4 438.1)\">\n<title>bigraph</title>\n<polygon fill=\"white\" stroke=\"none\" points=\"-4,4 -4,-438.1 234.02,-438.1 234.02,4 -4,4\"/>\n<!-- (&#39;top&#39;,) -->\n<g id=\"node1\" class=\"node\">\n<title>(&#39;top&#39;,)</title>\n<ellipse fill=\"none\" stroke=\"black\" stroke-width=\"2\" cx=\"18\" cy=\"-217.05\" rx=\"18\" ry=\"18\"/>\n<text text-anchor=\"start\" x=\"10.33\" y=\"-213.45\" font-family=\"Times,serif\" font-size=\"12.00\">top</text>\n</g>\n<!-- (&#39;top&#39;, &#39;C0&#39;) -->\n<g id=\"node2\" class=\"node\">\n<title>(&#39;top&#39;, &#39;C0&#39;)</title>\n<ellipse fill=\"none\" stroke=\"black\" stroke-width=\"2\" cx=\"106.01\" cy=\"-416.05\" rx=\"18.05\" ry=\"18.05\"/>\n<text text-anchor=\"start\" x=\"94.34\" y=\"-412.45\" font-family=\"Times,serif\" font-size=\"12.00\">C0:0</text>\n</g>\n<!-- (&#39;top&#39;,)&#45;&gt;(&#39;top&#39;, &#39;C0&#39;) -->\n<g id=\"edge1\" class=\"edge\">\n<title>(&#39;top&#39;,)&#45;&gt;(&#39;top&#39;, &#39;C0&#39;)</title>\n<path fill=\"none\" stroke=\"black\" stroke-width=\"2\" d=\"M21.15,-235.63C25.72,-268.9 38.87,-339.79 72,-389.05 76.63,-395.93 83.52,-401.96 89.82,-406.56\"/>\n</g>\n<!-- (&#39;top&#39;, &#39;C1&#39;) -->\n<g id=\"node3\" class=\"node\">\n<title>(&#39;top&#39;, &#39;C1&#39;)</title>\n<ellipse fill=\"none\" stroke=\"black\" stroke-width=\"2\" cx=\"106.01\" cy=\"-346.05\" rx=\"34.01\" ry=\"34.01\"/>\n<text text-anchor=\"start\" x=\"80.84\" y=\"-342.45\" font-family=\"Times,serif\" font-size=\"12.00\">C1:0.0017</text>\n</g>\n<!-- (&#39;top&#39;,)&#45;&gt;(&#39;top&#39;, &#39;C1&#39;) -->\n<g id=\"edge2\" class=\"edge\">\n<title>(&#39;top&#39;,)&#45;&gt;(&#39;top&#39;, &#39;C1&#39;)</title>\n<path fill=\"none\" stroke=\"black\" stroke-width=\"2\" d=\"M28.1,-232.89C38.31,-250.39 55.58,-279.22 72,-303.05 75.74,-308.47 79.9,-314.15 83.98,-319.53\"/>\n</g>\n<!-- (&#39;top&#39;, &#39;C2&#39;) -->\n<g id=\"node4\" class=\"node\">\n<title>(&#39;top&#39;, &#39;C2&#39;)</title>\n<ellipse fill=\"none\" stroke=\"black\" stroke-width=\"2\" cx=\"106.01\" cy=\"-260.05\" rx=\"34.01\" ry=\"34.01\"/>\n<text text-anchor=\"start\" x=\"80.84\" y=\"-256.45\" font-family=\"Times,serif\" font-size=\"12.00\">C2:0.8046</text>\n</g>\n<!-- (&#39;top&#39;,)&#45;&gt;(&#39;top&#39;, &#39;C2&#39;) -->\n<g id=\"edge3\" class=\"edge\">\n<title>(&#39;top&#39;,)&#45;&gt;(&#39;top&#39;, &#39;C2&#39;)</title>\n<path fill=\"none\" stroke=\"black\" stroke-width=\"2\" d=\"M35.18,-225.14C46.27,-230.69 61.33,-238.22 74.63,-244.86\"/>\n</g>\n<!-- (&#39;top&#39;, &#39;C3&#39;) -->\n<g id=\"node5\" class=\"node\">\n<title>(&#39;top&#39;, &#39;C3&#39;)</title>\n<ellipse fill=\"none\" stroke=\"black\" stroke-width=\"2\" cx=\"106.01\" cy=\"-174.05\" rx=\"34.01\" ry=\"34.01\"/>\n<text text-anchor=\"start\" x=\"80.84\" y=\"-170.45\" font-family=\"Times,serif\" font-size=\"12.00\">C3:0.0002</text>\n</g>\n<!-- (&#39;top&#39;,)&#45;&gt;(&#39;top&#39;, &#39;C3&#39;) -->\n<g id=\"edge4\" class=\"edge\">\n<title>(&#39;top&#39;,)&#45;&gt;(&#39;top&#39;, &#39;C3&#39;)</title>\n<path fill=\"none\" stroke=\"black\" stroke-width=\"2\" d=\"M35.18,-208.96C46.27,-203.42 61.33,-195.89 74.63,-189.24\"/>\n</g>\n<!-- (&#39;top&#39;, &#39;C4&#39;) -->\n<g id=\"node6\" class=\"node\">\n<title>(&#39;top&#39;, &#39;C4&#39;)</title>\n<ellipse fill=\"none\" stroke=\"black\" stroke-width=\"2\" cx=\"106.01\" cy=\"-88.05\" rx=\"34.01\" ry=\"34.01\"/>\n<text text-anchor=\"start\" x=\"80.84\" y=\"-84.45\" font-family=\"Times,serif\" font-size=\"12.00\">C4:0.1312</text>\n</g>\n<!-- (&#39;top&#39;,)&#45;&gt;(&#39;top&#39;, &#39;C4&#39;) -->\n<g id=\"edge5\" class=\"edge\">\n<title>(&#39;top&#39;,)&#45;&gt;(&#39;top&#39;, &#39;C4&#39;)</title>\n<path fill=\"none\" stroke=\"black\" stroke-width=\"2\" d=\"M28.1,-201.21C38.31,-183.72 55.58,-154.88 72,-131.05 75.74,-125.63 79.9,-119.95 83.98,-114.57\"/>\n</g>\n<!-- (&#39;top&#39;, &#39;C5&#39;) -->\n<g id=\"node7\" class=\"node\">\n<title>(&#39;top&#39;, &#39;C5&#39;)</title>\n<ellipse fill=\"none\" stroke=\"black\" stroke-width=\"2\" cx=\"106.01\" cy=\"-18.05\" rx=\"18.05\" ry=\"18.05\"/>\n<text text-anchor=\"start\" x=\"94.34\" y=\"-14.45\" font-family=\"Times,serif\" font-size=\"12.00\">C5:0</text>\n</g>\n<!-- (&#39;top&#39;,)&#45;&gt;(&#39;top&#39;, &#39;C5&#39;) -->\n<g id=\"edge6\" class=\"edge\">\n<title>(&#39;top&#39;,)&#45;&gt;(&#39;top&#39;, &#39;C5&#39;)</title>\n<path fill=\"none\" stroke=\"black\" stroke-width=\"2\" d=\"M21.15,-198.47C25.72,-165.2 38.87,-94.31 72,-45.05 76.63,-38.17 83.52,-32.14 89.82,-27.54\"/>\n</g>\n<!-- (&#39;increase0&#39;,) -->\n<g id=\"node9\" class=\"node\">\n<title>(&#39;increase0&#39;,)</title>\n<polygon fill=\"none\" stroke=\"blue\" stroke-width=\"2\" points=\"230.02,-434.05 176.02,-434.05 176.02,-398.05 230.02,-398.05 230.02,-434.05\"/>\n<text text-anchor=\"start\" x=\"180.37\" y=\"-412.45\" font-family=\"Times,serif\" font-size=\"12.00\">increase0</text>\n</g>\n<!-- (&#39;top&#39;, &#39;C0&#39;)&#45;&gt;(&#39;increase0&#39;,) -->\n<g id=\"edge8\" class=\"edge\">\n<title>(&#39;top&#39;, &#39;C0&#39;)&#45;&gt;(&#39;increase0&#39;,)</title>\n<path fill=\"none\" stroke=\"black\" stroke-dasharray=\"5,2\" d=\"M124,-410.73C135.09,-409.5 150.03,-409.07 163.87,-409.42\"/>\n<polygon fill=\"black\" stroke=\"black\" points=\"163.47,-412.9 173.61,-409.84 163.77,-405.91 163.47,-412.9\"/>\n</g>\n<!-- (&#39;top&#39;, &#39;C0&#39;)&#45;&gt;(&#39;increase0&#39;,) -->\n<g id=\"edge14\" class=\"edge\">\n<title>(&#39;top&#39;, &#39;C0&#39;)&#45;&gt;(&#39;increase0&#39;,)</title>\n<path fill=\"none\" stroke=\"black\" stroke-dasharray=\"5,2\" d=\"M135.27,-422.28C147.89,-423 162.68,-422.97 175.12,-422.2\"/>\n<polygon fill=\"black\" stroke=\"black\" points=\"135.75,-418.81 125.5,-421.49 135.19,-425.79 135.75,-418.81\"/>\n</g>\n<!-- (&#39;increase1&#39;,) -->\n<g id=\"node10\" class=\"node\">\n<title>(&#39;increase1&#39;,)</title>\n<polygon fill=\"none\" stroke=\"blue\" stroke-width=\"2\" points=\"230.02,-364.05 176.02,-364.05 176.02,-328.05 230.02,-328.05 230.02,-364.05\"/>\n<text text-anchor=\"start\" x=\"180.37\" y=\"-342.45\" font-family=\"Times,serif\" font-size=\"12.00\">increase1</text>\n</g>\n<!-- (&#39;top&#39;, &#39;C1&#39;)&#45;&gt;(&#39;increase1&#39;,) -->\n<g id=\"edge9\" class=\"edge\">\n<title>(&#39;top&#39;, &#39;C1&#39;)&#45;&gt;(&#39;increase1&#39;,)</title>\n<path fill=\"none\" stroke=\"black\" stroke-dasharray=\"5,2\" d=\"M140.24,-339.58C147.84,-339.27 155.99,-339.22 163.78,-339.42\"/>\n<polygon fill=\"black\" stroke=\"black\" points=\"163.58,-342.91 173.72,-339.84 163.88,-335.92 163.58,-342.91\"/>\n</g>\n<!-- (&#39;top&#39;, &#39;C1&#39;)&#45;&gt;(&#39;increase1&#39;,) -->\n<g id=\"edge15\" class=\"edge\">\n<title>(&#39;top&#39;, &#39;C1&#39;)&#45;&gt;(&#39;increase1&#39;,)</title>\n<path fill=\"none\" stroke=\"black\" stroke-dasharray=\"5,2\" d=\"M151.52,-352.79C159.62,-352.85 167.84,-352.65 175.23,-352.19\"/>\n<polygon fill=\"black\" stroke=\"black\" points=\"151.83,-349.29 141.75,-352.56 151.67,-356.29 151.83,-349.29\"/>\n</g>\n<!-- (&#39;increase2&#39;,) -->\n<g id=\"node8\" class=\"node\">\n<title>(&#39;increase2&#39;,)</title>\n<polygon fill=\"none\" stroke=\"blue\" stroke-width=\"2\" points=\"230.02,-278.05 176.02,-278.05 176.02,-242.05 230.02,-242.05 230.02,-278.05\"/>\n<text text-anchor=\"start\" x=\"180.37\" y=\"-256.45\" font-family=\"Times,serif\" font-size=\"12.00\">increase2</text>\n</g>\n<!-- (&#39;top&#39;, &#39;C2&#39;)&#45;&gt;(&#39;increase2&#39;,) -->\n<g id=\"edge7\" class=\"edge\">\n<title>(&#39;top&#39;, &#39;C2&#39;)&#45;&gt;(&#39;increase2&#39;,)</title>\n<path fill=\"none\" stroke=\"black\" stroke-dasharray=\"5,2\" d=\"M140.24,-253.58C147.84,-253.27 155.99,-253.22 163.78,-253.42\"/>\n<polygon fill=\"black\" stroke=\"black\" points=\"163.58,-256.91 173.72,-253.84 163.88,-249.92 163.58,-256.91\"/>\n</g>\n<!-- (&#39;top&#39;, &#39;C2&#39;)&#45;&gt;(&#39;increase2&#39;,) -->\n<g id=\"edge13\" class=\"edge\">\n<title>(&#39;top&#39;, &#39;C2&#39;)&#45;&gt;(&#39;increase2&#39;,)</title>\n<path fill=\"none\" stroke=\"black\" stroke-dasharray=\"5,2\" d=\"M151.52,-266.79C159.62,-266.85 167.84,-266.65 175.23,-266.19\"/>\n<polygon fill=\"black\" stroke=\"black\" points=\"151.83,-263.29 141.75,-266.56 151.67,-270.29 151.83,-263.29\"/>\n</g>\n<!-- (&#39;increase3&#39;,) -->\n<g id=\"node11\" class=\"node\">\n<title>(&#39;increase3&#39;,)</title>\n<polygon fill=\"none\" stroke=\"blue\" stroke-width=\"2\" points=\"230.02,-192.05 176.02,-192.05 176.02,-156.05 230.02,-156.05 230.02,-192.05\"/>\n<text text-anchor=\"start\" x=\"180.37\" y=\"-170.45\" font-family=\"Times,serif\" font-size=\"12.00\">increase3</text>\n</g>\n<!-- (&#39;top&#39;, &#39;C3&#39;)&#45;&gt;(&#39;increase3&#39;,) -->\n<g id=\"edge10\" class=\"edge\">\n<title>(&#39;top&#39;, &#39;C3&#39;)&#45;&gt;(&#39;increase3&#39;,)</title>\n<path fill=\"none\" stroke=\"black\" stroke-dasharray=\"5,2\" d=\"M140.24,-167.58C147.84,-167.27 155.99,-167.22 163.78,-167.42\"/>\n<polygon fill=\"black\" stroke=\"black\" points=\"163.58,-170.91 173.72,-167.84 163.88,-163.92 163.58,-170.91\"/>\n</g>\n<!-- (&#39;top&#39;, &#39;C3&#39;)&#45;&gt;(&#39;increase3&#39;,) -->\n<g id=\"edge16\" class=\"edge\">\n<title>(&#39;top&#39;, &#39;C3&#39;)&#45;&gt;(&#39;increase3&#39;,)</title>\n<path fill=\"none\" stroke=\"black\" stroke-dasharray=\"5,2\" d=\"M151.52,-180.79C159.62,-180.85 167.84,-180.65 175.23,-180.19\"/>\n<polygon fill=\"black\" stroke=\"black\" points=\"151.83,-177.29 141.75,-180.56 151.67,-184.29 151.83,-177.29\"/>\n</g>\n<!-- (&#39;increase4&#39;,) -->\n<g id=\"node12\" class=\"node\">\n<title>(&#39;increase4&#39;,)</title>\n<polygon fill=\"none\" stroke=\"blue\" stroke-width=\"2\" points=\"230.02,-106.05 176.02,-106.05 176.02,-70.05 230.02,-70.05 230.02,-106.05\"/>\n<text text-anchor=\"start\" x=\"180.37\" y=\"-84.45\" font-family=\"Times,serif\" font-size=\"12.00\">increase4</text>\n</g>\n<!-- (&#39;top&#39;, &#39;C4&#39;)&#45;&gt;(&#39;increase4&#39;,) -->\n<g id=\"edge11\" class=\"edge\">\n<title>(&#39;top&#39;, &#39;C4&#39;)&#45;&gt;(&#39;increase4&#39;,)</title>\n<path fill=\"none\" stroke=\"black\" stroke-dasharray=\"5,2\" d=\"M140.24,-81.58C147.84,-81.27 155.99,-81.22 163.78,-81.42\"/>\n<polygon fill=\"black\" stroke=\"black\" points=\"163.58,-84.91 173.72,-81.84 163.88,-77.92 163.58,-84.91\"/>\n</g>\n<!-- (&#39;top&#39;, &#39;C4&#39;)&#45;&gt;(&#39;increase4&#39;,) -->\n<g id=\"edge17\" class=\"edge\">\n<title>(&#39;top&#39;, &#39;C4&#39;)&#45;&gt;(&#39;increase4&#39;,)</title>\n<path fill=\"none\" stroke=\"black\" stroke-dasharray=\"5,2\" d=\"M151.52,-94.79C159.62,-94.85 167.84,-94.65 175.23,-94.19\"/>\n<polygon fill=\"black\" stroke=\"black\" points=\"151.83,-91.29 141.75,-94.56 151.67,-98.29 151.83,-91.29\"/>\n</g>\n<!-- (&#39;increase5&#39;,) -->\n<g id=\"node13\" class=\"node\">\n<title>(&#39;increase5&#39;,)</title>\n<polygon fill=\"none\" stroke=\"blue\" stroke-width=\"2\" points=\"230.02,-36.05 176.02,-36.05 176.02,-0.05 230.02,-0.05 230.02,-36.05\"/>\n<text text-anchor=\"start\" x=\"180.37\" y=\"-14.45\" font-family=\"Times,serif\" font-size=\"12.00\">increase5</text>\n</g>\n<!-- (&#39;top&#39;, &#39;C5&#39;)&#45;&gt;(&#39;increase5&#39;,) -->\n<g id=\"edge12\" class=\"edge\">\n<title>(&#39;top&#39;, &#39;C5&#39;)&#45;&gt;(&#39;increase5&#39;,)</title>\n<path fill=\"none\" stroke=\"black\" stroke-dasharray=\"5,2\" d=\"M124,-12.73C135.09,-11.5 150.03,-11.07 163.87,-11.42\"/>\n<polygon fill=\"black\" stroke=\"black\" points=\"163.47,-14.9 173.61,-11.84 163.77,-7.91 163.47,-14.9\"/>\n</g>\n<!-- (&#39;top&#39;, &#39;C5&#39;)&#45;&gt;(&#39;increase5&#39;,) -->\n<g id=\"edge18\" class=\"edge\">\n<title>(&#39;top&#39;, &#39;C5&#39;)&#45;&gt;(&#39;increase5&#39;,)</title>\n<path fill=\"none\" stroke=\"black\" stroke-dasharray=\"5,2\" d=\"M135.27,-24.28C147.89,-25 162.68,-24.97 175.12,-24.2\"/>\n<polygon fill=\"black\" stroke=\"black\" points=\"135.75,-20.81 125.5,-23.49 135.19,-27.79 135.75,-20.81\"/>\n</g>\n</g>\n</svg>\n",
      "text/plain": [
       "<graphviz.graphs.Digraph at 0x10f3c62b0>"
      ]
     },
     "execution_count": 47,
     "metadata": {},
     "output_type": "execute_result"
    }
   ],
   "execution_count": 47
  },
  {
   "metadata": {
    "ExecuteTime": {
     "end_time": "2025-03-11T22:24:06.303170Z",
     "start_time": "2025-03-01T23:46:06.885816Z"
    }
   },
   "cell_type": "code",
   "source": "",
   "id": "a7b46454e748dfe7",
   "outputs": [],
   "execution_count": null
  }
 ],
 "metadata": {
  "kernelspec": {
   "display_name": "Python 3",
   "language": "python",
   "name": "python3"
  },
  "language_info": {
   "codemirror_mode": {
    "name": "ipython",
    "version": 2
   },
   "file_extension": ".py",
   "mimetype": "text/x-python",
   "name": "python",
   "nbconvert_exporter": "python",
   "pygments_lexer": "ipython2",
   "version": "2.7.6"
  }
 },
 "nbformat": 4,
 "nbformat_minor": 5
}
