{
 "cells": [
  {
   "cell_type": "code",
   "id": "initial_id",
   "metadata": {
    "collapsed": true,
    "ExecuteTime": {
     "end_time": "2025-01-17T18:37:48.751144Z",
     "start_time": "2025-01-17T18:37:48.530348Z"
    }
   },
   "source": [
    "from vivarium import Vivarium\n",
    "from vivarium.tests import DEMO_PROCESSES"
   ],
   "outputs": [],
   "execution_count": 1
  },
  {
   "metadata": {
    "ExecuteTime": {
     "end_time": "2025-01-17T18:37:48.760682Z",
     "start_time": "2025-01-17T18:37:48.753179Z"
    }
   },
   "cell_type": "code",
   "source": "v = Vivarium(processes=DEMO_PROCESSES)",
   "id": "eba991c23c80ca27",
   "outputs": [],
   "execution_count": 2
  },
  {
   "metadata": {
    "ExecuteTime": {
     "end_time": "2025-01-17T18:37:48.815498Z",
     "start_time": "2025-01-17T18:37:48.813785Z"
    }
   },
   "cell_type": "code",
   "source": [
    "print('TYPES:')\n",
    "v.print_types()\n",
    "print('PROCESSES:')\n",
    "v.print_processes()"
   ],
   "id": "abb345f9eb4e5b72",
   "outputs": [
    {
     "name": "stdout",
     "output_type": "stream",
     "text": [
      "TYPES:\n",
      "['', 'current*time', 'mass^0_5/length^1_5', 'length^2*mass/time^2', 'length^2*mass/current^2*time^3', 'printing_unit', 'time/length', 'substance/length^3', '/substance', 'any', 'maybe', 'mass/time^2', 'step', 'protocol', 'wires', 'schema', 'current*time^2/length^2*mass', 'current^2*time^4/length^3*mass', 'length^2*mass/temperature*time^2', 'float', 'current', 'length*mass/time^2', 'path', 'mass/length^3', 'tuple', 'length^3', '/temperature*time', 'length^0_5*mass^0_5/time', 'length^2*mass/substance*temperature*time^2', 'length^4*mass/current*time^3', 'mass/current*time^2', 'enum', 'length*time/mass', 'length^3/time', 'current^2*time^4/length^2*mass', '/printing_unit', 'map', 'substance', 'luminosity/length^2', 'boolean', 'length^3*mass/current^2*time^4', 'mass/time^3', 'time', 'length*mass/current*time^3', 'union', 'length^2/time', 'length^1_5*mass^0_5/time', 'string', 'length^3/mass*time^2', 'array', 'length^1_5*mass^0_5/time^2', 'current*time/substance', 'length^2', 'current*length*time', 'printing_unit/length', 'length/mass', 'interval', 'substance/time', 'length*temperature', 'current*length^2*time', 'luminosity', 'length^2/time^2', 'length/time^2', 'length', 'length/time', 'length*mass/current^2*time^2', 'length^2*mass/current*time^2', 'list', 'current*length^2', 'mass^0_5/length^0_5*time', 'mass/length*time^2', 'process', 'tree', 'mass/temperature^4*time^3', 'length^2*mass/time', 'length^2*mass/current^2*time^2', 'number', 'edge', 'mass/length*time', '/length', 'time^2/length', 'quote', 'length^4*mass/time^3', 'temperature', 'emitter_mode', 'mass', '/time', 'mass/length', 'current*time/mass', 'integer', 'length^0_5*mass^0_5', 'current^2*time^3/length^2*mass', 'length^2*mass/time^3', 'length^2*mass/current*time^3']\n",
      "PROCESSES:\n",
      "['composite', 'console-emitter', 'increase', 'ram-emitter']\n"
     ]
    }
   ],
   "execution_count": 3
  },
  {
   "metadata": {
    "ExecuteTime": {
     "end_time": "2025-01-17T18:37:48.823521Z",
     "start_time": "2025-01-17T18:37:48.820684Z"
    }
   },
   "cell_type": "code",
   "source": "v",
   "id": "aaf5bca24f0e26f3",
   "outputs": [
    {
     "data": {
      "text/plain": [
       "Vivarium({'global_time': 0.0})"
      ]
     },
     "execution_count": 4,
     "metadata": {},
     "output_type": "execute_result"
    }
   ],
   "execution_count": 4
  },
  {
   "metadata": {
    "ExecuteTime": {
     "end_time": "2025-01-17T18:37:48.901934Z",
     "start_time": "2025-01-17T18:37:48.885990Z"
    }
   },
   "cell_type": "code",
   "source": "v.diagram()",
   "id": "407f8f35297db0f8",
   "outputs": [
    {
     "data": {
      "image/png": "[encoded data removed]",
      "text/plain": [
       "<IPython.core.display.Image object>"
      ]
     },
     "metadata": {},
     "output_type": "display_data"
    }
   ],
   "execution_count": 5
  },
  {
   "metadata": {
    "ExecuteTime": {
     "end_time": "2025-01-17T18:37:48.910091Z",
     "start_time": "2025-01-17T18:37:48.908138Z"
    }
   },
   "cell_type": "code",
   "source": [
    "print(\"PROCESS CONFIG SCHEMA:\")\n",
    "print(v.process_schema('increase'))\n",
    "print(\"PROCESS INTERFACE SCHEMA:\")\n",
    "print(v.process_interface('increase'))"
   ],
   "id": "26d8ce7a13ba13a9",
   "outputs": [
    {
     "name": "stdout",
     "output_type": "stream",
     "text": [
      "PROCESS CONFIG SCHEMA:\n",
      "(rate:float)\n",
      "PROCESS INTERFACE SCHEMA:\n",
      "{'inputs': {'level': 'float'}, 'outputs': {'level': 'float'}}\n"
     ]
    }
   ],
   "execution_count": 6
  },
  {
   "metadata": {
    "ExecuteTime": {
     "end_time": "2025-01-17T18:37:48.977634Z",
     "start_time": "2025-01-17T18:37:48.975456Z"
    }
   },
   "cell_type": "code",
   "source": [
    "v.add_process(name='increaseA',                    \n",
    "              process_id='increase',\n",
    "              config={'rate': 1.1},\n",
    "              # inputs=None,\n",
    "              # outputs=None,\n",
    "              # path=None\n",
    "              )"
   ],
   "id": "8d522a7fe7f2e577",
   "outputs": [],
   "execution_count": 7
  },
  {
   "metadata": {
    "ExecuteTime": {
     "end_time": "2025-01-17T18:37:48.989053Z",
     "start_time": "2025-01-17T18:37:48.986467Z"
    }
   },
   "cell_type": "code",
   "source": "print(v)",
   "id": "12f0bd0930b0f5f2",
   "outputs": [
    {
     "name": "stdout",
     "output_type": "stream",
     "text": [
      "Vivarium({ 'global_time': 0.0,\n",
      "  'increaseA': { 'address': 'local:increase',\n",
      "                 'config': {'rate': 1.1},\n",
      "                 'inputs': {},\n",
      "                 'instance': <vivarium.tests.IncreaseProcess object at 0x10a975670>,\n",
      "                 'interval': 1.0,\n",
      "                 'outputs': {}}})\n"
     ]
    }
   ],
   "execution_count": 8
  },
  {
   "metadata": {
    "ExecuteTime": {
     "end_time": "2025-01-17T18:37:49.013685Z",
     "start_time": "2025-01-17T18:37:48.995143Z"
    }
   },
   "cell_type": "code",
   "source": "v.diagram()",
   "id": "4f9c682c33eb3609",
   "outputs": [
    {
     "data": {
      "image/png": "[encoded data removed]",
      "text/plain": [
       "<IPython.core.display.Image object>"
      ]
     },
     "metadata": {},
     "output_type": "display_data"
    }
   ],
   "execution_count": 9
  },
  {
   "metadata": {
    "ExecuteTime": {
     "end_time": "2025-01-17T18:37:49.021532Z",
     "start_time": "2025-01-17T18:37:49.018372Z"
    }
   },
   "cell_type": "code",
   "source": "v.generate()",
   "id": "ee8dc66cccfa8a8c",
   "outputs": [
    {
     "data": {
      "text/plain": [
       "<process_bigraph.composite.Composite at 0x10a97b340>"
      ]
     },
     "execution_count": 10,
     "metadata": {},
     "output_type": "execute_result"
    }
   ],
   "execution_count": 10
  },
  {
   "metadata": {
    "ExecuteTime": {
     "end_time": "2025-01-17T18:37:49.027309Z",
     "start_time": "2025-01-17T18:37:49.025550Z"
    }
   },
   "cell_type": "code",
   "source": "print(v)",
   "id": "3201ea8b3df1d3ed",
   "outputs": [
    {
     "name": "stdout",
     "output_type": "stream",
     "text": [
      "Vivarium({ 'global_time': 0.0,\n",
      "  'increaseA': { 'address': 'local:increase',\n",
      "                 'config': {'rate': 1.1},\n",
      "                 'inputs': {},\n",
      "                 'instance': <vivarium.tests.IncreaseProcess object at 0x10a975670>,\n",
      "                 'interval': 1.0,\n",
      "                 'outputs': {}}})\n"
     ]
    }
   ],
   "execution_count": 11
  },
  {
   "metadata": {
    "ExecuteTime": {
     "end_time": "2025-01-17T18:37:49.039279Z",
     "start_time": "2025-01-17T18:37:49.037246Z"
    }
   },
   "cell_type": "code",
   "source": "v.make_document()",
   "id": "c5742be4329f7ce4",
   "outputs": [
    {
     "data": {
      "text/plain": [
       "{'state': {'global_time': '0.0',\n",
       "  'increaseA': {'address': 'local:increase',\n",
       "   'config': {'rate': '1.1'},\n",
       "   'inputs': {},\n",
       "   'outputs': {},\n",
       "   'interval': 1.0}}}"
      ]
     },
     "execution_count": 12,
     "metadata": {},
     "output_type": "execute_result"
    }
   ],
   "execution_count": 12
  },
  {
   "metadata": {
    "ExecuteTime": {
     "end_time": "2025-01-17T18:37:49.049033Z",
     "start_time": "2025-01-17T18:37:49.046967Z"
    }
   },
   "cell_type": "code",
   "source": "v.composite.state",
   "id": "deb4fc83379e9cd4",
   "outputs": [
    {
     "data": {
      "text/plain": [
       "{'global_time': 0.0,\n",
       " 'increaseA': {'address': 'local:increase',\n",
       "  'config': {'rate': 1.1},\n",
       "  'inputs': {},\n",
       "  'outputs': {},\n",
       "  'interval': 1.0,\n",
       "  'instance': <vivarium.tests.IncreaseProcess at 0x10a975670>}}"
      ]
     },
     "execution_count": 13,
     "metadata": {},
     "output_type": "execute_result"
    }
   ],
   "execution_count": 13
  },
  {
   "metadata": {
    "ExecuteTime": {
     "end_time": "2025-01-17T18:37:49.064061Z",
     "start_time": "2025-01-17T18:37:49.062790Z"
    }
   },
   "cell_type": "code",
   "source": "",
   "id": "d3efc6bf5d5f8ce3",
   "outputs": [],
   "execution_count": null
  }
 ],
 "metadata": {
  "kernelspec": {
   "display_name": "Python 3",
   "language": "python",
   "name": "python3"
  },
  "language_info": {
   "codemirror_mode": {
    "name": "ipython",
    "version": 2
   },
   "file_extension": ".py",
   "mimetype": "text/x-python",
   "name": "python",
   "nbconvert_exporter": "python",
   "pygments_lexer": "ipython2",
   "version": "2.7.6"
  }
 },
 "nbformat": 4,
 "nbformat_minor": 5
}
