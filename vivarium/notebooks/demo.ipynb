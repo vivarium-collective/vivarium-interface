{
 "cells": [
  {
   "cell_type": "code",
   "id": "initial_id",
   "metadata": {
    "collapsed": true,
    "ExecuteTime": {
     "end_time": "2025-01-13T18:31:31.057073Z",
     "start_time": "2025-01-13T18:31:30.842378Z"
    }
   },
   "source": [
    "from vivarium import Vivarium\n",
    "from vivarium.tests import TOY_PROCESSES"
   ],
   "outputs": [],
   "execution_count": 1
  },
  {
   "metadata": {
    "ExecuteTime": {
     "end_time": "2025-01-13T18:31:31.066901Z",
     "start_time": "2025-01-13T18:31:31.059443Z"
    }
   },
   "cell_type": "code",
   "source": "v = Vivarium(emitter='none', processes=TOY_PROCESSES)",
   "id": "eba991c23c80ca27",
   "outputs": [],
   "execution_count": 2
  },
  {
   "metadata": {
    "ExecuteTime": {
     "end_time": "2025-01-13T18:31:31.117225Z",
     "start_time": "2025-01-13T18:31:31.115747Z"
    }
   },
   "cell_type": "code",
   "source": "# v.add_node('A', 1)",
   "id": "abb345f9eb4e5b72",
   "outputs": [],
   "execution_count": 3
  },
  {
   "metadata": {
    "ExecuteTime": {
     "end_time": "2025-01-13T18:31:31.122465Z",
     "start_time": "2025-01-13T18:31:31.120986Z"
    }
   },
   "cell_type": "code",
   "source": "print(v)",
   "id": "aaf5bca24f0e26f3",
   "outputs": [
    {
     "name": "stdout",
     "output_type": "stream",
     "text": [
      "Vivarium({'global_time': 0.0})\n"
     ]
    }
   ],
   "execution_count": 4
  },
  {
   "metadata": {
    "ExecuteTime": {
     "end_time": "2025-01-13T18:31:31.145805Z",
     "start_time": "2025-01-13T18:31:31.130106Z"
    }
   },
   "cell_type": "code",
   "source": "v.save_graph()",
   "id": "407f8f35297db0f8",
   "outputs": [
    {
     "data": {
      "image/png": "[encoded data removed]",
      "text/plain": [
       "<IPython.core.display.Image object>"
      ]
     },
     "metadata": {},
     "output_type": "display_data"
    }
   ],
   "execution_count": 5
  },
  {
   "metadata": {
    "ExecuteTime": {
     "end_time": "2025-01-13T18:31:31.152365Z",
     "start_time": "2025-01-13T18:31:31.150577Z"
    }
   },
   "cell_type": "code",
   "source": "v.print_types()",
   "id": "cd08f8f2f25a178f",
   "outputs": [
    {
     "name": "stdout",
     "output_type": "stream",
     "text": [
      "['', 'length^3/time', 'length^0_5*mass^0_5/time', 'current*time', 'time/length', 'length*time/mass', 'length*mass/current^2*time^2', 'mass/time^2', 'current*length*time', 'length^2*mass/current^2*time^3', 'step', 'current^2*time^3/length^2*mass', 'schema', 'luminosity', 'current*length^2*time', 'process', 'current*time^2/length^2*mass', 'length^3/mass*time^2', 'current*time/mass', 'enum', 'substance', 'union', 'current', 'mass^0_5/length^0_5*time', 'length^2*mass/time^3', 'current^2*time^4/length^2*mass', 'current*time/substance', 'integer', 'length^2*mass/current*time^2', 'length/mass', 'time', 'printing_unit', '/printing_unit', 'map', 'temperature', 'any', 'protocol', 'length^2/time', 'mass/length', 'wires', 'current^2*time^4/length^3*mass', 'length^2*mass/current^2*time^2', 'path', 'current*length^2', 'mass', 'length^1_5*mass^0_5/time^2', '/length', 'length*temperature', 'luminosity/length^2', 'tree', 'length*mass/current*time^3', 'emitter_mode', 'interval', 'mass/length*time^2', 'boolean', 'length/time', 'length^2*mass/current*time^3', 'tuple', 'length^2', 'length^4*mass/time^3', 'length^1_5*mass^0_5/time', 'length/time^2', 'length^3', 'mass/time^3', 'array', 'printing_unit/length', '/temperature*time', 'length^2/time^2', 'length^0_5*mass^0_5', '/time', 'length', 'time^2/length', 'mass/current*time^2', 'length^3*mass/current^2*time^4', 'mass^0_5/length^1_5', 'length^2*mass/time', 'number', 'length^2*mass/temperature*time^2', 'maybe', 'substance/time', '/substance', 'float', 'edge', 'mass/length*time', 'length^2*mass/substance*temperature*time^2', 'substance/length^3', 'quote', 'mass/temperature^4*time^3', 'list', 'length^2*mass/time^2', 'length*mass/time^2', 'string', 'length^4*mass/current*time^3', 'mass/length^3']\n"
     ]
    }
   ],
   "execution_count": 6
  },
  {
   "metadata": {
    "ExecuteTime": {
     "end_time": "2025-01-13T18:31:31.160520Z",
     "start_time": "2025-01-13T18:31:31.158950Z"
    }
   },
   "cell_type": "code",
   "source": "v.print_processes()",
   "id": "2e0a57a20736f717",
   "outputs": [
    {
     "name": "stdout",
     "output_type": "stream",
     "text": [
      "['increase', 'ram-emitter', 'composite', 'console-emitter']\n"
     ]
    }
   ],
   "execution_count": 7
  },
  {
   "metadata": {
    "ExecuteTime": {
     "end_time": "2025-01-13T18:31:31.167314Z",
     "start_time": "2025-01-13T18:31:31.164986Z"
    }
   },
   "cell_type": "code",
   "source": [
    "v.add_process(name='increase',                    \n",
    "              process_id='increase',\n",
    "              config={'rate': 1},\n",
    "              # inputs=None,\n",
    "              # outputs=None,\n",
    "              # path=None\n",
    "              )"
   ],
   "id": "8d522a7fe7f2e577",
   "outputs": [],
   "execution_count": 8
  },
  {
   "metadata": {
    "ExecuteTime": {
     "end_time": "2025-01-13T18:31:31.228269Z",
     "start_time": "2025-01-13T18:31:31.226415Z"
    }
   },
   "cell_type": "code",
   "source": "print(v)",
   "id": "12f0bd0930b0f5f2",
   "outputs": [
    {
     "name": "stdout",
     "output_type": "stream",
     "text": [
      "Vivarium({ 'global_time': '0.0',\n",
      "  'increase': { 'address': 'local:increase',\n",
      "                'config': {'rate': 1.0},\n",
      "                'inputs': {},\n",
      "                'instance': <vivarium.tests.IncreaseProcess object at 0x107053b80>,\n",
      "                'interval': 1.0,\n",
      "                'outputs': {}}})\n"
     ]
    }
   ],
   "execution_count": 9
  },
  {
   "metadata": {
    "ExecuteTime": {
     "end_time": "2025-01-13T18:31:31.341071Z",
     "start_time": "2025-01-13T18:31:31.320279Z"
    }
   },
   "cell_type": "code",
   "source": "v.save_graph()",
   "id": "4f9c682c33eb3609",
   "outputs": [
    {
     "data": {
      "image/png": "[encoded data removed]",
      "text/plain": [
       "<IPython.core.display.Image object>"
      ]
     },
     "metadata": {},
     "output_type": "display_data"
    }
   ],
   "execution_count": 10
  },
  {
   "metadata": {
    "ExecuteTime": {
     "end_time": "2025-01-13T18:31:31.347664Z",
     "start_time": "2025-01-13T18:31:31.346341Z"
    }
   },
   "cell_type": "code",
   "source": "",
   "id": "ee8dc66cccfa8a8c",
   "outputs": [],
   "execution_count": null
  }
 ],
 "metadata": {
  "kernelspec": {
   "display_name": "Python 3",
   "language": "python",
   "name": "python3"
  },
  "language_info": {
   "codemirror_mode": {
    "name": "ipython",
    "version": 2
   },
   "file_extension": ".py",
   "mimetype": "text/x-python",
   "name": "python",
   "nbconvert_exporter": "python",
   "pygments_lexer": "ipython2",
   "version": "2.7.6"
  }
 },
 "nbformat": 4,
 "nbformat_minor": 5
}
