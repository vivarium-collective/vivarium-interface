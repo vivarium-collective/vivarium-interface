{
 "cells": [
  {
   "cell_type": "code",
   "id": "initial_id",
   "metadata": {
    "collapsed": true,
    "ExecuteTime": {
     "end_time": "2025-01-14T22:47:19.151209Z",
     "start_time": "2025-01-14T22:47:19.148389Z"
    }
   },
   "source": [
    "from vivarium import Vivarium\n",
    "from vivarium.tests import TOY_PROCESSES"
   ],
   "outputs": [],
   "execution_count": 18
  },
  {
   "metadata": {
    "ExecuteTime": {
     "end_time": "2025-01-14T22:47:19.171901Z",
     "start_time": "2025-01-14T22:47:19.158884Z"
    }
   },
   "cell_type": "code",
   "source": "v = Vivarium(emitter='none', processes=TOY_PROCESSES)",
   "id": "eba991c23c80ca27",
   "outputs": [],
   "execution_count": 19
  },
  {
   "metadata": {
    "ExecuteTime": {
     "end_time": "2025-01-14T22:47:19.180510Z",
     "start_time": "2025-01-14T22:47:19.178492Z"
    }
   },
   "cell_type": "code",
   "source": "# v.add_node('A', 1)",
   "id": "abb345f9eb4e5b72",
   "outputs": [],
   "execution_count": 20
  },
  {
   "metadata": {
    "ExecuteTime": {
     "end_time": "2025-01-14T22:47:19.188822Z",
     "start_time": "2025-01-14T22:47:19.186685Z"
    }
   },
   "cell_type": "code",
   "source": "print(v)",
   "id": "aaf5bca24f0e26f3",
   "outputs": [
    {
     "name": "stdout",
     "output_type": "stream",
     "text": [
      "Vivarium({'global_time': 0.0})\n"
     ]
    }
   ],
   "execution_count": 21
  },
  {
   "metadata": {
    "ExecuteTime": {
     "end_time": "2025-01-14T22:47:19.227428Z",
     "start_time": "2025-01-14T22:47:19.209338Z"
    }
   },
   "cell_type": "code",
   "source": "v.diagram()",
   "id": "407f8f35297db0f8",
   "outputs": [
    {
     "data": {
      "image/png": "[encoded data removed]",
      "text/plain": [
       "<IPython.core.display.Image object>"
      ]
     },
     "metadata": {},
     "output_type": "display_data"
    }
   ],
   "execution_count": 22
  },
  {
   "metadata": {
    "ExecuteTime": {
     "end_time": "2025-01-14T22:47:19.236703Z",
     "start_time": "2025-01-14T22:47:19.234311Z"
    }
   },
   "cell_type": "code",
   "source": "v.print_types()",
   "id": "cd08f8f2f25a178f",
   "outputs": [
    {
     "name": "stdout",
     "output_type": "stream",
     "text": [
      "['', 'length^1_5*mass^0_5/time^2', 'mass/length*time', 'mass/length', 'temperature', 'length^0_5*mass^0_5/time', 'tree', 'mass/time^3', 'length*mass/time^2', 'length*mass/current*time^3', 'process', 'map', 'any', 'length^3', 'length^2/time^2', 'interval', '/printing_unit', 'length^2*mass/substance*temperature*time^2', 'length^2/time', 'length^2*mass/time^2', 'substance/length^3', 'length/mass', 'length^2*mass/current^2*time^2', 'length^0_5*mass^0_5', 'edge', 'current', 'length/time^2', 'printing_unit/length', 'enum', 'time^2/length', 'protocol', 'length*time/mass', 'schema', 'time/length', 'length^2*mass/current^2*time^3', 'mass/temperature^4*time^3', 'tuple', 'luminosity/length^2', 'number', '/temperature*time', 'length^3/mass*time^2', 'current*length^2', '/substance', 'length^2*mass/current*time^2', 'length^2*mass/temperature*time^2', 'mass/length*time^2', 'step', 'length^3/time', 'luminosity', 'mass/time^2', '/length', 'substance/time', 'length', 'mass^0_5/length^1_5', 'array', 'printing_unit', 'time', 'string', 'mass/current*time^2', 'emitter_mode', 'length^4*mass/time^3', 'current*length*time', 'current*time^2/length^2*mass', 'union', '/time', 'length*temperature', 'current^2*time^3/length^2*mass', 'mass', 'integer', 'current^2*time^4/length^2*mass', 'current*length^2*time', 'quote', 'length^2', 'wires', 'length^2*mass/current*time^3', 'length*mass/current^2*time^2', 'substance', 'boolean', 'length^2*mass/time', 'current*time/mass', 'float', 'current*time', 'mass^0_5/length^0_5*time', 'list', 'length^4*mass/current*time^3', 'length^2*mass/time^3', 'current*time/substance', 'current^2*time^4/length^3*mass', 'maybe', 'mass/length^3', 'length^3*mass/current^2*time^4', 'path', 'length/time', 'length^1_5*mass^0_5/time']\n"
     ]
    }
   ],
   "execution_count": 23
  },
  {
   "metadata": {
    "ExecuteTime": {
     "end_time": "2025-01-14T22:47:19.246060Z",
     "start_time": "2025-01-14T22:47:19.244371Z"
    }
   },
   "cell_type": "code",
   "source": "v.print_processes()",
   "id": "2e0a57a20736f717",
   "outputs": [
    {
     "name": "stdout",
     "output_type": "stream",
     "text": [
      "['ram-emitter', 'composite', 'console-emitter', 'increase']\n"
     ]
    }
   ],
   "execution_count": 24
  },
  {
   "metadata": {
    "ExecuteTime": {
     "end_time": "2025-01-14T22:47:19.254574Z",
     "start_time": "2025-01-14T22:47:19.252689Z"
    }
   },
   "cell_type": "code",
   "source": "print(v.process_schema('increase'))",
   "id": "26d8ce7a13ba13a9",
   "outputs": [
    {
     "name": "stdout",
     "output_type": "stream",
     "text": [
      "(rate:float)\n"
     ]
    }
   ],
   "execution_count": 25
  },
  {
   "metadata": {
    "ExecuteTime": {
     "end_time": "2025-01-14T22:47:19.261686Z",
     "start_time": "2025-01-14T22:47:19.259254Z"
    }
   },
   "cell_type": "code",
   "source": [
    "v.add_process(name='increaseA',                    \n",
    "              process_id='increase',\n",
    "              config={'rate': 1.1},\n",
    "              # inputs=None,\n",
    "              # outputs=None,\n",
    "              # path=None\n",
    "              )"
   ],
   "id": "8d522a7fe7f2e577",
   "outputs": [],
   "execution_count": 26
  },
  {
   "metadata": {
    "ExecuteTime": {
     "end_time": "2025-01-14T22:47:19.270198Z",
     "start_time": "2025-01-14T22:47:19.268584Z"
    }
   },
   "cell_type": "code",
   "source": "print(v)",
   "id": "12f0bd0930b0f5f2",
   "outputs": [
    {
     "name": "stdout",
     "output_type": "stream",
     "text": [
      "Vivarium({ 'global_time': 0.0,\n",
      "  'increaseA': { 'address': 'local:increase',\n",
      "                 'config': {'rate': 1.1},\n",
      "                 'inputs': {},\n",
      "                 'outputs': {}}})\n"
     ]
    }
   ],
   "execution_count": 27
  },
  {
   "metadata": {
    "ExecuteTime": {
     "end_time": "2025-01-14T22:47:19.413219Z",
     "start_time": "2025-01-14T22:47:19.385845Z"
    }
   },
   "cell_type": "code",
   "source": "v.diagram()",
   "id": "4f9c682c33eb3609",
   "outputs": [
    {
     "data": {
      "image/png": "[encoded data removed]",
      "text/plain": [
       "<IPython.core.display.Image object>"
      ]
     },
     "metadata": {},
     "output_type": "display_data"
    }
   ],
   "execution_count": 28
  },
  {
   "metadata": {
    "ExecuteTime": {
     "end_time": "2025-01-14T22:47:19.421985Z",
     "start_time": "2025-01-14T22:47:19.419193Z"
    }
   },
   "cell_type": "code",
   "source": "v.generate()",
   "id": "ee8dc66cccfa8a8c",
   "outputs": [
    {
     "data": {
      "text/plain": [
       "<process_bigraph.composite.Composite at 0x11577fb80>"
      ]
     },
     "execution_count": 29,
     "metadata": {},
     "output_type": "execute_result"
    }
   ],
   "execution_count": 29
  },
  {
   "metadata": {
    "ExecuteTime": {
     "end_time": "2025-01-14T22:47:19.478760Z",
     "start_time": "2025-01-14T22:47:19.476853Z"
    }
   },
   "cell_type": "code",
   "source": "print(v)",
   "id": "3201ea8b3df1d3ed",
   "outputs": [
    {
     "name": "stdout",
     "output_type": "stream",
     "text": [
      "Vivarium({ 'global_time': 0.0,\n",
      "  'increaseA': { 'address': 'local:increase',\n",
      "                 'config': {'rate': 1.1},\n",
      "                 'inputs': {},\n",
      "                 'outputs': {}}})\n"
     ]
    }
   ],
   "execution_count": 30
  },
  {
   "metadata": {
    "ExecuteTime": {
     "end_time": "2025-01-14T22:47:19.486524Z",
     "start_time": "2025-01-14T22:47:19.484292Z"
    }
   },
   "cell_type": "code",
   "source": "v.make_document()",
   "id": "c5742be4329f7ce4",
   "outputs": [
    {
     "data": {
      "text/plain": [
       "{'state': {'global_time': '0.0',\n",
       "  'increaseA': {'address': 'local:increase',\n",
       "   'config': {'rate': 1.1},\n",
       "   'inputs': {},\n",
       "   'outputs': {}}}}"
      ]
     },
     "execution_count": 31,
     "metadata": {},
     "output_type": "execute_result"
    }
   ],
   "execution_count": 31
  },
  {
   "metadata": {
    "ExecuteTime": {
     "end_time": "2025-01-14T22:47:19.511980Z",
     "start_time": "2025-01-14T22:47:19.509622Z"
    }
   },
   "cell_type": "code",
   "source": "v.composite.state",
   "id": "deb4fc83379e9cd4",
   "outputs": [
    {
     "data": {
      "text/plain": [
       "{'global_time': 0.0,\n",
       " 'increaseA': {'address': 'local:increase',\n",
       "  'config': {'rate': 1.1},\n",
       "  'inputs': {},\n",
       "  'outputs': {}}}"
      ]
     },
     "execution_count": 32,
     "metadata": {},
     "output_type": "execute_result"
    }
   ],
   "execution_count": 32
  },
  {
   "metadata": {
    "ExecuteTime": {
     "end_time": "2025-01-14T22:47:19.519151Z",
     "start_time": "2025-01-14T22:47:19.517959Z"
    }
   },
   "cell_type": "code",
   "source": "",
   "id": "d3efc6bf5d5f8ce3",
   "outputs": [],
   "execution_count": null
  }
 ],
 "metadata": {
  "kernelspec": {
   "display_name": "Python 3",
   "language": "python",
   "name": "python3"
  },
  "language_info": {
   "codemirror_mode": {
    "name": "ipython",
    "version": 2
   },
   "file_extension": ".py",
   "mimetype": "text/x-python",
   "name": "python",
   "nbconvert_exporter": "python",
   "pygments_lexer": "ipython2",
   "version": "2.7.6"
  }
 },
 "nbformat": 4,
 "nbformat_minor": 5
}
