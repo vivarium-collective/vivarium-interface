{
 "cells": [
  {
   "cell_type": "code",
   "id": "initial_id",
   "metadata": {
    "collapsed": true,
    "ExecuteTime": {
     "end_time": "2025-01-13T18:25:37.751530Z",
     "start_time": "2025-01-13T18:25:37.533860Z"
    }
   },
   "source": [
    "from vivarium import Vivarium\n",
    "from vivarium.tests import TOY_PROCESSES"
   ],
   "outputs": [],
   "execution_count": 1
  },
  {
   "metadata": {
    "ExecuteTime": {
     "end_time": "2025-01-13T18:25:37.760990Z",
     "start_time": "2025-01-13T18:25:37.754014Z"
    }
   },
   "cell_type": "code",
   "source": "v = Vivarium(emitter='none', processes=TOY_PROCESSES)",
   "id": "eba991c23c80ca27",
   "outputs": [],
   "execution_count": 2
  },
  {
   "metadata": {
    "ExecuteTime": {
     "end_time": "2025-01-13T18:25:37.813166Z",
     "start_time": "2025-01-13T18:25:37.811828Z"
    }
   },
   "cell_type": "code",
   "source": "# v.add_node('A', 1)",
   "id": "abb345f9eb4e5b72",
   "outputs": [],
   "execution_count": 3
  },
  {
   "metadata": {
    "ExecuteTime": {
     "end_time": "2025-01-13T18:25:37.818859Z",
     "start_time": "2025-01-13T18:25:37.817314Z"
    }
   },
   "cell_type": "code",
   "source": "print(v)",
   "id": "aaf5bca24f0e26f3",
   "outputs": [
    {
     "name": "stdout",
     "output_type": "stream",
     "text": [
      "Vivarium({'global_time': 0.0})\n"
     ]
    }
   ],
   "execution_count": 4
  },
  {
   "metadata": {
    "ExecuteTime": {
     "end_time": "2025-01-13T18:25:37.899251Z",
     "start_time": "2025-01-13T18:25:37.882759Z"
    }
   },
   "cell_type": "code",
   "source": "v.save_graph()",
   "id": "407f8f35297db0f8",
   "outputs": [
    {
     "data": {
      "image/png": "[encoded data removed]",
      "text/plain": [
       "<IPython.core.display.Image object>"
      ]
     },
     "metadata": {},
     "output_type": "display_data"
    }
   ],
   "execution_count": 5
  },
  {
   "metadata": {
    "ExecuteTime": {
     "end_time": "2025-01-13T18:25:37.908478Z",
     "start_time": "2025-01-13T18:25:37.906573Z"
    }
   },
   "cell_type": "code",
   "source": "v.print_types()",
   "id": "cd08f8f2f25a178f",
   "outputs": [
    {
     "name": "stdout",
     "output_type": "stream",
     "text": [
      "['', 'length^2*mass/time^2', 'mass/length*time', '/length', 'length^2*mass/current*time^2', 'length^2', 'wires', 'length/time', 'number', 'mass/temperature^4*time^3', 'length^3', 'length^2/time^2', 'length*mass/current^2*time^2', 'length^1_5*mass^0_5/time', '/time', 'length^4*mass/current*time^3', 'emitter_mode', 'protocol', 'current', 'length^2*mass/temperature*time^2', 'time/length', 'substance/length^3', 'substance', 'time', 'length^0_5*mass^0_5', 'length^3*mass/current^2*time^4', '/substance', 'length*mass/current*time^3', 'length*mass/time^2', 'substance/time', 'length/time^2', 'string', 'union', 'float', '/printing_unit', 'length^3/time', 'step', 'current^2*time^3/length^2*mass', 'mass/length', 'length^2*mass/time^3', 'length^2*mass/current*time^3', 'length^2*mass/substance*temperature*time^2', 'current^2*time^4/length^3*mass', 'mass', 'current*time^2/length^2*mass', 'length*time/mass', 'tree', 'length^2/time', 'path', 'integer', 'current*time', 'array', 'luminosity', 'length^0_5*mass^0_5/time', 'length^1_5*mass^0_5/time^2', 'time^2/length', 'quote', 'current^2*time^4/length^2*mass', 'current*length^2', 'length^2*mass/time', 'mass/time^3', 'length^2*mass/current^2*time^3', 'length^2*mass/current^2*time^2', 'length*temperature', 'process', 'current*time/substance', 'list', 'enum', 'printing_unit', 'current*length*time', 'mass/length^3', 'tuple', 'mass^0_5/length^1_5', 'length', 'mass^0_5/length^0_5*time', 'mass/length*time^2', 'edge', 'map', 'length^3/mass*time^2', 'temperature', 'boolean', 'mass/time^2', 'length^4*mass/time^3', 'interval', 'schema', 'length/mass', 'luminosity/length^2', 'any', 'mass/current*time^2', 'current*length^2*time', '/temperature*time', 'maybe', 'current*time/mass', 'printing_unit/length']\n"
     ]
    }
   ],
   "execution_count": 6
  },
  {
   "metadata": {
    "ExecuteTime": {
     "end_time": "2025-01-13T18:25:37.973860Z",
     "start_time": "2025-01-13T18:25:37.972095Z"
    }
   },
   "cell_type": "code",
   "source": "v.print_processes()",
   "id": "2e0a57a20736f717",
   "outputs": [
    {
     "name": "stdout",
     "output_type": "stream",
     "text": [
      "['ram-emitter', 'increase', 'composite', 'console-emitter']\n"
     ]
    }
   ],
   "execution_count": 7
  },
  {
   "metadata": {
    "ExecuteTime": {
     "end_time": "2025-01-13T18:25:37.983878Z",
     "start_time": "2025-01-13T18:25:37.981452Z"
    }
   },
   "cell_type": "code",
   "source": [
    "v.add_process(name='increase',                    \n",
    "              edge_type='process',\n",
    "              config={'rate': 1},\n",
    "              # inputs=None,\n",
    "              # outputs=None,\n",
    "              # path=None\n",
    "              )"
   ],
   "id": "8d522a7fe7f2e577",
   "outputs": [],
   "execution_count": 8
  },
  {
   "metadata": {
    "ExecuteTime": {
     "end_time": "2025-01-13T18:25:37.989980Z",
     "start_time": "2025-01-13T18:25:37.988312Z"
    }
   },
   "cell_type": "code",
   "source": "print(v)",
   "id": "12f0bd0930b0f5f2",
   "outputs": [
    {
     "name": "stdout",
     "output_type": "stream",
     "text": [
      "Vivarium({ 'address': 'local:increase',\n",
      "  'config': {'rate': 1.0},\n",
      "  'global_time': '0.0',\n",
      "  'inputs': {},\n",
      "  'instance': <vivarium.tests.IncreaseProcess object at 0x10604e0d0>,\n",
      "  'interval': 1.0,\n",
      "  'outputs': {}})\n"
     ]
    }
   ],
   "execution_count": 9
  },
  {
   "metadata": {
    "ExecuteTime": {
     "end_time": "2025-01-13T18:25:38.012874Z",
     "start_time": "2025-01-13T18:25:37.994472Z"
    }
   },
   "cell_type": "code",
   "source": "v.save_graph()",
   "id": "4f9c682c33eb3609",
   "outputs": [
    {
     "data": {
      "image/png": "[encoded data removed]",
      "text/plain": [
       "<IPython.core.display.Image object>"
      ]
     },
     "metadata": {},
     "output_type": "display_data"
    }
   ],
   "execution_count": 10
  },
  {
   "metadata": {
    "ExecuteTime": {
     "end_time": "2025-01-13T18:25:38.018849Z",
     "start_time": "2025-01-13T18:25:38.017719Z"
    }
   },
   "cell_type": "code",
   "source": "",
   "id": "ee8dc66cccfa8a8c",
   "outputs": [],
   "execution_count": null
  }
 ],
 "metadata": {
  "kernelspec": {
   "display_name": "Python 3",
   "language": "python",
   "name": "python3"
  },
  "language_info": {
   "codemirror_mode": {
    "name": "ipython",
    "version": 2
   },
   "file_extension": ".py",
   "mimetype": "text/x-python",
   "name": "python",
   "nbconvert_exporter": "python",
   "pygments_lexer": "ipython2",
   "version": "2.7.6"
  }
 },
 "nbformat": 4,
 "nbformat_minor": 5
}
