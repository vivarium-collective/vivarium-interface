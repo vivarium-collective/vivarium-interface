{
 "cells": [
  {
   "cell_type": "code",
   "id": "initial_id",
   "metadata": {
    "collapsed": true,
    "ExecuteTime": {
     "end_time": "2025-01-13T15:48:12.190072Z",
     "start_time": "2025-01-13T15:48:11.985940Z"
    }
   },
   "source": "from vivarium import Vivarium",
   "outputs": [],
   "execution_count": 1
  },
  {
   "metadata": {
    "ExecuteTime": {
     "end_time": "2025-01-13T15:48:12.201843Z",
     "start_time": "2025-01-13T15:48:12.193747Z"
    }
   },
   "cell_type": "code",
   "source": "v = Vivarium()",
   "id": "eba991c23c80ca27",
   "outputs": [
    {
     "name": "stdout",
     "output_type": "stream",
     "text": [
      "Warning: read_emitter_config() is deprecated and will be removed in a future version. Use use Vivarium for managing simulations and emitters instead of Composite.\n"
     ]
    }
   ],
   "execution_count": 2
  },
  {
   "metadata": {
    "ExecuteTime": {
     "end_time": "2025-01-13T15:48:12.261144Z",
     "start_time": "2025-01-13T15:48:12.259320Z"
    }
   },
   "cell_type": "code",
   "source": "print(v)",
   "id": "aaf5bca24f0e26f3",
   "outputs": [
    {
     "name": "stdout",
     "output_type": "stream",
     "text": [
      "Vivarium({ 'emitter': { 'address': 'local:ram-emitter',\n",
      "               'config': {'emit': {'global_time': 'any'}},\n",
      "               'inputs': {'global_time': ['global_time']},\n",
      "               'instance': <process_bigraph.composite.RAMEmitter object at 0x109f9f160>,\n",
      "               'outputs': None},\n",
      "  'global_time': 0.0})\n"
     ]
    }
   ],
   "execution_count": 3
  },
  {
   "metadata": {
    "ExecuteTime": {
     "end_time": "2025-01-13T15:48:12.331488Z",
     "start_time": "2025-01-13T15:48:12.330317Z"
    }
   },
   "cell_type": "code",
   "source": "",
   "id": "407f8f35297db0f8",
   "outputs": [],
   "execution_count": null
  }
 ],
 "metadata": {
  "kernelspec": {
   "display_name": "Python 3",
   "language": "python",
   "name": "python3"
  },
  "language_info": {
   "codemirror_mode": {
    "name": "ipython",
    "version": 2
   },
   "file_extension": ".py",
   "mimetype": "text/x-python",
   "name": "python",
   "nbconvert_exporter": "python",
   "pygments_lexer": "ipython2",
   "version": "2.7.6"
  }
 },
 "nbformat": 4,
 "nbformat_minor": 5
}
